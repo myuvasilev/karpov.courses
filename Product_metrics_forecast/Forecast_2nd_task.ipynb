{
 "cells": [
  {
   "cell_type": "markdown",
   "id": "7128f59c-a17c-4623-a6e2-f9313ee05657",
   "metadata": {},
   "source": [
    "# Прогнозирование метрик\n",
    "\n",
    "## Задача 2\n",
    "\n",
    "Чем активнее наши пользователи – тем выше нагрузка на сервера. И в последнее время нам всё чаще приходят жалобы, что приложение подвисает. Звучит как задача для девопсов и инженеров!\n",
    "\n",
    "От вас тоже попросили внести свой вклад в задачу – спрогнозировать, как изменится активность пользователей в течение ближайшего месяца. Давайте попробуем это сделать!\n",
    "\n",
    "Выберите основную метрику, которую вы планируете прогнозировать. Обоснуйте, почему именно она. Какое временное разрешение вы возьмёте? Будут ли какие-то дополнительные регрессоры, которые вы включите в модель?\n",
    "Постройте модель и провалидируйте её. Хватает ли у нас данных для бэктестинга с текущей задачей? Если нет, то определите, для какого горизонта прогнозирования у нас хватает данных.\n",
    "Выберите ту модель, которая кажется вам наиболее удачной (обоснуйте выбор). Проинтерпретируйте её результаты. Если есть какие-то важные ограничения по выводу – не забудьте их тоже указать."
   ]
  },
  {
   "cell_type": "markdown",
   "id": "6e90272c-8829-4759-ad0e-6e4993d2b26e",
   "metadata": {},
   "source": [
    "***"
   ]
  },
  {
   "cell_type": "markdown",
   "id": "ff6b7ba7-cd47-4915-aa6e-eb3a442ef8fd",
   "metadata": {},
   "source": [
    "Одна из основных метрик для нашего приложения социальной сети  - это общая активность (просмотры, лайки, а также сколько пользователей активны в конкретный день). Таким образом общее количество событий будет основной метрикой, которую мы прогнозируем, а в качестве ковариата (дополнительного регрессора) DAU. Для обучения модели мы берем временное разрешение с 3 сентября по 3 ноября, которое в полной мере охватит активность в нашем приложении, а также захватит промежуток, когда была проведена маркетинговая кампания и флэшмоб."
   ]
  },
  {
   "cell_type": "code",
   "execution_count": 1,
   "id": "61852e10-fe25-43b6-9960-caaf05d74207",
   "metadata": {},
   "outputs": [
    {
     "name": "stderr",
     "output_type": "stream",
     "text": [
      "2023-11-10 10:48:17.973796: I tensorflow/core/platform/cpu_feature_guard.cc:182] This TensorFlow binary is optimized to use available CPU instructions in performance-critical operations.\n",
      "To enable the following instructions: AVX2 FMA, in other operations, rebuild TensorFlow with the appropriate compiler flags.\n",
      "2023-11-10 10:48:20.371554: W tensorflow/compiler/tf2tensorrt/utils/py_utils.cc:38] TF-TRT Warning: Could not find TensorRT\n"
     ]
    }
   ],
   "source": [
    "import orbit\n",
    "from orbit.models import DLT #один из вариантов модели\n",
    "from orbit.diagnostics.plot import plot_predicted_data, plot_predicted_components #для рисования предсказаний\n",
    "from orbit.diagnostics.backtest import BackTester\n",
    "from orbit.diagnostics.metrics import mae, mse, smape, wmape\n",
    "\n",
    "import pandas as pd\n",
    "import pandahouse as ph\n",
    "import numpy as np\n",
    "import os\n",
    "\n",
    "import seaborn as sns\n",
    "import matplotlib.pyplot as plt\n",
    "import arviz as az #для визуализации MCMC\n",
    "\n",
    "import tensorflow as tf\n",
    "import tensorflow_probability as tfp\n",
    "\n",
    "from causalimpact import CausalImpact\n",
    "\n",
    "sns.set(rc={'figure.figsize':(16,6)}, style=\"whitegrid\")"
   ]
  },
  {
   "cell_type": "code",
   "execution_count": 2,
   "id": "728c7bbc-1e7a-4681-a64a-481a560618ee",
   "metadata": {},
   "outputs": [],
   "source": [
    "connection = {'host': 'https://clickhouse.lab.karpov.courses',\n",
    "'database':'simulator_20231020',\n",
    "'user':'student',\n",
    "'password':'dpo_python_2020'\n",
    "}"
   ]
  },
  {
   "cell_type": "code",
   "execution_count": 3,
   "id": "f534bf1e-73cc-45d3-8f74-a4e7edfd3d71",
   "metadata": {},
   "outputs": [],
   "source": [
    "query = \"\"\"\n",
    "SELECT toStartOfDay(time) day,\n",
    "    action,\n",
    "    user_id,\n",
    "    post_id\n",
    "FROM simulator_20231020.feed_actions\n",
    "WHERE toDate(day) between '2023-09-03' and '2023-11-03'\n",
    "ORDER BY time\n",
    "\"\"\""
   ]
  },
  {
   "cell_type": "code",
   "execution_count": 4,
   "id": "b1f24afd-b54b-49e8-a99e-650ccd09bb8e",
   "metadata": {},
   "outputs": [],
   "source": [
    "df = ph.read_clickhouse(query, connection=connection)"
   ]
  },
  {
   "cell_type": "code",
   "execution_count": 5,
   "id": "016fd240-fd47-4e38-bbb8-9c70fb9004fc",
   "metadata": {},
   "outputs": [
    {
     "data": {
      "text/html": [
       "<div>\n",
       "<style scoped>\n",
       "    .dataframe tbody tr th:only-of-type {\n",
       "        vertical-align: middle;\n",
       "    }\n",
       "\n",
       "    .dataframe tbody tr th {\n",
       "        vertical-align: top;\n",
       "    }\n",
       "\n",
       "    .dataframe thead th {\n",
       "        text-align: right;\n",
       "    }\n",
       "</style>\n",
       "<table border=\"1\" class=\"dataframe\">\n",
       "  <thead>\n",
       "    <tr style=\"text-align: right;\">\n",
       "      <th></th>\n",
       "      <th>day</th>\n",
       "      <th>action</th>\n",
       "      <th>user_id</th>\n",
       "      <th>post_id</th>\n",
       "    </tr>\n",
       "  </thead>\n",
       "  <tbody>\n",
       "    <tr>\n",
       "      <th>0</th>\n",
       "      <td>2023-09-03</td>\n",
       "      <td>view</td>\n",
       "      <td>1049</td>\n",
       "      <td>75</td>\n",
       "    </tr>\n",
       "    <tr>\n",
       "      <th>1</th>\n",
       "      <td>2023-09-03</td>\n",
       "      <td>view</td>\n",
       "      <td>107986</td>\n",
       "      <td>132</td>\n",
       "    </tr>\n",
       "    <tr>\n",
       "      <th>2</th>\n",
       "      <td>2023-09-03</td>\n",
       "      <td>view</td>\n",
       "      <td>455</td>\n",
       "      <td>172</td>\n",
       "    </tr>\n",
       "    <tr>\n",
       "      <th>3</th>\n",
       "      <td>2023-09-03</td>\n",
       "      <td>view</td>\n",
       "      <td>742</td>\n",
       "      <td>97</td>\n",
       "    </tr>\n",
       "    <tr>\n",
       "      <th>4</th>\n",
       "      <td>2023-09-03</td>\n",
       "      <td>view</td>\n",
       "      <td>2384</td>\n",
       "      <td>167</td>\n",
       "    </tr>\n",
       "  </tbody>\n",
       "</table>\n",
       "</div>"
      ],
      "text/plain": [
       "         day action  user_id  post_id\n",
       "0 2023-09-03   view     1049       75\n",
       "1 2023-09-03   view   107986      132\n",
       "2 2023-09-03   view      455      172\n",
       "3 2023-09-03   view      742       97\n",
       "4 2023-09-03   view     2384      167"
      ]
     },
     "execution_count": 5,
     "metadata": {},
     "output_type": "execute_result"
    }
   ],
   "source": [
    "df.head()"
   ]
  },
  {
   "cell_type": "markdown",
   "id": "a6eb49b9-fb73-49f5-9b90-58dc82aa9edb",
   "metadata": {},
   "source": [
    "Выведем период, который будет задействован для обучения модели:"
   ]
  },
  {
   "cell_type": "code",
   "execution_count": 6,
   "id": "b2762d0b-c3a6-4401-847c-e0045c90da31",
   "metadata": {},
   "outputs": [
    {
     "name": "stdout",
     "output_type": "stream",
     "text": [
      "Начало: 2023-09-03 \n",
      "Конец: 2023-11-02\n"
     ]
    }
   ],
   "source": [
    "print(f\"Начало: {df.day.min().date()} \\nКонец: {(df.day.min() + pd.Timedelta(60, unit = 'd')).date()}\")"
   ]
  },
  {
   "cell_type": "markdown",
   "id": "e505aa0f-c317-42df-8730-796f53cb3c67",
   "metadata": {},
   "source": [
    "Теперь сделаем из этого нужные нам характеристики - общее количество событий и DAU в качестве ковариата:"
   ]
  },
  {
   "cell_type": "code",
   "execution_count": 7,
   "id": "428ede96-6218-4ebc-9956-0eb674a416b5",
   "metadata": {},
   "outputs": [],
   "source": [
    "act_df = df.groupby(\"day\").agg({\"user_id\": \"nunique\", \"action\": \"count\"}).rename({\"user_id\": \"DAU\", \"action\": \"activity\"}, axis=1).reset_index()"
   ]
  },
  {
   "cell_type": "code",
   "execution_count": 9,
   "id": "38f9e9fb-bd2a-415a-947e-b3d0b29d2f9f",
   "metadata": {},
   "outputs": [
    {
     "data": {
      "text/plain": [
       "(62, 3)"
      ]
     },
     "execution_count": 9,
     "metadata": {},
     "output_type": "execute_result"
    }
   ],
   "source": [
    "act_df.shape"
   ]
  },
  {
   "cell_type": "code",
   "execution_count": 8,
   "id": "df7c089c-f040-4e44-a7cd-1333efb759ef",
   "metadata": {},
   "outputs": [
    {
     "data": {
      "text/html": [
       "<div>\n",
       "<style scoped>\n",
       "    .dataframe tbody tr th:only-of-type {\n",
       "        vertical-align: middle;\n",
       "    }\n",
       "\n",
       "    .dataframe tbody tr th {\n",
       "        vertical-align: top;\n",
       "    }\n",
       "\n",
       "    .dataframe thead th {\n",
       "        text-align: right;\n",
       "    }\n",
       "</style>\n",
       "<table border=\"1\" class=\"dataframe\">\n",
       "  <thead>\n",
       "    <tr style=\"text-align: right;\">\n",
       "      <th></th>\n",
       "      <th>day</th>\n",
       "      <th>DAU</th>\n",
       "      <th>activity</th>\n",
       "    </tr>\n",
       "  </thead>\n",
       "  <tbody>\n",
       "    <tr>\n",
       "      <th>0</th>\n",
       "      <td>2023-09-03</td>\n",
       "      <td>3105</td>\n",
       "      <td>126484</td>\n",
       "    </tr>\n",
       "    <tr>\n",
       "      <th>1</th>\n",
       "      <td>2023-09-04</td>\n",
       "      <td>3721</td>\n",
       "      <td>142796</td>\n",
       "    </tr>\n",
       "    <tr>\n",
       "      <th>2</th>\n",
       "      <td>2023-09-05</td>\n",
       "      <td>4617</td>\n",
       "      <td>208958</td>\n",
       "    </tr>\n",
       "    <tr>\n",
       "      <th>3</th>\n",
       "      <td>2023-09-06</td>\n",
       "      <td>4728</td>\n",
       "      <td>202023</td>\n",
       "    </tr>\n",
       "    <tr>\n",
       "      <th>4</th>\n",
       "      <td>2023-09-07</td>\n",
       "      <td>4890</td>\n",
       "      <td>222575</td>\n",
       "    </tr>\n",
       "  </tbody>\n",
       "</table>\n",
       "</div>"
      ],
      "text/plain": [
       "         day   DAU  activity\n",
       "0 2023-09-03  3105    126484\n",
       "1 2023-09-04  3721    142796\n",
       "2 2023-09-05  4617    208958\n",
       "3 2023-09-06  4728    202023\n",
       "4 2023-09-07  4890    222575"
      ]
     },
     "execution_count": 8,
     "metadata": {},
     "output_type": "execute_result"
    }
   ],
   "source": [
    "act_df.head()"
   ]
  },
  {
   "cell_type": "markdown",
   "id": "86be236c-9125-4502-b285-0782c05f4768",
   "metadata": {},
   "source": [
    "Добавим заодно активность в плане сообщений:"
   ]
  },
  {
   "cell_type": "code",
   "execution_count": 11,
   "id": "dc4e4fcb-1625-46b3-803b-5fcd4a4f7899",
   "metadata": {},
   "outputs": [
    {
     "data": {
      "text/html": [
       "<div>\n",
       "<style scoped>\n",
       "    .dataframe tbody tr th:only-of-type {\n",
       "        vertical-align: middle;\n",
       "    }\n",
       "\n",
       "    .dataframe tbody tr th {\n",
       "        vertical-align: top;\n",
       "    }\n",
       "\n",
       "    .dataframe thead th {\n",
       "        text-align: right;\n",
       "    }\n",
       "</style>\n",
       "<table border=\"1\" class=\"dataframe\">\n",
       "  <thead>\n",
       "    <tr style=\"text-align: right;\">\n",
       "      <th></th>\n",
       "      <th>day</th>\n",
       "      <th>actions_mes</th>\n",
       "    </tr>\n",
       "  </thead>\n",
       "  <tbody>\n",
       "    <tr>\n",
       "      <th>0</th>\n",
       "      <td>2023-09-03</td>\n",
       "      <td>12897</td>\n",
       "    </tr>\n",
       "    <tr>\n",
       "      <th>1</th>\n",
       "      <td>2023-09-04</td>\n",
       "      <td>12897</td>\n",
       "    </tr>\n",
       "    <tr>\n",
       "      <th>2</th>\n",
       "      <td>2023-09-05</td>\n",
       "      <td>12898</td>\n",
       "    </tr>\n",
       "    <tr>\n",
       "      <th>3</th>\n",
       "      <td>2023-09-06</td>\n",
       "      <td>12899</td>\n",
       "    </tr>\n",
       "    <tr>\n",
       "      <th>4</th>\n",
       "      <td>2023-09-07</td>\n",
       "      <td>12898</td>\n",
       "    </tr>\n",
       "  </tbody>\n",
       "</table>\n",
       "</div>"
      ],
      "text/plain": [
       "         day  actions_mes\n",
       "0 2023-09-03        12897\n",
       "1 2023-09-04        12897\n",
       "2 2023-09-05        12898\n",
       "3 2023-09-06        12899\n",
       "4 2023-09-07        12898"
      ]
     },
     "execution_count": 11,
     "metadata": {},
     "output_type": "execute_result"
    }
   ],
   "source": [
    "connection = {'host': 'https://clickhouse.lab.karpov.courses',\n",
    "'database':'simulator_20231020',\n",
    "'user':'student',\n",
    "'password':'dpo_python_2020'\n",
    "}\n",
    "\n",
    "query = \"\"\"\n",
    "SELECT toStartOfDay(time) day,\n",
    "    COUNT(receiver_id) actions_mes\n",
    "FROM simulator_20231020.message_actions\n",
    "WHERE day >= toDateTime('2023-09-03') and day < toDateTime('2023-11-03')\n",
    "GROUP BY day\n",
    "ORDER BY day\n",
    "\"\"\"\n",
    "\n",
    "mes_activity = ph.read_clickhouse(query=query, connection=connection)\n",
    "mes_activity.head()"
   ]
  },
  {
   "cell_type": "code",
   "execution_count": 12,
   "id": "7f7c6ce4-39ff-4209-b3b5-e64645e3c78e",
   "metadata": {},
   "outputs": [
    {
     "data": {
      "text/html": [
       "<div>\n",
       "<style scoped>\n",
       "    .dataframe tbody tr th:only-of-type {\n",
       "        vertical-align: middle;\n",
       "    }\n",
       "\n",
       "    .dataframe tbody tr th {\n",
       "        vertical-align: top;\n",
       "    }\n",
       "\n",
       "    .dataframe thead th {\n",
       "        text-align: right;\n",
       "    }\n",
       "</style>\n",
       "<table border=\"1\" class=\"dataframe\">\n",
       "  <thead>\n",
       "    <tr style=\"text-align: right;\">\n",
       "      <th></th>\n",
       "      <th>day</th>\n",
       "      <th>DAU</th>\n",
       "      <th>activity</th>\n",
       "      <th>actions_mes</th>\n",
       "    </tr>\n",
       "  </thead>\n",
       "  <tbody>\n",
       "    <tr>\n",
       "      <th>0</th>\n",
       "      <td>2023-09-03</td>\n",
       "      <td>3105</td>\n",
       "      <td>126484</td>\n",
       "      <td>12897</td>\n",
       "    </tr>\n",
       "    <tr>\n",
       "      <th>1</th>\n",
       "      <td>2023-09-04</td>\n",
       "      <td>3721</td>\n",
       "      <td>142796</td>\n",
       "      <td>12897</td>\n",
       "    </tr>\n",
       "    <tr>\n",
       "      <th>2</th>\n",
       "      <td>2023-09-05</td>\n",
       "      <td>4617</td>\n",
       "      <td>208958</td>\n",
       "      <td>12898</td>\n",
       "    </tr>\n",
       "    <tr>\n",
       "      <th>3</th>\n",
       "      <td>2023-09-06</td>\n",
       "      <td>4728</td>\n",
       "      <td>202023</td>\n",
       "      <td>12899</td>\n",
       "    </tr>\n",
       "    <tr>\n",
       "      <th>4</th>\n",
       "      <td>2023-09-07</td>\n",
       "      <td>4890</td>\n",
       "      <td>222575</td>\n",
       "      <td>12898</td>\n",
       "    </tr>\n",
       "  </tbody>\n",
       "</table>\n",
       "</div>"
      ],
      "text/plain": [
       "         day   DAU  activity  actions_mes\n",
       "0 2023-09-03  3105    126484        12897\n",
       "1 2023-09-04  3721    142796        12897\n",
       "2 2023-09-05  4617    208958        12898\n",
       "3 2023-09-06  4728    202023        12899\n",
       "4 2023-09-07  4890    222575        12898"
      ]
     },
     "execution_count": 12,
     "metadata": {},
     "output_type": "execute_result"
    }
   ],
   "source": [
    "act_df = act_df.merge(mes_activity)\n",
    "act_df.head()"
   ]
  },
  {
   "cell_type": "code",
   "execution_count": 13,
   "id": "5820faca-6021-4ab2-8e30-7cfd34be9b1e",
   "metadata": {},
   "outputs": [
    {
     "data": {
      "text/html": [
       "<div>\n",
       "<style scoped>\n",
       "    .dataframe tbody tr th:only-of-type {\n",
       "        vertical-align: middle;\n",
       "    }\n",
       "\n",
       "    .dataframe tbody tr th {\n",
       "        vertical-align: top;\n",
       "    }\n",
       "\n",
       "    .dataframe thead th {\n",
       "        text-align: right;\n",
       "    }\n",
       "</style>\n",
       "<table border=\"1\" class=\"dataframe\">\n",
       "  <thead>\n",
       "    <tr style=\"text-align: right;\">\n",
       "      <th></th>\n",
       "      <th>day</th>\n",
       "      <th>DAU</th>\n",
       "      <th>activity</th>\n",
       "      <th>actions_mes</th>\n",
       "      <th>total_activity</th>\n",
       "    </tr>\n",
       "  </thead>\n",
       "  <tbody>\n",
       "    <tr>\n",
       "      <th>0</th>\n",
       "      <td>2023-09-03</td>\n",
       "      <td>3105</td>\n",
       "      <td>126484</td>\n",
       "      <td>12897</td>\n",
       "      <td>139381.0</td>\n",
       "    </tr>\n",
       "    <tr>\n",
       "      <th>1</th>\n",
       "      <td>2023-09-04</td>\n",
       "      <td>3721</td>\n",
       "      <td>142796</td>\n",
       "      <td>12897</td>\n",
       "      <td>155693.0</td>\n",
       "    </tr>\n",
       "    <tr>\n",
       "      <th>2</th>\n",
       "      <td>2023-09-05</td>\n",
       "      <td>4617</td>\n",
       "      <td>208958</td>\n",
       "      <td>12898</td>\n",
       "      <td>221856.0</td>\n",
       "    </tr>\n",
       "    <tr>\n",
       "      <th>3</th>\n",
       "      <td>2023-09-06</td>\n",
       "      <td>4728</td>\n",
       "      <td>202023</td>\n",
       "      <td>12899</td>\n",
       "      <td>214922.0</td>\n",
       "    </tr>\n",
       "    <tr>\n",
       "      <th>4</th>\n",
       "      <td>2023-09-07</td>\n",
       "      <td>4890</td>\n",
       "      <td>222575</td>\n",
       "      <td>12898</td>\n",
       "      <td>235473.0</td>\n",
       "    </tr>\n",
       "  </tbody>\n",
       "</table>\n",
       "</div>"
      ],
      "text/plain": [
       "         day   DAU  activity  actions_mes  total_activity\n",
       "0 2023-09-03  3105    126484        12897        139381.0\n",
       "1 2023-09-04  3721    142796        12897        155693.0\n",
       "2 2023-09-05  4617    208958        12898        221856.0\n",
       "3 2023-09-06  4728    202023        12899        214922.0\n",
       "4 2023-09-07  4890    222575        12898        235473.0"
      ]
     },
     "execution_count": 13,
     "metadata": {},
     "output_type": "execute_result"
    }
   ],
   "source": [
    "act_df[\"total_activity\"] = act_df[\"activity\"] + act_df[\"actions_mes\"]\n",
    "act_df.head()"
   ]
  },
  {
   "cell_type": "markdown",
   "id": "559d9208-a8e9-41f5-b5be-93ca69347bf6",
   "metadata": {},
   "source": [
    "Отметим ещё бинарным образом промежуток, когда проходил флешмоб (2023-10-12 по 2023-10-18), но пару днями позже, чтобы данные восстановились до нормального уровня после мероприятия, когда проходило само мероприятие. Поскольку эти дни являются некой аномалией ставим для них 1, а дляостальных дней 0:"
   ]
  },
  {
   "cell_type": "code",
   "execution_count": 15,
   "id": "bf7e236c-09a0-45ea-9ba7-f357a3fb6c8e",
   "metadata": {},
   "outputs": [
    {
     "data": {
      "text/html": [
       "<div>\n",
       "<style scoped>\n",
       "    .dataframe tbody tr th:only-of-type {\n",
       "        vertical-align: middle;\n",
       "    }\n",
       "\n",
       "    .dataframe tbody tr th {\n",
       "        vertical-align: top;\n",
       "    }\n",
       "\n",
       "    .dataframe thead th {\n",
       "        text-align: right;\n",
       "    }\n",
       "</style>\n",
       "<table border=\"1\" class=\"dataframe\">\n",
       "  <thead>\n",
       "    <tr style=\"text-align: right;\">\n",
       "      <th></th>\n",
       "      <th>day</th>\n",
       "      <th>DAU</th>\n",
       "      <th>activity</th>\n",
       "      <th>actions_mes</th>\n",
       "      <th>total_activity</th>\n",
       "      <th>anomaly</th>\n",
       "    </tr>\n",
       "  </thead>\n",
       "  <tbody>\n",
       "    <tr>\n",
       "      <th>0</th>\n",
       "      <td>2023-09-03</td>\n",
       "      <td>3105</td>\n",
       "      <td>126484</td>\n",
       "      <td>12897</td>\n",
       "      <td>139381.0</td>\n",
       "      <td>0</td>\n",
       "    </tr>\n",
       "    <tr>\n",
       "      <th>1</th>\n",
       "      <td>2023-09-04</td>\n",
       "      <td>3721</td>\n",
       "      <td>142796</td>\n",
       "      <td>12897</td>\n",
       "      <td>155693.0</td>\n",
       "      <td>0</td>\n",
       "    </tr>\n",
       "    <tr>\n",
       "      <th>2</th>\n",
       "      <td>2023-09-05</td>\n",
       "      <td>4617</td>\n",
       "      <td>208958</td>\n",
       "      <td>12898</td>\n",
       "      <td>221856.0</td>\n",
       "      <td>0</td>\n",
       "    </tr>\n",
       "    <tr>\n",
       "      <th>3</th>\n",
       "      <td>2023-09-06</td>\n",
       "      <td>4728</td>\n",
       "      <td>202023</td>\n",
       "      <td>12899</td>\n",
       "      <td>214922.0</td>\n",
       "      <td>0</td>\n",
       "    </tr>\n",
       "    <tr>\n",
       "      <th>4</th>\n",
       "      <td>2023-09-07</td>\n",
       "      <td>4890</td>\n",
       "      <td>222575</td>\n",
       "      <td>12898</td>\n",
       "      <td>235473.0</td>\n",
       "      <td>0</td>\n",
       "    </tr>\n",
       "  </tbody>\n",
       "</table>\n",
       "</div>"
      ],
      "text/plain": [
       "         day   DAU  activity  actions_mes  total_activity  anomaly\n",
       "0 2023-09-03  3105    126484        12897        139381.0        0\n",
       "1 2023-09-04  3721    142796        12897        155693.0        0\n",
       "2 2023-09-05  4617    208958        12898        221856.0        0\n",
       "3 2023-09-06  4728    202023        12899        214922.0        0\n",
       "4 2023-09-07  4890    222575        12898        235473.0        0"
      ]
     },
     "execution_count": 15,
     "metadata": {},
     "output_type": "execute_result"
    }
   ],
   "source": [
    "act_df[\"anomaly\"] = np.where((act_df.day >= \"2023-10-12\") & (act_df.day <= \"2023-10-19\"), 1, 0)\n",
    "act_df.head()"
   ]
  },
  {
   "cell_type": "markdown",
   "id": "094a9e7b-a6ce-4587-8981-5fe26f9d6b1d",
   "metadata": {},
   "source": [
    "Для первичной работы стандартизуем наши модели:"
   ]
  },
  {
   "cell_type": "code",
   "execution_count": 19,
   "id": "07a951c6-3dca-4579-acb1-ec6abd4ea717",
   "metadata": {},
   "outputs": [],
   "source": [
    "act_mean = act_df.total_activity.mean()\n",
    "act_sd = act_df.total_activity.std()\n",
    "\n",
    "dau_mean = act_df.DAU.mean()\n",
    "dau_sd = act_df.DAU.std()\n",
    "\n",
    "act_df[\"DAU_stand\"] = (act_df.DAU - dau_mean) / dau_sd\n",
    "act_df[\"act_stand\"] = (act_df.total_activity - act_mean) / act_sd"
   ]
  },
  {
   "cell_type": "code",
   "execution_count": 20,
   "id": "2cb5a5de-7ba5-4c4a-8609-5b94e4a36d00",
   "metadata": {},
   "outputs": [
    {
     "data": {
      "text/html": [
       "<div>\n",
       "<style scoped>\n",
       "    .dataframe tbody tr th:only-of-type {\n",
       "        vertical-align: middle;\n",
       "    }\n",
       "\n",
       "    .dataframe tbody tr th {\n",
       "        vertical-align: top;\n",
       "    }\n",
       "\n",
       "    .dataframe thead th {\n",
       "        text-align: right;\n",
       "    }\n",
       "</style>\n",
       "<table border=\"1\" class=\"dataframe\">\n",
       "  <thead>\n",
       "    <tr style=\"text-align: right;\">\n",
       "      <th></th>\n",
       "      <th>day</th>\n",
       "      <th>DAU</th>\n",
       "      <th>activity</th>\n",
       "      <th>actions_mes</th>\n",
       "      <th>total_activity</th>\n",
       "      <th>anomaly</th>\n",
       "      <th>DAU_stand</th>\n",
       "      <th>act_stand</th>\n",
       "    </tr>\n",
       "  </thead>\n",
       "  <tbody>\n",
       "    <tr>\n",
       "      <th>0</th>\n",
       "      <td>2023-09-03</td>\n",
       "      <td>3105</td>\n",
       "      <td>126484</td>\n",
       "      <td>12897</td>\n",
       "      <td>139381.0</td>\n",
       "      <td>0</td>\n",
       "      <td>-2.252728</td>\n",
       "      <td>-1.599746</td>\n",
       "    </tr>\n",
       "    <tr>\n",
       "      <th>1</th>\n",
       "      <td>2023-09-04</td>\n",
       "      <td>3721</td>\n",
       "      <td>142796</td>\n",
       "      <td>12897</td>\n",
       "      <td>155693.0</td>\n",
       "      <td>0</td>\n",
       "      <td>-2.117363</td>\n",
       "      <td>-1.547762</td>\n",
       "    </tr>\n",
       "    <tr>\n",
       "      <th>2</th>\n",
       "      <td>2023-09-05</td>\n",
       "      <td>4617</td>\n",
       "      <td>208958</td>\n",
       "      <td>12898</td>\n",
       "      <td>221856.0</td>\n",
       "      <td>0</td>\n",
       "      <td>-1.920467</td>\n",
       "      <td>-1.336913</td>\n",
       "    </tr>\n",
       "    <tr>\n",
       "      <th>3</th>\n",
       "      <td>2023-09-06</td>\n",
       "      <td>4728</td>\n",
       "      <td>202023</td>\n",
       "      <td>12899</td>\n",
       "      <td>214922.0</td>\n",
       "      <td>0</td>\n",
       "      <td>-1.896075</td>\n",
       "      <td>-1.359010</td>\n",
       "    </tr>\n",
       "    <tr>\n",
       "      <th>4</th>\n",
       "      <td>2023-09-07</td>\n",
       "      <td>4890</td>\n",
       "      <td>222575</td>\n",
       "      <td>12898</td>\n",
       "      <td>235473.0</td>\n",
       "      <td>0</td>\n",
       "      <td>-1.860476</td>\n",
       "      <td>-1.293518</td>\n",
       "    </tr>\n",
       "  </tbody>\n",
       "</table>\n",
       "</div>"
      ],
      "text/plain": [
       "         day   DAU  activity  actions_mes  total_activity  anomaly  DAU_stand  \\\n",
       "0 2023-09-03  3105    126484        12897        139381.0        0  -2.252728   \n",
       "1 2023-09-04  3721    142796        12897        155693.0        0  -2.117363   \n",
       "2 2023-09-05  4617    208958        12898        221856.0        0  -1.920467   \n",
       "3 2023-09-06  4728    202023        12899        214922.0        0  -1.896075   \n",
       "4 2023-09-07  4890    222575        12898        235473.0        0  -1.860476   \n",
       "\n",
       "   act_stand  \n",
       "0  -1.599746  \n",
       "1  -1.547762  \n",
       "2  -1.336913  \n",
       "3  -1.359010  \n",
       "4  -1.293518  "
      ]
     },
     "execution_count": 20,
     "metadata": {},
     "output_type": "execute_result"
    }
   ],
   "source": [
    "act_df.head()"
   ]
  },
  {
   "cell_type": "markdown",
   "id": "e126f555-09a9-4775-9172-06cccc3d2ea2",
   "metadata": {},
   "source": [
    "## Строим модели\n",
    "\n",
    "Какие модели у нас будут:\n",
    "1. Обычная модель с линейным трендом\n",
    "2. Обычная модель с логлинейным трендом\n",
    "3. Линейный тренд + DAU как регрессор\n",
    "4. Логлинейный тренд + DAU как регрессор\n",
    "5. Линейный тренд + DAU + аномалия\n",
    "6. Логлинейный тренд + DAU + аномалия"
   ]
  },
  {
   "cell_type": "code",
   "execution_count": 21,
   "id": "9a8932fb-9301-4f8f-9e14-73a68b6b6daa",
   "metadata": {},
   "outputs": [],
   "source": [
    "simple_lin = DLT(response_col=\"act_stand\", #название колонки с метрикой\n",
    "          date_col = \"day\", #название колонки с датами-временем\n",
    "          estimator=\"stan-mcmc\", #алгоритм оценки\n",
    "          global_trend_option = \"linear\",\n",
    "          num_warmup=10000, #время \"разогрева\"\n",
    "          num_sample=10000) #время сэмплирования \n",
    "\n",
    "simple_loglin = DLT(response_col=\"act_stand\", \n",
    "               date_col = \"day\", \n",
    "               estimator='stan-mcmc',\n",
    "               global_trend_option = 'loglinear',\n",
    "               num_warmup=10000, \n",
    "               num_sample=10000) \n",
    "\n",
    "dau_lin = DLT(response_col=\"act_stand\", \n",
    "               date_col = \"day\", \n",
    "               estimator='stan-mcmc',\n",
    "               global_trend_option = 'linear',\n",
    "               regressor_col = [\"DAU_stand\"], regressor_sign = [\"+\"],\n",
    "               num_warmup=10000, \n",
    "               num_sample=10000) \n",
    "\n",
    "dau_loglin = DLT(response_col=\"act_stand\", \n",
    "               date_col = \"day\", \n",
    "               estimator='stan-mcmc',\n",
    "               global_trend_option = 'loglinear',\n",
    "               regressor_col = [\"DAU_stand\"], regressor_sign = [\"+\"],\n",
    "               num_warmup=10000, \n",
    "               num_sample=10000) \n",
    "anom_lin = DLT(response_col=\"act_stand\", \n",
    "               date_col = \"day\", \n",
    "               estimator='stan-mcmc',\n",
    "               global_trend_option = 'linear',\n",
    "               regressor_col = [\"DAU_stand\", \"anomaly\"], regressor_sign = [\"+\", \"+\"],\n",
    "               num_warmup=10000, \n",
    "               num_sample=10000) \n",
    "\n",
    "anom_loglin = DLT(response_col=\"act_stand\", \n",
    "               date_col = \"day\", \n",
    "               estimator='stan-mcmc',\n",
    "               global_trend_option = 'loglinear',\n",
    "               regressor_col = [\"DAU_stand\", \"anomaly\"], regressor_sign = [\"+\", \"+\"],\n",
    "               num_warmup=10000, \n",
    "               num_sample=10000) "
   ]
  },
  {
   "cell_type": "code",
   "execution_count": 23,
   "id": "a2b0900e-bb02-46cb-abc2-83e7924034f1",
   "metadata": {},
   "outputs": [],
   "source": [
    "#Положим наши модели в список\n",
    "\n",
    "model_list = [simple_lin, simple_loglin, dau_lin, dau_loglin, anom_lin, anom_loglin]"
   ]
  },
  {
   "cell_type": "code",
   "execution_count": 24,
   "id": "92be5941-7800-4e46-a323-b38a8589a78f",
   "metadata": {},
   "outputs": [
    {
     "name": "stderr",
     "output_type": "stream",
     "text": [
      "2023-11-10 11:44:59 - orbit - INFO - Sampling (PyStan) with chains: 4, cores: 8, temperature: 1.000, warmups (per chain): 2500 and samples(per chain): 2500.\n",
      "2023-11-10 11:44:59 - orbit - INFO - First time in running stan model:dlt. Expect 3 - 5 minutes for compilation.\n"
     ]
    },
    {
     "data": {
      "application/json": {
       "ascii": false,
       "bar_format": "{desc} |{bar}| {elapsed} {postfix[0][value]}",
       "colour": null,
       "elapsed": 0.03481578826904297,
       "initial": 0,
       "n": 0,
       "ncols": null,
       "nrows": null,
       "postfix": [
        {
         "value": "Status"
        }
       ],
       "prefix": "chain 1",
       "rate": null,
       "total": 52,
       "unit": "it",
       "unit_divisor": 1000,
       "unit_scale": false
      },
      "application/vnd.jupyter.widget-view+json": {
       "model_id": "d3032a20c6914b7a818bdeabd75db283",
       "version_major": 2,
       "version_minor": 0
      },
      "text/plain": [
       "chain 1 |          | 00:00 Status"
      ]
     },
     "metadata": {},
     "output_type": "display_data"
    },
    {
     "data": {
      "application/json": {
       "ascii": false,
       "bar_format": "{desc} |{bar}| {elapsed} {postfix[0][value]}",
       "colour": null,
       "elapsed": 0.03492331504821777,
       "initial": 0,
       "n": 0,
       "ncols": null,
       "nrows": null,
       "postfix": [
        {
         "value": "Status"
        }
       ],
       "prefix": "chain 2",
       "rate": null,
       "total": 52,
       "unit": "it",
       "unit_divisor": 1000,
       "unit_scale": false
      },
      "application/vnd.jupyter.widget-view+json": {
       "model_id": "db44dea419244afd96ff663e30dd5511",
       "version_major": 2,
       "version_minor": 0
      },
      "text/plain": [
       "chain 2 |          | 00:00 Status"
      ]
     },
     "metadata": {},
     "output_type": "display_data"
    },
    {
     "data": {
      "application/json": {
       "ascii": false,
       "bar_format": "{desc} |{bar}| {elapsed} {postfix[0][value]}",
       "colour": null,
       "elapsed": 0.030743122100830078,
       "initial": 0,
       "n": 0,
       "ncols": null,
       "nrows": null,
       "postfix": [
        {
         "value": "Status"
        }
       ],
       "prefix": "chain 3",
       "rate": null,
       "total": 52,
       "unit": "it",
       "unit_divisor": 1000,
       "unit_scale": false
      },
      "application/vnd.jupyter.widget-view+json": {
       "model_id": "c50d270ce71c4f7ca3925dd91b4ffb61",
       "version_major": 2,
       "version_minor": 0
      },
      "text/plain": [
       "chain 3 |          | 00:00 Status"
      ]
     },
     "metadata": {},
     "output_type": "display_data"
    },
    {
     "data": {
      "application/json": {
       "ascii": false,
       "bar_format": "{desc} |{bar}| {elapsed} {postfix[0][value]}",
       "colour": null,
       "elapsed": 0.03043079376220703,
       "initial": 0,
       "n": 0,
       "ncols": null,
       "nrows": null,
       "postfix": [
        {
         "value": "Status"
        }
       ],
       "prefix": "chain 4",
       "rate": null,
       "total": 52,
       "unit": "it",
       "unit_divisor": 1000,
       "unit_scale": false
      },
      "application/vnd.jupyter.widget-view+json": {
       "model_id": "dc6bbe14467e43409fb9503a39890d1a",
       "version_major": 2,
       "version_minor": 0
      },
      "text/plain": [
       "chain 4 |          | 00:00 Status"
      ]
     },
     "metadata": {},
     "output_type": "display_data"
    },
    {
     "name": "stdout",
     "output_type": "stream",
     "text": [
      "                                                                                                                                                                                                                                                                                                                                \n"
     ]
    },
    {
     "name": "stderr",
     "output_type": "stream",
     "text": [
      "2023-11-10 11:46:35 - orbit - INFO - Sampling (PyStan) with chains: 4, cores: 8, temperature: 1.000, warmups (per chain): 2500 and samples(per chain): 2500.\n"
     ]
    },
    {
     "data": {
      "application/json": {
       "ascii": false,
       "bar_format": "{desc} |{bar}| {elapsed} {postfix[0][value]}",
       "colour": null,
       "elapsed": 0.02789449691772461,
       "initial": 0,
       "n": 0,
       "ncols": null,
       "nrows": null,
       "postfix": [
        {
         "value": "Status"
        }
       ],
       "prefix": "chain 1",
       "rate": null,
       "total": 52,
       "unit": "it",
       "unit_divisor": 1000,
       "unit_scale": false
      },
      "application/vnd.jupyter.widget-view+json": {
       "model_id": "171c8d81c5da43b09608b32e3b82a127",
       "version_major": 2,
       "version_minor": 0
      },
      "text/plain": [
       "chain 1 |          | 00:00 Status"
      ]
     },
     "metadata": {},
     "output_type": "display_data"
    },
    {
     "data": {
      "application/json": {
       "ascii": false,
       "bar_format": "{desc} |{bar}| {elapsed} {postfix[0][value]}",
       "colour": null,
       "elapsed": 0.025133132934570312,
       "initial": 0,
       "n": 0,
       "ncols": null,
       "nrows": null,
       "postfix": [
        {
         "value": "Status"
        }
       ],
       "prefix": "chain 2",
       "rate": null,
       "total": 52,
       "unit": "it",
       "unit_divisor": 1000,
       "unit_scale": false
      },
      "application/vnd.jupyter.widget-view+json": {
       "model_id": "c4dfc8c08c664d70a171d71f060f95a4",
       "version_major": 2,
       "version_minor": 0
      },
      "text/plain": [
       "chain 2 |          | 00:00 Status"
      ]
     },
     "metadata": {},
     "output_type": "display_data"
    },
    {
     "data": {
      "application/json": {
       "ascii": false,
       "bar_format": "{desc} |{bar}| {elapsed} {postfix[0][value]}",
       "colour": null,
       "elapsed": 0.02609872817993164,
       "initial": 0,
       "n": 0,
       "ncols": null,
       "nrows": null,
       "postfix": [
        {
         "value": "Status"
        }
       ],
       "prefix": "chain 3",
       "rate": null,
       "total": 52,
       "unit": "it",
       "unit_divisor": 1000,
       "unit_scale": false
      },
      "application/vnd.jupyter.widget-view+json": {
       "model_id": "a26f94296a1d4c2d9cd8bb2a3a31b50d",
       "version_major": 2,
       "version_minor": 0
      },
      "text/plain": [
       "chain 3 |          | 00:00 Status"
      ]
     },
     "metadata": {},
     "output_type": "display_data"
    },
    {
     "data": {
      "application/json": {
       "ascii": false,
       "bar_format": "{desc} |{bar}| {elapsed} {postfix[0][value]}",
       "colour": null,
       "elapsed": 0.03438711166381836,
       "initial": 0,
       "n": 0,
       "ncols": null,
       "nrows": null,
       "postfix": [
        {
         "value": "Status"
        }
       ],
       "prefix": "chain 4",
       "rate": null,
       "total": 52,
       "unit": "it",
       "unit_divisor": 1000,
       "unit_scale": false
      },
      "application/vnd.jupyter.widget-view+json": {
       "model_id": "df34b03cab8b48049de5e76454d2d0c5",
       "version_major": 2,
       "version_minor": 0
      },
      "text/plain": [
       "chain 4 |          | 00:00 Status"
      ]
     },
     "metadata": {},
     "output_type": "display_data"
    },
    {
     "name": "stdout",
     "output_type": "stream",
     "text": [
      "                                                                                                                                                                                                                                                                                                                                \n"
     ]
    },
    {
     "name": "stderr",
     "output_type": "stream",
     "text": [
      "2023-11-10 11:46:47 - orbit - INFO - Sampling (PyStan) with chains: 4, cores: 8, temperature: 1.000, warmups (per chain): 2500 and samples(per chain): 2500.\n"
     ]
    },
    {
     "data": {
      "application/json": {
       "ascii": false,
       "bar_format": "{desc} |{bar}| {elapsed} {postfix[0][value]}",
       "colour": null,
       "elapsed": 0.036147117614746094,
       "initial": 0,
       "n": 0,
       "ncols": null,
       "nrows": null,
       "postfix": [
        {
         "value": "Status"
        }
       ],
       "prefix": "chain 1",
       "rate": null,
       "total": 52,
       "unit": "it",
       "unit_divisor": 1000,
       "unit_scale": false
      },
      "application/vnd.jupyter.widget-view+json": {
       "model_id": "a489c6caf4474b4dbf19465427f01d82",
       "version_major": 2,
       "version_minor": 0
      },
      "text/plain": [
       "chain 1 |          | 00:00 Status"
      ]
     },
     "metadata": {},
     "output_type": "display_data"
    },
    {
     "data": {
      "application/json": {
       "ascii": false,
       "bar_format": "{desc} |{bar}| {elapsed} {postfix[0][value]}",
       "colour": null,
       "elapsed": 0.03188157081604004,
       "initial": 0,
       "n": 0,
       "ncols": null,
       "nrows": null,
       "postfix": [
        {
         "value": "Status"
        }
       ],
       "prefix": "chain 2",
       "rate": null,
       "total": 52,
       "unit": "it",
       "unit_divisor": 1000,
       "unit_scale": false
      },
      "application/vnd.jupyter.widget-view+json": {
       "model_id": "25801ae6446343ad9fd6f20bb36204c7",
       "version_major": 2,
       "version_minor": 0
      },
      "text/plain": [
       "chain 2 |          | 00:00 Status"
      ]
     },
     "metadata": {},
     "output_type": "display_data"
    },
    {
     "data": {
      "application/json": {
       "ascii": false,
       "bar_format": "{desc} |{bar}| {elapsed} {postfix[0][value]}",
       "colour": null,
       "elapsed": 0.030936241149902344,
       "initial": 0,
       "n": 0,
       "ncols": null,
       "nrows": null,
       "postfix": [
        {
         "value": "Status"
        }
       ],
       "prefix": "chain 3",
       "rate": null,
       "total": 52,
       "unit": "it",
       "unit_divisor": 1000,
       "unit_scale": false
      },
      "application/vnd.jupyter.widget-view+json": {
       "model_id": "9eaa71fe53eb4bc8915e479da762edbb",
       "version_major": 2,
       "version_minor": 0
      },
      "text/plain": [
       "chain 3 |          | 00:00 Status"
      ]
     },
     "metadata": {},
     "output_type": "display_data"
    },
    {
     "data": {
      "application/json": {
       "ascii": false,
       "bar_format": "{desc} |{bar}| {elapsed} {postfix[0][value]}",
       "colour": null,
       "elapsed": 0.030542373657226562,
       "initial": 0,
       "n": 0,
       "ncols": null,
       "nrows": null,
       "postfix": [
        {
         "value": "Status"
        }
       ],
       "prefix": "chain 4",
       "rate": null,
       "total": 52,
       "unit": "it",
       "unit_divisor": 1000,
       "unit_scale": false
      },
      "application/vnd.jupyter.widget-view+json": {
       "model_id": "e7b18d70b68a480da17d0d33a17a2508",
       "version_major": 2,
       "version_minor": 0
      },
      "text/plain": [
       "chain 4 |          | 00:00 Status"
      ]
     },
     "metadata": {},
     "output_type": "display_data"
    },
    {
     "name": "stdout",
     "output_type": "stream",
     "text": [
      "                                                                                                                                                                                                                                                                                                                                \n"
     ]
    },
    {
     "name": "stderr",
     "output_type": "stream",
     "text": [
      "2023-11-10 11:47:02 - orbit - INFO - Sampling (PyStan) with chains: 4, cores: 8, temperature: 1.000, warmups (per chain): 2500 and samples(per chain): 2500.\n"
     ]
    },
    {
     "data": {
      "application/json": {
       "ascii": false,
       "bar_format": "{desc} |{bar}| {elapsed} {postfix[0][value]}",
       "colour": null,
       "elapsed": 0.031604766845703125,
       "initial": 0,
       "n": 0,
       "ncols": null,
       "nrows": null,
       "postfix": [
        {
         "value": "Status"
        }
       ],
       "prefix": "chain 1",
       "rate": null,
       "total": 52,
       "unit": "it",
       "unit_divisor": 1000,
       "unit_scale": false
      },
      "application/vnd.jupyter.widget-view+json": {
       "model_id": "204a66990e4147479c2ca1fbe58f8d87",
       "version_major": 2,
       "version_minor": 0
      },
      "text/plain": [
       "chain 1 |          | 00:00 Status"
      ]
     },
     "metadata": {},
     "output_type": "display_data"
    },
    {
     "data": {
      "application/json": {
       "ascii": false,
       "bar_format": "{desc} |{bar}| {elapsed} {postfix[0][value]}",
       "colour": null,
       "elapsed": 0.025379180908203125,
       "initial": 0,
       "n": 0,
       "ncols": null,
       "nrows": null,
       "postfix": [
        {
         "value": "Status"
        }
       ],
       "prefix": "chain 2",
       "rate": null,
       "total": 52,
       "unit": "it",
       "unit_divisor": 1000,
       "unit_scale": false
      },
      "application/vnd.jupyter.widget-view+json": {
       "model_id": "4c153ec86b68491e95426788a7c4bea9",
       "version_major": 2,
       "version_minor": 0
      },
      "text/plain": [
       "chain 2 |          | 00:00 Status"
      ]
     },
     "metadata": {},
     "output_type": "display_data"
    },
    {
     "data": {
      "application/json": {
       "ascii": false,
       "bar_format": "{desc} |{bar}| {elapsed} {postfix[0][value]}",
       "colour": null,
       "elapsed": 0.028358936309814453,
       "initial": 0,
       "n": 0,
       "ncols": null,
       "nrows": null,
       "postfix": [
        {
         "value": "Status"
        }
       ],
       "prefix": "chain 3",
       "rate": null,
       "total": 52,
       "unit": "it",
       "unit_divisor": 1000,
       "unit_scale": false
      },
      "application/vnd.jupyter.widget-view+json": {
       "model_id": "cf8810c4948c4d8e80d3de419900a079",
       "version_major": 2,
       "version_minor": 0
      },
      "text/plain": [
       "chain 3 |          | 00:00 Status"
      ]
     },
     "metadata": {},
     "output_type": "display_data"
    },
    {
     "data": {
      "application/json": {
       "ascii": false,
       "bar_format": "{desc} |{bar}| {elapsed} {postfix[0][value]}",
       "colour": null,
       "elapsed": 0.030086755752563477,
       "initial": 0,
       "n": 0,
       "ncols": null,
       "nrows": null,
       "postfix": [
        {
         "value": "Status"
        }
       ],
       "prefix": "chain 4",
       "rate": null,
       "total": 52,
       "unit": "it",
       "unit_divisor": 1000,
       "unit_scale": false
      },
      "application/vnd.jupyter.widget-view+json": {
       "model_id": "ba3269d3c2a842ac95ca0e95fecd0d3d",
       "version_major": 2,
       "version_minor": 0
      },
      "text/plain": [
       "chain 4 |          | 00:00 Status"
      ]
     },
     "metadata": {},
     "output_type": "display_data"
    },
    {
     "name": "stdout",
     "output_type": "stream",
     "text": [
      "                                                                                                                                                                                                                                                                                                                                \n"
     ]
    },
    {
     "name": "stderr",
     "output_type": "stream",
     "text": [
      "2023-11-10 11:47:16 - orbit - INFO - Sampling (PyStan) with chains: 4, cores: 8, temperature: 1.000, warmups (per chain): 2500 and samples(per chain): 2500.\n"
     ]
    },
    {
     "data": {
      "application/json": {
       "ascii": false,
       "bar_format": "{desc} |{bar}| {elapsed} {postfix[0][value]}",
       "colour": null,
       "elapsed": 0.03204631805419922,
       "initial": 0,
       "n": 0,
       "ncols": null,
       "nrows": null,
       "postfix": [
        {
         "value": "Status"
        }
       ],
       "prefix": "chain 1",
       "rate": null,
       "total": 52,
       "unit": "it",
       "unit_divisor": 1000,
       "unit_scale": false
      },
      "application/vnd.jupyter.widget-view+json": {
       "model_id": "66a75399a7294dc8a2850924dfa63ae8",
       "version_major": 2,
       "version_minor": 0
      },
      "text/plain": [
       "chain 1 |          | 00:00 Status"
      ]
     },
     "metadata": {},
     "output_type": "display_data"
    },
    {
     "data": {
      "application/json": {
       "ascii": false,
       "bar_format": "{desc} |{bar}| {elapsed} {postfix[0][value]}",
       "colour": null,
       "elapsed": 0.02690720558166504,
       "initial": 0,
       "n": 0,
       "ncols": null,
       "nrows": null,
       "postfix": [
        {
         "value": "Status"
        }
       ],
       "prefix": "chain 2",
       "rate": null,
       "total": 52,
       "unit": "it",
       "unit_divisor": 1000,
       "unit_scale": false
      },
      "application/vnd.jupyter.widget-view+json": {
       "model_id": "2cd7619f2d8649509cb6b7b0cdb92651",
       "version_major": 2,
       "version_minor": 0
      },
      "text/plain": [
       "chain 2 |          | 00:00 Status"
      ]
     },
     "metadata": {},
     "output_type": "display_data"
    },
    {
     "data": {
      "application/json": {
       "ascii": false,
       "bar_format": "{desc} |{bar}| {elapsed} {postfix[0][value]}",
       "colour": null,
       "elapsed": 0.037682294845581055,
       "initial": 0,
       "n": 0,
       "ncols": null,
       "nrows": null,
       "postfix": [
        {
         "value": "Status"
        }
       ],
       "prefix": "chain 3",
       "rate": null,
       "total": 52,
       "unit": "it",
       "unit_divisor": 1000,
       "unit_scale": false
      },
      "application/vnd.jupyter.widget-view+json": {
       "model_id": "4dce341763aa4d50836e8bc6bfd0b5d7",
       "version_major": 2,
       "version_minor": 0
      },
      "text/plain": [
       "chain 3 |          | 00:00 Status"
      ]
     },
     "metadata": {},
     "output_type": "display_data"
    },
    {
     "data": {
      "application/json": {
       "ascii": false,
       "bar_format": "{desc} |{bar}| {elapsed} {postfix[0][value]}",
       "colour": null,
       "elapsed": 0.033557891845703125,
       "initial": 0,
       "n": 0,
       "ncols": null,
       "nrows": null,
       "postfix": [
        {
         "value": "Status"
        }
       ],
       "prefix": "chain 4",
       "rate": null,
       "total": 52,
       "unit": "it",
       "unit_divisor": 1000,
       "unit_scale": false
      },
      "application/vnd.jupyter.widget-view+json": {
       "model_id": "a3659f2ee4074242aff386489ea4d64f",
       "version_major": 2,
       "version_minor": 0
      },
      "text/plain": [
       "chain 4 |          | 00:00 Status"
      ]
     },
     "metadata": {},
     "output_type": "display_data"
    },
    {
     "name": "stdout",
     "output_type": "stream",
     "text": [
      "                                                                                                                                                                                                                                                                                                                                \n"
     ]
    },
    {
     "name": "stderr",
     "output_type": "stream",
     "text": [
      "2023-11-10 11:47:32 - orbit - INFO - Sampling (PyStan) with chains: 4, cores: 8, temperature: 1.000, warmups (per chain): 2500 and samples(per chain): 2500.\n"
     ]
    },
    {
     "data": {
      "application/json": {
       "ascii": false,
       "bar_format": "{desc} |{bar}| {elapsed} {postfix[0][value]}",
       "colour": null,
       "elapsed": 0.032164812088012695,
       "initial": 0,
       "n": 0,
       "ncols": null,
       "nrows": null,
       "postfix": [
        {
         "value": "Status"
        }
       ],
       "prefix": "chain 1",
       "rate": null,
       "total": 52,
       "unit": "it",
       "unit_divisor": 1000,
       "unit_scale": false
      },
      "application/vnd.jupyter.widget-view+json": {
       "model_id": "ddbb4a3e199c4a4a91cbcc8ec25b385d",
       "version_major": 2,
       "version_minor": 0
      },
      "text/plain": [
       "chain 1 |          | 00:00 Status"
      ]
     },
     "metadata": {},
     "output_type": "display_data"
    },
    {
     "data": {
      "application/json": {
       "ascii": false,
       "bar_format": "{desc} |{bar}| {elapsed} {postfix[0][value]}",
       "colour": null,
       "elapsed": 0.026058435440063477,
       "initial": 0,
       "n": 0,
       "ncols": null,
       "nrows": null,
       "postfix": [
        {
         "value": "Status"
        }
       ],
       "prefix": "chain 2",
       "rate": null,
       "total": 52,
       "unit": "it",
       "unit_divisor": 1000,
       "unit_scale": false
      },
      "application/vnd.jupyter.widget-view+json": {
       "model_id": "938cf39377234aa19ea6ed37c6c0af94",
       "version_major": 2,
       "version_minor": 0
      },
      "text/plain": [
       "chain 2 |          | 00:00 Status"
      ]
     },
     "metadata": {},
     "output_type": "display_data"
    },
    {
     "data": {
      "application/json": {
       "ascii": false,
       "bar_format": "{desc} |{bar}| {elapsed} {postfix[0][value]}",
       "colour": null,
       "elapsed": 0.02775716781616211,
       "initial": 0,
       "n": 0,
       "ncols": null,
       "nrows": null,
       "postfix": [
        {
         "value": "Status"
        }
       ],
       "prefix": "chain 3",
       "rate": null,
       "total": 52,
       "unit": "it",
       "unit_divisor": 1000,
       "unit_scale": false
      },
      "application/vnd.jupyter.widget-view+json": {
       "model_id": "226392fd0ee04c75a39e2e9c7fca1f9c",
       "version_major": 2,
       "version_minor": 0
      },
      "text/plain": [
       "chain 3 |          | 00:00 Status"
      ]
     },
     "metadata": {},
     "output_type": "display_data"
    },
    {
     "data": {
      "application/json": {
       "ascii": false,
       "bar_format": "{desc} |{bar}| {elapsed} {postfix[0][value]}",
       "colour": null,
       "elapsed": 0.025430917739868164,
       "initial": 0,
       "n": 0,
       "ncols": null,
       "nrows": null,
       "postfix": [
        {
         "value": "Status"
        }
       ],
       "prefix": "chain 4",
       "rate": null,
       "total": 52,
       "unit": "it",
       "unit_divisor": 1000,
       "unit_scale": false
      },
      "application/vnd.jupyter.widget-view+json": {
       "model_id": "5bc2d3a4048b4cbc936e068ad9700863",
       "version_major": 2,
       "version_minor": 0
      },
      "text/plain": [
       "chain 4 |          | 00:00 Status"
      ]
     },
     "metadata": {},
     "output_type": "display_data"
    },
    {
     "name": "stdout",
     "output_type": "stream",
     "text": [
      "                                                                                                                                                                                                                                                                                                                                \n"
     ]
    }
   ],
   "source": [
    "#Обучаем\n",
    "\n",
    "for model in model_list:\n",
    "    model.fit(act_df)"
   ]
  },
  {
   "cell_type": "markdown",
   "id": "c36d45b8-15bb-4138-af02-1d5c3c418d23",
   "metadata": {},
   "source": [
    "Чтобы оценить предсказания, нам надо сотворить future df для наших моделек. Начнём с первых двух:"
   ]
  },
  {
   "cell_type": "code",
   "execution_count": 25,
   "id": "d75b1992-97a4-450e-8134-16d664a708f0",
   "metadata": {},
   "outputs": [],
   "source": [
    "future = model_list[0].make_future_df(periods=30)"
   ]
  },
  {
   "cell_type": "code",
   "execution_count": 26,
   "id": "9ee6ca38-92db-4085-9dcc-86b0e99ae344",
   "metadata": {},
   "outputs": [],
   "source": [
    "pred_1 = model_list[0].predict(future)\n",
    "pred_2 = model_list[1].predict(future)"
   ]
  },
  {
   "cell_type": "code",
   "execution_count": 27,
   "id": "c3d10e46-737d-47aa-a217-ce33b7adedbc",
   "metadata": {},
   "outputs": [
    {
     "name": "stderr",
     "output_type": "stream",
     "text": [
      "findfont: Generic family 'sans-serif' not found because none of the following families were found: Arial\n",
      "findfont: Generic family 'sans-serif' not found because none of the following families were found: Arial\n",
      "findfont: Generic family 'sans-serif' not found because none of the following families were found: Arial\n",
      "findfont: Generic family 'sans-serif' not found because none of the following families were found: Arial\n",
      "findfont: Generic family 'sans-serif' not found because none of the following families were found: Arial\n",
      "findfont: Generic family 'sans-serif' not found because none of the following families were found: Arial\n",
      "findfont: Generic family 'sans-serif' not found because none of the following families were found: Arial\n",
      "findfont: Generic family 'sans-serif' not found because none of the following families were found: Arial\n",
      "findfont: Generic family 'sans-serif' not found because none of the following families were found: Arial\n",
      "findfont: Generic family 'sans-serif' not found because none of the following families were found: Arial\n",
      "findfont: Generic family 'sans-serif' not found because none of the following families were found: Arial\n",
      "findfont: Generic family 'sans-serif' not found because none of the following families were found: Arial\n",
      "findfont: Generic family 'sans-serif' not found because none of the following families were found: Arial\n",
      "findfont: Generic family 'sans-serif' not found because none of the following families were found: Arial\n",
      "findfont: Generic family 'sans-serif' not found because none of the following families were found: Arial\n",
      "findfont: Generic family 'sans-serif' not found because none of the following families were found: Arial\n",
      "findfont: Generic family 'sans-serif' not found because none of the following families were found: Arial\n",
      "findfont: Generic family 'sans-serif' not found because none of the following families were found: Arial\n",
      "findfont: Generic family 'sans-serif' not found because none of the following families were found: Arial\n",
      "findfont: Generic family 'sans-serif' not found because none of the following families were found: Arial\n",
      "findfont: Generic family 'sans-serif' not found because none of the following families were found: Arial\n",
      "findfont: Generic family 'sans-serif' not found because none of the following families were found: Arial\n",
      "findfont: Generic family 'sans-serif' not found because none of the following families were found: Arial\n",
      "findfont: Generic family 'sans-serif' not found because none of the following families were found: Arial\n",
      "findfont: Generic family 'sans-serif' not found because none of the following families were found: Arial\n",
      "findfont: Generic family 'sans-serif' not found because none of the following families were found: Arial\n",
      "findfont: Generic family 'sans-serif' not found because none of the following families were found: Arial\n",
      "findfont: Generic family 'sans-serif' not found because none of the following families were found: Arial\n",
      "findfont: Generic family 'sans-serif' not found because none of the following families were found: Arial\n",
      "findfont: Generic family 'sans-serif' not found because none of the following families were found: Arial\n",
      "findfont: Generic family 'sans-serif' not found because none of the following families were found: Arial\n",
      "findfont: Generic family 'sans-serif' not found because none of the following families were found: Arial\n",
      "findfont: Generic family 'sans-serif' not found because none of the following families were found: Arial\n",
      "findfont: Generic family 'sans-serif' not found because none of the following families were found: Arial\n",
      "findfont: Generic family 'sans-serif' not found because none of the following families were found: Arial\n",
      "findfont: Generic family 'sans-serif' not found because none of the following families were found: Arial\n",
      "findfont: Generic family 'sans-serif' not found because none of the following families were found: Arial\n",
      "findfont: Generic family 'sans-serif' not found because none of the following families were found: Arial\n",
      "findfont: Generic family 'sans-serif' not found because none of the following families were found: Arial\n",
      "findfont: Generic family 'sans-serif' not found because none of the following families were found: Arial\n",
      "findfont: Generic family 'sans-serif' not found because none of the following families were found: Arial\n",
      "findfont: Generic family 'sans-serif' not found because none of the following families were found: Arial\n",
      "findfont: Generic family 'sans-serif' not found because none of the following families were found: Arial\n",
      "findfont: Generic family 'sans-serif' not found because none of the following families were found: Arial\n",
      "findfont: Generic family 'sans-serif' not found because none of the following families were found: Arial\n",
      "findfont: Generic family 'sans-serif' not found because none of the following families were found: Arial\n",
      "findfont: Generic family 'sans-serif' not found because none of the following families were found: Arial\n",
      "findfont: Generic family 'sans-serif' not found because none of the following families were found: Arial\n",
      "findfont: Generic family 'sans-serif' not found because none of the following families were found: Arial\n",
      "findfont: Generic family 'sans-serif' not found because none of the following families were found: Arial\n",
      "findfont: Generic family 'sans-serif' not found because none of the following families were found: Arial\n",
      "findfont: Generic family 'sans-serif' not found because none of the following families were found: Arial\n",
      "findfont: Generic family 'sans-serif' not found because none of the following families were found: Arial\n",
      "findfont: Generic family 'sans-serif' not found because none of the following families were found: Arial\n",
      "findfont: Generic family 'sans-serif' not found because none of the following families were found: Arial\n",
      "findfont: Generic family 'sans-serif' not found because none of the following families were found: Arial\n",
      "findfont: Generic family 'sans-serif' not found because none of the following families were found: Arial\n",
      "findfont: Generic family 'sans-serif' not found because none of the following families were found: Arial\n",
      "findfont: Generic family 'sans-serif' not found because none of the following families were found: Arial\n",
      "findfont: Generic family 'sans-serif' not found because none of the following families were found: Arial\n",
      "findfont: Generic family 'sans-serif' not found because none of the following families were found: Arial\n",
      "findfont: Generic family 'sans-serif' not found because none of the following families were found: Arial\n",
      "findfont: Generic family 'sans-serif' not found because none of the following families were found: Arial\n",
      "findfont: Generic family 'sans-serif' not found because none of the following families were found: Arial\n",
      "findfont: Generic family 'sans-serif' not found because none of the following families were found: Arial\n",
      "findfont: Generic family 'sans-serif' not found because none of the following families were found: Arial\n",
      "findfont: Generic family 'sans-serif' not found because none of the following families were found: Arial\n",
      "findfont: Generic family 'sans-serif' not found because none of the following families were found: Arial\n",
      "findfont: Generic family 'sans-serif' not found because none of the following families were found: Arial\n",
      "findfont: Generic family 'sans-serif' not found because none of the following families were found: Arial\n",
      "findfont: Generic family 'sans-serif' not found because none of the following families were found: Arial\n",
      "findfont: Generic family 'sans-serif' not found because none of the following families were found: Arial\n",
      "findfont: Generic family 'sans-serif' not found because none of the following families were found: Arial\n",
      "findfont: Generic family 'sans-serif' not found because none of the following families were found: Arial\n",
      "findfont: Generic family 'sans-serif' not found because none of the following families were found: Arial\n",
      "findfont: Generic family 'sans-serif' not found because none of the following families were found: Arial\n",
      "findfont: Generic family 'sans-serif' not found because none of the following families were found: Arial\n"
     ]
    },
    {
     "data": {
      "image/png": "[encoded data removed]",
      "text/plain": [
       "<Figure size 1152x576 with 1 Axes>"
      ]
     },
     "metadata": {},
     "output_type": "display_data"
    }
   ],
   "source": [
    "_ = plot_predicted_data(act_df, pred_1, \"day\", \"act_stand\", title = \"Простая модель (линейный тренд)\")"
   ]
  },
  {
   "cell_type": "code",
   "execution_count": 28,
   "id": "439b2b5f-e521-451e-b551-677f7172a472",
   "metadata": {},
   "outputs": [
    {
     "name": "stderr",
     "output_type": "stream",
     "text": [
      "findfont: Generic family 'sans-serif' not found because none of the following families were found: Arial\n",
      "findfont: Generic family 'sans-serif' not found because none of the following families were found: Arial\n",
      "findfont: Generic family 'sans-serif' not found because none of the following families were found: Arial\n",
      "findfont: Generic family 'sans-serif' not found because none of the following families were found: Arial\n",
      "findfont: Generic family 'sans-serif' not found because none of the following families were found: Arial\n",
      "findfont: Generic family 'sans-serif' not found because none of the following families were found: Arial\n",
      "findfont: Generic family 'sans-serif' not found because none of the following families were found: Arial\n",
      "findfont: Generic family 'sans-serif' not found because none of the following families were found: Arial\n",
      "findfont: Generic family 'sans-serif' not found because none of the following families were found: Arial\n",
      "findfont: Generic family 'sans-serif' not found because none of the following families were found: Arial\n",
      "findfont: Generic family 'sans-serif' not found because none of the following families were found: Arial\n",
      "findfont: Generic family 'sans-serif' not found because none of the following families were found: Arial\n",
      "findfont: Generic family 'sans-serif' not found because none of the following families were found: Arial\n",
      "findfont: Generic family 'sans-serif' not found because none of the following families were found: Arial\n",
      "findfont: Generic family 'sans-serif' not found because none of the following families were found: Arial\n",
      "findfont: Generic family 'sans-serif' not found because none of the following families were found: Arial\n",
      "findfont: Generic family 'sans-serif' not found because none of the following families were found: Arial\n",
      "findfont: Generic family 'sans-serif' not found because none of the following families were found: Arial\n",
      "findfont: Generic family 'sans-serif' not found because none of the following families were found: Arial\n",
      "findfont: Generic family 'sans-serif' not found because none of the following families were found: Arial\n",
      "findfont: Generic family 'sans-serif' not found because none of the following families were found: Arial\n",
      "findfont: Generic family 'sans-serif' not found because none of the following families were found: Arial\n",
      "findfont: Generic family 'sans-serif' not found because none of the following families were found: Arial\n",
      "findfont: Generic family 'sans-serif' not found because none of the following families were found: Arial\n",
      "findfont: Generic family 'sans-serif' not found because none of the following families were found: Arial\n",
      "findfont: Generic family 'sans-serif' not found because none of the following families were found: Arial\n",
      "findfont: Generic family 'sans-serif' not found because none of the following families were found: Arial\n",
      "findfont: Generic family 'sans-serif' not found because none of the following families were found: Arial\n",
      "findfont: Generic family 'sans-serif' not found because none of the following families were found: Arial\n",
      "findfont: Generic family 'sans-serif' not found because none of the following families were found: Arial\n",
      "findfont: Generic family 'sans-serif' not found because none of the following families were found: Arial\n",
      "findfont: Generic family 'sans-serif' not found because none of the following families were found: Arial\n",
      "findfont: Generic family 'sans-serif' not found because none of the following families were found: Arial\n",
      "findfont: Generic family 'sans-serif' not found because none of the following families were found: Arial\n",
      "findfont: Generic family 'sans-serif' not found because none of the following families were found: Arial\n",
      "findfont: Generic family 'sans-serif' not found because none of the following families were found: Arial\n",
      "findfont: Generic family 'sans-serif' not found because none of the following families were found: Arial\n",
      "findfont: Generic family 'sans-serif' not found because none of the following families were found: Arial\n",
      "findfont: Generic family 'sans-serif' not found because none of the following families were found: Arial\n",
      "findfont: Generic family 'sans-serif' not found because none of the following families were found: Arial\n",
      "findfont: Generic family 'sans-serif' not found because none of the following families were found: Arial\n",
      "findfont: Generic family 'sans-serif' not found because none of the following families were found: Arial\n",
      "findfont: Generic family 'sans-serif' not found because none of the following families were found: Arial\n",
      "findfont: Generic family 'sans-serif' not found because none of the following families were found: Arial\n",
      "findfont: Generic family 'sans-serif' not found because none of the following families were found: Arial\n",
      "findfont: Generic family 'sans-serif' not found because none of the following families were found: Arial\n",
      "findfont: Generic family 'sans-serif' not found because none of the following families were found: Arial\n",
      "findfont: Generic family 'sans-serif' not found because none of the following families were found: Arial\n",
      "findfont: Generic family 'sans-serif' not found because none of the following families were found: Arial\n",
      "findfont: Generic family 'sans-serif' not found because none of the following families were found: Arial\n",
      "findfont: Generic family 'sans-serif' not found because none of the following families were found: Arial\n",
      "findfont: Generic family 'sans-serif' not found because none of the following families were found: Arial\n",
      "findfont: Generic family 'sans-serif' not found because none of the following families were found: Arial\n",
      "findfont: Generic family 'sans-serif' not found because none of the following families were found: Arial\n",
      "findfont: Generic family 'sans-serif' not found because none of the following families were found: Arial\n",
      "findfont: Generic family 'sans-serif' not found because none of the following families were found: Arial\n",
      "findfont: Generic family 'sans-serif' not found because none of the following families were found: Arial\n",
      "findfont: Generic family 'sans-serif' not found because none of the following families were found: Arial\n",
      "findfont: Generic family 'sans-serif' not found because none of the following families were found: Arial\n",
      "findfont: Generic family 'sans-serif' not found because none of the following families were found: Arial\n",
      "findfont: Generic family 'sans-serif' not found because none of the following families were found: Arial\n",
      "findfont: Generic family 'sans-serif' not found because none of the following families were found: Arial\n",
      "findfont: Generic family 'sans-serif' not found because none of the following families were found: Arial\n",
      "findfont: Generic family 'sans-serif' not found because none of the following families were found: Arial\n",
      "findfont: Generic family 'sans-serif' not found because none of the following families were found: Arial\n",
      "findfont: Generic family 'sans-serif' not found because none of the following families were found: Arial\n",
      "findfont: Generic family 'sans-serif' not found because none of the following families were found: Arial\n",
      "findfont: Generic family 'sans-serif' not found because none of the following families were found: Arial\n",
      "findfont: Generic family 'sans-serif' not found because none of the following families were found: Arial\n",
      "findfont: Generic family 'sans-serif' not found because none of the following families were found: Arial\n",
      "findfont: Generic family 'sans-serif' not found because none of the following families were found: Arial\n",
      "findfont: Generic family 'sans-serif' not found because none of the following families were found: Arial\n",
      "findfont: Generic family 'sans-serif' not found because none of the following families were found: Arial\n",
      "findfont: Generic family 'sans-serif' not found because none of the following families were found: Arial\n",
      "findfont: Generic family 'sans-serif' not found because none of the following families were found: Arial\n",
      "findfont: Generic family 'sans-serif' not found because none of the following families were found: Arial\n",
      "findfont: Generic family 'sans-serif' not found because none of the following families were found: Arial\n",
      "findfont: Generic family 'sans-serif' not found because none of the following families were found: Arial\n",
      "findfont: Generic family 'sans-serif' not found because none of the following families were found: Arial\n",
      "findfont: Generic family 'sans-serif' not found because none of the following families were found: Arial\n",
      "findfont: Generic family 'sans-serif' not found because none of the following families were found: Arial\n",
      "findfont: Generic family 'sans-serif' not found because none of the following families were found: Arial\n",
      "findfont: Generic family 'sans-serif' not found because none of the following families were found: Arial\n"
     ]
    },
    {
     "data": {
      "image/png": "[encoded data removed]",
      "text/plain": [
       "<Figure size 1600x800 with 1 Axes>"
      ]
     },
     "metadata": {},
     "output_type": "display_data"
    }
   ],
   "source": [
    "_ = plot_predicted_data(act_df, pred_2, \"day\", \"act_stand\", title = \"Простая модель (логлинейный тренд)\")"
   ]
  },
  {
   "cell_type": "markdown",
   "id": "499f7758-e0d7-4aeb-87f2-d4f226ebdd07",
   "metadata": {},
   "source": [
    "Для полагающихся на DAU моделей нам нужно дополнить наш df предсказаниями будущего DAU:"
   ]
  },
  {
   "cell_type": "code",
   "execution_count": 30,
   "id": "1cac5e2a-f478-45a8-8455-c82c69506eb1",
   "metadata": {},
   "outputs": [
    {
     "name": "stderr",
     "output_type": "stream",
     "text": [
      "2023-11-10 12:57:56 - orbit - INFO - Sampling (PyStan) with chains: 4, cores: 8, temperature: 1.000, warmups (per chain): 2500 and samples(per chain): 2500.\n"
     ]
    },
    {
     "data": {
      "application/json": {
       "ascii": false,
       "bar_format": "{desc} |{bar}| {elapsed} {postfix[0][value]}",
       "colour": null,
       "elapsed": 0.03861093521118164,
       "initial": 0,
       "n": 0,
       "ncols": null,
       "nrows": null,
       "postfix": [
        {
         "value": "Status"
        }
       ],
       "prefix": "chain 1",
       "rate": null,
       "total": 52,
       "unit": "it",
       "unit_divisor": 1000,
       "unit_scale": false
      },
      "application/vnd.jupyter.widget-view+json": {
       "model_id": "6add048a2dad44d9801aa104fc1a3ba1",
       "version_major": 2,
       "version_minor": 0
      },
      "text/plain": [
       "chain 1 |          | 00:00 Status"
      ]
     },
     "metadata": {},
     "output_type": "display_data"
    },
    {
     "data": {
      "application/json": {
       "ascii": false,
       "bar_format": "{desc} |{bar}| {elapsed} {postfix[0][value]}",
       "colour": null,
       "elapsed": 0.0426788330078125,
       "initial": 0,
       "n": 0,
       "ncols": null,
       "nrows": null,
       "postfix": [
        {
         "value": "Status"
        }
       ],
       "prefix": "chain 2",
       "rate": null,
       "total": 52,
       "unit": "it",
       "unit_divisor": 1000,
       "unit_scale": false
      },
      "application/vnd.jupyter.widget-view+json": {
       "model_id": "680324426b0f43dfbcc432ff01ac2adf",
       "version_major": 2,
       "version_minor": 0
      },
      "text/plain": [
       "chain 2 |          | 00:00 Status"
      ]
     },
     "metadata": {},
     "output_type": "display_data"
    },
    {
     "data": {
      "application/json": {
       "ascii": false,
       "bar_format": "{desc} |{bar}| {elapsed} {postfix[0][value]}",
       "colour": null,
       "elapsed": 0.03506278991699219,
       "initial": 0,
       "n": 0,
       "ncols": null,
       "nrows": null,
       "postfix": [
        {
         "value": "Status"
        }
       ],
       "prefix": "chain 3",
       "rate": null,
       "total": 52,
       "unit": "it",
       "unit_divisor": 1000,
       "unit_scale": false
      },
      "application/vnd.jupyter.widget-view+json": {
       "model_id": "c0d95d840de6440e8c4b2ac60853d46f",
       "version_major": 2,
       "version_minor": 0
      },
      "text/plain": [
       "chain 3 |          | 00:00 Status"
      ]
     },
     "metadata": {},
     "output_type": "display_data"
    },
    {
     "data": {
      "application/json": {
       "ascii": false,
       "bar_format": "{desc} |{bar}| {elapsed} {postfix[0][value]}",
       "colour": null,
       "elapsed": 0.0325922966003418,
       "initial": 0,
       "n": 0,
       "ncols": null,
       "nrows": null,
       "postfix": [
        {
         "value": "Status"
        }
       ],
       "prefix": "chain 4",
       "rate": null,
       "total": 52,
       "unit": "it",
       "unit_divisor": 1000,
       "unit_scale": false
      },
      "application/vnd.jupyter.widget-view+json": {
       "model_id": "bee0ea39f8c84288b4c98b5092f0f4d1",
       "version_major": 2,
       "version_minor": 0
      },
      "text/plain": [
       "chain 4 |          | 00:00 Status"
      ]
     },
     "metadata": {},
     "output_type": "display_data"
    },
    {
     "name": "stdout",
     "output_type": "stream",
     "text": [
      "                                                                                                                                                                                                                                                                                                                                \n"
     ]
    }
   ],
   "source": [
    "dau_model = DLT(response_col=\"DAU_stand\", \n",
    "               date_col = \"day\", \n",
    "               estimator='stan-mcmc',\n",
    "               global_trend_option = 'linear',\n",
    "               num_warmup=10000, \n",
    "               num_sample=10000) \n",
    "\n",
    "dau_model.fit(act_df)\n",
    "dau_pred = dau_model.predict(future)"
   ]
  },
  {
   "cell_type": "code",
   "execution_count": 31,
   "id": "bbf3acc1-e1cf-4a07-bb9e-65ab9b290190",
   "metadata": {},
   "outputs": [
    {
     "name": "stderr",
     "output_type": "stream",
     "text": [
      "findfont: Generic family 'sans-serif' not found because none of the following families were found: Arial\n",
      "findfont: Generic family 'sans-serif' not found because none of the following families were found: Arial\n",
      "findfont: Generic family 'sans-serif' not found because none of the following families were found: Arial\n",
      "findfont: Generic family 'sans-serif' not found because none of the following families were found: Arial\n",
      "findfont: Generic family 'sans-serif' not found because none of the following families were found: Arial\n",
      "findfont: Generic family 'sans-serif' not found because none of the following families were found: Arial\n",
      "findfont: Generic family 'sans-serif' not found because none of the following families were found: Arial\n",
      "findfont: Generic family 'sans-serif' not found because none of the following families were found: Arial\n",
      "findfont: Generic family 'sans-serif' not found because none of the following families were found: Arial\n",
      "findfont: Generic family 'sans-serif' not found because none of the following families were found: Arial\n",
      "findfont: Generic family 'sans-serif' not found because none of the following families were found: Arial\n",
      "findfont: Generic family 'sans-serif' not found because none of the following families were found: Arial\n",
      "findfont: Generic family 'sans-serif' not found because none of the following families were found: Arial\n",
      "findfont: Generic family 'sans-serif' not found because none of the following families were found: Arial\n",
      "findfont: Generic family 'sans-serif' not found because none of the following families were found: Arial\n",
      "findfont: Generic family 'sans-serif' not found because none of the following families were found: Arial\n",
      "findfont: Generic family 'sans-serif' not found because none of the following families were found: Arial\n",
      "findfont: Generic family 'sans-serif' not found because none of the following families were found: Arial\n",
      "findfont: Generic family 'sans-serif' not found because none of the following families were found: Arial\n",
      "findfont: Generic family 'sans-serif' not found because none of the following families were found: Arial\n",
      "findfont: Generic family 'sans-serif' not found because none of the following families were found: Arial\n",
      "findfont: Generic family 'sans-serif' not found because none of the following families were found: Arial\n",
      "findfont: Generic family 'sans-serif' not found because none of the following families were found: Arial\n",
      "findfont: Generic family 'sans-serif' not found because none of the following families were found: Arial\n",
      "findfont: Generic family 'sans-serif' not found because none of the following families were found: Arial\n",
      "findfont: Generic family 'sans-serif' not found because none of the following families were found: Arial\n",
      "findfont: Generic family 'sans-serif' not found because none of the following families were found: Arial\n",
      "findfont: Generic family 'sans-serif' not found because none of the following families were found: Arial\n",
      "findfont: Generic family 'sans-serif' not found because none of the following families were found: Arial\n",
      "findfont: Generic family 'sans-serif' not found because none of the following families were found: Arial\n",
      "findfont: Generic family 'sans-serif' not found because none of the following families were found: Arial\n",
      "findfont: Generic family 'sans-serif' not found because none of the following families were found: Arial\n",
      "findfont: Generic family 'sans-serif' not found because none of the following families were found: Arial\n",
      "findfont: Generic family 'sans-serif' not found because none of the following families were found: Arial\n",
      "findfont: Generic family 'sans-serif' not found because none of the following families were found: Arial\n",
      "findfont: Generic family 'sans-serif' not found because none of the following families were found: Arial\n",
      "findfont: Generic family 'sans-serif' not found because none of the following families were found: Arial\n",
      "findfont: Generic family 'sans-serif' not found because none of the following families were found: Arial\n",
      "findfont: Generic family 'sans-serif' not found because none of the following families were found: Arial\n",
      "findfont: Generic family 'sans-serif' not found because none of the following families were found: Arial\n",
      "findfont: Generic family 'sans-serif' not found because none of the following families were found: Arial\n",
      "findfont: Generic family 'sans-serif' not found because none of the following families were found: Arial\n",
      "findfont: Generic family 'sans-serif' not found because none of the following families were found: Arial\n",
      "findfont: Generic family 'sans-serif' not found because none of the following families were found: Arial\n",
      "findfont: Generic family 'sans-serif' not found because none of the following families were found: Arial\n",
      "findfont: Generic family 'sans-serif' not found because none of the following families were found: Arial\n",
      "findfont: Generic family 'sans-serif' not found because none of the following families were found: Arial\n",
      "findfont: Generic family 'sans-serif' not found because none of the following families were found: Arial\n",
      "findfont: Generic family 'sans-serif' not found because none of the following families were found: Arial\n",
      "findfont: Generic family 'sans-serif' not found because none of the following families were found: Arial\n",
      "findfont: Generic family 'sans-serif' not found because none of the following families were found: Arial\n",
      "findfont: Generic family 'sans-serif' not found because none of the following families were found: Arial\n",
      "findfont: Generic family 'sans-serif' not found because none of the following families were found: Arial\n",
      "findfont: Generic family 'sans-serif' not found because none of the following families were found: Arial\n",
      "findfont: Generic family 'sans-serif' not found because none of the following families were found: Arial\n",
      "findfont: Generic family 'sans-serif' not found because none of the following families were found: Arial\n",
      "findfont: Generic family 'sans-serif' not found because none of the following families were found: Arial\n",
      "findfont: Generic family 'sans-serif' not found because none of the following families were found: Arial\n",
      "findfont: Generic family 'sans-serif' not found because none of the following families were found: Arial\n",
      "findfont: Generic family 'sans-serif' not found because none of the following families were found: Arial\n",
      "findfont: Generic family 'sans-serif' not found because none of the following families were found: Arial\n",
      "findfont: Generic family 'sans-serif' not found because none of the following families were found: Arial\n",
      "findfont: Generic family 'sans-serif' not found because none of the following families were found: Arial\n",
      "findfont: Generic family 'sans-serif' not found because none of the following families were found: Arial\n",
      "findfont: Generic family 'sans-serif' not found because none of the following families were found: Arial\n",
      "findfont: Generic family 'sans-serif' not found because none of the following families were found: Arial\n",
      "findfont: Generic family 'sans-serif' not found because none of the following families were found: Arial\n",
      "findfont: Generic family 'sans-serif' not found because none of the following families were found: Arial\n",
      "findfont: Generic family 'sans-serif' not found because none of the following families were found: Arial\n",
      "findfont: Generic family 'sans-serif' not found because none of the following families were found: Arial\n",
      "findfont: Generic family 'sans-serif' not found because none of the following families were found: Arial\n",
      "findfont: Generic family 'sans-serif' not found because none of the following families were found: Arial\n",
      "findfont: Generic family 'sans-serif' not found because none of the following families were found: Arial\n",
      "findfont: Generic family 'sans-serif' not found because none of the following families were found: Arial\n",
      "findfont: Generic family 'sans-serif' not found because none of the following families were found: Arial\n",
      "findfont: Generic family 'sans-serif' not found because none of the following families were found: Arial\n",
      "findfont: Generic family 'sans-serif' not found because none of the following families were found: Arial\n",
      "findfont: Generic family 'sans-serif' not found because none of the following families were found: Arial\n",
      "findfont: Generic family 'sans-serif' not found because none of the following families were found: Arial\n",
      "findfont: Generic family 'sans-serif' not found because none of the following families were found: Arial\n",
      "findfont: Generic family 'sans-serif' not found because none of the following families were found: Arial\n",
      "findfont: Generic family 'sans-serif' not found because none of the following families were found: Arial\n",
      "findfont: Generic family 'sans-serif' not found because none of the following families were found: Arial\n",
      "findfont: Generic family 'sans-serif' not found because none of the following families were found: Arial\n",
      "findfont: Generic family 'sans-serif' not found because none of the following families were found: Arial\n",
      "findfont: Generic family 'sans-serif' not found because none of the following families were found: Arial\n"
     ]
    },
    {
     "data": {
      "image/png": "[encoded data removed]",
      "text/plain": [
       "<Figure size 1600x800 with 1 Axes>"
      ]
     },
     "metadata": {},
     "output_type": "display_data"
    }
   ],
   "source": [
    "_ = plot_predicted_data(act_df, dau_pred, \"day\", \"DAU_stand\", title = \"Прогноз DAU\")"
   ]
  },
  {
   "cell_type": "markdown",
   "id": "44a454e0-3e90-439d-b714-01786ebc3f60",
   "metadata": {},
   "source": [
    "Добавим линейный прогноз в наш будущий df:"
   ]
  },
  {
   "cell_type": "code",
   "execution_count": 32,
   "id": "5dc57180-e916-42dc-b661-8e6861c21c69",
   "metadata": {},
   "outputs": [
    {
     "data": {
      "text/html": [
       "<div>\n",
       "<style scoped>\n",
       "    .dataframe tbody tr th:only-of-type {\n",
       "        vertical-align: middle;\n",
       "    }\n",
       "\n",
       "    .dataframe tbody tr th {\n",
       "        vertical-align: top;\n",
       "    }\n",
       "\n",
       "    .dataframe thead th {\n",
       "        text-align: right;\n",
       "    }\n",
       "</style>\n",
       "<table border=\"1\" class=\"dataframe\">\n",
       "  <thead>\n",
       "    <tr style=\"text-align: right;\">\n",
       "      <th></th>\n",
       "      <th>day</th>\n",
       "      <th>DAU_stand</th>\n",
       "    </tr>\n",
       "  </thead>\n",
       "  <tbody>\n",
       "    <tr>\n",
       "      <th>0</th>\n",
       "      <td>2023-11-03</td>\n",
       "      <td>1.516694</td>\n",
       "    </tr>\n",
       "    <tr>\n",
       "      <th>1</th>\n",
       "      <td>2023-11-04</td>\n",
       "      <td>1.576150</td>\n",
       "    </tr>\n",
       "    <tr>\n",
       "      <th>2</th>\n",
       "      <td>2023-11-05</td>\n",
       "      <td>1.634816</td>\n",
       "    </tr>\n",
       "    <tr>\n",
       "      <th>3</th>\n",
       "      <td>2023-11-06</td>\n",
       "      <td>1.692873</td>\n",
       "    </tr>\n",
       "    <tr>\n",
       "      <th>4</th>\n",
       "      <td>2023-11-07</td>\n",
       "      <td>1.756842</td>\n",
       "    </tr>\n",
       "  </tbody>\n",
       "</table>\n",
       "</div>"
      ],
      "text/plain": [
       "         day  DAU_stand\n",
       "0 2023-11-03   1.516694\n",
       "1 2023-11-04   1.576150\n",
       "2 2023-11-05   1.634816\n",
       "3 2023-11-06   1.692873\n",
       "4 2023-11-07   1.756842"
      ]
     },
     "execution_count": 32,
     "metadata": {},
     "output_type": "execute_result"
    }
   ],
   "source": [
    "future[\"DAU_stand\"] = dau_pred.prediction\n",
    "future.head()"
   ]
  },
  {
   "cell_type": "code",
   "execution_count": 33,
   "id": "45cecbc8-6ed7-4d65-8853-a1e9ff1ab273",
   "metadata": {},
   "outputs": [
    {
     "data": {
      "text/html": [
       "<div>\n",
       "<style scoped>\n",
       "    .dataframe tbody tr th:only-of-type {\n",
       "        vertical-align: middle;\n",
       "    }\n",
       "\n",
       "    .dataframe tbody tr th {\n",
       "        vertical-align: top;\n",
       "    }\n",
       "\n",
       "    .dataframe thead th {\n",
       "        text-align: right;\n",
       "    }\n",
       "</style>\n",
       "<table border=\"1\" class=\"dataframe\">\n",
       "  <thead>\n",
       "    <tr style=\"text-align: right;\">\n",
       "      <th></th>\n",
       "      <th>regressor</th>\n",
       "      <th>regressor_sign</th>\n",
       "      <th>coefficient</th>\n",
       "      <th>coefficient_lower</th>\n",
       "      <th>coefficient_upper</th>\n",
       "      <th>Pr(coef &gt;= 0)</th>\n",
       "      <th>Pr(coef &lt; 0)</th>\n",
       "    </tr>\n",
       "  </thead>\n",
       "  <tbody>\n",
       "    <tr>\n",
       "      <th>0</th>\n",
       "      <td>DAU_stand</td>\n",
       "      <td>Positive</td>\n",
       "      <td>0.779232</td>\n",
       "      <td>0.291357</td>\n",
       "      <td>1.264903</td>\n",
       "      <td>1.0</td>\n",
       "      <td>0.0</td>\n",
       "    </tr>\n",
       "  </tbody>\n",
       "</table>\n",
       "</div>"
      ],
      "text/plain": [
       "   regressor regressor_sign  coefficient  coefficient_lower  \\\n",
       "0  DAU_stand       Positive     0.779232           0.291357   \n",
       "\n",
       "   coefficient_upper  Pr(coef >= 0)  Pr(coef < 0)  \n",
       "0           1.264903            1.0           0.0  "
      ]
     },
     "execution_count": 33,
     "metadata": {},
     "output_type": "execute_result"
    }
   ],
   "source": [
    "model_list[2].get_regression_coefs()"
   ]
  },
  {
   "cell_type": "code",
   "execution_count": 34,
   "id": "52108c48-bed7-498d-8083-b46953229c21",
   "metadata": {},
   "outputs": [],
   "source": [
    "pred_3 = model_list[2].predict(future)\n",
    "pred_4 = model_list[3].predict(future)"
   ]
  },
  {
   "cell_type": "code",
   "execution_count": 36,
   "id": "328c9541-6246-47ea-9633-93d2dfa21c07",
   "metadata": {},
   "outputs": [
    {
     "name": "stderr",
     "output_type": "stream",
     "text": [
      "findfont: Generic family 'sans-serif' not found because none of the following families were found: Arial\n",
      "findfont: Generic family 'sans-serif' not found because none of the following families were found: Arial\n",
      "findfont: Generic family 'sans-serif' not found because none of the following families were found: Arial\n",
      "findfont: Generic family 'sans-serif' not found because none of the following families were found: Arial\n",
      "findfont: Generic family 'sans-serif' not found because none of the following families were found: Arial\n",
      "findfont: Generic family 'sans-serif' not found because none of the following families were found: Arial\n",
      "findfont: Generic family 'sans-serif' not found because none of the following families were found: Arial\n",
      "findfont: Generic family 'sans-serif' not found because none of the following families were found: Arial\n",
      "findfont: Generic family 'sans-serif' not found because none of the following families were found: Arial\n",
      "findfont: Generic family 'sans-serif' not found because none of the following families were found: Arial\n",
      "findfont: Generic family 'sans-serif' not found because none of the following families were found: Arial\n",
      "findfont: Generic family 'sans-serif' not found because none of the following families were found: Arial\n",
      "findfont: Generic family 'sans-serif' not found because none of the following families were found: Arial\n",
      "findfont: Generic family 'sans-serif' not found because none of the following families were found: Arial\n",
      "findfont: Generic family 'sans-serif' not found because none of the following families were found: Arial\n",
      "findfont: Generic family 'sans-serif' not found because none of the following families were found: Arial\n",
      "findfont: Generic family 'sans-serif' not found because none of the following families were found: Arial\n",
      "findfont: Generic family 'sans-serif' not found because none of the following families were found: Arial\n",
      "findfont: Generic family 'sans-serif' not found because none of the following families were found: Arial\n",
      "findfont: Generic family 'sans-serif' not found because none of the following families were found: Arial\n",
      "findfont: Generic family 'sans-serif' not found because none of the following families were found: Arial\n",
      "findfont: Generic family 'sans-serif' not found because none of the following families were found: Arial\n",
      "findfont: Generic family 'sans-serif' not found because none of the following families were found: Arial\n",
      "findfont: Generic family 'sans-serif' not found because none of the following families were found: Arial\n",
      "findfont: Generic family 'sans-serif' not found because none of the following families were found: Arial\n",
      "findfont: Generic family 'sans-serif' not found because none of the following families were found: Arial\n",
      "findfont: Generic family 'sans-serif' not found because none of the following families were found: Arial\n",
      "findfont: Generic family 'sans-serif' not found because none of the following families were found: Arial\n",
      "findfont: Generic family 'sans-serif' not found because none of the following families were found: Arial\n",
      "findfont: Generic family 'sans-serif' not found because none of the following families were found: Arial\n",
      "findfont: Generic family 'sans-serif' not found because none of the following families were found: Arial\n",
      "findfont: Generic family 'sans-serif' not found because none of the following families were found: Arial\n",
      "findfont: Generic family 'sans-serif' not found because none of the following families were found: Arial\n",
      "findfont: Generic family 'sans-serif' not found because none of the following families were found: Arial\n",
      "findfont: Generic family 'sans-serif' not found because none of the following families were found: Arial\n",
      "findfont: Generic family 'sans-serif' not found because none of the following families were found: Arial\n",
      "findfont: Generic family 'sans-serif' not found because none of the following families were found: Arial\n",
      "findfont: Generic family 'sans-serif' not found because none of the following families were found: Arial\n",
      "findfont: Generic family 'sans-serif' not found because none of the following families were found: Arial\n",
      "findfont: Generic family 'sans-serif' not found because none of the following families were found: Arial\n",
      "findfont: Generic family 'sans-serif' not found because none of the following families were found: Arial\n",
      "findfont: Generic family 'sans-serif' not found because none of the following families were found: Arial\n",
      "findfont: Generic family 'sans-serif' not found because none of the following families were found: Arial\n",
      "findfont: Generic family 'sans-serif' not found because none of the following families were found: Arial\n",
      "findfont: Generic family 'sans-serif' not found because none of the following families were found: Arial\n",
      "findfont: Generic family 'sans-serif' not found because none of the following families were found: Arial\n",
      "findfont: Generic family 'sans-serif' not found because none of the following families were found: Arial\n",
      "findfont: Generic family 'sans-serif' not found because none of the following families were found: Arial\n",
      "findfont: Generic family 'sans-serif' not found because none of the following families were found: Arial\n",
      "findfont: Generic family 'sans-serif' not found because none of the following families were found: Arial\n",
      "findfont: Generic family 'sans-serif' not found because none of the following families were found: Arial\n",
      "findfont: Generic family 'sans-serif' not found because none of the following families were found: Arial\n",
      "findfont: Generic family 'sans-serif' not found because none of the following families were found: Arial\n",
      "findfont: Generic family 'sans-serif' not found because none of the following families were found: Arial\n",
      "findfont: Generic family 'sans-serif' not found because none of the following families were found: Arial\n",
      "findfont: Generic family 'sans-serif' not found because none of the following families were found: Arial\n",
      "findfont: Generic family 'sans-serif' not found because none of the following families were found: Arial\n",
      "findfont: Generic family 'sans-serif' not found because none of the following families were found: Arial\n",
      "findfont: Generic family 'sans-serif' not found because none of the following families were found: Arial\n",
      "findfont: Generic family 'sans-serif' not found because none of the following families were found: Arial\n",
      "findfont: Generic family 'sans-serif' not found because none of the following families were found: Arial\n",
      "findfont: Generic family 'sans-serif' not found because none of the following families were found: Arial\n",
      "findfont: Generic family 'sans-serif' not found because none of the following families were found: Arial\n",
      "findfont: Generic family 'sans-serif' not found because none of the following families were found: Arial\n",
      "findfont: Generic family 'sans-serif' not found because none of the following families were found: Arial\n",
      "findfont: Generic family 'sans-serif' not found because none of the following families were found: Arial\n",
      "findfont: Generic family 'sans-serif' not found because none of the following families were found: Arial\n",
      "findfont: Generic family 'sans-serif' not found because none of the following families were found: Arial\n",
      "findfont: Generic family 'sans-serif' not found because none of the following families were found: Arial\n",
      "findfont: Generic family 'sans-serif' not found because none of the following families were found: Arial\n",
      "findfont: Generic family 'sans-serif' not found because none of the following families were found: Arial\n",
      "findfont: Generic family 'sans-serif' not found because none of the following families were found: Arial\n",
      "findfont: Generic family 'sans-serif' not found because none of the following families were found: Arial\n",
      "findfont: Generic family 'sans-serif' not found because none of the following families were found: Arial\n",
      "findfont: Generic family 'sans-serif' not found because none of the following families were found: Arial\n",
      "findfont: Generic family 'sans-serif' not found because none of the following families were found: Arial\n",
      "findfont: Generic family 'sans-serif' not found because none of the following families were found: Arial\n",
      "findfont: Generic family 'sans-serif' not found because none of the following families were found: Arial\n",
      "findfont: Generic family 'sans-serif' not found because none of the following families were found: Arial\n",
      "findfont: Generic family 'sans-serif' not found because none of the following families were found: Arial\n"
     ]
    },
    {
     "data": {
      "image/png": "[encoded data removed]",
      "text/plain": [
       "<Figure size 1600x800 with 1 Axes>"
      ]
     },
     "metadata": {},
     "output_type": "display_data"
    }
   ],
   "source": [
    "_ = plot_predicted_data(act_df, pred_3, \"day\", \"act_stand\", title = \"Модель + DAU (линейный тренд)\")"
   ]
  },
  {
   "cell_type": "markdown",
   "id": "29eb8605-92b7-4947-9c6c-2d6218486fff",
   "metadata": {},
   "source": [
    "Попробуем добавить бинарную переменную:"
   ]
  },
  {
   "cell_type": "code",
   "execution_count": 37,
   "id": "65e22866-a936-4eb0-97fd-ae95975162c7",
   "metadata": {},
   "outputs": [
    {
     "data": {
      "text/html": [
       "<div>\n",
       "<style scoped>\n",
       "    .dataframe tbody tr th:only-of-type {\n",
       "        vertical-align: middle;\n",
       "    }\n",
       "\n",
       "    .dataframe tbody tr th {\n",
       "        vertical-align: top;\n",
       "    }\n",
       "\n",
       "    .dataframe thead th {\n",
       "        text-align: right;\n",
       "    }\n",
       "</style>\n",
       "<table border=\"1\" class=\"dataframe\">\n",
       "  <thead>\n",
       "    <tr style=\"text-align: right;\">\n",
       "      <th></th>\n",
       "      <th>day</th>\n",
       "      <th>DAU_stand</th>\n",
       "      <th>anomaly</th>\n",
       "    </tr>\n",
       "  </thead>\n",
       "  <tbody>\n",
       "    <tr>\n",
       "      <th>0</th>\n",
       "      <td>2023-11-03</td>\n",
       "      <td>1.516694</td>\n",
       "      <td>0</td>\n",
       "    </tr>\n",
       "    <tr>\n",
       "      <th>1</th>\n",
       "      <td>2023-11-04</td>\n",
       "      <td>1.576150</td>\n",
       "      <td>0</td>\n",
       "    </tr>\n",
       "    <tr>\n",
       "      <th>2</th>\n",
       "      <td>2023-11-05</td>\n",
       "      <td>1.634816</td>\n",
       "      <td>0</td>\n",
       "    </tr>\n",
       "    <tr>\n",
       "      <th>3</th>\n",
       "      <td>2023-11-06</td>\n",
       "      <td>1.692873</td>\n",
       "      <td>0</td>\n",
       "    </tr>\n",
       "    <tr>\n",
       "      <th>4</th>\n",
       "      <td>2023-11-07</td>\n",
       "      <td>1.756842</td>\n",
       "      <td>0</td>\n",
       "    </tr>\n",
       "  </tbody>\n",
       "</table>\n",
       "</div>"
      ],
      "text/plain": [
       "         day  DAU_stand  anomaly\n",
       "0 2023-11-03   1.516694        0\n",
       "1 2023-11-04   1.576150        0\n",
       "2 2023-11-05   1.634816        0\n",
       "3 2023-11-06   1.692873        0\n",
       "4 2023-11-07   1.756842        0"
      ]
     },
     "execution_count": 37,
     "metadata": {},
     "output_type": "execute_result"
    }
   ],
   "source": [
    "future[\"anomaly\"] = 0\n",
    "future.head()"
   ]
  },
  {
   "cell_type": "code",
   "execution_count": 2,
   "id": "a57ea735-59ec-4842-b991-192357463dc1",
   "metadata": {},
   "outputs": [
    {
     "ename": "NameError",
     "evalue": "name 'model_list' is not defined",
     "output_type": "error",
     "traceback": [
      "\u001b[0;31m---------------------------------------------------------------------------\u001b[0m",
      "\u001b[0;31mNameError\u001b[0m                                 Traceback (most recent call last)",
      "Input \u001b[0;32mIn [2]\u001b[0m, in \u001b[0;36m<module>\u001b[0;34m\u001b[0m\n\u001b[0;32m----> 1\u001b[0m pred_5 \u001b[38;5;241m=\u001b[39m \u001b[43mmodel_list\u001b[49m[\u001b[38;5;241m4\u001b[39m]\u001b[38;5;241m.\u001b[39mpredict(future)\n\u001b[1;32m      2\u001b[0m pred_6 \u001b[38;5;241m=\u001b[39m model_list[\u001b[38;5;241m5\u001b[39m]\u001b[38;5;241m.\u001b[39mpredict(future)\n",
      "\u001b[0;31mNameError\u001b[0m: name 'model_list' is not defined"
     ]
    }
   ],
   "source": [
    "pred_5 = model_list[4].predict(future)\n",
    "pred_6 = model_list[5].predict(future)"
   ]
  },
  {
   "cell_type": "code",
   "execution_count": 43,
   "id": "1446dbbe-66ba-4678-8975-0eb02eda246a",
   "metadata": {},
   "outputs": [
    {
     "name": "stderr",
     "output_type": "stream",
     "text": [
      "WARNING:matplotlib.font_manager:findfont: Generic family 'sans-serif' not found because none of the following families were found: Arial\n",
      "WARNING:matplotlib.font_manager:findfont: Generic family 'sans-serif' not found because none of the following families were found: Arial\n",
      "WARNING:matplotlib.font_manager:findfont: Generic family 'sans-serif' not found because none of the following families were found: Arial\n",
      "WARNING:matplotlib.font_manager:findfont: Generic family 'sans-serif' not found because none of the following families were found: Arial\n",
      "WARNING:matplotlib.font_manager:findfont: Generic family 'sans-serif' not found because none of the following families were found: Arial\n",
      "WARNING:matplotlib.font_manager:findfont: Generic family 'sans-serif' not found because none of the following families were found: Arial\n",
      "WARNING:matplotlib.font_manager:findfont: Generic family 'sans-serif' not found because none of the following families were found: Arial\n",
      "WARNING:matplotlib.font_manager:findfont: Generic family 'sans-serif' not found because none of the following families were found: Arial\n",
      "WARNING:matplotlib.font_manager:findfont: Generic family 'sans-serif' not found because none of the following families were found: Arial\n",
      "WARNING:matplotlib.font_manager:findfont: Generic family 'sans-serif' not found because none of the following families were found: Arial\n",
      "WARNING:matplotlib.font_manager:findfont: Generic family 'sans-serif' not found because none of the following families were found: Arial\n",
      "WARNING:matplotlib.font_manager:findfont: Generic family 'sans-serif' not found because none of the following families were found: Arial\n",
      "WARNING:matplotlib.font_manager:findfont: Generic family 'sans-serif' not found because none of the following families were found: Arial\n",
      "WARNING:matplotlib.font_manager:findfont: Generic family 'sans-serif' not found because none of the following families were found: Arial\n",
      "WARNING:matplotlib.font_manager:findfont: Generic family 'sans-serif' not found because none of the following families were found: Arial\n",
      "WARNING:matplotlib.font_manager:findfont: Generic family 'sans-serif' not found because none of the following families were found: Arial\n",
      "WARNING:matplotlib.font_manager:findfont: Generic family 'sans-serif' not found because none of the following families were found: Arial\n",
      "WARNING:matplotlib.font_manager:findfont: Generic family 'sans-serif' not found because none of the following families were found: Arial\n",
      "WARNING:matplotlib.font_manager:findfont: Generic family 'sans-serif' not found because none of the following families were found: Arial\n",
      "WARNING:matplotlib.font_manager:findfont: Generic family 'sans-serif' not found because none of the following families were found: Arial\n",
      "WARNING:matplotlib.font_manager:findfont: Generic family 'sans-serif' not found because none of the following families were found: Arial\n",
      "WARNING:matplotlib.font_manager:findfont: Generic family 'sans-serif' not found because none of the following families were found: Arial\n",
      "WARNING:matplotlib.font_manager:findfont: Generic family 'sans-serif' not found because none of the following families were found: Arial\n",
      "WARNING:matplotlib.font_manager:findfont: Generic family 'sans-serif' not found because none of the following families were found: Arial\n",
      "WARNING:matplotlib.font_manager:findfont: Generic family 'sans-serif' not found because none of the following families were found: Arial\n",
      "WARNING:matplotlib.font_manager:findfont: Generic family 'sans-serif' not found because none of the following families were found: Arial\n",
      "WARNING:matplotlib.font_manager:findfont: Generic family 'sans-serif' not found because none of the following families were found: Arial\n",
      "WARNING:matplotlib.font_manager:findfont: Generic family 'sans-serif' not found because none of the following families were found: Arial\n",
      "WARNING:matplotlib.font_manager:findfont: Generic family 'sans-serif' not found because none of the following families were found: Arial\n",
      "WARNING:matplotlib.font_manager:findfont: Generic family 'sans-serif' not found because none of the following families were found: Arial\n",
      "WARNING:matplotlib.font_manager:findfont: Generic family 'sans-serif' not found because none of the following families were found: Arial\n",
      "WARNING:matplotlib.font_manager:findfont: Generic family 'sans-serif' not found because none of the following families were found: Arial\n",
      "WARNING:matplotlib.font_manager:findfont: Generic family 'sans-serif' not found because none of the following families were found: Arial\n",
      "WARNING:matplotlib.font_manager:findfont: Generic family 'sans-serif' not found because none of the following families were found: Arial\n",
      "WARNING:matplotlib.font_manager:findfont: Generic family 'sans-serif' not found because none of the following families were found: Arial\n",
      "WARNING:matplotlib.font_manager:findfont: Generic family 'sans-serif' not found because none of the following families were found: Arial\n",
      "WARNING:matplotlib.font_manager:findfont: Generic family 'sans-serif' not found because none of the following families were found: Arial\n",
      "WARNING:matplotlib.font_manager:findfont: Generic family 'sans-serif' not found because none of the following families were found: Arial\n",
      "WARNING:matplotlib.font_manager:findfont: Generic family 'sans-serif' not found because none of the following families were found: Arial\n",
      "WARNING:matplotlib.font_manager:findfont: Generic family 'sans-serif' not found because none of the following families were found: Arial\n",
      "WARNING:matplotlib.font_manager:findfont: Generic family 'sans-serif' not found because none of the following families were found: Arial\n",
      "WARNING:matplotlib.font_manager:findfont: Generic family 'sans-serif' not found because none of the following families were found: Arial\n",
      "WARNING:matplotlib.font_manager:findfont: Generic family 'sans-serif' not found because none of the following families were found: Arial\n",
      "WARNING:matplotlib.font_manager:findfont: Generic family 'sans-serif' not found because none of the following families were found: Arial\n",
      "WARNING:matplotlib.font_manager:findfont: Generic family 'sans-serif' not found because none of the following families were found: Arial\n",
      "WARNING:matplotlib.font_manager:findfont: Generic family 'sans-serif' not found because none of the following families were found: Arial\n",
      "WARNING:matplotlib.font_manager:findfont: Generic family 'sans-serif' not found because none of the following families were found: Arial\n",
      "WARNING:matplotlib.font_manager:findfont: Generic family 'sans-serif' not found because none of the following families were found: Arial\n",
      "WARNING:matplotlib.font_manager:findfont: Generic family 'sans-serif' not found because none of the following families were found: Arial\n",
      "WARNING:matplotlib.font_manager:findfont: Generic family 'sans-serif' not found because none of the following families were found: Arial\n",
      "WARNING:matplotlib.font_manager:findfont: Generic family 'sans-serif' not found because none of the following families were found: Arial\n",
      "WARNING:matplotlib.font_manager:findfont: Generic family 'sans-serif' not found because none of the following families were found: Arial\n",
      "WARNING:matplotlib.font_manager:findfont: Generic family 'sans-serif' not found because none of the following families were found: Arial\n",
      "WARNING:matplotlib.font_manager:findfont: Generic family 'sans-serif' not found because none of the following families were found: Arial\n",
      "WARNING:matplotlib.font_manager:findfont: Generic family 'sans-serif' not found because none of the following families were found: Arial\n",
      "WARNING:matplotlib.font_manager:findfont: Generic family 'sans-serif' not found because none of the following families were found: Arial\n",
      "WARNING:matplotlib.font_manager:findfont: Generic family 'sans-serif' not found because none of the following families were found: Arial\n",
      "WARNING:matplotlib.font_manager:findfont: Generic family 'sans-serif' not found because none of the following families were found: Arial\n",
      "WARNING:matplotlib.font_manager:findfont: Generic family 'sans-serif' not found because none of the following families were found: Arial\n",
      "WARNING:matplotlib.font_manager:findfont: Generic family 'sans-serif' not found because none of the following families were found: Arial\n",
      "WARNING:matplotlib.font_manager:findfont: Generic family 'sans-serif' not found because none of the following families were found: Arial\n",
      "WARNING:matplotlib.font_manager:findfont: Generic family 'sans-serif' not found because none of the following families were found: Arial\n",
      "WARNING:matplotlib.font_manager:findfont: Generic family 'sans-serif' not found because none of the following families were found: Arial\n",
      "WARNING:matplotlib.font_manager:findfont: Generic family 'sans-serif' not found because none of the following families were found: Arial\n",
      "WARNING:matplotlib.font_manager:findfont: Generic family 'sans-serif' not found because none of the following families were found: Arial\n",
      "WARNING:matplotlib.font_manager:findfont: Generic family 'sans-serif' not found because none of the following families were found: Arial\n",
      "WARNING:matplotlib.font_manager:findfont: Generic family 'sans-serif' not found because none of the following families were found: Arial\n",
      "WARNING:matplotlib.font_manager:findfont: Generic family 'sans-serif' not found because none of the following families were found: Arial\n",
      "WARNING:matplotlib.font_manager:findfont: Generic family 'sans-serif' not found because none of the following families were found: Arial\n",
      "WARNING:matplotlib.font_manager:findfont: Generic family 'sans-serif' not found because none of the following families were found: Arial\n",
      "WARNING:matplotlib.font_manager:findfont: Generic family 'sans-serif' not found because none of the following families were found: Arial\n",
      "WARNING:matplotlib.font_manager:findfont: Generic family 'sans-serif' not found because none of the following families were found: Arial\n",
      "WARNING:matplotlib.font_manager:findfont: Generic family 'sans-serif' not found because none of the following families were found: Arial\n",
      "WARNING:matplotlib.font_manager:findfont: Generic family 'sans-serif' not found because none of the following families were found: Arial\n",
      "WARNING:matplotlib.font_manager:findfont: Generic family 'sans-serif' not found because none of the following families were found: Arial\n",
      "WARNING:matplotlib.font_manager:findfont: Generic family 'sans-serif' not found because none of the following families were found: Arial\n",
      "WARNING:matplotlib.font_manager:findfont: Generic family 'sans-serif' not found because none of the following families were found: Arial\n",
      "WARNING:matplotlib.font_manager:findfont: Generic family 'sans-serif' not found because none of the following families were found: Arial\n",
      "WARNING:matplotlib.font_manager:findfont: Generic family 'sans-serif' not found because none of the following families were found: Arial\n",
      "WARNING:matplotlib.font_manager:findfont: Generic family 'sans-serif' not found because none of the following families were found: Arial\n",
      "WARNING:matplotlib.font_manager:findfont: Generic family 'sans-serif' not found because none of the following families were found: Arial\n",
      "WARNING:matplotlib.font_manager:findfont: Generic family 'sans-serif' not found because none of the following families were found: Arial\n",
      "WARNING:matplotlib.font_manager:findfont: Generic family 'sans-serif' not found because none of the following families were found: Arial\n"
     ]
    },
    {
     "data": {
      "image/png": "[encoded data removed]",
      "text/plain": [
       "<Figure size 1600x800 with 1 Axes>"
      ]
     },
     "metadata": {},
     "output_type": "display_data"
    },
    {
     "data": {
      "text/plain": [
       "<Axes: title={'center': 'Модель + DAU + аномалия (линейный тренд)'}>"
      ]
     },
     "execution_count": 43,
     "metadata": {},
     "output_type": "execute_result"
    }
   ],
   "source": [
    "plot_predicted_data(act_df, pred_5, \"day\", \"act_stand\", title = \"Модель + DAU + аномалия (линейный тренд)\")"
   ]
  },
  {
   "cell_type": "code",
   "execution_count": 1,
   "id": "96411443-6d18-443a-b96f-0cd649bf7208",
   "metadata": {},
   "outputs": [
    {
     "ename": "NameError",
     "evalue": "name 'plot_predicted_data' is not defined",
     "output_type": "error",
     "traceback": [
      "\u001b[0;31m---------------------------------------------------------------------------\u001b[0m",
      "\u001b[0;31mNameError\u001b[0m                                 Traceback (most recent call last)",
      "Input \u001b[0;32mIn [1]\u001b[0m, in \u001b[0;36m<module>\u001b[0;34m\u001b[0m\n\u001b[0;32m----> 1\u001b[0m \u001b[43mplot_predicted_data\u001b[49m(act_df, pred_6, \u001b[38;5;124m\"\u001b[39m\u001b[38;5;124mday\u001b[39m\u001b[38;5;124m\"\u001b[39m, \u001b[38;5;124m\"\u001b[39m\u001b[38;5;124mact_stand\u001b[39m\u001b[38;5;124m\"\u001b[39m, title \u001b[38;5;241m=\u001b[39m \u001b[38;5;124m\"\u001b[39m\u001b[38;5;124mМодель + DAU + аномалия (логлинейный тренд)\u001b[39m\u001b[38;5;124m\"\u001b[39m)\n",
      "\u001b[0;31mNameError\u001b[0m: name 'plot_predicted_data' is not defined"
     ]
    }
   ],
   "source": [
    "plot_predicted_data(act_df, pred_6, \"day\", \"act_stand\", title = \"Модель + DAU + аномалия (логлинейный тренд)\")"
   ]
  },
  {
   "cell_type": "markdown",
   "id": "9e23ed05-ab2f-4cb6-9a11-dbe3262a20bb",
   "metadata": {},
   "source": [
    "Теперь необходимо оценить качество модели, сделаем это через бэктестинг\n",
    "\n",
    "но чтобы его результаты были репрезентативными, нам необходимо сделать допущение, что характер поведения наших данных стабилен"
   ]
  },
  {
   "cell_type": "markdown",
   "id": "0a9aa8c3-63e0-4d00-81e3-334eb410fcb2",
   "metadata": {},
   "source": [
    "## Оценим качество"
   ]
  },
  {
   "cell_type": "code",
   "execution_count": 46,
   "id": "e473801a-882a-47c8-8d5e-e1fd482ad31a",
   "metadata": {},
   "outputs": [
    {
     "name": "stderr",
     "output_type": "stream",
     "text": [
      "2023-11-10 13:41:04 - orbit - INFO - Sampling (PyStan) with chains: 4, cores: 8, temperature: 1.000, warmups (per chain): 2500 and samples(per chain): 2500.\n",
      "INFO:orbit:Sampling (PyStan) with chains: 4, cores: 8, temperature: 1.000, warmups (per chain): 2500 and samples(per chain): 2500.\n"
     ]
    },
    {
     "data": {
      "application/json": {
       "ascii": false,
       "bar_format": "{desc} |{bar}| {elapsed} {postfix[0][value]}",
       "colour": null,
       "elapsed": 0.07119059562683105,
       "initial": 0,
       "n": 0,
       "ncols": null,
       "nrows": null,
       "postfix": [
        {
         "value": "Status"
        }
       ],
       "prefix": "chain 1",
       "rate": null,
       "total": 52,
       "unit": "it",
       "unit_divisor": 1000,
       "unit_scale": false
      },
      "application/vnd.jupyter.widget-view+json": {
       "model_id": "1a937fdacdf34034982d439fd7d31315",
       "version_major": 2,
       "version_minor": 0
      },
      "text/plain": [
       "chain 1 |          | 00:00 Status"
      ]
     },
     "metadata": {},
     "output_type": "display_data"
    },
    {
     "data": {
      "application/json": {
       "ascii": false,
       "bar_format": "{desc} |{bar}| {elapsed} {postfix[0][value]}",
       "colour": null,
       "elapsed": 0.10430049896240234,
       "initial": 0,
       "n": 0,
       "ncols": null,
       "nrows": null,
       "postfix": [
        {
         "value": "Status"
        }
       ],
       "prefix": "chain 2",
       "rate": null,
       "total": 52,
       "unit": "it",
       "unit_divisor": 1000,
       "unit_scale": false
      },
      "application/vnd.jupyter.widget-view+json": {
       "model_id": "49ef4346da6b49c6be5cbfd713b39725",
       "version_major": 2,
       "version_minor": 0
      },
      "text/plain": [
       "chain 2 |          | 00:00 Status"
      ]
     },
     "metadata": {},
     "output_type": "display_data"
    },
    {
     "data": {
      "application/json": {
       "ascii": false,
       "bar_format": "{desc} |{bar}| {elapsed} {postfix[0][value]}",
       "colour": null,
       "elapsed": 0.06577348709106445,
       "initial": 0,
       "n": 0,
       "ncols": null,
       "nrows": null,
       "postfix": [
        {
         "value": "Status"
        }
       ],
       "prefix": "chain 3",
       "rate": null,
       "total": 52,
       "unit": "it",
       "unit_divisor": 1000,
       "unit_scale": false
      },
      "application/vnd.jupyter.widget-view+json": {
       "model_id": "3c0e76793f1e470e949daefeb9b1e0d9",
       "version_major": 2,
       "version_minor": 0
      },
      "text/plain": [
       "chain 3 |          | 00:00 Status"
      ]
     },
     "metadata": {},
     "output_type": "display_data"
    },
    {
     "data": {
      "application/json": {
       "ascii": false,
       "bar_format": "{desc} |{bar}| {elapsed} {postfix[0][value]}",
       "colour": null,
       "elapsed": 0.10432052612304688,
       "initial": 0,
       "n": 0,
       "ncols": null,
       "nrows": null,
       "postfix": [
        {
         "value": "Status"
        }
       ],
       "prefix": "chain 4",
       "rate": null,
       "total": 52,
       "unit": "it",
       "unit_divisor": 1000,
       "unit_scale": false
      },
      "application/vnd.jupyter.widget-view+json": {
       "model_id": "abd4719b2fe441609bd234cb406791d6",
       "version_major": 2,
       "version_minor": 0
      },
      "text/plain": [
       "chain 4 |          | 00:00 Status"
      ]
     },
     "metadata": {},
     "output_type": "display_data"
    },
    {
     "name": "stdout",
     "output_type": "stream",
     "text": [
      "                                                                                                                                                                                                                                                                                                                                \n"
     ]
    },
    {
     "name": "stderr",
     "output_type": "stream",
     "text": [
      "2023-11-10 13:41:10 - orbit - INFO - Sampling (PyStan) with chains: 4, cores: 8, temperature: 1.000, warmups (per chain): 2500 and samples(per chain): 2500.\n",
      "INFO:orbit:Sampling (PyStan) with chains: 4, cores: 8, temperature: 1.000, warmups (per chain): 2500 and samples(per chain): 2500.\n"
     ]
    },
    {
     "data": {
      "application/json": {
       "ascii": false,
       "bar_format": "{desc} |{bar}| {elapsed} {postfix[0][value]}",
       "colour": null,
       "elapsed": 0.05666089057922363,
       "initial": 0,
       "n": 0,
       "ncols": null,
       "nrows": null,
       "postfix": [
        {
         "value": "Status"
        }
       ],
       "prefix": "chain 1",
       "rate": null,
       "total": 52,
       "unit": "it",
       "unit_divisor": 1000,
       "unit_scale": false
      },
      "application/vnd.jupyter.widget-view+json": {
       "model_id": "1edb3f2914d64f3e91472e00bd9fe36c",
       "version_major": 2,
       "version_minor": 0
      },
      "text/plain": [
       "chain 1 |          | 00:00 Status"
      ]
     },
     "metadata": {},
     "output_type": "display_data"
    },
    {
     "data": {
      "application/json": {
       "ascii": false,
       "bar_format": "{desc} |{bar}| {elapsed} {postfix[0][value]}",
       "colour": null,
       "elapsed": 0.04495382308959961,
       "initial": 0,
       "n": 0,
       "ncols": null,
       "nrows": null,
       "postfix": [
        {
         "value": "Status"
        }
       ],
       "prefix": "chain 2",
       "rate": null,
       "total": 52,
       "unit": "it",
       "unit_divisor": 1000,
       "unit_scale": false
      },
      "application/vnd.jupyter.widget-view+json": {
       "model_id": "7d6aa00712384b3c9abd085ad5084bb7",
       "version_major": 2,
       "version_minor": 0
      },
      "text/plain": [
       "chain 2 |          | 00:00 Status"
      ]
     },
     "metadata": {},
     "output_type": "display_data"
    },
    {
     "data": {
      "application/json": {
       "ascii": false,
       "bar_format": "{desc} |{bar}| {elapsed} {postfix[0][value]}",
       "colour": null,
       "elapsed": 0.03712654113769531,
       "initial": 0,
       "n": 0,
       "ncols": null,
       "nrows": null,
       "postfix": [
        {
         "value": "Status"
        }
       ],
       "prefix": "chain 3",
       "rate": null,
       "total": 52,
       "unit": "it",
       "unit_divisor": 1000,
       "unit_scale": false
      },
      "application/vnd.jupyter.widget-view+json": {
       "model_id": "2030a7b6066745a384b068d4bb6417b4",
       "version_major": 2,
       "version_minor": 0
      },
      "text/plain": [
       "chain 3 |          | 00:00 Status"
      ]
     },
     "metadata": {},
     "output_type": "display_data"
    },
    {
     "data": {
      "application/json": {
       "ascii": false,
       "bar_format": "{desc} |{bar}| {elapsed} {postfix[0][value]}",
       "colour": null,
       "elapsed": 0.03442955017089844,
       "initial": 0,
       "n": 0,
       "ncols": null,
       "nrows": null,
       "postfix": [
        {
         "value": "Status"
        }
       ],
       "prefix": "chain 4",
       "rate": null,
       "total": 52,
       "unit": "it",
       "unit_divisor": 1000,
       "unit_scale": false
      },
      "application/vnd.jupyter.widget-view+json": {
       "model_id": "1d099cf8fc1344b4bcdf43f3c9ca4204",
       "version_major": 2,
       "version_minor": 0
      },
      "text/plain": [
       "chain 4 |          | 00:00 Status"
      ]
     },
     "metadata": {},
     "output_type": "display_data"
    },
    {
     "name": "stdout",
     "output_type": "stream",
     "text": [
      "                                                                                                                                                                                                                                                                                                                                \n"
     ]
    },
    {
     "name": "stderr",
     "output_type": "stream",
     "text": [
      "2023-11-10 13:41:16 - orbit - INFO - Sampling (PyStan) with chains: 4, cores: 8, temperature: 1.000, warmups (per chain): 2500 and samples(per chain): 2500.\n",
      "INFO:orbit:Sampling (PyStan) with chains: 4, cores: 8, temperature: 1.000, warmups (per chain): 2500 and samples(per chain): 2500.\n"
     ]
    },
    {
     "data": {
      "application/json": {
       "ascii": false,
       "bar_format": "{desc} |{bar}| {elapsed} {postfix[0][value]}",
       "colour": null,
       "elapsed": 0.041651248931884766,
       "initial": 0,
       "n": 0,
       "ncols": null,
       "nrows": null,
       "postfix": [
        {
         "value": "Status"
        }
       ],
       "prefix": "chain 1",
       "rate": null,
       "total": 52,
       "unit": "it",
       "unit_divisor": 1000,
       "unit_scale": false
      },
      "application/vnd.jupyter.widget-view+json": {
       "model_id": "ee0ae6140483402f80984899e424991b",
       "version_major": 2,
       "version_minor": 0
      },
      "text/plain": [
       "chain 1 |          | 00:00 Status"
      ]
     },
     "metadata": {},
     "output_type": "display_data"
    },
    {
     "data": {
      "application/json": {
       "ascii": false,
       "bar_format": "{desc} |{bar}| {elapsed} {postfix[0][value]}",
       "colour": null,
       "elapsed": 0.02765798568725586,
       "initial": 0,
       "n": 0,
       "ncols": null,
       "nrows": null,
       "postfix": [
        {
         "value": "Status"
        }
       ],
       "prefix": "chain 2",
       "rate": null,
       "total": 52,
       "unit": "it",
       "unit_divisor": 1000,
       "unit_scale": false
      },
      "application/vnd.jupyter.widget-view+json": {
       "model_id": "461cdd734f354c8184e8bde8218d9e7e",
       "version_major": 2,
       "version_minor": 0
      },
      "text/plain": [
       "chain 2 |          | 00:00 Status"
      ]
     },
     "metadata": {},
     "output_type": "display_data"
    },
    {
     "data": {
      "application/json": {
       "ascii": false,
       "bar_format": "{desc} |{bar}| {elapsed} {postfix[0][value]}",
       "colour": null,
       "elapsed": 0.03126716613769531,
       "initial": 0,
       "n": 0,
       "ncols": null,
       "nrows": null,
       "postfix": [
        {
         "value": "Status"
        }
       ],
       "prefix": "chain 3",
       "rate": null,
       "total": 52,
       "unit": "it",
       "unit_divisor": 1000,
       "unit_scale": false
      },
      "application/vnd.jupyter.widget-view+json": {
       "model_id": "f7626659d9c14bd8ad500cdcd4c63842",
       "version_major": 2,
       "version_minor": 0
      },
      "text/plain": [
       "chain 3 |          | 00:00 Status"
      ]
     },
     "metadata": {},
     "output_type": "display_data"
    },
    {
     "data": {
      "application/json": {
       "ascii": false,
       "bar_format": "{desc} |{bar}| {elapsed} {postfix[0][value]}",
       "colour": null,
       "elapsed": 0.03307032585144043,
       "initial": 0,
       "n": 0,
       "ncols": null,
       "nrows": null,
       "postfix": [
        {
         "value": "Status"
        }
       ],
       "prefix": "chain 4",
       "rate": null,
       "total": 52,
       "unit": "it",
       "unit_divisor": 1000,
       "unit_scale": false
      },
      "application/vnd.jupyter.widget-view+json": {
       "model_id": "0a78c55c02e1456183be12e925783bca",
       "version_major": 2,
       "version_minor": 0
      },
      "text/plain": [
       "chain 4 |          | 00:00 Status"
      ]
     },
     "metadata": {},
     "output_type": "display_data"
    },
    {
     "name": "stdout",
     "output_type": "stream",
     "text": [
      "                                                                                                                                                                                                                                                                                                                                \n"
     ]
    },
    {
     "name": "stderr",
     "output_type": "stream",
     "text": [
      "2023-11-10 13:41:19 - orbit - INFO - Sampling (PyStan) with chains: 4, cores: 8, temperature: 1.000, warmups (per chain): 2500 and samples(per chain): 2500.\n",
      "INFO:orbit:Sampling (PyStan) with chains: 4, cores: 8, temperature: 1.000, warmups (per chain): 2500 and samples(per chain): 2500.\n"
     ]
    },
    {
     "data": {
      "application/json": {
       "ascii": false,
       "bar_format": "{desc} |{bar}| {elapsed} {postfix[0][value]}",
       "colour": null,
       "elapsed": 0.03883838653564453,
       "initial": 0,
       "n": 0,
       "ncols": null,
       "nrows": null,
       "postfix": [
        {
         "value": "Status"
        }
       ],
       "prefix": "chain 1",
       "rate": null,
       "total": 52,
       "unit": "it",
       "unit_divisor": 1000,
       "unit_scale": false
      },
      "application/vnd.jupyter.widget-view+json": {
       "model_id": "003a412add76487c8d90a6d98e82061c",
       "version_major": 2,
       "version_minor": 0
      },
      "text/plain": [
       "chain 1 |          | 00:00 Status"
      ]
     },
     "metadata": {},
     "output_type": "display_data"
    },
    {
     "data": {
      "application/json": {
       "ascii": false,
       "bar_format": "{desc} |{bar}| {elapsed} {postfix[0][value]}",
       "colour": null,
       "elapsed": 0.03580904006958008,
       "initial": 0,
       "n": 0,
       "ncols": null,
       "nrows": null,
       "postfix": [
        {
         "value": "Status"
        }
       ],
       "prefix": "chain 2",
       "rate": null,
       "total": 52,
       "unit": "it",
       "unit_divisor": 1000,
       "unit_scale": false
      },
      "application/vnd.jupyter.widget-view+json": {
       "model_id": "d2917aae41be407083de339042cb2fb1",
       "version_major": 2,
       "version_minor": 0
      },
      "text/plain": [
       "chain 2 |          | 00:00 Status"
      ]
     },
     "metadata": {},
     "output_type": "display_data"
    },
    {
     "data": {
      "application/json": {
       "ascii": false,
       "bar_format": "{desc} |{bar}| {elapsed} {postfix[0][value]}",
       "colour": null,
       "elapsed": 0.03276348114013672,
       "initial": 0,
       "n": 0,
       "ncols": null,
       "nrows": null,
       "postfix": [
        {
         "value": "Status"
        }
       ],
       "prefix": "chain 3",
       "rate": null,
       "total": 52,
       "unit": "it",
       "unit_divisor": 1000,
       "unit_scale": false
      },
      "application/vnd.jupyter.widget-view+json": {
       "model_id": "681e167611c047a3b6a65425712fa62b",
       "version_major": 2,
       "version_minor": 0
      },
      "text/plain": [
       "chain 3 |          | 00:00 Status"
      ]
     },
     "metadata": {},
     "output_type": "display_data"
    },
    {
     "data": {
      "application/json": {
       "ascii": false,
       "bar_format": "{desc} |{bar}| {elapsed} {postfix[0][value]}",
       "colour": null,
       "elapsed": 0.0312039852142334,
       "initial": 0,
       "n": 0,
       "ncols": null,
       "nrows": null,
       "postfix": [
        {
         "value": "Status"
        }
       ],
       "prefix": "chain 4",
       "rate": null,
       "total": 52,
       "unit": "it",
       "unit_divisor": 1000,
       "unit_scale": false
      },
      "application/vnd.jupyter.widget-view+json": {
       "model_id": "9fd208a77d914974a2873dbe7cd5592b",
       "version_major": 2,
       "version_minor": 0
      },
      "text/plain": [
       "chain 4 |          | 00:00 Status"
      ]
     },
     "metadata": {},
     "output_type": "display_data"
    },
    {
     "name": "stdout",
     "output_type": "stream",
     "text": [
      "                                                                                                                                                                                                                                                                                                                                \n"
     ]
    },
    {
     "name": "stderr",
     "output_type": "stream",
     "text": [
      "2023-11-10 13:41:23 - orbit - INFO - Sampling (PyStan) with chains: 4, cores: 8, temperature: 1.000, warmups (per chain): 2500 and samples(per chain): 2500.\n",
      "INFO:orbit:Sampling (PyStan) with chains: 4, cores: 8, temperature: 1.000, warmups (per chain): 2500 and samples(per chain): 2500.\n"
     ]
    },
    {
     "data": {
      "application/json": {
       "ascii": false,
       "bar_format": "{desc} |{bar}| {elapsed} {postfix[0][value]}",
       "colour": null,
       "elapsed": 0.049326419830322266,
       "initial": 0,
       "n": 0,
       "ncols": null,
       "nrows": null,
       "postfix": [
        {
         "value": "Status"
        }
       ],
       "prefix": "chain 1",
       "rate": null,
       "total": 52,
       "unit": "it",
       "unit_divisor": 1000,
       "unit_scale": false
      },
      "application/vnd.jupyter.widget-view+json": {
       "model_id": "d30fcd2a767c4f4c93c8672407fc2159",
       "version_major": 2,
       "version_minor": 0
      },
      "text/plain": [
       "chain 1 |          | 00:00 Status"
      ]
     },
     "metadata": {},
     "output_type": "display_data"
    },
    {
     "data": {
      "application/json": {
       "ascii": false,
       "bar_format": "{desc} |{bar}| {elapsed} {postfix[0][value]}",
       "colour": null,
       "elapsed": 0.045000314712524414,
       "initial": 0,
       "n": 0,
       "ncols": null,
       "nrows": null,
       "postfix": [
        {
         "value": "Status"
        }
       ],
       "prefix": "chain 2",
       "rate": null,
       "total": 52,
       "unit": "it",
       "unit_divisor": 1000,
       "unit_scale": false
      },
      "application/vnd.jupyter.widget-view+json": {
       "model_id": "953c090219f442048d604d682840be67",
       "version_major": 2,
       "version_minor": 0
      },
      "text/plain": [
       "chain 2 |          | 00:00 Status"
      ]
     },
     "metadata": {},
     "output_type": "display_data"
    },
    {
     "data": {
      "application/json": {
       "ascii": false,
       "bar_format": "{desc} |{bar}| {elapsed} {postfix[0][value]}",
       "colour": null,
       "elapsed": 0.04866504669189453,
       "initial": 0,
       "n": 0,
       "ncols": null,
       "nrows": null,
       "postfix": [
        {
         "value": "Status"
        }
       ],
       "prefix": "chain 3",
       "rate": null,
       "total": 52,
       "unit": "it",
       "unit_divisor": 1000,
       "unit_scale": false
      },
      "application/vnd.jupyter.widget-view+json": {
       "model_id": "1db9e5fbcb054851878206ec99976b30",
       "version_major": 2,
       "version_minor": 0
      },
      "text/plain": [
       "chain 3 |          | 00:00 Status"
      ]
     },
     "metadata": {},
     "output_type": "display_data"
    },
    {
     "data": {
      "application/json": {
       "ascii": false,
       "bar_format": "{desc} |{bar}| {elapsed} {postfix[0][value]}",
       "colour": null,
       "elapsed": 0.04408526420593262,
       "initial": 0,
       "n": 0,
       "ncols": null,
       "nrows": null,
       "postfix": [
        {
         "value": "Status"
        }
       ],
       "prefix": "chain 4",
       "rate": null,
       "total": 52,
       "unit": "it",
       "unit_divisor": 1000,
       "unit_scale": false
      },
      "application/vnd.jupyter.widget-view+json": {
       "model_id": "837f05c21cee410aa0fd3954395fa337",
       "version_major": 2,
       "version_minor": 0
      },
      "text/plain": [
       "chain 4 |          | 00:00 Status"
      ]
     },
     "metadata": {},
     "output_type": "display_data"
    },
    {
     "name": "stdout",
     "output_type": "stream",
     "text": [
      "                                                                                                                                                                                                                                                                                                                                \n"
     ]
    },
    {
     "name": "stderr",
     "output_type": "stream",
     "text": [
      "2023-11-10 13:41:27 - orbit - INFO - Sampling (PyStan) with chains: 4, cores: 8, temperature: 1.000, warmups (per chain): 2500 and samples(per chain): 2500.\n",
      "INFO:orbit:Sampling (PyStan) with chains: 4, cores: 8, temperature: 1.000, warmups (per chain): 2500 and samples(per chain): 2500.\n"
     ]
    },
    {
     "data": {
      "application/json": {
       "ascii": false,
       "bar_format": "{desc} |{bar}| {elapsed} {postfix[0][value]}",
       "colour": null,
       "elapsed": 0.030938148498535156,
       "initial": 0,
       "n": 0,
       "ncols": null,
       "nrows": null,
       "postfix": [
        {
         "value": "Status"
        }
       ],
       "prefix": "chain 1",
       "rate": null,
       "total": 52,
       "unit": "it",
       "unit_divisor": 1000,
       "unit_scale": false
      },
      "application/vnd.jupyter.widget-view+json": {
       "model_id": "51f3fa229bfb47a8a83a98c0f6db66df",
       "version_major": 2,
       "version_minor": 0
      },
      "text/plain": [
       "chain 1 |          | 00:00 Status"
      ]
     },
     "metadata": {},
     "output_type": "display_data"
    },
    {
     "data": {
      "application/json": {
       "ascii": false,
       "bar_format": "{desc} |{bar}| {elapsed} {postfix[0][value]}",
       "colour": null,
       "elapsed": 0.03972673416137695,
       "initial": 0,
       "n": 0,
       "ncols": null,
       "nrows": null,
       "postfix": [
        {
         "value": "Status"
        }
       ],
       "prefix": "chain 2",
       "rate": null,
       "total": 52,
       "unit": "it",
       "unit_divisor": 1000,
       "unit_scale": false
      },
      "application/vnd.jupyter.widget-view+json": {
       "model_id": "6ca81cfccba246ff9bc3c382f5df5304",
       "version_major": 2,
       "version_minor": 0
      },
      "text/plain": [
       "chain 2 |          | 00:00 Status"
      ]
     },
     "metadata": {},
     "output_type": "display_data"
    },
    {
     "data": {
      "application/json": {
       "ascii": false,
       "bar_format": "{desc} |{bar}| {elapsed} {postfix[0][value]}",
       "colour": null,
       "elapsed": 0.029833078384399414,
       "initial": 0,
       "n": 0,
       "ncols": null,
       "nrows": null,
       "postfix": [
        {
         "value": "Status"
        }
       ],
       "prefix": "chain 3",
       "rate": null,
       "total": 52,
       "unit": "it",
       "unit_divisor": 1000,
       "unit_scale": false
      },
      "application/vnd.jupyter.widget-view+json": {
       "model_id": "a56a6207c609497db43f7fc82735f2be",
       "version_major": 2,
       "version_minor": 0
      },
      "text/plain": [
       "chain 3 |          | 00:00 Status"
      ]
     },
     "metadata": {},
     "output_type": "display_data"
    },
    {
     "data": {
      "application/json": {
       "ascii": false,
       "bar_format": "{desc} |{bar}| {elapsed} {postfix[0][value]}",
       "colour": null,
       "elapsed": 0.03077554702758789,
       "initial": 0,
       "n": 0,
       "ncols": null,
       "nrows": null,
       "postfix": [
        {
         "value": "Status"
        }
       ],
       "prefix": "chain 4",
       "rate": null,
       "total": 52,
       "unit": "it",
       "unit_divisor": 1000,
       "unit_scale": false
      },
      "application/vnd.jupyter.widget-view+json": {
       "model_id": "04ca794c322441f3a815813566fe7056",
       "version_major": 2,
       "version_minor": 0
      },
      "text/plain": [
       "chain 4 |          | 00:00 Status"
      ]
     },
     "metadata": {},
     "output_type": "display_data"
    },
    {
     "name": "stdout",
     "output_type": "stream",
     "text": [
      "                                                                                                                                                                                                                                                                                                                                \n"
     ]
    },
    {
     "name": "stderr",
     "output_type": "stream",
     "text": [
      "2023-11-10 13:41:31 - orbit - INFO - Sampling (PyStan) with chains: 4, cores: 8, temperature: 1.000, warmups (per chain): 2500 and samples(per chain): 2500.\n",
      "INFO:orbit:Sampling (PyStan) with chains: 4, cores: 8, temperature: 1.000, warmups (per chain): 2500 and samples(per chain): 2500.\n"
     ]
    },
    {
     "data": {
      "application/json": {
       "ascii": false,
       "bar_format": "{desc} |{bar}| {elapsed} {postfix[0][value]}",
       "colour": null,
       "elapsed": 0.033453941345214844,
       "initial": 0,
       "n": 0,
       "ncols": null,
       "nrows": null,
       "postfix": [
        {
         "value": "Status"
        }
       ],
       "prefix": "chain 1",
       "rate": null,
       "total": 52,
       "unit": "it",
       "unit_divisor": 1000,
       "unit_scale": false
      },
      "application/vnd.jupyter.widget-view+json": {
       "model_id": "d30907710aa841688ebd1b89c1977edb",
       "version_major": 2,
       "version_minor": 0
      },
      "text/plain": [
       "chain 1 |          | 00:00 Status"
      ]
     },
     "metadata": {},
     "output_type": "display_data"
    },
    {
     "data": {
      "application/json": {
       "ascii": false,
       "bar_format": "{desc} |{bar}| {elapsed} {postfix[0][value]}",
       "colour": null,
       "elapsed": 0.03433990478515625,
       "initial": 0,
       "n": 0,
       "ncols": null,
       "nrows": null,
       "postfix": [
        {
         "value": "Status"
        }
       ],
       "prefix": "chain 2",
       "rate": null,
       "total": 52,
       "unit": "it",
       "unit_divisor": 1000,
       "unit_scale": false
      },
      "application/vnd.jupyter.widget-view+json": {
       "model_id": "93e46c111b07410d9b0c7ae19564517e",
       "version_major": 2,
       "version_minor": 0
      },
      "text/plain": [
       "chain 2 |          | 00:00 Status"
      ]
     },
     "metadata": {},
     "output_type": "display_data"
    },
    {
     "data": {
      "application/json": {
       "ascii": false,
       "bar_format": "{desc} |{bar}| {elapsed} {postfix[0][value]}",
       "colour": null,
       "elapsed": 0.03142666816711426,
       "initial": 0,
       "n": 0,
       "ncols": null,
       "nrows": null,
       "postfix": [
        {
         "value": "Status"
        }
       ],
       "prefix": "chain 3",
       "rate": null,
       "total": 52,
       "unit": "it",
       "unit_divisor": 1000,
       "unit_scale": false
      },
      "application/vnd.jupyter.widget-view+json": {
       "model_id": "5c2a9440617a4f43b6303a8b569bc0d6",
       "version_major": 2,
       "version_minor": 0
      },
      "text/plain": [
       "chain 3 |          | 00:00 Status"
      ]
     },
     "metadata": {},
     "output_type": "display_data"
    },
    {
     "data": {
      "application/json": {
       "ascii": false,
       "bar_format": "{desc} |{bar}| {elapsed} {postfix[0][value]}",
       "colour": null,
       "elapsed": 0.03184771537780762,
       "initial": 0,
       "n": 0,
       "ncols": null,
       "nrows": null,
       "postfix": [
        {
         "value": "Status"
        }
       ],
       "prefix": "chain 4",
       "rate": null,
       "total": 52,
       "unit": "it",
       "unit_divisor": 1000,
       "unit_scale": false
      },
      "application/vnd.jupyter.widget-view+json": {
       "model_id": "def0b119e56149aab9cf70f56ba849b9",
       "version_major": 2,
       "version_minor": 0
      },
      "text/plain": [
       "chain 4 |          | 00:00 Status"
      ]
     },
     "metadata": {},
     "output_type": "display_data"
    },
    {
     "name": "stdout",
     "output_type": "stream",
     "text": [
      "                                                                                                                                                                                                                                                                                                                                \n"
     ]
    },
    {
     "name": "stderr",
     "output_type": "stream",
     "text": [
      "2023-11-10 13:41:35 - orbit - INFO - Sampling (PyStan) with chains: 4, cores: 8, temperature: 1.000, warmups (per chain): 2500 and samples(per chain): 2500.\n",
      "INFO:orbit:Sampling (PyStan) with chains: 4, cores: 8, temperature: 1.000, warmups (per chain): 2500 and samples(per chain): 2500.\n"
     ]
    },
    {
     "data": {
      "application/json": {
       "ascii": false,
       "bar_format": "{desc} |{bar}| {elapsed} {postfix[0][value]}",
       "colour": null,
       "elapsed": 0.04149031639099121,
       "initial": 0,
       "n": 0,
       "ncols": null,
       "nrows": null,
       "postfix": [
        {
         "value": "Status"
        }
       ],
       "prefix": "chain 1",
       "rate": null,
       "total": 52,
       "unit": "it",
       "unit_divisor": 1000,
       "unit_scale": false
      },
      "application/vnd.jupyter.widget-view+json": {
       "model_id": "2184916772564df7b269ace3d147f2e5",
       "version_major": 2,
       "version_minor": 0
      },
      "text/plain": [
       "chain 1 |          | 00:00 Status"
      ]
     },
     "metadata": {},
     "output_type": "display_data"
    },
    {
     "data": {
      "application/json": {
       "ascii": false,
       "bar_format": "{desc} |{bar}| {elapsed} {postfix[0][value]}",
       "colour": null,
       "elapsed": 0.039579153060913086,
       "initial": 0,
       "n": 0,
       "ncols": null,
       "nrows": null,
       "postfix": [
        {
         "value": "Status"
        }
       ],
       "prefix": "chain 2",
       "rate": null,
       "total": 52,
       "unit": "it",
       "unit_divisor": 1000,
       "unit_scale": false
      },
      "application/vnd.jupyter.widget-view+json": {
       "model_id": "fda246c8a67d4e4581bbaa7b4d3748db",
       "version_major": 2,
       "version_minor": 0
      },
      "text/plain": [
       "chain 2 |          | 00:00 Status"
      ]
     },
     "metadata": {},
     "output_type": "display_data"
    },
    {
     "data": {
      "application/json": {
       "ascii": false,
       "bar_format": "{desc} |{bar}| {elapsed} {postfix[0][value]}",
       "colour": null,
       "elapsed": 0.05109906196594238,
       "initial": 0,
       "n": 0,
       "ncols": null,
       "nrows": null,
       "postfix": [
        {
         "value": "Status"
        }
       ],
       "prefix": "chain 3",
       "rate": null,
       "total": 52,
       "unit": "it",
       "unit_divisor": 1000,
       "unit_scale": false
      },
      "application/vnd.jupyter.widget-view+json": {
       "model_id": "5ac034f999a3456bbeb1f01c7b6cf4cb",
       "version_major": 2,
       "version_minor": 0
      },
      "text/plain": [
       "chain 3 |          | 00:00 Status"
      ]
     },
     "metadata": {},
     "output_type": "display_data"
    },
    {
     "data": {
      "application/json": {
       "ascii": false,
       "bar_format": "{desc} |{bar}| {elapsed} {postfix[0][value]}",
       "colour": null,
       "elapsed": 0.05822181701660156,
       "initial": 0,
       "n": 0,
       "ncols": null,
       "nrows": null,
       "postfix": [
        {
         "value": "Status"
        }
       ],
       "prefix": "chain 4",
       "rate": null,
       "total": 52,
       "unit": "it",
       "unit_divisor": 1000,
       "unit_scale": false
      },
      "application/vnd.jupyter.widget-view+json": {
       "model_id": "d753d6bcc1864240bead79cb42384c61",
       "version_major": 2,
       "version_minor": 0
      },
      "text/plain": [
       "chain 4 |          | 00:00 Status"
      ]
     },
     "metadata": {},
     "output_type": "display_data"
    },
    {
     "name": "stdout",
     "output_type": "stream",
     "text": [
      "                                                                                                                                                                                                                                                                                                                                \n"
     ]
    },
    {
     "name": "stderr",
     "output_type": "stream",
     "text": [
      "2023-11-10 13:41:39 - orbit - INFO - Sampling (PyStan) with chains: 4, cores: 8, temperature: 1.000, warmups (per chain): 2500 and samples(per chain): 2500.\n",
      "INFO:orbit:Sampling (PyStan) with chains: 4, cores: 8, temperature: 1.000, warmups (per chain): 2500 and samples(per chain): 2500.\n"
     ]
    },
    {
     "data": {
      "application/json": {
       "ascii": false,
       "bar_format": "{desc} |{bar}| {elapsed} {postfix[0][value]}",
       "colour": null,
       "elapsed": 0.03636813163757324,
       "initial": 0,
       "n": 0,
       "ncols": null,
       "nrows": null,
       "postfix": [
        {
         "value": "Status"
        }
       ],
       "prefix": "chain 1",
       "rate": null,
       "total": 52,
       "unit": "it",
       "unit_divisor": 1000,
       "unit_scale": false
      },
      "application/vnd.jupyter.widget-view+json": {
       "model_id": "8847498cc1d04f8a9d2efd577c4fe7e6",
       "version_major": 2,
       "version_minor": 0
      },
      "text/plain": [
       "chain 1 |          | 00:00 Status"
      ]
     },
     "metadata": {},
     "output_type": "display_data"
    },
    {
     "data": {
      "application/json": {
       "ascii": false,
       "bar_format": "{desc} |{bar}| {elapsed} {postfix[0][value]}",
       "colour": null,
       "elapsed": 0.03996109962463379,
       "initial": 0,
       "n": 0,
       "ncols": null,
       "nrows": null,
       "postfix": [
        {
         "value": "Status"
        }
       ],
       "prefix": "chain 2",
       "rate": null,
       "total": 52,
       "unit": "it",
       "unit_divisor": 1000,
       "unit_scale": false
      },
      "application/vnd.jupyter.widget-view+json": {
       "model_id": "35b7440355644a95abe4aad79114ec8c",
       "version_major": 2,
       "version_minor": 0
      },
      "text/plain": [
       "chain 2 |          | 00:00 Status"
      ]
     },
     "metadata": {},
     "output_type": "display_data"
    },
    {
     "data": {
      "application/json": {
       "ascii": false,
       "bar_format": "{desc} |{bar}| {elapsed} {postfix[0][value]}",
       "colour": null,
       "elapsed": 0.03524923324584961,
       "initial": 0,
       "n": 0,
       "ncols": null,
       "nrows": null,
       "postfix": [
        {
         "value": "Status"
        }
       ],
       "prefix": "chain 3",
       "rate": null,
       "total": 52,
       "unit": "it",
       "unit_divisor": 1000,
       "unit_scale": false
      },
      "application/vnd.jupyter.widget-view+json": {
       "model_id": "be386dfdd515468e94c2067860e29d98",
       "version_major": 2,
       "version_minor": 0
      },
      "text/plain": [
       "chain 3 |          | 00:00 Status"
      ]
     },
     "metadata": {},
     "output_type": "display_data"
    },
    {
     "data": {
      "application/json": {
       "ascii": false,
       "bar_format": "{desc} |{bar}| {elapsed} {postfix[0][value]}",
       "colour": null,
       "elapsed": 0.027240991592407227,
       "initial": 0,
       "n": 0,
       "ncols": null,
       "nrows": null,
       "postfix": [
        {
         "value": "Status"
        }
       ],
       "prefix": "chain 4",
       "rate": null,
       "total": 52,
       "unit": "it",
       "unit_divisor": 1000,
       "unit_scale": false
      },
      "application/vnd.jupyter.widget-view+json": {
       "model_id": "6662a5974687489dbe847730bc554886",
       "version_major": 2,
       "version_minor": 0
      },
      "text/plain": [
       "chain 4 |          | 00:00 Status"
      ]
     },
     "metadata": {},
     "output_type": "display_data"
    },
    {
     "name": "stdout",
     "output_type": "stream",
     "text": [
      "                                                                                                                                                                                                                                                                                                                                \n"
     ]
    },
    {
     "name": "stderr",
     "output_type": "stream",
     "text": [
      "2023-11-10 13:41:43 - orbit - INFO - Sampling (PyStan) with chains: 4, cores: 8, temperature: 1.000, warmups (per chain): 2500 and samples(per chain): 2500.\n",
      "INFO:orbit:Sampling (PyStan) with chains: 4, cores: 8, temperature: 1.000, warmups (per chain): 2500 and samples(per chain): 2500.\n"
     ]
    },
    {
     "data": {
      "application/json": {
       "ascii": false,
       "bar_format": "{desc} |{bar}| {elapsed} {postfix[0][value]}",
       "colour": null,
       "elapsed": 0.033194541931152344,
       "initial": 0,
       "n": 0,
       "ncols": null,
       "nrows": null,
       "postfix": [
        {
         "value": "Status"
        }
       ],
       "prefix": "chain 1",
       "rate": null,
       "total": 52,
       "unit": "it",
       "unit_divisor": 1000,
       "unit_scale": false
      },
      "application/vnd.jupyter.widget-view+json": {
       "model_id": "16783731c14c429eb65e7d951cd75d0b",
       "version_major": 2,
       "version_minor": 0
      },
      "text/plain": [
       "chain 1 |          | 00:00 Status"
      ]
     },
     "metadata": {},
     "output_type": "display_data"
    },
    {
     "data": {
      "application/json": {
       "ascii": false,
       "bar_format": "{desc} |{bar}| {elapsed} {postfix[0][value]}",
       "colour": null,
       "elapsed": 0.0318295955657959,
       "initial": 0,
       "n": 0,
       "ncols": null,
       "nrows": null,
       "postfix": [
        {
         "value": "Status"
        }
       ],
       "prefix": "chain 2",
       "rate": null,
       "total": 52,
       "unit": "it",
       "unit_divisor": 1000,
       "unit_scale": false
      },
      "application/vnd.jupyter.widget-view+json": {
       "model_id": "0db2e92916c549eb8eb9a251c91492bb",
       "version_major": 2,
       "version_minor": 0
      },
      "text/plain": [
       "chain 2 |          | 00:00 Status"
      ]
     },
     "metadata": {},
     "output_type": "display_data"
    },
    {
     "data": {
      "application/json": {
       "ascii": false,
       "bar_format": "{desc} |{bar}| {elapsed} {postfix[0][value]}",
       "colour": null,
       "elapsed": 0.03733348846435547,
       "initial": 0,
       "n": 0,
       "ncols": null,
       "nrows": null,
       "postfix": [
        {
         "value": "Status"
        }
       ],
       "prefix": "chain 3",
       "rate": null,
       "total": 52,
       "unit": "it",
       "unit_divisor": 1000,
       "unit_scale": false
      },
      "application/vnd.jupyter.widget-view+json": {
       "model_id": "d9e7d4566c634774893896697b9efb31",
       "version_major": 2,
       "version_minor": 0
      },
      "text/plain": [
       "chain 3 |          | 00:00 Status"
      ]
     },
     "metadata": {},
     "output_type": "display_data"
    },
    {
     "data": {
      "application/json": {
       "ascii": false,
       "bar_format": "{desc} |{bar}| {elapsed} {postfix[0][value]}",
       "colour": null,
       "elapsed": 0.028730392456054688,
       "initial": 0,
       "n": 0,
       "ncols": null,
       "nrows": null,
       "postfix": [
        {
         "value": "Status"
        }
       ],
       "prefix": "chain 4",
       "rate": null,
       "total": 52,
       "unit": "it",
       "unit_divisor": 1000,
       "unit_scale": false
      },
      "application/vnd.jupyter.widget-view+json": {
       "model_id": "42c52a00fc9e490580c3ec19cd3f63a6",
       "version_major": 2,
       "version_minor": 0
      },
      "text/plain": [
       "chain 4 |          | 00:00 Status"
      ]
     },
     "metadata": {},
     "output_type": "display_data"
    },
    {
     "name": "stdout",
     "output_type": "stream",
     "text": [
      "                                                                                                                                                                                                                                                                                                                                \n"
     ]
    },
    {
     "name": "stderr",
     "output_type": "stream",
     "text": [
      "2023-11-10 13:41:46 - orbit - INFO - Sampling (PyStan) with chains: 4, cores: 8, temperature: 1.000, warmups (per chain): 2500 and samples(per chain): 2500.\n",
      "INFO:orbit:Sampling (PyStan) with chains: 4, cores: 8, temperature: 1.000, warmups (per chain): 2500 and samples(per chain): 2500.\n"
     ]
    },
    {
     "data": {
      "application/json": {
       "ascii": false,
       "bar_format": "{desc} |{bar}| {elapsed} {postfix[0][value]}",
       "colour": null,
       "elapsed": 0.044760704040527344,
       "initial": 0,
       "n": 0,
       "ncols": null,
       "nrows": null,
       "postfix": [
        {
         "value": "Status"
        }
       ],
       "prefix": "chain 1",
       "rate": null,
       "total": 52,
       "unit": "it",
       "unit_divisor": 1000,
       "unit_scale": false
      },
      "application/vnd.jupyter.widget-view+json": {
       "model_id": "11cd385e01084e839262b807bcb71e4c",
       "version_major": 2,
       "version_minor": 0
      },
      "text/plain": [
       "chain 1 |          | 00:00 Status"
      ]
     },
     "metadata": {},
     "output_type": "display_data"
    },
    {
     "data": {
      "application/json": {
       "ascii": false,
       "bar_format": "{desc} |{bar}| {elapsed} {postfix[0][value]}",
       "colour": null,
       "elapsed": 0.040154218673706055,
       "initial": 0,
       "n": 0,
       "ncols": null,
       "nrows": null,
       "postfix": [
        {
         "value": "Status"
        }
       ],
       "prefix": "chain 2",
       "rate": null,
       "total": 52,
       "unit": "it",
       "unit_divisor": 1000,
       "unit_scale": false
      },
      "application/vnd.jupyter.widget-view+json": {
       "model_id": "e92bca67c3014d578a724e95be0921c4",
       "version_major": 2,
       "version_minor": 0
      },
      "text/plain": [
       "chain 2 |          | 00:00 Status"
      ]
     },
     "metadata": {},
     "output_type": "display_data"
    },
    {
     "data": {
      "application/json": {
       "ascii": false,
       "bar_format": "{desc} |{bar}| {elapsed} {postfix[0][value]}",
       "colour": null,
       "elapsed": 0.04004168510437012,
       "initial": 0,
       "n": 0,
       "ncols": null,
       "nrows": null,
       "postfix": [
        {
         "value": "Status"
        }
       ],
       "prefix": "chain 3",
       "rate": null,
       "total": 52,
       "unit": "it",
       "unit_divisor": 1000,
       "unit_scale": false
      },
      "application/vnd.jupyter.widget-view+json": {
       "model_id": "6ff792ce657f43aea8eabc21933712e6",
       "version_major": 2,
       "version_minor": 0
      },
      "text/plain": [
       "chain 3 |          | 00:00 Status"
      ]
     },
     "metadata": {},
     "output_type": "display_data"
    },
    {
     "data": {
      "application/json": {
       "ascii": false,
       "bar_format": "{desc} |{bar}| {elapsed} {postfix[0][value]}",
       "colour": null,
       "elapsed": 0.03355073928833008,
       "initial": 0,
       "n": 0,
       "ncols": null,
       "nrows": null,
       "postfix": [
        {
         "value": "Status"
        }
       ],
       "prefix": "chain 4",
       "rate": null,
       "total": 52,
       "unit": "it",
       "unit_divisor": 1000,
       "unit_scale": false
      },
      "application/vnd.jupyter.widget-view+json": {
       "model_id": "7364d48df6834a06b34460e80d9afedb",
       "version_major": 2,
       "version_minor": 0
      },
      "text/plain": [
       "chain 4 |          | 00:00 Status"
      ]
     },
     "metadata": {},
     "output_type": "display_data"
    },
    {
     "name": "stdout",
     "output_type": "stream",
     "text": [
      "                                                                                                                                                                                                                                                                                                                                \n"
     ]
    },
    {
     "name": "stderr",
     "output_type": "stream",
     "text": [
      "2023-11-10 13:41:50 - orbit - INFO - Sampling (PyStan) with chains: 4, cores: 8, temperature: 1.000, warmups (per chain): 2500 and samples(per chain): 2500.\n",
      "INFO:orbit:Sampling (PyStan) with chains: 4, cores: 8, temperature: 1.000, warmups (per chain): 2500 and samples(per chain): 2500.\n"
     ]
    },
    {
     "data": {
      "application/json": {
       "ascii": false,
       "bar_format": "{desc} |{bar}| {elapsed} {postfix[0][value]}",
       "colour": null,
       "elapsed": 0.04424905776977539,
       "initial": 0,
       "n": 0,
       "ncols": null,
       "nrows": null,
       "postfix": [
        {
         "value": "Status"
        }
       ],
       "prefix": "chain 1",
       "rate": null,
       "total": 52,
       "unit": "it",
       "unit_divisor": 1000,
       "unit_scale": false
      },
      "application/vnd.jupyter.widget-view+json": {
       "model_id": "7cd3d8ff53834869a20763aeb0ea538b",
       "version_major": 2,
       "version_minor": 0
      },
      "text/plain": [
       "chain 1 |          | 00:00 Status"
      ]
     },
     "metadata": {},
     "output_type": "display_data"
    },
    {
     "data": {
      "application/json": {
       "ascii": false,
       "bar_format": "{desc} |{bar}| {elapsed} {postfix[0][value]}",
       "colour": null,
       "elapsed": 0.03606438636779785,
       "initial": 0,
       "n": 0,
       "ncols": null,
       "nrows": null,
       "postfix": [
        {
         "value": "Status"
        }
       ],
       "prefix": "chain 2",
       "rate": null,
       "total": 52,
       "unit": "it",
       "unit_divisor": 1000,
       "unit_scale": false
      },
      "application/vnd.jupyter.widget-view+json": {
       "model_id": "f5d498e0c8384d5fa818321b92a5cc89",
       "version_major": 2,
       "version_minor": 0
      },
      "text/plain": [
       "chain 2 |          | 00:00 Status"
      ]
     },
     "metadata": {},
     "output_type": "display_data"
    },
    {
     "data": {
      "application/json": {
       "ascii": false,
       "bar_format": "{desc} |{bar}| {elapsed} {postfix[0][value]}",
       "colour": null,
       "elapsed": 0.03482794761657715,
       "initial": 0,
       "n": 0,
       "ncols": null,
       "nrows": null,
       "postfix": [
        {
         "value": "Status"
        }
       ],
       "prefix": "chain 3",
       "rate": null,
       "total": 52,
       "unit": "it",
       "unit_divisor": 1000,
       "unit_scale": false
      },
      "application/vnd.jupyter.widget-view+json": {
       "model_id": "93b99fb0eef84038a32dc771bd90dea6",
       "version_major": 2,
       "version_minor": 0
      },
      "text/plain": [
       "chain 3 |          | 00:00 Status"
      ]
     },
     "metadata": {},
     "output_type": "display_data"
    },
    {
     "data": {
      "application/json": {
       "ascii": false,
       "bar_format": "{desc} |{bar}| {elapsed} {postfix[0][value]}",
       "colour": null,
       "elapsed": 0.04034900665283203,
       "initial": 0,
       "n": 0,
       "ncols": null,
       "nrows": null,
       "postfix": [
        {
         "value": "Status"
        }
       ],
       "prefix": "chain 4",
       "rate": null,
       "total": 52,
       "unit": "it",
       "unit_divisor": 1000,
       "unit_scale": false
      },
      "application/vnd.jupyter.widget-view+json": {
       "model_id": "447bf17638df4068a906c4e4a73a2a38",
       "version_major": 2,
       "version_minor": 0
      },
      "text/plain": [
       "chain 4 |          | 00:00 Status"
      ]
     },
     "metadata": {},
     "output_type": "display_data"
    },
    {
     "name": "stdout",
     "output_type": "stream",
     "text": [
      "                                                                                                                                                                                                                                                                                                                                \n"
     ]
    },
    {
     "name": "stderr",
     "output_type": "stream",
     "text": [
      "2023-11-10 13:41:54 - orbit - INFO - Sampling (PyStan) with chains: 4, cores: 8, temperature: 1.000, warmups (per chain): 2500 and samples(per chain): 2500.\n",
      "INFO:orbit:Sampling (PyStan) with chains: 4, cores: 8, temperature: 1.000, warmups (per chain): 2500 and samples(per chain): 2500.\n"
     ]
    },
    {
     "data": {
      "application/json": {
       "ascii": false,
       "bar_format": "{desc} |{bar}| {elapsed} {postfix[0][value]}",
       "colour": null,
       "elapsed": 0.04035210609436035,
       "initial": 0,
       "n": 0,
       "ncols": null,
       "nrows": null,
       "postfix": [
        {
         "value": "Status"
        }
       ],
       "prefix": "chain 1",
       "rate": null,
       "total": 52,
       "unit": "it",
       "unit_divisor": 1000,
       "unit_scale": false
      },
      "application/vnd.jupyter.widget-view+json": {
       "model_id": "63d03ae61cb14057b58ee68dd497fa25",
       "version_major": 2,
       "version_minor": 0
      },
      "text/plain": [
       "chain 1 |          | 00:00 Status"
      ]
     },
     "metadata": {},
     "output_type": "display_data"
    },
    {
     "data": {
      "application/json": {
       "ascii": false,
       "bar_format": "{desc} |{bar}| {elapsed} {postfix[0][value]}",
       "colour": null,
       "elapsed": 0.037270307540893555,
       "initial": 0,
       "n": 0,
       "ncols": null,
       "nrows": null,
       "postfix": [
        {
         "value": "Status"
        }
       ],
       "prefix": "chain 2",
       "rate": null,
       "total": 52,
       "unit": "it",
       "unit_divisor": 1000,
       "unit_scale": false
      },
      "application/vnd.jupyter.widget-view+json": {
       "model_id": "8bbc4567690a4d409385ffe9efdc5615",
       "version_major": 2,
       "version_minor": 0
      },
      "text/plain": [
       "chain 2 |          | 00:00 Status"
      ]
     },
     "metadata": {},
     "output_type": "display_data"
    },
    {
     "data": {
      "application/json": {
       "ascii": false,
       "bar_format": "{desc} |{bar}| {elapsed} {postfix[0][value]}",
       "colour": null,
       "elapsed": 0.03779029846191406,
       "initial": 0,
       "n": 0,
       "ncols": null,
       "nrows": null,
       "postfix": [
        {
         "value": "Status"
        }
       ],
       "prefix": "chain 3",
       "rate": null,
       "total": 52,
       "unit": "it",
       "unit_divisor": 1000,
       "unit_scale": false
      },
      "application/vnd.jupyter.widget-view+json": {
       "model_id": "674bb3a5ef5a40598bc5f4611aa90fdd",
       "version_major": 2,
       "version_minor": 0
      },
      "text/plain": [
       "chain 3 |          | 00:00 Status"
      ]
     },
     "metadata": {},
     "output_type": "display_data"
    },
    {
     "data": {
      "application/json": {
       "ascii": false,
       "bar_format": "{desc} |{bar}| {elapsed} {postfix[0][value]}",
       "colour": null,
       "elapsed": 0.03598189353942871,
       "initial": 0,
       "n": 0,
       "ncols": null,
       "nrows": null,
       "postfix": [
        {
         "value": "Status"
        }
       ],
       "prefix": "chain 4",
       "rate": null,
       "total": 52,
       "unit": "it",
       "unit_divisor": 1000,
       "unit_scale": false
      },
      "application/vnd.jupyter.widget-view+json": {
       "model_id": "322ddeb466994b3eb48376ef78ef99c3",
       "version_major": 2,
       "version_minor": 0
      },
      "text/plain": [
       "chain 4 |          | 00:00 Status"
      ]
     },
     "metadata": {},
     "output_type": "display_data"
    },
    {
     "name": "stdout",
     "output_type": "stream",
     "text": [
      "                                                                                                                                                                                                                                                                                                                                \n"
     ]
    },
    {
     "name": "stderr",
     "output_type": "stream",
     "text": [
      "2023-11-10 13:41:57 - orbit - INFO - Sampling (PyStan) with chains: 4, cores: 8, temperature: 1.000, warmups (per chain): 2500 and samples(per chain): 2500.\n",
      "INFO:orbit:Sampling (PyStan) with chains: 4, cores: 8, temperature: 1.000, warmups (per chain): 2500 and samples(per chain): 2500.\n"
     ]
    },
    {
     "data": {
      "application/json": {
       "ascii": false,
       "bar_format": "{desc} |{bar}| {elapsed} {postfix[0][value]}",
       "colour": null,
       "elapsed": 0.03352999687194824,
       "initial": 0,
       "n": 0,
       "ncols": null,
       "nrows": null,
       "postfix": [
        {
         "value": "Status"
        }
       ],
       "prefix": "chain 1",
       "rate": null,
       "total": 52,
       "unit": "it",
       "unit_divisor": 1000,
       "unit_scale": false
      },
      "application/vnd.jupyter.widget-view+json": {
       "model_id": "731982df8ffd486bb79714a450bd88ec",
       "version_major": 2,
       "version_minor": 0
      },
      "text/plain": [
       "chain 1 |          | 00:00 Status"
      ]
     },
     "metadata": {},
     "output_type": "display_data"
    },
    {
     "data": {
      "application/json": {
       "ascii": false,
       "bar_format": "{desc} |{bar}| {elapsed} {postfix[0][value]}",
       "colour": null,
       "elapsed": 0.034285783767700195,
       "initial": 0,
       "n": 0,
       "ncols": null,
       "nrows": null,
       "postfix": [
        {
         "value": "Status"
        }
       ],
       "prefix": "chain 2",
       "rate": null,
       "total": 52,
       "unit": "it",
       "unit_divisor": 1000,
       "unit_scale": false
      },
      "application/vnd.jupyter.widget-view+json": {
       "model_id": "1008e0e6d33445dfb0db8fc662331d23",
       "version_major": 2,
       "version_minor": 0
      },
      "text/plain": [
       "chain 2 |          | 00:00 Status"
      ]
     },
     "metadata": {},
     "output_type": "display_data"
    },
    {
     "data": {
      "application/json": {
       "ascii": false,
       "bar_format": "{desc} |{bar}| {elapsed} {postfix[0][value]}",
       "colour": null,
       "elapsed": 0.02833724021911621,
       "initial": 0,
       "n": 0,
       "ncols": null,
       "nrows": null,
       "postfix": [
        {
         "value": "Status"
        }
       ],
       "prefix": "chain 3",
       "rate": null,
       "total": 52,
       "unit": "it",
       "unit_divisor": 1000,
       "unit_scale": false
      },
      "application/vnd.jupyter.widget-view+json": {
       "model_id": "d2eab8fdf9e54d06b4100e4a7c52f0c6",
       "version_major": 2,
       "version_minor": 0
      },
      "text/plain": [
       "chain 3 |          | 00:00 Status"
      ]
     },
     "metadata": {},
     "output_type": "display_data"
    },
    {
     "data": {
      "application/json": {
       "ascii": false,
       "bar_format": "{desc} |{bar}| {elapsed} {postfix[0][value]}",
       "colour": null,
       "elapsed": 0.029690265655517578,
       "initial": 0,
       "n": 0,
       "ncols": null,
       "nrows": null,
       "postfix": [
        {
         "value": "Status"
        }
       ],
       "prefix": "chain 4",
       "rate": null,
       "total": 52,
       "unit": "it",
       "unit_divisor": 1000,
       "unit_scale": false
      },
      "application/vnd.jupyter.widget-view+json": {
       "model_id": "9b2f3ad9369f456a9f6cde8447ac2e3c",
       "version_major": 2,
       "version_minor": 0
      },
      "text/plain": [
       "chain 4 |          | 00:00 Status"
      ]
     },
     "metadata": {},
     "output_type": "display_data"
    },
    {
     "name": "stdout",
     "output_type": "stream",
     "text": [
      "                                                                                                                                                                                                                                                                                                                                \n"
     ]
    },
    {
     "name": "stderr",
     "output_type": "stream",
     "text": [
      "2023-11-10 13:42:01 - orbit - INFO - Sampling (PyStan) with chains: 4, cores: 8, temperature: 1.000, warmups (per chain): 2500 and samples(per chain): 2500.\n",
      "INFO:orbit:Sampling (PyStan) with chains: 4, cores: 8, temperature: 1.000, warmups (per chain): 2500 and samples(per chain): 2500.\n"
     ]
    },
    {
     "data": {
      "application/json": {
       "ascii": false,
       "bar_format": "{desc} |{bar}| {elapsed} {postfix[0][value]}",
       "colour": null,
       "elapsed": 0.04551291465759277,
       "initial": 0,
       "n": 0,
       "ncols": null,
       "nrows": null,
       "postfix": [
        {
         "value": "Status"
        }
       ],
       "prefix": "chain 1",
       "rate": null,
       "total": 52,
       "unit": "it",
       "unit_divisor": 1000,
       "unit_scale": false
      },
      "application/vnd.jupyter.widget-view+json": {
       "model_id": "d1236484ec3f48eab7d43d39121aabbc",
       "version_major": 2,
       "version_minor": 0
      },
      "text/plain": [
       "chain 1 |          | 00:00 Status"
      ]
     },
     "metadata": {},
     "output_type": "display_data"
    },
    {
     "data": {
      "application/json": {
       "ascii": false,
       "bar_format": "{desc} |{bar}| {elapsed} {postfix[0][value]}",
       "colour": null,
       "elapsed": 0.053224802017211914,
       "initial": 0,
       "n": 0,
       "ncols": null,
       "nrows": null,
       "postfix": [
        {
         "value": "Status"
        }
       ],
       "prefix": "chain 2",
       "rate": null,
       "total": 52,
       "unit": "it",
       "unit_divisor": 1000,
       "unit_scale": false
      },
      "application/vnd.jupyter.widget-view+json": {
       "model_id": "d2362a5c47354d9b8d72cc4e84469644",
       "version_major": 2,
       "version_minor": 0
      },
      "text/plain": [
       "chain 2 |          | 00:00 Status"
      ]
     },
     "metadata": {},
     "output_type": "display_data"
    },
    {
     "data": {
      "application/json": {
       "ascii": false,
       "bar_format": "{desc} |{bar}| {elapsed} {postfix[0][value]}",
       "colour": null,
       "elapsed": 0.04086756706237793,
       "initial": 0,
       "n": 0,
       "ncols": null,
       "nrows": null,
       "postfix": [
        {
         "value": "Status"
        }
       ],
       "prefix": "chain 3",
       "rate": null,
       "total": 52,
       "unit": "it",
       "unit_divisor": 1000,
       "unit_scale": false
      },
      "application/vnd.jupyter.widget-view+json": {
       "model_id": "45f426ebf123409fb6283f5290d8f759",
       "version_major": 2,
       "version_minor": 0
      },
      "text/plain": [
       "chain 3 |          | 00:00 Status"
      ]
     },
     "metadata": {},
     "output_type": "display_data"
    },
    {
     "data": {
      "application/json": {
       "ascii": false,
       "bar_format": "{desc} |{bar}| {elapsed} {postfix[0][value]}",
       "colour": null,
       "elapsed": 0.04486870765686035,
       "initial": 0,
       "n": 0,
       "ncols": null,
       "nrows": null,
       "postfix": [
        {
         "value": "Status"
        }
       ],
       "prefix": "chain 4",
       "rate": null,
       "total": 52,
       "unit": "it",
       "unit_divisor": 1000,
       "unit_scale": false
      },
      "application/vnd.jupyter.widget-view+json": {
       "model_id": "f8ad58790a7b44e29a9cd0fb03c22da2",
       "version_major": 2,
       "version_minor": 0
      },
      "text/plain": [
       "chain 4 |          | 00:00 Status"
      ]
     },
     "metadata": {},
     "output_type": "display_data"
    },
    {
     "name": "stdout",
     "output_type": "stream",
     "text": [
      "                                                                                                                                                                                                                                                                                                                                \n"
     ]
    },
    {
     "name": "stderr",
     "output_type": "stream",
     "text": [
      "2023-11-10 13:42:07 - orbit - INFO - Sampling (PyStan) with chains: 4, cores: 8, temperature: 1.000, warmups (per chain): 2500 and samples(per chain): 2500.\n",
      "INFO:orbit:Sampling (PyStan) with chains: 4, cores: 8, temperature: 1.000, warmups (per chain): 2500 and samples(per chain): 2500.\n"
     ]
    },
    {
     "data": {
      "application/json": {
       "ascii": false,
       "bar_format": "{desc} |{bar}| {elapsed} {postfix[0][value]}",
       "colour": null,
       "elapsed": 0.044358015060424805,
       "initial": 0,
       "n": 0,
       "ncols": null,
       "nrows": null,
       "postfix": [
        {
         "value": "Status"
        }
       ],
       "prefix": "chain 1",
       "rate": null,
       "total": 52,
       "unit": "it",
       "unit_divisor": 1000,
       "unit_scale": false
      },
      "application/vnd.jupyter.widget-view+json": {
       "model_id": "910191848aae45d3ba51df7f987aeed9",
       "version_major": 2,
       "version_minor": 0
      },
      "text/plain": [
       "chain 1 |          | 00:00 Status"
      ]
     },
     "metadata": {},
     "output_type": "display_data"
    },
    {
     "data": {
      "application/json": {
       "ascii": false,
       "bar_format": "{desc} |{bar}| {elapsed} {postfix[0][value]}",
       "colour": null,
       "elapsed": 0.03259682655334473,
       "initial": 0,
       "n": 0,
       "ncols": null,
       "nrows": null,
       "postfix": [
        {
         "value": "Status"
        }
       ],
       "prefix": "chain 2",
       "rate": null,
       "total": 52,
       "unit": "it",
       "unit_divisor": 1000,
       "unit_scale": false
      },
      "application/vnd.jupyter.widget-view+json": {
       "model_id": "25c54725acb947e4b6d43482b42f1f42",
       "version_major": 2,
       "version_minor": 0
      },
      "text/plain": [
       "chain 2 |          | 00:00 Status"
      ]
     },
     "metadata": {},
     "output_type": "display_data"
    },
    {
     "data": {
      "application/json": {
       "ascii": false,
       "bar_format": "{desc} |{bar}| {elapsed} {postfix[0][value]}",
       "colour": null,
       "elapsed": 0.03904461860656738,
       "initial": 0,
       "n": 0,
       "ncols": null,
       "nrows": null,
       "postfix": [
        {
         "value": "Status"
        }
       ],
       "prefix": "chain 3",
       "rate": null,
       "total": 52,
       "unit": "it",
       "unit_divisor": 1000,
       "unit_scale": false
      },
      "application/vnd.jupyter.widget-view+json": {
       "model_id": "ec42d18514bc44ad90e747ce999e5806",
       "version_major": 2,
       "version_minor": 0
      },
      "text/plain": [
       "chain 3 |          | 00:00 Status"
      ]
     },
     "metadata": {},
     "output_type": "display_data"
    },
    {
     "data": {
      "application/json": {
       "ascii": false,
       "bar_format": "{desc} |{bar}| {elapsed} {postfix[0][value]}",
       "colour": null,
       "elapsed": 0.05149435997009277,
       "initial": 0,
       "n": 0,
       "ncols": null,
       "nrows": null,
       "postfix": [
        {
         "value": "Status"
        }
       ],
       "prefix": "chain 4",
       "rate": null,
       "total": 52,
       "unit": "it",
       "unit_divisor": 1000,
       "unit_scale": false
      },
      "application/vnd.jupyter.widget-view+json": {
       "model_id": "206c7d6b82b841199267b761e0ca786f",
       "version_major": 2,
       "version_minor": 0
      },
      "text/plain": [
       "chain 4 |          | 00:00 Status"
      ]
     },
     "metadata": {},
     "output_type": "display_data"
    },
    {
     "name": "stdout",
     "output_type": "stream",
     "text": [
      "                                                                                                                                                                                                                                                                                                                                \n"
     ]
    },
    {
     "name": "stderr",
     "output_type": "stream",
     "text": [
      "2023-11-10 13:42:13 - orbit - INFO - Sampling (PyStan) with chains: 4, cores: 8, temperature: 1.000, warmups (per chain): 2500 and samples(per chain): 2500.\n",
      "INFO:orbit:Sampling (PyStan) with chains: 4, cores: 8, temperature: 1.000, warmups (per chain): 2500 and samples(per chain): 2500.\n"
     ]
    },
    {
     "data": {
      "application/json": {
       "ascii": false,
       "bar_format": "{desc} |{bar}| {elapsed} {postfix[0][value]}",
       "colour": null,
       "elapsed": 0.04020094871520996,
       "initial": 0,
       "n": 0,
       "ncols": null,
       "nrows": null,
       "postfix": [
        {
         "value": "Status"
        }
       ],
       "prefix": "chain 1",
       "rate": null,
       "total": 52,
       "unit": "it",
       "unit_divisor": 1000,
       "unit_scale": false
      },
      "application/vnd.jupyter.widget-view+json": {
       "model_id": "766696dfdd364d4f86c3553106f8d936",
       "version_major": 2,
       "version_minor": 0
      },
      "text/plain": [
       "chain 1 |          | 00:00 Status"
      ]
     },
     "metadata": {},
     "output_type": "display_data"
    },
    {
     "data": {
      "application/json": {
       "ascii": false,
       "bar_format": "{desc} |{bar}| {elapsed} {postfix[0][value]}",
       "colour": null,
       "elapsed": 0.04230809211730957,
       "initial": 0,
       "n": 0,
       "ncols": null,
       "nrows": null,
       "postfix": [
        {
         "value": "Status"
        }
       ],
       "prefix": "chain 2",
       "rate": null,
       "total": 52,
       "unit": "it",
       "unit_divisor": 1000,
       "unit_scale": false
      },
      "application/vnd.jupyter.widget-view+json": {
       "model_id": "c126f2932f2b4d9881b070c9005d13b4",
       "version_major": 2,
       "version_minor": 0
      },
      "text/plain": [
       "chain 2 |          | 00:00 Status"
      ]
     },
     "metadata": {},
     "output_type": "display_data"
    },
    {
     "data": {
      "application/json": {
       "ascii": false,
       "bar_format": "{desc} |{bar}| {elapsed} {postfix[0][value]}",
       "colour": null,
       "elapsed": 0.04159951210021973,
       "initial": 0,
       "n": 0,
       "ncols": null,
       "nrows": null,
       "postfix": [
        {
         "value": "Status"
        }
       ],
       "prefix": "chain 3",
       "rate": null,
       "total": 52,
       "unit": "it",
       "unit_divisor": 1000,
       "unit_scale": false
      },
      "application/vnd.jupyter.widget-view+json": {
       "model_id": "a2397bf0f61347969a45f393bcf94e52",
       "version_major": 2,
       "version_minor": 0
      },
      "text/plain": [
       "chain 3 |          | 00:00 Status"
      ]
     },
     "metadata": {},
     "output_type": "display_data"
    },
    {
     "data": {
      "application/json": {
       "ascii": false,
       "bar_format": "{desc} |{bar}| {elapsed} {postfix[0][value]}",
       "colour": null,
       "elapsed": 0.0487668514251709,
       "initial": 0,
       "n": 0,
       "ncols": null,
       "nrows": null,
       "postfix": [
        {
         "value": "Status"
        }
       ],
       "prefix": "chain 4",
       "rate": null,
       "total": 52,
       "unit": "it",
       "unit_divisor": 1000,
       "unit_scale": false
      },
      "application/vnd.jupyter.widget-view+json": {
       "model_id": "a645060201664a0ba19f4c5bad807982",
       "version_major": 2,
       "version_minor": 0
      },
      "text/plain": [
       "chain 4 |          | 00:00 Status"
      ]
     },
     "metadata": {},
     "output_type": "display_data"
    },
    {
     "name": "stdout",
     "output_type": "stream",
     "text": [
      "                                                                                                                                                                                                                                                                                                                                \n"
     ]
    },
    {
     "name": "stderr",
     "output_type": "stream",
     "text": [
      "2023-11-10 13:42:19 - orbit - INFO - Sampling (PyStan) with chains: 4, cores: 8, temperature: 1.000, warmups (per chain): 2500 and samples(per chain): 2500.\n",
      "INFO:orbit:Sampling (PyStan) with chains: 4, cores: 8, temperature: 1.000, warmups (per chain): 2500 and samples(per chain): 2500.\n"
     ]
    },
    {
     "data": {
      "application/json": {
       "ascii": false,
       "bar_format": "{desc} |{bar}| {elapsed} {postfix[0][value]}",
       "colour": null,
       "elapsed": 0.05199599266052246,
       "initial": 0,
       "n": 0,
       "ncols": null,
       "nrows": null,
       "postfix": [
        {
         "value": "Status"
        }
       ],
       "prefix": "chain 1",
       "rate": null,
       "total": 52,
       "unit": "it",
       "unit_divisor": 1000,
       "unit_scale": false
      },
      "application/vnd.jupyter.widget-view+json": {
       "model_id": "372989a8d27b4f5788356aa1daa781bd",
       "version_major": 2,
       "version_minor": 0
      },
      "text/plain": [
       "chain 1 |          | 00:00 Status"
      ]
     },
     "metadata": {},
     "output_type": "display_data"
    },
    {
     "data": {
      "application/json": {
       "ascii": false,
       "bar_format": "{desc} |{bar}| {elapsed} {postfix[0][value]}",
       "colour": null,
       "elapsed": 0.048720359802246094,
       "initial": 0,
       "n": 0,
       "ncols": null,
       "nrows": null,
       "postfix": [
        {
         "value": "Status"
        }
       ],
       "prefix": "chain 2",
       "rate": null,
       "total": 52,
       "unit": "it",
       "unit_divisor": 1000,
       "unit_scale": false
      },
      "application/vnd.jupyter.widget-view+json": {
       "model_id": "8adfd60ddacb4246ba3976436ea00beb",
       "version_major": 2,
       "version_minor": 0
      },
      "text/plain": [
       "chain 2 |          | 00:00 Status"
      ]
     },
     "metadata": {},
     "output_type": "display_data"
    },
    {
     "data": {
      "application/json": {
       "ascii": false,
       "bar_format": "{desc} |{bar}| {elapsed} {postfix[0][value]}",
       "colour": null,
       "elapsed": 0.06357669830322266,
       "initial": 0,
       "n": 0,
       "ncols": null,
       "nrows": null,
       "postfix": [
        {
         "value": "Status"
        }
       ],
       "prefix": "chain 3",
       "rate": null,
       "total": 52,
       "unit": "it",
       "unit_divisor": 1000,
       "unit_scale": false
      },
      "application/vnd.jupyter.widget-view+json": {
       "model_id": "314c7efca38645d88f985b0b227c6405",
       "version_major": 2,
       "version_minor": 0
      },
      "text/plain": [
       "chain 3 |          | 00:00 Status"
      ]
     },
     "metadata": {},
     "output_type": "display_data"
    },
    {
     "data": {
      "application/json": {
       "ascii": false,
       "bar_format": "{desc} |{bar}| {elapsed} {postfix[0][value]}",
       "colour": null,
       "elapsed": 0.053960323333740234,
       "initial": 0,
       "n": 0,
       "ncols": null,
       "nrows": null,
       "postfix": [
        {
         "value": "Status"
        }
       ],
       "prefix": "chain 4",
       "rate": null,
       "total": 52,
       "unit": "it",
       "unit_divisor": 1000,
       "unit_scale": false
      },
      "application/vnd.jupyter.widget-view+json": {
       "model_id": "e7cbf89d62ba43aab43cff7fbc25f948",
       "version_major": 2,
       "version_minor": 0
      },
      "text/plain": [
       "chain 4 |          | 00:00 Status"
      ]
     },
     "metadata": {},
     "output_type": "display_data"
    },
    {
     "name": "stdout",
     "output_type": "stream",
     "text": [
      "                                                                                                                                                                                                                                                                                                                                \n"
     ]
    },
    {
     "name": "stderr",
     "output_type": "stream",
     "text": [
      "2023-11-10 13:42:24 - orbit - INFO - Sampling (PyStan) with chains: 4, cores: 8, temperature: 1.000, warmups (per chain): 2500 and samples(per chain): 2500.\n",
      "INFO:orbit:Sampling (PyStan) with chains: 4, cores: 8, temperature: 1.000, warmups (per chain): 2500 and samples(per chain): 2500.\n"
     ]
    },
    {
     "data": {
      "application/json": {
       "ascii": false,
       "bar_format": "{desc} |{bar}| {elapsed} {postfix[0][value]}",
       "colour": null,
       "elapsed": 0.045215606689453125,
       "initial": 0,
       "n": 0,
       "ncols": null,
       "nrows": null,
       "postfix": [
        {
         "value": "Status"
        }
       ],
       "prefix": "chain 1",
       "rate": null,
       "total": 52,
       "unit": "it",
       "unit_divisor": 1000,
       "unit_scale": false
      },
      "application/vnd.jupyter.widget-view+json": {
       "model_id": "b9972d03188d4d29a6b4a3eead2de831",
       "version_major": 2,
       "version_minor": 0
      },
      "text/plain": [
       "chain 1 |          | 00:00 Status"
      ]
     },
     "metadata": {},
     "output_type": "display_data"
    },
    {
     "data": {
      "application/json": {
       "ascii": false,
       "bar_format": "{desc} |{bar}| {elapsed} {postfix[0][value]}",
       "colour": null,
       "elapsed": 0.03981494903564453,
       "initial": 0,
       "n": 0,
       "ncols": null,
       "nrows": null,
       "postfix": [
        {
         "value": "Status"
        }
       ],
       "prefix": "chain 2",
       "rate": null,
       "total": 52,
       "unit": "it",
       "unit_divisor": 1000,
       "unit_scale": false
      },
      "application/vnd.jupyter.widget-view+json": {
       "model_id": "b0d1bbf48d2b43ef9c6b19bba0563b13",
       "version_major": 2,
       "version_minor": 0
      },
      "text/plain": [
       "chain 2 |          | 00:00 Status"
      ]
     },
     "metadata": {},
     "output_type": "display_data"
    },
    {
     "data": {
      "application/json": {
       "ascii": false,
       "bar_format": "{desc} |{bar}| {elapsed} {postfix[0][value]}",
       "colour": null,
       "elapsed": 0.05730152130126953,
       "initial": 0,
       "n": 0,
       "ncols": null,
       "nrows": null,
       "postfix": [
        {
         "value": "Status"
        }
       ],
       "prefix": "chain 3",
       "rate": null,
       "total": 52,
       "unit": "it",
       "unit_divisor": 1000,
       "unit_scale": false
      },
      "application/vnd.jupyter.widget-view+json": {
       "model_id": "a6e0899244464e48aa1e572d6cc67f8c",
       "version_major": 2,
       "version_minor": 0
      },
      "text/plain": [
       "chain 3 |          | 00:00 Status"
      ]
     },
     "metadata": {},
     "output_type": "display_data"
    },
    {
     "data": {
      "application/json": {
       "ascii": false,
       "bar_format": "{desc} |{bar}| {elapsed} {postfix[0][value]}",
       "colour": null,
       "elapsed": 0.058679819107055664,
       "initial": 0,
       "n": 0,
       "ncols": null,
       "nrows": null,
       "postfix": [
        {
         "value": "Status"
        }
       ],
       "prefix": "chain 4",
       "rate": null,
       "total": 52,
       "unit": "it",
       "unit_divisor": 1000,
       "unit_scale": false
      },
      "application/vnd.jupyter.widget-view+json": {
       "model_id": "8bee19ac6f17432790e581ccc96a0f0c",
       "version_major": 2,
       "version_minor": 0
      },
      "text/plain": [
       "chain 4 |          | 00:00 Status"
      ]
     },
     "metadata": {},
     "output_type": "display_data"
    },
    {
     "name": "stdout",
     "output_type": "stream",
     "text": [
      "                                                                                                                                                                                                                                                                                                                                \n"
     ]
    },
    {
     "name": "stderr",
     "output_type": "stream",
     "text": [
      "2023-11-10 13:42:30 - orbit - INFO - Sampling (PyStan) with chains: 4, cores: 8, temperature: 1.000, warmups (per chain): 2500 and samples(per chain): 2500.\n",
      "INFO:orbit:Sampling (PyStan) with chains: 4, cores: 8, temperature: 1.000, warmups (per chain): 2500 and samples(per chain): 2500.\n"
     ]
    },
    {
     "data": {
      "application/json": {
       "ascii": false,
       "bar_format": "{desc} |{bar}| {elapsed} {postfix[0][value]}",
       "colour": null,
       "elapsed": 0.06232333183288574,
       "initial": 0,
       "n": 0,
       "ncols": null,
       "nrows": null,
       "postfix": [
        {
         "value": "Status"
        }
       ],
       "prefix": "chain 1",
       "rate": null,
       "total": 52,
       "unit": "it",
       "unit_divisor": 1000,
       "unit_scale": false
      },
      "application/vnd.jupyter.widget-view+json": {
       "model_id": "42718466ca37427eaca5ed97148f5f0b",
       "version_major": 2,
       "version_minor": 0
      },
      "text/plain": [
       "chain 1 |          | 00:00 Status"
      ]
     },
     "metadata": {},
     "output_type": "display_data"
    },
    {
     "data": {
      "application/json": {
       "ascii": false,
       "bar_format": "{desc} |{bar}| {elapsed} {postfix[0][value]}",
       "colour": null,
       "elapsed": 0.06353497505187988,
       "initial": 0,
       "n": 0,
       "ncols": null,
       "nrows": null,
       "postfix": [
        {
         "value": "Status"
        }
       ],
       "prefix": "chain 2",
       "rate": null,
       "total": 52,
       "unit": "it",
       "unit_divisor": 1000,
       "unit_scale": false
      },
      "application/vnd.jupyter.widget-view+json": {
       "model_id": "ef08044c473f416da51dca04d5aefc71",
       "version_major": 2,
       "version_minor": 0
      },
      "text/plain": [
       "chain 2 |          | 00:00 Status"
      ]
     },
     "metadata": {},
     "output_type": "display_data"
    },
    {
     "data": {
      "application/json": {
       "ascii": false,
       "bar_format": "{desc} |{bar}| {elapsed} {postfix[0][value]}",
       "colour": null,
       "elapsed": 0.04661870002746582,
       "initial": 0,
       "n": 0,
       "ncols": null,
       "nrows": null,
       "postfix": [
        {
         "value": "Status"
        }
       ],
       "prefix": "chain 3",
       "rate": null,
       "total": 52,
       "unit": "it",
       "unit_divisor": 1000,
       "unit_scale": false
      },
      "application/vnd.jupyter.widget-view+json": {
       "model_id": "e7f5364a15ed402e94b4604cf7c23c08",
       "version_major": 2,
       "version_minor": 0
      },
      "text/plain": [
       "chain 3 |          | 00:00 Status"
      ]
     },
     "metadata": {},
     "output_type": "display_data"
    },
    {
     "data": {
      "application/json": {
       "ascii": false,
       "bar_format": "{desc} |{bar}| {elapsed} {postfix[0][value]}",
       "colour": null,
       "elapsed": 0.048943281173706055,
       "initial": 0,
       "n": 0,
       "ncols": null,
       "nrows": null,
       "postfix": [
        {
         "value": "Status"
        }
       ],
       "prefix": "chain 4",
       "rate": null,
       "total": 52,
       "unit": "it",
       "unit_divisor": 1000,
       "unit_scale": false
      },
      "application/vnd.jupyter.widget-view+json": {
       "model_id": "bf6a878600a0491683f18a22f1797f72",
       "version_major": 2,
       "version_minor": 0
      },
      "text/plain": [
       "chain 4 |          | 00:00 Status"
      ]
     },
     "metadata": {},
     "output_type": "display_data"
    },
    {
     "name": "stdout",
     "output_type": "stream",
     "text": [
      "                                                                                                                                                                                                                                                                                                                                \n"
     ]
    },
    {
     "name": "stderr",
     "output_type": "stream",
     "text": [
      "2023-11-10 13:42:35 - orbit - INFO - Sampling (PyStan) with chains: 4, cores: 8, temperature: 1.000, warmups (per chain): 2500 and samples(per chain): 2500.\n",
      "INFO:orbit:Sampling (PyStan) with chains: 4, cores: 8, temperature: 1.000, warmups (per chain): 2500 and samples(per chain): 2500.\n"
     ]
    },
    {
     "data": {
      "application/json": {
       "ascii": false,
       "bar_format": "{desc} |{bar}| {elapsed} {postfix[0][value]}",
       "colour": null,
       "elapsed": 0.06200838088989258,
       "initial": 0,
       "n": 0,
       "ncols": null,
       "nrows": null,
       "postfix": [
        {
         "value": "Status"
        }
       ],
       "prefix": "chain 1",
       "rate": null,
       "total": 52,
       "unit": "it",
       "unit_divisor": 1000,
       "unit_scale": false
      },
      "application/vnd.jupyter.widget-view+json": {
       "model_id": "3ae43171b58d4c669d4b8b241b32ecb4",
       "version_major": 2,
       "version_minor": 0
      },
      "text/plain": [
       "chain 1 |          | 00:00 Status"
      ]
     },
     "metadata": {},
     "output_type": "display_data"
    },
    {
     "data": {
      "application/json": {
       "ascii": false,
       "bar_format": "{desc} |{bar}| {elapsed} {postfix[0][value]}",
       "colour": null,
       "elapsed": 0.047516822814941406,
       "initial": 0,
       "n": 0,
       "ncols": null,
       "nrows": null,
       "postfix": [
        {
         "value": "Status"
        }
       ],
       "prefix": "chain 2",
       "rate": null,
       "total": 52,
       "unit": "it",
       "unit_divisor": 1000,
       "unit_scale": false
      },
      "application/vnd.jupyter.widget-view+json": {
       "model_id": "d982c18ffe38400fb3d5ed2ffa2772e4",
       "version_major": 2,
       "version_minor": 0
      },
      "text/plain": [
       "chain 2 |          | 00:00 Status"
      ]
     },
     "metadata": {},
     "output_type": "display_data"
    },
    {
     "data": {
      "application/json": {
       "ascii": false,
       "bar_format": "{desc} |{bar}| {elapsed} {postfix[0][value]}",
       "colour": null,
       "elapsed": 0.03763532638549805,
       "initial": 0,
       "n": 0,
       "ncols": null,
       "nrows": null,
       "postfix": [
        {
         "value": "Status"
        }
       ],
       "prefix": "chain 3",
       "rate": null,
       "total": 52,
       "unit": "it",
       "unit_divisor": 1000,
       "unit_scale": false
      },
      "application/vnd.jupyter.widget-view+json": {
       "model_id": "602de7cf241b484696d60cd1738b3d14",
       "version_major": 2,
       "version_minor": 0
      },
      "text/plain": [
       "chain 3 |          | 00:00 Status"
      ]
     },
     "metadata": {},
     "output_type": "display_data"
    },
    {
     "data": {
      "application/json": {
       "ascii": false,
       "bar_format": "{desc} |{bar}| {elapsed} {postfix[0][value]}",
       "colour": null,
       "elapsed": 0.04778265953063965,
       "initial": 0,
       "n": 0,
       "ncols": null,
       "nrows": null,
       "postfix": [
        {
         "value": "Status"
        }
       ],
       "prefix": "chain 4",
       "rate": null,
       "total": 52,
       "unit": "it",
       "unit_divisor": 1000,
       "unit_scale": false
      },
      "application/vnd.jupyter.widget-view+json": {
       "model_id": "2170bc272cf643bea2db2339163ed08c",
       "version_major": 2,
       "version_minor": 0
      },
      "text/plain": [
       "chain 4 |          | 00:00 Status"
      ]
     },
     "metadata": {},
     "output_type": "display_data"
    },
    {
     "name": "stdout",
     "output_type": "stream",
     "text": [
      "                                                                                                                                                                                                                                                                                                                                \n"
     ]
    },
    {
     "name": "stderr",
     "output_type": "stream",
     "text": [
      "2023-11-10 13:42:40 - orbit - INFO - Sampling (PyStan) with chains: 4, cores: 8, temperature: 1.000, warmups (per chain): 2500 and samples(per chain): 2500.\n",
      "INFO:orbit:Sampling (PyStan) with chains: 4, cores: 8, temperature: 1.000, warmups (per chain): 2500 and samples(per chain): 2500.\n"
     ]
    },
    {
     "data": {
      "application/json": {
       "ascii": false,
       "bar_format": "{desc} |{bar}| {elapsed} {postfix[0][value]}",
       "colour": null,
       "elapsed": 0.04172515869140625,
       "initial": 0,
       "n": 0,
       "ncols": null,
       "nrows": null,
       "postfix": [
        {
         "value": "Status"
        }
       ],
       "prefix": "chain 1",
       "rate": null,
       "total": 52,
       "unit": "it",
       "unit_divisor": 1000,
       "unit_scale": false
      },
      "application/vnd.jupyter.widget-view+json": {
       "model_id": "45a27897d3054428bcf0b5680ea5b5fd",
       "version_major": 2,
       "version_minor": 0
      },
      "text/plain": [
       "chain 1 |          | 00:00 Status"
      ]
     },
     "metadata": {},
     "output_type": "display_data"
    },
    {
     "data": {
      "application/json": {
       "ascii": false,
       "bar_format": "{desc} |{bar}| {elapsed} {postfix[0][value]}",
       "colour": null,
       "elapsed": 0.031148672103881836,
       "initial": 0,
       "n": 0,
       "ncols": null,
       "nrows": null,
       "postfix": [
        {
         "value": "Status"
        }
       ],
       "prefix": "chain 2",
       "rate": null,
       "total": 52,
       "unit": "it",
       "unit_divisor": 1000,
       "unit_scale": false
      },
      "application/vnd.jupyter.widget-view+json": {
       "model_id": "1e5bc0721f6044e8b9524ddc07437011",
       "version_major": 2,
       "version_minor": 0
      },
      "text/plain": [
       "chain 2 |          | 00:00 Status"
      ]
     },
     "metadata": {},
     "output_type": "display_data"
    },
    {
     "data": {
      "application/json": {
       "ascii": false,
       "bar_format": "{desc} |{bar}| {elapsed} {postfix[0][value]}",
       "colour": null,
       "elapsed": 0.03555798530578613,
       "initial": 0,
       "n": 0,
       "ncols": null,
       "nrows": null,
       "postfix": [
        {
         "value": "Status"
        }
       ],
       "prefix": "chain 3",
       "rate": null,
       "total": 52,
       "unit": "it",
       "unit_divisor": 1000,
       "unit_scale": false
      },
      "application/vnd.jupyter.widget-view+json": {
       "model_id": "e2fa5968b0c74ed48e8809d66443427e",
       "version_major": 2,
       "version_minor": 0
      },
      "text/plain": [
       "chain 3 |          | 00:00 Status"
      ]
     },
     "metadata": {},
     "output_type": "display_data"
    },
    {
     "data": {
      "application/json": {
       "ascii": false,
       "bar_format": "{desc} |{bar}| {elapsed} {postfix[0][value]}",
       "colour": null,
       "elapsed": 0.04451870918273926,
       "initial": 0,
       "n": 0,
       "ncols": null,
       "nrows": null,
       "postfix": [
        {
         "value": "Status"
        }
       ],
       "prefix": "chain 4",
       "rate": null,
       "total": 52,
       "unit": "it",
       "unit_divisor": 1000,
       "unit_scale": false
      },
      "application/vnd.jupyter.widget-view+json": {
       "model_id": "69f9628268f242b393c3450a4c1e8186",
       "version_major": 2,
       "version_minor": 0
      },
      "text/plain": [
       "chain 4 |          | 00:00 Status"
      ]
     },
     "metadata": {},
     "output_type": "display_data"
    },
    {
     "name": "stdout",
     "output_type": "stream",
     "text": [
      "                                                                                                                                                                                                                                                                                                                                \n"
     ]
    },
    {
     "name": "stderr",
     "output_type": "stream",
     "text": [
      "2023-11-10 13:42:46 - orbit - INFO - Sampling (PyStan) with chains: 4, cores: 8, temperature: 1.000, warmups (per chain): 2500 and samples(per chain): 2500.\n",
      "INFO:orbit:Sampling (PyStan) with chains: 4, cores: 8, temperature: 1.000, warmups (per chain): 2500 and samples(per chain): 2500.\n"
     ]
    },
    {
     "data": {
      "application/json": {
       "ascii": false,
       "bar_format": "{desc} |{bar}| {elapsed} {postfix[0][value]}",
       "colour": null,
       "elapsed": 0.045217037200927734,
       "initial": 0,
       "n": 0,
       "ncols": null,
       "nrows": null,
       "postfix": [
        {
         "value": "Status"
        }
       ],
       "prefix": "chain 1",
       "rate": null,
       "total": 52,
       "unit": "it",
       "unit_divisor": 1000,
       "unit_scale": false
      },
      "application/vnd.jupyter.widget-view+json": {
       "model_id": "592dd01bbb254fa8b757c22b95312187",
       "version_major": 2,
       "version_minor": 0
      },
      "text/plain": [
       "chain 1 |          | 00:00 Status"
      ]
     },
     "metadata": {},
     "output_type": "display_data"
    },
    {
     "data": {
      "application/json": {
       "ascii": false,
       "bar_format": "{desc} |{bar}| {elapsed} {postfix[0][value]}",
       "colour": null,
       "elapsed": 0.0419921875,
       "initial": 0,
       "n": 0,
       "ncols": null,
       "nrows": null,
       "postfix": [
        {
         "value": "Status"
        }
       ],
       "prefix": "chain 2",
       "rate": null,
       "total": 52,
       "unit": "it",
       "unit_divisor": 1000,
       "unit_scale": false
      },
      "application/vnd.jupyter.widget-view+json": {
       "model_id": "b9672361483b497aa69b10bfda813e4b",
       "version_major": 2,
       "version_minor": 0
      },
      "text/plain": [
       "chain 2 |          | 00:00 Status"
      ]
     },
     "metadata": {},
     "output_type": "display_data"
    },
    {
     "data": {
      "application/json": {
       "ascii": false,
       "bar_format": "{desc} |{bar}| {elapsed} {postfix[0][value]}",
       "colour": null,
       "elapsed": 0.05214953422546387,
       "initial": 0,
       "n": 0,
       "ncols": null,
       "nrows": null,
       "postfix": [
        {
         "value": "Status"
        }
       ],
       "prefix": "chain 3",
       "rate": null,
       "total": 52,
       "unit": "it",
       "unit_divisor": 1000,
       "unit_scale": false
      },
      "application/vnd.jupyter.widget-view+json": {
       "model_id": "79c6648e3b07459b95cf041d668c6c1d",
       "version_major": 2,
       "version_minor": 0
      },
      "text/plain": [
       "chain 3 |          | 00:00 Status"
      ]
     },
     "metadata": {},
     "output_type": "display_data"
    },
    {
     "data": {
      "application/json": {
       "ascii": false,
       "bar_format": "{desc} |{bar}| {elapsed} {postfix[0][value]}",
       "colour": null,
       "elapsed": 0.0401003360748291,
       "initial": 0,
       "n": 0,
       "ncols": null,
       "nrows": null,
       "postfix": [
        {
         "value": "Status"
        }
       ],
       "prefix": "chain 4",
       "rate": null,
       "total": 52,
       "unit": "it",
       "unit_divisor": 1000,
       "unit_scale": false
      },
      "application/vnd.jupyter.widget-view+json": {
       "model_id": "4a55bcd2f5a64215b5a4daa9180f11fb",
       "version_major": 2,
       "version_minor": 0
      },
      "text/plain": [
       "chain 4 |          | 00:00 Status"
      ]
     },
     "metadata": {},
     "output_type": "display_data"
    },
    {
     "name": "stdout",
     "output_type": "stream",
     "text": [
      "                                                                                                                                                                                                                                                                                                                                \n"
     ]
    },
    {
     "name": "stderr",
     "output_type": "stream",
     "text": [
      "2023-11-10 13:42:52 - orbit - INFO - Sampling (PyStan) with chains: 4, cores: 8, temperature: 1.000, warmups (per chain): 2500 and samples(per chain): 2500.\n",
      "INFO:orbit:Sampling (PyStan) with chains: 4, cores: 8, temperature: 1.000, warmups (per chain): 2500 and samples(per chain): 2500.\n"
     ]
    },
    {
     "data": {
      "application/json": {
       "ascii": false,
       "bar_format": "{desc} |{bar}| {elapsed} {postfix[0][value]}",
       "colour": null,
       "elapsed": 0.038892269134521484,
       "initial": 0,
       "n": 0,
       "ncols": null,
       "nrows": null,
       "postfix": [
        {
         "value": "Status"
        }
       ],
       "prefix": "chain 1",
       "rate": null,
       "total": 52,
       "unit": "it",
       "unit_divisor": 1000,
       "unit_scale": false
      },
      "application/vnd.jupyter.widget-view+json": {
       "model_id": "bce72987e7644c2199ca4b3554a20ef4",
       "version_major": 2,
       "version_minor": 0
      },
      "text/plain": [
       "chain 1 |          | 00:00 Status"
      ]
     },
     "metadata": {},
     "output_type": "display_data"
    },
    {
     "data": {
      "application/json": {
       "ascii": false,
       "bar_format": "{desc} |{bar}| {elapsed} {postfix[0][value]}",
       "colour": null,
       "elapsed": 0.034327030181884766,
       "initial": 0,
       "n": 0,
       "ncols": null,
       "nrows": null,
       "postfix": [
        {
         "value": "Status"
        }
       ],
       "prefix": "chain 2",
       "rate": null,
       "total": 52,
       "unit": "it",
       "unit_divisor": 1000,
       "unit_scale": false
      },
      "application/vnd.jupyter.widget-view+json": {
       "model_id": "0f1b5ff020394313990b7e057f7142a8",
       "version_major": 2,
       "version_minor": 0
      },
      "text/plain": [
       "chain 2 |          | 00:00 Status"
      ]
     },
     "metadata": {},
     "output_type": "display_data"
    },
    {
     "data": {
      "application/json": {
       "ascii": false,
       "bar_format": "{desc} |{bar}| {elapsed} {postfix[0][value]}",
       "colour": null,
       "elapsed": 0.03559517860412598,
       "initial": 0,
       "n": 0,
       "ncols": null,
       "nrows": null,
       "postfix": [
        {
         "value": "Status"
        }
       ],
       "prefix": "chain 3",
       "rate": null,
       "total": 52,
       "unit": "it",
       "unit_divisor": 1000,
       "unit_scale": false
      },
      "application/vnd.jupyter.widget-view+json": {
       "model_id": "eb1c133020794b948ae9f8f0cba94e67",
       "version_major": 2,
       "version_minor": 0
      },
      "text/plain": [
       "chain 3 |          | 00:00 Status"
      ]
     },
     "metadata": {},
     "output_type": "display_data"
    },
    {
     "data": {
      "application/json": {
       "ascii": false,
       "bar_format": "{desc} |{bar}| {elapsed} {postfix[0][value]}",
       "colour": null,
       "elapsed": 0.0366358757019043,
       "initial": 0,
       "n": 0,
       "ncols": null,
       "nrows": null,
       "postfix": [
        {
         "value": "Status"
        }
       ],
       "prefix": "chain 4",
       "rate": null,
       "total": 52,
       "unit": "it",
       "unit_divisor": 1000,
       "unit_scale": false
      },
      "application/vnd.jupyter.widget-view+json": {
       "model_id": "f21efa95f2e74149a230d67501fcf12f",
       "version_major": 2,
       "version_minor": 0
      },
      "text/plain": [
       "chain 4 |          | 00:00 Status"
      ]
     },
     "metadata": {},
     "output_type": "display_data"
    },
    {
     "name": "stdout",
     "output_type": "stream",
     "text": [
      "                                                                                                                                                                                                                                                                                                                                \n"
     ]
    },
    {
     "name": "stderr",
     "output_type": "stream",
     "text": [
      "2023-11-10 13:42:56 - orbit - INFO - Sampling (PyStan) with chains: 4, cores: 8, temperature: 1.000, warmups (per chain): 2500 and samples(per chain): 2500.\n",
      "INFO:orbit:Sampling (PyStan) with chains: 4, cores: 8, temperature: 1.000, warmups (per chain): 2500 and samples(per chain): 2500.\n"
     ]
    },
    {
     "data": {
      "application/json": {
       "ascii": false,
       "bar_format": "{desc} |{bar}| {elapsed} {postfix[0][value]}",
       "colour": null,
       "elapsed": 0.043769121170043945,
       "initial": 0,
       "n": 0,
       "ncols": null,
       "nrows": null,
       "postfix": [
        {
         "value": "Status"
        }
       ],
       "prefix": "chain 1",
       "rate": null,
       "total": 52,
       "unit": "it",
       "unit_divisor": 1000,
       "unit_scale": false
      },
      "application/vnd.jupyter.widget-view+json": {
       "model_id": "1201cdf21fad4cf7a9263c5f5ada1ab6",
       "version_major": 2,
       "version_minor": 0
      },
      "text/plain": [
       "chain 1 |          | 00:00 Status"
      ]
     },
     "metadata": {},
     "output_type": "display_data"
    },
    {
     "data": {
      "application/json": {
       "ascii": false,
       "bar_format": "{desc} |{bar}| {elapsed} {postfix[0][value]}",
       "colour": null,
       "elapsed": 0.0363616943359375,
       "initial": 0,
       "n": 0,
       "ncols": null,
       "nrows": null,
       "postfix": [
        {
         "value": "Status"
        }
       ],
       "prefix": "chain 2",
       "rate": null,
       "total": 52,
       "unit": "it",
       "unit_divisor": 1000,
       "unit_scale": false
      },
      "application/vnd.jupyter.widget-view+json": {
       "model_id": "30046d0223184101adf969087b6b6747",
       "version_major": 2,
       "version_minor": 0
      },
      "text/plain": [
       "chain 2 |          | 00:00 Status"
      ]
     },
     "metadata": {},
     "output_type": "display_data"
    },
    {
     "data": {
      "application/json": {
       "ascii": false,
       "bar_format": "{desc} |{bar}| {elapsed} {postfix[0][value]}",
       "colour": null,
       "elapsed": 0.037222862243652344,
       "initial": 0,
       "n": 0,
       "ncols": null,
       "nrows": null,
       "postfix": [
        {
         "value": "Status"
        }
       ],
       "prefix": "chain 3",
       "rate": null,
       "total": 52,
       "unit": "it",
       "unit_divisor": 1000,
       "unit_scale": false
      },
      "application/vnd.jupyter.widget-view+json": {
       "model_id": "97cf6e941c5349ffabebe6b1256261ff",
       "version_major": 2,
       "version_minor": 0
      },
      "text/plain": [
       "chain 3 |          | 00:00 Status"
      ]
     },
     "metadata": {},
     "output_type": "display_data"
    },
    {
     "data": {
      "application/json": {
       "ascii": false,
       "bar_format": "{desc} |{bar}| {elapsed} {postfix[0][value]}",
       "colour": null,
       "elapsed": 0.036086082458496094,
       "initial": 0,
       "n": 0,
       "ncols": null,
       "nrows": null,
       "postfix": [
        {
         "value": "Status"
        }
       ],
       "prefix": "chain 4",
       "rate": null,
       "total": 52,
       "unit": "it",
       "unit_divisor": 1000,
       "unit_scale": false
      },
      "application/vnd.jupyter.widget-view+json": {
       "model_id": "0c8899613cbd4f6d819e4f107ba5e78e",
       "version_major": 2,
       "version_minor": 0
      },
      "text/plain": [
       "chain 4 |          | 00:00 Status"
      ]
     },
     "metadata": {},
     "output_type": "display_data"
    },
    {
     "name": "stdout",
     "output_type": "stream",
     "text": [
      "                                                                                                                                                                                                                                                                                                                                \n"
     ]
    },
    {
     "name": "stderr",
     "output_type": "stream",
     "text": [
      "2023-11-10 13:43:00 - orbit - INFO - Sampling (PyStan) with chains: 4, cores: 8, temperature: 1.000, warmups (per chain): 2500 and samples(per chain): 2500.\n",
      "INFO:orbit:Sampling (PyStan) with chains: 4, cores: 8, temperature: 1.000, warmups (per chain): 2500 and samples(per chain): 2500.\n"
     ]
    },
    {
     "data": {
      "application/json": {
       "ascii": false,
       "bar_format": "{desc} |{bar}| {elapsed} {postfix[0][value]}",
       "colour": null,
       "elapsed": 0.03646397590637207,
       "initial": 0,
       "n": 0,
       "ncols": null,
       "nrows": null,
       "postfix": [
        {
         "value": "Status"
        }
       ],
       "prefix": "chain 1",
       "rate": null,
       "total": 52,
       "unit": "it",
       "unit_divisor": 1000,
       "unit_scale": false
      },
      "application/vnd.jupyter.widget-view+json": {
       "model_id": "9997c2fae8114847b66949bee5257e93",
       "version_major": 2,
       "version_minor": 0
      },
      "text/plain": [
       "chain 1 |          | 00:00 Status"
      ]
     },
     "metadata": {},
     "output_type": "display_data"
    },
    {
     "data": {
      "application/json": {
       "ascii": false,
       "bar_format": "{desc} |{bar}| {elapsed} {postfix[0][value]}",
       "colour": null,
       "elapsed": 0.04401254653930664,
       "initial": 0,
       "n": 0,
       "ncols": null,
       "nrows": null,
       "postfix": [
        {
         "value": "Status"
        }
       ],
       "prefix": "chain 2",
       "rate": null,
       "total": 52,
       "unit": "it",
       "unit_divisor": 1000,
       "unit_scale": false
      },
      "application/vnd.jupyter.widget-view+json": {
       "model_id": "ee50f108f90f4a0395809cf3f8c68b23",
       "version_major": 2,
       "version_minor": 0
      },
      "text/plain": [
       "chain 2 |          | 00:00 Status"
      ]
     },
     "metadata": {},
     "output_type": "display_data"
    },
    {
     "data": {
      "application/json": {
       "ascii": false,
       "bar_format": "{desc} |{bar}| {elapsed} {postfix[0][value]}",
       "colour": null,
       "elapsed": 0.03875112533569336,
       "initial": 0,
       "n": 0,
       "ncols": null,
       "nrows": null,
       "postfix": [
        {
         "value": "Status"
        }
       ],
       "prefix": "chain 3",
       "rate": null,
       "total": 52,
       "unit": "it",
       "unit_divisor": 1000,
       "unit_scale": false
      },
      "application/vnd.jupyter.widget-view+json": {
       "model_id": "ca1aa5fab2474ca095e6bb42b7bdba58",
       "version_major": 2,
       "version_minor": 0
      },
      "text/plain": [
       "chain 3 |          | 00:00 Status"
      ]
     },
     "metadata": {},
     "output_type": "display_data"
    },
    {
     "data": {
      "application/json": {
       "ascii": false,
       "bar_format": "{desc} |{bar}| {elapsed} {postfix[0][value]}",
       "colour": null,
       "elapsed": 0.0353546142578125,
       "initial": 0,
       "n": 0,
       "ncols": null,
       "nrows": null,
       "postfix": [
        {
         "value": "Status"
        }
       ],
       "prefix": "chain 4",
       "rate": null,
       "total": 52,
       "unit": "it",
       "unit_divisor": 1000,
       "unit_scale": false
      },
      "application/vnd.jupyter.widget-view+json": {
       "model_id": "cb5cc853864240219bf83325bfa09022",
       "version_major": 2,
       "version_minor": 0
      },
      "text/plain": [
       "chain 4 |          | 00:00 Status"
      ]
     },
     "metadata": {},
     "output_type": "display_data"
    },
    {
     "name": "stdout",
     "output_type": "stream",
     "text": [
      "                                                                                                                                                                                                                                                                                                                                \n"
     ]
    },
    {
     "name": "stderr",
     "output_type": "stream",
     "text": [
      "2023-11-10 13:43:06 - orbit - INFO - Sampling (PyStan) with chains: 4, cores: 8, temperature: 1.000, warmups (per chain): 2500 and samples(per chain): 2500.\n",
      "INFO:orbit:Sampling (PyStan) with chains: 4, cores: 8, temperature: 1.000, warmups (per chain): 2500 and samples(per chain): 2500.\n"
     ]
    },
    {
     "data": {
      "application/json": {
       "ascii": false,
       "bar_format": "{desc} |{bar}| {elapsed} {postfix[0][value]}",
       "colour": null,
       "elapsed": 0.04248309135437012,
       "initial": 0,
       "n": 0,
       "ncols": null,
       "nrows": null,
       "postfix": [
        {
         "value": "Status"
        }
       ],
       "prefix": "chain 1",
       "rate": null,
       "total": 52,
       "unit": "it",
       "unit_divisor": 1000,
       "unit_scale": false
      },
      "application/vnd.jupyter.widget-view+json": {
       "model_id": "d2297682045144efa4aa7848f6cf629f",
       "version_major": 2,
       "version_minor": 0
      },
      "text/plain": [
       "chain 1 |          | 00:00 Status"
      ]
     },
     "metadata": {},
     "output_type": "display_data"
    },
    {
     "data": {
      "application/json": {
       "ascii": false,
       "bar_format": "{desc} |{bar}| {elapsed} {postfix[0][value]}",
       "colour": null,
       "elapsed": 0.044086456298828125,
       "initial": 0,
       "n": 0,
       "ncols": null,
       "nrows": null,
       "postfix": [
        {
         "value": "Status"
        }
       ],
       "prefix": "chain 2",
       "rate": null,
       "total": 52,
       "unit": "it",
       "unit_divisor": 1000,
       "unit_scale": false
      },
      "application/vnd.jupyter.widget-view+json": {
       "model_id": "195f9235a52541fa8c1a65c4aca2b53f",
       "version_major": 2,
       "version_minor": 0
      },
      "text/plain": [
       "chain 2 |          | 00:00 Status"
      ]
     },
     "metadata": {},
     "output_type": "display_data"
    },
    {
     "data": {
      "application/json": {
       "ascii": false,
       "bar_format": "{desc} |{bar}| {elapsed} {postfix[0][value]}",
       "colour": null,
       "elapsed": 0.04462409019470215,
       "initial": 0,
       "n": 0,
       "ncols": null,
       "nrows": null,
       "postfix": [
        {
         "value": "Status"
        }
       ],
       "prefix": "chain 3",
       "rate": null,
       "total": 52,
       "unit": "it",
       "unit_divisor": 1000,
       "unit_scale": false
      },
      "application/vnd.jupyter.widget-view+json": {
       "model_id": "afcbf5482783485189d2e266aecbe4dc",
       "version_major": 2,
       "version_minor": 0
      },
      "text/plain": [
       "chain 3 |          | 00:00 Status"
      ]
     },
     "metadata": {},
     "output_type": "display_data"
    },
    {
     "data": {
      "application/json": {
       "ascii": false,
       "bar_format": "{desc} |{bar}| {elapsed} {postfix[0][value]}",
       "colour": null,
       "elapsed": 0.04511117935180664,
       "initial": 0,
       "n": 0,
       "ncols": null,
       "nrows": null,
       "postfix": [
        {
         "value": "Status"
        }
       ],
       "prefix": "chain 4",
       "rate": null,
       "total": 52,
       "unit": "it",
       "unit_divisor": 1000,
       "unit_scale": false
      },
      "application/vnd.jupyter.widget-view+json": {
       "model_id": "4962642ff18447f6b886de116716ddef",
       "version_major": 2,
       "version_minor": 0
      },
      "text/plain": [
       "chain 4 |          | 00:00 Status"
      ]
     },
     "metadata": {},
     "output_type": "display_data"
    },
    {
     "name": "stdout",
     "output_type": "stream",
     "text": [
      "                                                                                                                                                                                                                                                                                                                                \n"
     ]
    },
    {
     "name": "stderr",
     "output_type": "stream",
     "text": [
      "2023-11-10 13:43:09 - orbit - INFO - Sampling (PyStan) with chains: 4, cores: 8, temperature: 1.000, warmups (per chain): 2500 and samples(per chain): 2500.\n",
      "INFO:orbit:Sampling (PyStan) with chains: 4, cores: 8, temperature: 1.000, warmups (per chain): 2500 and samples(per chain): 2500.\n"
     ]
    },
    {
     "data": {
      "application/json": {
       "ascii": false,
       "bar_format": "{desc} |{bar}| {elapsed} {postfix[0][value]}",
       "colour": null,
       "elapsed": 0.03735160827636719,
       "initial": 0,
       "n": 0,
       "ncols": null,
       "nrows": null,
       "postfix": [
        {
         "value": "Status"
        }
       ],
       "prefix": "chain 1",
       "rate": null,
       "total": 52,
       "unit": "it",
       "unit_divisor": 1000,
       "unit_scale": false
      },
      "application/vnd.jupyter.widget-view+json": {
       "model_id": "9ba6120631674b2e9e1f8625cc4aa1d9",
       "version_major": 2,
       "version_minor": 0
      },
      "text/plain": [
       "chain 1 |          | 00:00 Status"
      ]
     },
     "metadata": {},
     "output_type": "display_data"
    },
    {
     "data": {
      "application/json": {
       "ascii": false,
       "bar_format": "{desc} |{bar}| {elapsed} {postfix[0][value]}",
       "colour": null,
       "elapsed": 0.030120134353637695,
       "initial": 0,
       "n": 0,
       "ncols": null,
       "nrows": null,
       "postfix": [
        {
         "value": "Status"
        }
       ],
       "prefix": "chain 2",
       "rate": null,
       "total": 52,
       "unit": "it",
       "unit_divisor": 1000,
       "unit_scale": false
      },
      "application/vnd.jupyter.widget-view+json": {
       "model_id": "133aa7ff104d4884914ceba96d7f4fc9",
       "version_major": 2,
       "version_minor": 0
      },
      "text/plain": [
       "chain 2 |          | 00:00 Status"
      ]
     },
     "metadata": {},
     "output_type": "display_data"
    },
    {
     "data": {
      "application/json": {
       "ascii": false,
       "bar_format": "{desc} |{bar}| {elapsed} {postfix[0][value]}",
       "colour": null,
       "elapsed": 0.031124591827392578,
       "initial": 0,
       "n": 0,
       "ncols": null,
       "nrows": null,
       "postfix": [
        {
         "value": "Status"
        }
       ],
       "prefix": "chain 3",
       "rate": null,
       "total": 52,
       "unit": "it",
       "unit_divisor": 1000,
       "unit_scale": false
      },
      "application/vnd.jupyter.widget-view+json": {
       "model_id": "cb6378ddceda41f7a7e74dc5a736ac07",
       "version_major": 2,
       "version_minor": 0
      },
      "text/plain": [
       "chain 3 |          | 00:00 Status"
      ]
     },
     "metadata": {},
     "output_type": "display_data"
    },
    {
     "data": {
      "application/json": {
       "ascii": false,
       "bar_format": "{desc} |{bar}| {elapsed} {postfix[0][value]}",
       "colour": null,
       "elapsed": 0.026089906692504883,
       "initial": 0,
       "n": 0,
       "ncols": null,
       "nrows": null,
       "postfix": [
        {
         "value": "Status"
        }
       ],
       "prefix": "chain 4",
       "rate": null,
       "total": 52,
       "unit": "it",
       "unit_divisor": 1000,
       "unit_scale": false
      },
      "application/vnd.jupyter.widget-view+json": {
       "model_id": "688b5bde4cba436c9c86d3afd3f814b2",
       "version_major": 2,
       "version_minor": 0
      },
      "text/plain": [
       "chain 4 |          | 00:00 Status"
      ]
     },
     "metadata": {},
     "output_type": "display_data"
    },
    {
     "name": "stdout",
     "output_type": "stream",
     "text": [
      "                                                                                                                                                                                                                                                                                                                                \n"
     ]
    },
    {
     "name": "stderr",
     "output_type": "stream",
     "text": [
      "2023-11-10 13:43:13 - orbit - INFO - Sampling (PyStan) with chains: 4, cores: 8, temperature: 1.000, warmups (per chain): 2500 and samples(per chain): 2500.\n",
      "INFO:orbit:Sampling (PyStan) with chains: 4, cores: 8, temperature: 1.000, warmups (per chain): 2500 and samples(per chain): 2500.\n"
     ]
    },
    {
     "data": {
      "application/json": {
       "ascii": false,
       "bar_format": "{desc} |{bar}| {elapsed} {postfix[0][value]}",
       "colour": null,
       "elapsed": 0.038007497787475586,
       "initial": 0,
       "n": 0,
       "ncols": null,
       "nrows": null,
       "postfix": [
        {
         "value": "Status"
        }
       ],
       "prefix": "chain 1",
       "rate": null,
       "total": 52,
       "unit": "it",
       "unit_divisor": 1000,
       "unit_scale": false
      },
      "application/vnd.jupyter.widget-view+json": {
       "model_id": "cb609518ae7d44f79243e7faf2a23e86",
       "version_major": 2,
       "version_minor": 0
      },
      "text/plain": [
       "chain 1 |          | 00:00 Status"
      ]
     },
     "metadata": {},
     "output_type": "display_data"
    },
    {
     "data": {
      "application/json": {
       "ascii": false,
       "bar_format": "{desc} |{bar}| {elapsed} {postfix[0][value]}",
       "colour": null,
       "elapsed": 0.029480457305908203,
       "initial": 0,
       "n": 0,
       "ncols": null,
       "nrows": null,
       "postfix": [
        {
         "value": "Status"
        }
       ],
       "prefix": "chain 2",
       "rate": null,
       "total": 52,
       "unit": "it",
       "unit_divisor": 1000,
       "unit_scale": false
      },
      "application/vnd.jupyter.widget-view+json": {
       "model_id": "d1d2b60ffacf4b4295c95d728db629e9",
       "version_major": 2,
       "version_minor": 0
      },
      "text/plain": [
       "chain 2 |          | 00:00 Status"
      ]
     },
     "metadata": {},
     "output_type": "display_data"
    },
    {
     "data": {
      "application/json": {
       "ascii": false,
       "bar_format": "{desc} |{bar}| {elapsed} {postfix[0][value]}",
       "colour": null,
       "elapsed": 0.03208780288696289,
       "initial": 0,
       "n": 0,
       "ncols": null,
       "nrows": null,
       "postfix": [
        {
         "value": "Status"
        }
       ],
       "prefix": "chain 3",
       "rate": null,
       "total": 52,
       "unit": "it",
       "unit_divisor": 1000,
       "unit_scale": false
      },
      "application/vnd.jupyter.widget-view+json": {
       "model_id": "be76e0fc77154d1dac1b7001636e6119",
       "version_major": 2,
       "version_minor": 0
      },
      "text/plain": [
       "chain 3 |          | 00:00 Status"
      ]
     },
     "metadata": {},
     "output_type": "display_data"
    },
    {
     "data": {
      "application/json": {
       "ascii": false,
       "bar_format": "{desc} |{bar}| {elapsed} {postfix[0][value]}",
       "colour": null,
       "elapsed": 0.041933536529541016,
       "initial": 0,
       "n": 0,
       "ncols": null,
       "nrows": null,
       "postfix": [
        {
         "value": "Status"
        }
       ],
       "prefix": "chain 4",
       "rate": null,
       "total": 52,
       "unit": "it",
       "unit_divisor": 1000,
       "unit_scale": false
      },
      "application/vnd.jupyter.widget-view+json": {
       "model_id": "e8b1fd4a69f54497b0d9c349c8b99c33",
       "version_major": 2,
       "version_minor": 0
      },
      "text/plain": [
       "chain 4 |          | 00:00 Status"
      ]
     },
     "metadata": {},
     "output_type": "display_data"
    },
    {
     "name": "stdout",
     "output_type": "stream",
     "text": [
      "                                                                                                                                                                                                                                                                                                                                \n"
     ]
    },
    {
     "name": "stderr",
     "output_type": "stream",
     "text": [
      "2023-11-10 13:43:19 - orbit - INFO - Sampling (PyStan) with chains: 4, cores: 8, temperature: 1.000, warmups (per chain): 2500 and samples(per chain): 2500.\n",
      "INFO:orbit:Sampling (PyStan) with chains: 4, cores: 8, temperature: 1.000, warmups (per chain): 2500 and samples(per chain): 2500.\n"
     ]
    },
    {
     "data": {
      "application/json": {
       "ascii": false,
       "bar_format": "{desc} |{bar}| {elapsed} {postfix[0][value]}",
       "colour": null,
       "elapsed": 0.03216218948364258,
       "initial": 0,
       "n": 0,
       "ncols": null,
       "nrows": null,
       "postfix": [
        {
         "value": "Status"
        }
       ],
       "prefix": "chain 1",
       "rate": null,
       "total": 52,
       "unit": "it",
       "unit_divisor": 1000,
       "unit_scale": false
      },
      "application/vnd.jupyter.widget-view+json": {
       "model_id": "ee77daf5afdf4de296f1425785f4723d",
       "version_major": 2,
       "version_minor": 0
      },
      "text/plain": [
       "chain 1 |          | 00:00 Status"
      ]
     },
     "metadata": {},
     "output_type": "display_data"
    },
    {
     "data": {
      "application/json": {
       "ascii": false,
       "bar_format": "{desc} |{bar}| {elapsed} {postfix[0][value]}",
       "colour": null,
       "elapsed": 0.029742717742919922,
       "initial": 0,
       "n": 0,
       "ncols": null,
       "nrows": null,
       "postfix": [
        {
         "value": "Status"
        }
       ],
       "prefix": "chain 2",
       "rate": null,
       "total": 52,
       "unit": "it",
       "unit_divisor": 1000,
       "unit_scale": false
      },
      "application/vnd.jupyter.widget-view+json": {
       "model_id": "ec45601f78d744fc9ec3e7394c9ae690",
       "version_major": 2,
       "version_minor": 0
      },
      "text/plain": [
       "chain 2 |          | 00:00 Status"
      ]
     },
     "metadata": {},
     "output_type": "display_data"
    },
    {
     "data": {
      "application/json": {
       "ascii": false,
       "bar_format": "{desc} |{bar}| {elapsed} {postfix[0][value]}",
       "colour": null,
       "elapsed": 0.03078484535217285,
       "initial": 0,
       "n": 0,
       "ncols": null,
       "nrows": null,
       "postfix": [
        {
         "value": "Status"
        }
       ],
       "prefix": "chain 3",
       "rate": null,
       "total": 52,
       "unit": "it",
       "unit_divisor": 1000,
       "unit_scale": false
      },
      "application/vnd.jupyter.widget-view+json": {
       "model_id": "199507be136a416bbe0b295f9987a51c",
       "version_major": 2,
       "version_minor": 0
      },
      "text/plain": [
       "chain 3 |          | 00:00 Status"
      ]
     },
     "metadata": {},
     "output_type": "display_data"
    },
    {
     "data": {
      "application/json": {
       "ascii": false,
       "bar_format": "{desc} |{bar}| {elapsed} {postfix[0][value]}",
       "colour": null,
       "elapsed": 0.0305178165435791,
       "initial": 0,
       "n": 0,
       "ncols": null,
       "nrows": null,
       "postfix": [
        {
         "value": "Status"
        }
       ],
       "prefix": "chain 4",
       "rate": null,
       "total": 52,
       "unit": "it",
       "unit_divisor": 1000,
       "unit_scale": false
      },
      "application/vnd.jupyter.widget-view+json": {
       "model_id": "4522d6a61992430185fb0bc54153474b",
       "version_major": 2,
       "version_minor": 0
      },
      "text/plain": [
       "chain 4 |          | 00:00 Status"
      ]
     },
     "metadata": {},
     "output_type": "display_data"
    },
    {
     "name": "stdout",
     "output_type": "stream",
     "text": [
      "                                                                                                                                                                                                                                                                                                                                \n"
     ]
    },
    {
     "name": "stderr",
     "output_type": "stream",
     "text": [
      "2023-11-10 13:43:24 - orbit - INFO - Sampling (PyStan) with chains: 4, cores: 8, temperature: 1.000, warmups (per chain): 2500 and samples(per chain): 2500.\n",
      "INFO:orbit:Sampling (PyStan) with chains: 4, cores: 8, temperature: 1.000, warmups (per chain): 2500 and samples(per chain): 2500.\n"
     ]
    },
    {
     "data": {
      "application/json": {
       "ascii": false,
       "bar_format": "{desc} |{bar}| {elapsed} {postfix[0][value]}",
       "colour": null,
       "elapsed": 0.028247594833374023,
       "initial": 0,
       "n": 0,
       "ncols": null,
       "nrows": null,
       "postfix": [
        {
         "value": "Status"
        }
       ],
       "prefix": "chain 1",
       "rate": null,
       "total": 52,
       "unit": "it",
       "unit_divisor": 1000,
       "unit_scale": false
      },
      "application/vnd.jupyter.widget-view+json": {
       "model_id": "5bf6678fd8e84ea1b802efd5d61660ae",
       "version_major": 2,
       "version_minor": 0
      },
      "text/plain": [
       "chain 1 |          | 00:00 Status"
      ]
     },
     "metadata": {},
     "output_type": "display_data"
    },
    {
     "data": {
      "application/json": {
       "ascii": false,
       "bar_format": "{desc} |{bar}| {elapsed} {postfix[0][value]}",
       "colour": null,
       "elapsed": 0.025138378143310547,
       "initial": 0,
       "n": 0,
       "ncols": null,
       "nrows": null,
       "postfix": [
        {
         "value": "Status"
        }
       ],
       "prefix": "chain 2",
       "rate": null,
       "total": 52,
       "unit": "it",
       "unit_divisor": 1000,
       "unit_scale": false
      },
      "application/vnd.jupyter.widget-view+json": {
       "model_id": "f37b9e30b48547dfb6a19e933aa3ca03",
       "version_major": 2,
       "version_minor": 0
      },
      "text/plain": [
       "chain 2 |          | 00:00 Status"
      ]
     },
     "metadata": {},
     "output_type": "display_data"
    },
    {
     "data": {
      "application/json": {
       "ascii": false,
       "bar_format": "{desc} |{bar}| {elapsed} {postfix[0][value]}",
       "colour": null,
       "elapsed": 0.024160385131835938,
       "initial": 0,
       "n": 0,
       "ncols": null,
       "nrows": null,
       "postfix": [
        {
         "value": "Status"
        }
       ],
       "prefix": "chain 3",
       "rate": null,
       "total": 52,
       "unit": "it",
       "unit_divisor": 1000,
       "unit_scale": false
      },
      "application/vnd.jupyter.widget-view+json": {
       "model_id": "df00b9fb6caa42858cd9f760fbd71ded",
       "version_major": 2,
       "version_minor": 0
      },
      "text/plain": [
       "chain 3 |          | 00:00 Status"
      ]
     },
     "metadata": {},
     "output_type": "display_data"
    },
    {
     "data": {
      "application/json": {
       "ascii": false,
       "bar_format": "{desc} |{bar}| {elapsed} {postfix[0][value]}",
       "colour": null,
       "elapsed": 0.025622844696044922,
       "initial": 0,
       "n": 0,
       "ncols": null,
       "nrows": null,
       "postfix": [
        {
         "value": "Status"
        }
       ],
       "prefix": "chain 4",
       "rate": null,
       "total": 52,
       "unit": "it",
       "unit_divisor": 1000,
       "unit_scale": false
      },
      "application/vnd.jupyter.widget-view+json": {
       "model_id": "d41906e150c14142a929a41446774fba",
       "version_major": 2,
       "version_minor": 0
      },
      "text/plain": [
       "chain 4 |          | 00:00 Status"
      ]
     },
     "metadata": {},
     "output_type": "display_data"
    },
    {
     "name": "stdout",
     "output_type": "stream",
     "text": [
      "                                                                                                                                                                                                                                                                                                                                \n"
     ]
    },
    {
     "name": "stderr",
     "output_type": "stream",
     "text": [
      "2023-11-10 13:43:28 - orbit - INFO - Sampling (PyStan) with chains: 4, cores: 8, temperature: 1.000, warmups (per chain): 2500 and samples(per chain): 2500.\n",
      "INFO:orbit:Sampling (PyStan) with chains: 4, cores: 8, temperature: 1.000, warmups (per chain): 2500 and samples(per chain): 2500.\n"
     ]
    },
    {
     "data": {
      "application/json": {
       "ascii": false,
       "bar_format": "{desc} |{bar}| {elapsed} {postfix[0][value]}",
       "colour": null,
       "elapsed": 0.03608369827270508,
       "initial": 0,
       "n": 0,
       "ncols": null,
       "nrows": null,
       "postfix": [
        {
         "value": "Status"
        }
       ],
       "prefix": "chain 1",
       "rate": null,
       "total": 52,
       "unit": "it",
       "unit_divisor": 1000,
       "unit_scale": false
      },
      "application/vnd.jupyter.widget-view+json": {
       "model_id": "8688f1015b8c451b89ef2094e613ca6b",
       "version_major": 2,
       "version_minor": 0
      },
      "text/plain": [
       "chain 1 |          | 00:00 Status"
      ]
     },
     "metadata": {},
     "output_type": "display_data"
    },
    {
     "data": {
      "application/json": {
       "ascii": false,
       "bar_format": "{desc} |{bar}| {elapsed} {postfix[0][value]}",
       "colour": null,
       "elapsed": 0.03588461875915527,
       "initial": 0,
       "n": 0,
       "ncols": null,
       "nrows": null,
       "postfix": [
        {
         "value": "Status"
        }
       ],
       "prefix": "chain 2",
       "rate": null,
       "total": 52,
       "unit": "it",
       "unit_divisor": 1000,
       "unit_scale": false
      },
      "application/vnd.jupyter.widget-view+json": {
       "model_id": "ff2c5e3d8132495cbac37d1dd963ddde",
       "version_major": 2,
       "version_minor": 0
      },
      "text/plain": [
       "chain 2 |          | 00:00 Status"
      ]
     },
     "metadata": {},
     "output_type": "display_data"
    },
    {
     "data": {
      "application/json": {
       "ascii": false,
       "bar_format": "{desc} |{bar}| {elapsed} {postfix[0][value]}",
       "colour": null,
       "elapsed": 0.03470635414123535,
       "initial": 0,
       "n": 0,
       "ncols": null,
       "nrows": null,
       "postfix": [
        {
         "value": "Status"
        }
       ],
       "prefix": "chain 3",
       "rate": null,
       "total": 52,
       "unit": "it",
       "unit_divisor": 1000,
       "unit_scale": false
      },
      "application/vnd.jupyter.widget-view+json": {
       "model_id": "74381fc8e61344c296ce51785c40024c",
       "version_major": 2,
       "version_minor": 0
      },
      "text/plain": [
       "chain 3 |          | 00:00 Status"
      ]
     },
     "metadata": {},
     "output_type": "display_data"
    },
    {
     "data": {
      "application/json": {
       "ascii": false,
       "bar_format": "{desc} |{bar}| {elapsed} {postfix[0][value]}",
       "colour": null,
       "elapsed": 0.03587913513183594,
       "initial": 0,
       "n": 0,
       "ncols": null,
       "nrows": null,
       "postfix": [
        {
         "value": "Status"
        }
       ],
       "prefix": "chain 4",
       "rate": null,
       "total": 52,
       "unit": "it",
       "unit_divisor": 1000,
       "unit_scale": false
      },
      "application/vnd.jupyter.widget-view+json": {
       "model_id": "15cc417dcfeb4abeac4fe3dd197ad01d",
       "version_major": 2,
       "version_minor": 0
      },
      "text/plain": [
       "chain 4 |          | 00:00 Status"
      ]
     },
     "metadata": {},
     "output_type": "display_data"
    },
    {
     "name": "stdout",
     "output_type": "stream",
     "text": [
      "                                                                                                                                                                                                                                                                                                                                \n"
     ]
    },
    {
     "name": "stderr",
     "output_type": "stream",
     "text": [
      "2023-11-10 13:43:32 - orbit - INFO - Sampling (PyStan) with chains: 4, cores: 8, temperature: 1.000, warmups (per chain): 2500 and samples(per chain): 2500.\n",
      "INFO:orbit:Sampling (PyStan) with chains: 4, cores: 8, temperature: 1.000, warmups (per chain): 2500 and samples(per chain): 2500.\n"
     ]
    },
    {
     "data": {
      "application/json": {
       "ascii": false,
       "bar_format": "{desc} |{bar}| {elapsed} {postfix[0][value]}",
       "colour": null,
       "elapsed": 0.0340883731842041,
       "initial": 0,
       "n": 0,
       "ncols": null,
       "nrows": null,
       "postfix": [
        {
         "value": "Status"
        }
       ],
       "prefix": "chain 1",
       "rate": null,
       "total": 52,
       "unit": "it",
       "unit_divisor": 1000,
       "unit_scale": false
      },
      "application/vnd.jupyter.widget-view+json": {
       "model_id": "1c72c43cee1d406eb0e131c2e0818f12",
       "version_major": 2,
       "version_minor": 0
      },
      "text/plain": [
       "chain 1 |          | 00:00 Status"
      ]
     },
     "metadata": {},
     "output_type": "display_data"
    },
    {
     "data": {
      "application/json": {
       "ascii": false,
       "bar_format": "{desc} |{bar}| {elapsed} {postfix[0][value]}",
       "colour": null,
       "elapsed": 0.03349018096923828,
       "initial": 0,
       "n": 0,
       "ncols": null,
       "nrows": null,
       "postfix": [
        {
         "value": "Status"
        }
       ],
       "prefix": "chain 2",
       "rate": null,
       "total": 52,
       "unit": "it",
       "unit_divisor": 1000,
       "unit_scale": false
      },
      "application/vnd.jupyter.widget-view+json": {
       "model_id": "b19cf5984f6e4df78eae1fbf77a1ae8d",
       "version_major": 2,
       "version_minor": 0
      },
      "text/plain": [
       "chain 2 |          | 00:00 Status"
      ]
     },
     "metadata": {},
     "output_type": "display_data"
    },
    {
     "data": {
      "application/json": {
       "ascii": false,
       "bar_format": "{desc} |{bar}| {elapsed} {postfix[0][value]}",
       "colour": null,
       "elapsed": 0.02744317054748535,
       "initial": 0,
       "n": 0,
       "ncols": null,
       "nrows": null,
       "postfix": [
        {
         "value": "Status"
        }
       ],
       "prefix": "chain 3",
       "rate": null,
       "total": 52,
       "unit": "it",
       "unit_divisor": 1000,
       "unit_scale": false
      },
      "application/vnd.jupyter.widget-view+json": {
       "model_id": "cbfc649d8a5943d7a96f9e3de0cd0c06",
       "version_major": 2,
       "version_minor": 0
      },
      "text/plain": [
       "chain 3 |          | 00:00 Status"
      ]
     },
     "metadata": {},
     "output_type": "display_data"
    },
    {
     "data": {
      "application/json": {
       "ascii": false,
       "bar_format": "{desc} |{bar}| {elapsed} {postfix[0][value]}",
       "colour": null,
       "elapsed": 0.024951696395874023,
       "initial": 0,
       "n": 0,
       "ncols": null,
       "nrows": null,
       "postfix": [
        {
         "value": "Status"
        }
       ],
       "prefix": "chain 4",
       "rate": null,
       "total": 52,
       "unit": "it",
       "unit_divisor": 1000,
       "unit_scale": false
      },
      "application/vnd.jupyter.widget-view+json": {
       "model_id": "a36896aebef64ee3b3bfee2e98f2a68c",
       "version_major": 2,
       "version_minor": 0
      },
      "text/plain": [
       "chain 4 |          | 00:00 Status"
      ]
     },
     "metadata": {},
     "output_type": "display_data"
    },
    {
     "name": "stdout",
     "output_type": "stream",
     "text": [
      "                                                                                                                                                                                                                                                                                                                                \n"
     ]
    },
    {
     "name": "stderr",
     "output_type": "stream",
     "text": [
      "2023-11-10 13:43:36 - orbit - INFO - Sampling (PyStan) with chains: 4, cores: 8, temperature: 1.000, warmups (per chain): 2500 and samples(per chain): 2500.\n",
      "INFO:orbit:Sampling (PyStan) with chains: 4, cores: 8, temperature: 1.000, warmups (per chain): 2500 and samples(per chain): 2500.\n"
     ]
    },
    {
     "data": {
      "application/json": {
       "ascii": false,
       "bar_format": "{desc} |{bar}| {elapsed} {postfix[0][value]}",
       "colour": null,
       "elapsed": 0.03279232978820801,
       "initial": 0,
       "n": 0,
       "ncols": null,
       "nrows": null,
       "postfix": [
        {
         "value": "Status"
        }
       ],
       "prefix": "chain 1",
       "rate": null,
       "total": 52,
       "unit": "it",
       "unit_divisor": 1000,
       "unit_scale": false
      },
      "application/vnd.jupyter.widget-view+json": {
       "model_id": "4ef299d6393c4ce4b12bb08ff04d496f",
       "version_major": 2,
       "version_minor": 0
      },
      "text/plain": [
       "chain 1 |          | 00:00 Status"
      ]
     },
     "metadata": {},
     "output_type": "display_data"
    },
    {
     "data": {
      "application/json": {
       "ascii": false,
       "bar_format": "{desc} |{bar}| {elapsed} {postfix[0][value]}",
       "colour": null,
       "elapsed": 0.03891420364379883,
       "initial": 0,
       "n": 0,
       "ncols": null,
       "nrows": null,
       "postfix": [
        {
         "value": "Status"
        }
       ],
       "prefix": "chain 2",
       "rate": null,
       "total": 52,
       "unit": "it",
       "unit_divisor": 1000,
       "unit_scale": false
      },
      "application/vnd.jupyter.widget-view+json": {
       "model_id": "ff178a1b97ec4df89718e1285d33d70d",
       "version_major": 2,
       "version_minor": 0
      },
      "text/plain": [
       "chain 2 |          | 00:00 Status"
      ]
     },
     "metadata": {},
     "output_type": "display_data"
    },
    {
     "data": {
      "application/json": {
       "ascii": false,
       "bar_format": "{desc} |{bar}| {elapsed} {postfix[0][value]}",
       "colour": null,
       "elapsed": 0.03535103797912598,
       "initial": 0,
       "n": 0,
       "ncols": null,
       "nrows": null,
       "postfix": [
        {
         "value": "Status"
        }
       ],
       "prefix": "chain 3",
       "rate": null,
       "total": 52,
       "unit": "it",
       "unit_divisor": 1000,
       "unit_scale": false
      },
      "application/vnd.jupyter.widget-view+json": {
       "model_id": "580fa79f50d542ffa52c7beacb792af0",
       "version_major": 2,
       "version_minor": 0
      },
      "text/plain": [
       "chain 3 |          | 00:00 Status"
      ]
     },
     "metadata": {},
     "output_type": "display_data"
    },
    {
     "data": {
      "application/json": {
       "ascii": false,
       "bar_format": "{desc} |{bar}| {elapsed} {postfix[0][value]}",
       "colour": null,
       "elapsed": 0.045514583587646484,
       "initial": 0,
       "n": 0,
       "ncols": null,
       "nrows": null,
       "postfix": [
        {
         "value": "Status"
        }
       ],
       "prefix": "chain 4",
       "rate": null,
       "total": 52,
       "unit": "it",
       "unit_divisor": 1000,
       "unit_scale": false
      },
      "application/vnd.jupyter.widget-view+json": {
       "model_id": "67e4644f62a44919907cfd49c174167e",
       "version_major": 2,
       "version_minor": 0
      },
      "text/plain": [
       "chain 4 |          | 00:00 Status"
      ]
     },
     "metadata": {},
     "output_type": "display_data"
    },
    {
     "name": "stdout",
     "output_type": "stream",
     "text": [
      "                                                                                                                                                                                                                                                                                                                                \n"
     ]
    },
    {
     "name": "stderr",
     "output_type": "stream",
     "text": [
      "2023-11-10 13:43:41 - orbit - INFO - Sampling (PyStan) with chains: 4, cores: 8, temperature: 1.000, warmups (per chain): 2500 and samples(per chain): 2500.\n",
      "INFO:orbit:Sampling (PyStan) with chains: 4, cores: 8, temperature: 1.000, warmups (per chain): 2500 and samples(per chain): 2500.\n"
     ]
    },
    {
     "data": {
      "application/json": {
       "ascii": false,
       "bar_format": "{desc} |{bar}| {elapsed} {postfix[0][value]}",
       "colour": null,
       "elapsed": 0.032752037048339844,
       "initial": 0,
       "n": 0,
       "ncols": null,
       "nrows": null,
       "postfix": [
        {
         "value": "Status"
        }
       ],
       "prefix": "chain 1",
       "rate": null,
       "total": 52,
       "unit": "it",
       "unit_divisor": 1000,
       "unit_scale": false
      },
      "application/vnd.jupyter.widget-view+json": {
       "model_id": "4467f653bca44ce3bc08d36d5eaf1b60",
       "version_major": 2,
       "version_minor": 0
      },
      "text/plain": [
       "chain 1 |          | 00:00 Status"
      ]
     },
     "metadata": {},
     "output_type": "display_data"
    },
    {
     "data": {
      "application/json": {
       "ascii": false,
       "bar_format": "{desc} |{bar}| {elapsed} {postfix[0][value]}",
       "colour": null,
       "elapsed": 0.03244423866271973,
       "initial": 0,
       "n": 0,
       "ncols": null,
       "nrows": null,
       "postfix": [
        {
         "value": "Status"
        }
       ],
       "prefix": "chain 2",
       "rate": null,
       "total": 52,
       "unit": "it",
       "unit_divisor": 1000,
       "unit_scale": false
      },
      "application/vnd.jupyter.widget-view+json": {
       "model_id": "f354a288427f49f0a617c416abdc599d",
       "version_major": 2,
       "version_minor": 0
      },
      "text/plain": [
       "chain 2 |          | 00:00 Status"
      ]
     },
     "metadata": {},
     "output_type": "display_data"
    },
    {
     "data": {
      "application/json": {
       "ascii": false,
       "bar_format": "{desc} |{bar}| {elapsed} {postfix[0][value]}",
       "colour": null,
       "elapsed": 0.038149118423461914,
       "initial": 0,
       "n": 0,
       "ncols": null,
       "nrows": null,
       "postfix": [
        {
         "value": "Status"
        }
       ],
       "prefix": "chain 3",
       "rate": null,
       "total": 52,
       "unit": "it",
       "unit_divisor": 1000,
       "unit_scale": false
      },
      "application/vnd.jupyter.widget-view+json": {
       "model_id": "ee95328058dd44c9be4f5c736469fdfb",
       "version_major": 2,
       "version_minor": 0
      },
      "text/plain": [
       "chain 3 |          | 00:00 Status"
      ]
     },
     "metadata": {},
     "output_type": "display_data"
    },
    {
     "data": {
      "application/json": {
       "ascii": false,
       "bar_format": "{desc} |{bar}| {elapsed} {postfix[0][value]}",
       "colour": null,
       "elapsed": 0.043437957763671875,
       "initial": 0,
       "n": 0,
       "ncols": null,
       "nrows": null,
       "postfix": [
        {
         "value": "Status"
        }
       ],
       "prefix": "chain 4",
       "rate": null,
       "total": 52,
       "unit": "it",
       "unit_divisor": 1000,
       "unit_scale": false
      },
      "application/vnd.jupyter.widget-view+json": {
       "model_id": "945c148f46fb458ab7d0dd5a52ab6907",
       "version_major": 2,
       "version_minor": 0
      },
      "text/plain": [
       "chain 4 |          | 00:00 Status"
      ]
     },
     "metadata": {},
     "output_type": "display_data"
    },
    {
     "name": "stdout",
     "output_type": "stream",
     "text": [
      "                                                                                                                                                                                                                                                                                                                                \n"
     ]
    },
    {
     "name": "stderr",
     "output_type": "stream",
     "text": [
      "2023-11-10 13:43:46 - orbit - INFO - Sampling (PyStan) with chains: 4, cores: 8, temperature: 1.000, warmups (per chain): 2500 and samples(per chain): 2500.\n",
      "INFO:orbit:Sampling (PyStan) with chains: 4, cores: 8, temperature: 1.000, warmups (per chain): 2500 and samples(per chain): 2500.\n"
     ]
    },
    {
     "data": {
      "application/json": {
       "ascii": false,
       "bar_format": "{desc} |{bar}| {elapsed} {postfix[0][value]}",
       "colour": null,
       "elapsed": 0.044411420822143555,
       "initial": 0,
       "n": 0,
       "ncols": null,
       "nrows": null,
       "postfix": [
        {
         "value": "Status"
        }
       ],
       "prefix": "chain 1",
       "rate": null,
       "total": 52,
       "unit": "it",
       "unit_divisor": 1000,
       "unit_scale": false
      },
      "application/vnd.jupyter.widget-view+json": {
       "model_id": "64322e1828b642ea94d95224896d24c8",
       "version_major": 2,
       "version_minor": 0
      },
      "text/plain": [
       "chain 1 |          | 00:00 Status"
      ]
     },
     "metadata": {},
     "output_type": "display_data"
    },
    {
     "data": {
      "application/json": {
       "ascii": false,
       "bar_format": "{desc} |{bar}| {elapsed} {postfix[0][value]}",
       "colour": null,
       "elapsed": 0.04462385177612305,
       "initial": 0,
       "n": 0,
       "ncols": null,
       "nrows": null,
       "postfix": [
        {
         "value": "Status"
        }
       ],
       "prefix": "chain 2",
       "rate": null,
       "total": 52,
       "unit": "it",
       "unit_divisor": 1000,
       "unit_scale": false
      },
      "application/vnd.jupyter.widget-view+json": {
       "model_id": "56909ccd9852406c9c742e08dd5dfa47",
       "version_major": 2,
       "version_minor": 0
      },
      "text/plain": [
       "chain 2 |          | 00:00 Status"
      ]
     },
     "metadata": {},
     "output_type": "display_data"
    },
    {
     "data": {
      "application/json": {
       "ascii": false,
       "bar_format": "{desc} |{bar}| {elapsed} {postfix[0][value]}",
       "colour": null,
       "elapsed": 0.04432988166809082,
       "initial": 0,
       "n": 0,
       "ncols": null,
       "nrows": null,
       "postfix": [
        {
         "value": "Status"
        }
       ],
       "prefix": "chain 3",
       "rate": null,
       "total": 52,
       "unit": "it",
       "unit_divisor": 1000,
       "unit_scale": false
      },
      "application/vnd.jupyter.widget-view+json": {
       "model_id": "1cb7c614429b45b1a1b3de52fb3c59cd",
       "version_major": 2,
       "version_minor": 0
      },
      "text/plain": [
       "chain 3 |          | 00:00 Status"
      ]
     },
     "metadata": {},
     "output_type": "display_data"
    },
    {
     "data": {
      "application/json": {
       "ascii": false,
       "bar_format": "{desc} |{bar}| {elapsed} {postfix[0][value]}",
       "colour": null,
       "elapsed": 0.04725027084350586,
       "initial": 0,
       "n": 0,
       "ncols": null,
       "nrows": null,
       "postfix": [
        {
         "value": "Status"
        }
       ],
       "prefix": "chain 4",
       "rate": null,
       "total": 52,
       "unit": "it",
       "unit_divisor": 1000,
       "unit_scale": false
      },
      "application/vnd.jupyter.widget-view+json": {
       "model_id": "e417614e349b4d1c9f68ed82339add23",
       "version_major": 2,
       "version_minor": 0
      },
      "text/plain": [
       "chain 4 |          | 00:00 Status"
      ]
     },
     "metadata": {},
     "output_type": "display_data"
    },
    {
     "name": "stdout",
     "output_type": "stream",
     "text": [
      "                                                                                                                                                                                                                                                                                                                                \n"
     ]
    },
    {
     "name": "stderr",
     "output_type": "stream",
     "text": [
      "2023-11-10 13:43:52 - orbit - INFO - Sampling (PyStan) with chains: 4, cores: 8, temperature: 1.000, warmups (per chain): 2500 and samples(per chain): 2500.\n",
      "INFO:orbit:Sampling (PyStan) with chains: 4, cores: 8, temperature: 1.000, warmups (per chain): 2500 and samples(per chain): 2500.\n"
     ]
    },
    {
     "data": {
      "application/json": {
       "ascii": false,
       "bar_format": "{desc} |{bar}| {elapsed} {postfix[0][value]}",
       "colour": null,
       "elapsed": 0.03679776191711426,
       "initial": 0,
       "n": 0,
       "ncols": null,
       "nrows": null,
       "postfix": [
        {
         "value": "Status"
        }
       ],
       "prefix": "chain 1",
       "rate": null,
       "total": 52,
       "unit": "it",
       "unit_divisor": 1000,
       "unit_scale": false
      },
      "application/vnd.jupyter.widget-view+json": {
       "model_id": "dd1d66f0f5d34ea6ac32475b44c562ab",
       "version_major": 2,
       "version_minor": 0
      },
      "text/plain": [
       "chain 1 |          | 00:00 Status"
      ]
     },
     "metadata": {},
     "output_type": "display_data"
    },
    {
     "data": {
      "application/json": {
       "ascii": false,
       "bar_format": "{desc} |{bar}| {elapsed} {postfix[0][value]}",
       "colour": null,
       "elapsed": 0.030069589614868164,
       "initial": 0,
       "n": 0,
       "ncols": null,
       "nrows": null,
       "postfix": [
        {
         "value": "Status"
        }
       ],
       "prefix": "chain 2",
       "rate": null,
       "total": 52,
       "unit": "it",
       "unit_divisor": 1000,
       "unit_scale": false
      },
      "application/vnd.jupyter.widget-view+json": {
       "model_id": "10c40e7f9b4041f882135b402e5b69d2",
       "version_major": 2,
       "version_minor": 0
      },
      "text/plain": [
       "chain 2 |          | 00:00 Status"
      ]
     },
     "metadata": {},
     "output_type": "display_data"
    },
    {
     "data": {
      "application/json": {
       "ascii": false,
       "bar_format": "{desc} |{bar}| {elapsed} {postfix[0][value]}",
       "colour": null,
       "elapsed": 0.03722739219665527,
       "initial": 0,
       "n": 0,
       "ncols": null,
       "nrows": null,
       "postfix": [
        {
         "value": "Status"
        }
       ],
       "prefix": "chain 3",
       "rate": null,
       "total": 52,
       "unit": "it",
       "unit_divisor": 1000,
       "unit_scale": false
      },
      "application/vnd.jupyter.widget-view+json": {
       "model_id": "040af121a80a436eb547feba805dae15",
       "version_major": 2,
       "version_minor": 0
      },
      "text/plain": [
       "chain 3 |          | 00:00 Status"
      ]
     },
     "metadata": {},
     "output_type": "display_data"
    },
    {
     "data": {
      "application/json": {
       "ascii": false,
       "bar_format": "{desc} |{bar}| {elapsed} {postfix[0][value]}",
       "colour": null,
       "elapsed": 0.03310036659240723,
       "initial": 0,
       "n": 0,
       "ncols": null,
       "nrows": null,
       "postfix": [
        {
         "value": "Status"
        }
       ],
       "prefix": "chain 4",
       "rate": null,
       "total": 52,
       "unit": "it",
       "unit_divisor": 1000,
       "unit_scale": false
      },
      "application/vnd.jupyter.widget-view+json": {
       "model_id": "11426a249732496db98d1ded6035bde6",
       "version_major": 2,
       "version_minor": 0
      },
      "text/plain": [
       "chain 4 |          | 00:00 Status"
      ]
     },
     "metadata": {},
     "output_type": "display_data"
    },
    {
     "name": "stdout",
     "output_type": "stream",
     "text": [
      "                                                                                                                                                                                                                                                                                                                                \n"
     ]
    },
    {
     "name": "stderr",
     "output_type": "stream",
     "text": [
      "2023-11-10 13:43:57 - orbit - INFO - Sampling (PyStan) with chains: 4, cores: 8, temperature: 1.000, warmups (per chain): 2500 and samples(per chain): 2500.\n",
      "INFO:orbit:Sampling (PyStan) with chains: 4, cores: 8, temperature: 1.000, warmups (per chain): 2500 and samples(per chain): 2500.\n"
     ]
    },
    {
     "data": {
      "application/json": {
       "ascii": false,
       "bar_format": "{desc} |{bar}| {elapsed} {postfix[0][value]}",
       "colour": null,
       "elapsed": 0.03929495811462402,
       "initial": 0,
       "n": 0,
       "ncols": null,
       "nrows": null,
       "postfix": [
        {
         "value": "Status"
        }
       ],
       "prefix": "chain 1",
       "rate": null,
       "total": 52,
       "unit": "it",
       "unit_divisor": 1000,
       "unit_scale": false
      },
      "application/vnd.jupyter.widget-view+json": {
       "model_id": "c6774b86e0ae41828ca149407a1f96b5",
       "version_major": 2,
       "version_minor": 0
      },
      "text/plain": [
       "chain 1 |          | 00:00 Status"
      ]
     },
     "metadata": {},
     "output_type": "display_data"
    },
    {
     "data": {
      "application/json": {
       "ascii": false,
       "bar_format": "{desc} |{bar}| {elapsed} {postfix[0][value]}",
       "colour": null,
       "elapsed": 0.04075002670288086,
       "initial": 0,
       "n": 0,
       "ncols": null,
       "nrows": null,
       "postfix": [
        {
         "value": "Status"
        }
       ],
       "prefix": "chain 2",
       "rate": null,
       "total": 52,
       "unit": "it",
       "unit_divisor": 1000,
       "unit_scale": false
      },
      "application/vnd.jupyter.widget-view+json": {
       "model_id": "8c1e34c0a9fa4a7e8dc07e93d91cd0b0",
       "version_major": 2,
       "version_minor": 0
      },
      "text/plain": [
       "chain 2 |          | 00:00 Status"
      ]
     },
     "metadata": {},
     "output_type": "display_data"
    },
    {
     "data": {
      "application/json": {
       "ascii": false,
       "bar_format": "{desc} |{bar}| {elapsed} {postfix[0][value]}",
       "colour": null,
       "elapsed": 0.026810884475708008,
       "initial": 0,
       "n": 0,
       "ncols": null,
       "nrows": null,
       "postfix": [
        {
         "value": "Status"
        }
       ],
       "prefix": "chain 3",
       "rate": null,
       "total": 52,
       "unit": "it",
       "unit_divisor": 1000,
       "unit_scale": false
      },
      "application/vnd.jupyter.widget-view+json": {
       "model_id": "d9891830275f4f03843119d94eb3899e",
       "version_major": 2,
       "version_minor": 0
      },
      "text/plain": [
       "chain 3 |          | 00:00 Status"
      ]
     },
     "metadata": {},
     "output_type": "display_data"
    },
    {
     "data": {
      "application/json": {
       "ascii": false,
       "bar_format": "{desc} |{bar}| {elapsed} {postfix[0][value]}",
       "colour": null,
       "elapsed": 0.02881598472595215,
       "initial": 0,
       "n": 0,
       "ncols": null,
       "nrows": null,
       "postfix": [
        {
         "value": "Status"
        }
       ],
       "prefix": "chain 4",
       "rate": null,
       "total": 52,
       "unit": "it",
       "unit_divisor": 1000,
       "unit_scale": false
      },
      "application/vnd.jupyter.widget-view+json": {
       "model_id": "b5fcca3a3c014b25887f3b74c102d20c",
       "version_major": 2,
       "version_minor": 0
      },
      "text/plain": [
       "chain 4 |          | 00:00 Status"
      ]
     },
     "metadata": {},
     "output_type": "display_data"
    },
    {
     "name": "stdout",
     "output_type": "stream",
     "text": [
      "                                                                                                                                                                                                                                                                                                                                \n"
     ]
    },
    {
     "name": "stderr",
     "output_type": "stream",
     "text": [
      "2023-11-10 13:44:01 - orbit - INFO - Sampling (PyStan) with chains: 4, cores: 8, temperature: 1.000, warmups (per chain): 2500 and samples(per chain): 2500.\n",
      "INFO:orbit:Sampling (PyStan) with chains: 4, cores: 8, temperature: 1.000, warmups (per chain): 2500 and samples(per chain): 2500.\n"
     ]
    },
    {
     "data": {
      "application/json": {
       "ascii": false,
       "bar_format": "{desc} |{bar}| {elapsed} {postfix[0][value]}",
       "colour": null,
       "elapsed": 0.049367427825927734,
       "initial": 0,
       "n": 0,
       "ncols": null,
       "nrows": null,
       "postfix": [
        {
         "value": "Status"
        }
       ],
       "prefix": "chain 1",
       "rate": null,
       "total": 52,
       "unit": "it",
       "unit_divisor": 1000,
       "unit_scale": false
      },
      "application/vnd.jupyter.widget-view+json": {
       "model_id": "9ccc538e8392443cbbf3d4f265d79a3f",
       "version_major": 2,
       "version_minor": 0
      },
      "text/plain": [
       "chain 1 |          | 00:00 Status"
      ]
     },
     "metadata": {},
     "output_type": "display_data"
    },
    {
     "data": {
      "application/json": {
       "ascii": false,
       "bar_format": "{desc} |{bar}| {elapsed} {postfix[0][value]}",
       "colour": null,
       "elapsed": 0.061483144760131836,
       "initial": 0,
       "n": 0,
       "ncols": null,
       "nrows": null,
       "postfix": [
        {
         "value": "Status"
        }
       ],
       "prefix": "chain 2",
       "rate": null,
       "total": 52,
       "unit": "it",
       "unit_divisor": 1000,
       "unit_scale": false
      },
      "application/vnd.jupyter.widget-view+json": {
       "model_id": "da798aec5e76460bbb95bfc0e70a57e7",
       "version_major": 2,
       "version_minor": 0
      },
      "text/plain": [
       "chain 2 |          | 00:00 Status"
      ]
     },
     "metadata": {},
     "output_type": "display_data"
    },
    {
     "data": {
      "application/json": {
       "ascii": false,
       "bar_format": "{desc} |{bar}| {elapsed} {postfix[0][value]}",
       "colour": null,
       "elapsed": 0.044194698333740234,
       "initial": 0,
       "n": 0,
       "ncols": null,
       "nrows": null,
       "postfix": [
        {
         "value": "Status"
        }
       ],
       "prefix": "chain 3",
       "rate": null,
       "total": 52,
       "unit": "it",
       "unit_divisor": 1000,
       "unit_scale": false
      },
      "application/vnd.jupyter.widget-view+json": {
       "model_id": "40e55f86de924c749c2fd216c815c4e7",
       "version_major": 2,
       "version_minor": 0
      },
      "text/plain": [
       "chain 3 |          | 00:00 Status"
      ]
     },
     "metadata": {},
     "output_type": "display_data"
    },
    {
     "data": {
      "application/json": {
       "ascii": false,
       "bar_format": "{desc} |{bar}| {elapsed} {postfix[0][value]}",
       "colour": null,
       "elapsed": 0.05820012092590332,
       "initial": 0,
       "n": 0,
       "ncols": null,
       "nrows": null,
       "postfix": [
        {
         "value": "Status"
        }
       ],
       "prefix": "chain 4",
       "rate": null,
       "total": 52,
       "unit": "it",
       "unit_divisor": 1000,
       "unit_scale": false
      },
      "application/vnd.jupyter.widget-view+json": {
       "model_id": "5c8509087bca452fa07c4fd286f57f37",
       "version_major": 2,
       "version_minor": 0
      },
      "text/plain": [
       "chain 4 |          | 00:00 Status"
      ]
     },
     "metadata": {},
     "output_type": "display_data"
    },
    {
     "name": "stdout",
     "output_type": "stream",
     "text": [
      "                                                                                                                                                                                                                                                                                                                                \n"
     ]
    },
    {
     "name": "stderr",
     "output_type": "stream",
     "text": [
      "2023-11-10 13:44:06 - orbit - INFO - Sampling (PyStan) with chains: 4, cores: 8, temperature: 1.000, warmups (per chain): 2500 and samples(per chain): 2500.\n",
      "INFO:orbit:Sampling (PyStan) with chains: 4, cores: 8, temperature: 1.000, warmups (per chain): 2500 and samples(per chain): 2500.\n"
     ]
    },
    {
     "data": {
      "application/json": {
       "ascii": false,
       "bar_format": "{desc} |{bar}| {elapsed} {postfix[0][value]}",
       "colour": null,
       "elapsed": 0.03653264045715332,
       "initial": 0,
       "n": 0,
       "ncols": null,
       "nrows": null,
       "postfix": [
        {
         "value": "Status"
        }
       ],
       "prefix": "chain 1",
       "rate": null,
       "total": 52,
       "unit": "it",
       "unit_divisor": 1000,
       "unit_scale": false
      },
      "application/vnd.jupyter.widget-view+json": {
       "model_id": "763af3cd3afd423ba8daf38995af68af",
       "version_major": 2,
       "version_minor": 0
      },
      "text/plain": [
       "chain 1 |          | 00:00 Status"
      ]
     },
     "metadata": {},
     "output_type": "display_data"
    },
    {
     "data": {
      "application/json": {
       "ascii": false,
       "bar_format": "{desc} |{bar}| {elapsed} {postfix[0][value]}",
       "colour": null,
       "elapsed": 0.038933515548706055,
       "initial": 0,
       "n": 0,
       "ncols": null,
       "nrows": null,
       "postfix": [
        {
         "value": "Status"
        }
       ],
       "prefix": "chain 2",
       "rate": null,
       "total": 52,
       "unit": "it",
       "unit_divisor": 1000,
       "unit_scale": false
      },
      "application/vnd.jupyter.widget-view+json": {
       "model_id": "aa787be4386a497ba33666d2597249d8",
       "version_major": 2,
       "version_minor": 0
      },
      "text/plain": [
       "chain 2 |          | 00:00 Status"
      ]
     },
     "metadata": {},
     "output_type": "display_data"
    },
    {
     "data": {
      "application/json": {
       "ascii": false,
       "bar_format": "{desc} |{bar}| {elapsed} {postfix[0][value]}",
       "colour": null,
       "elapsed": 0.04021120071411133,
       "initial": 0,
       "n": 0,
       "ncols": null,
       "nrows": null,
       "postfix": [
        {
         "value": "Status"
        }
       ],
       "prefix": "chain 3",
       "rate": null,
       "total": 52,
       "unit": "it",
       "unit_divisor": 1000,
       "unit_scale": false
      },
      "application/vnd.jupyter.widget-view+json": {
       "model_id": "6c701e403a96410da603151ff4dd0922",
       "version_major": 2,
       "version_minor": 0
      },
      "text/plain": [
       "chain 3 |          | 00:00 Status"
      ]
     },
     "metadata": {},
     "output_type": "display_data"
    },
    {
     "data": {
      "application/json": {
       "ascii": false,
       "bar_format": "{desc} |{bar}| {elapsed} {postfix[0][value]}",
       "colour": null,
       "elapsed": 0.04121875762939453,
       "initial": 0,
       "n": 0,
       "ncols": null,
       "nrows": null,
       "postfix": [
        {
         "value": "Status"
        }
       ],
       "prefix": "chain 4",
       "rate": null,
       "total": 52,
       "unit": "it",
       "unit_divisor": 1000,
       "unit_scale": false
      },
      "application/vnd.jupyter.widget-view+json": {
       "model_id": "bd8cd72302ec49789162a30c2790f93a",
       "version_major": 2,
       "version_minor": 0
      },
      "text/plain": [
       "chain 4 |          | 00:00 Status"
      ]
     },
     "metadata": {},
     "output_type": "display_data"
    },
    {
     "name": "stdout",
     "output_type": "stream",
     "text": [
      "                                                                                                                                                                                                                                                                                                                                \n"
     ]
    },
    {
     "name": "stderr",
     "output_type": "stream",
     "text": [
      "2023-11-10 13:44:11 - orbit - INFO - Sampling (PyStan) with chains: 4, cores: 8, temperature: 1.000, warmups (per chain): 2500 and samples(per chain): 2500.\n",
      "INFO:orbit:Sampling (PyStan) with chains: 4, cores: 8, temperature: 1.000, warmups (per chain): 2500 and samples(per chain): 2500.\n"
     ]
    },
    {
     "data": {
      "application/json": {
       "ascii": false,
       "bar_format": "{desc} |{bar}| {elapsed} {postfix[0][value]}",
       "colour": null,
       "elapsed": 0.039964914321899414,
       "initial": 0,
       "n": 0,
       "ncols": null,
       "nrows": null,
       "postfix": [
        {
         "value": "Status"
        }
       ],
       "prefix": "chain 1",
       "rate": null,
       "total": 52,
       "unit": "it",
       "unit_divisor": 1000,
       "unit_scale": false
      },
      "application/vnd.jupyter.widget-view+json": {
       "model_id": "93b1793b799f4ba2b39ab6c4a679c88a",
       "version_major": 2,
       "version_minor": 0
      },
      "text/plain": [
       "chain 1 |          | 00:00 Status"
      ]
     },
     "metadata": {},
     "output_type": "display_data"
    },
    {
     "data": {
      "application/json": {
       "ascii": false,
       "bar_format": "{desc} |{bar}| {elapsed} {postfix[0][value]}",
       "colour": null,
       "elapsed": 0.04268360137939453,
       "initial": 0,
       "n": 0,
       "ncols": null,
       "nrows": null,
       "postfix": [
        {
         "value": "Status"
        }
       ],
       "prefix": "chain 2",
       "rate": null,
       "total": 52,
       "unit": "it",
       "unit_divisor": 1000,
       "unit_scale": false
      },
      "application/vnd.jupyter.widget-view+json": {
       "model_id": "bf3b4a6edcdb480d8b8a3d63e21d50bf",
       "version_major": 2,
       "version_minor": 0
      },
      "text/plain": [
       "chain 2 |          | 00:00 Status"
      ]
     },
     "metadata": {},
     "output_type": "display_data"
    },
    {
     "data": {
      "application/json": {
       "ascii": false,
       "bar_format": "{desc} |{bar}| {elapsed} {postfix[0][value]}",
       "colour": null,
       "elapsed": 0.03988337516784668,
       "initial": 0,
       "n": 0,
       "ncols": null,
       "nrows": null,
       "postfix": [
        {
         "value": "Status"
        }
       ],
       "prefix": "chain 3",
       "rate": null,
       "total": 52,
       "unit": "it",
       "unit_divisor": 1000,
       "unit_scale": false
      },
      "application/vnd.jupyter.widget-view+json": {
       "model_id": "0238902e7d074274974eda7e5d54c1a0",
       "version_major": 2,
       "version_minor": 0
      },
      "text/plain": [
       "chain 3 |          | 00:00 Status"
      ]
     },
     "metadata": {},
     "output_type": "display_data"
    },
    {
     "data": {
      "application/json": {
       "ascii": false,
       "bar_format": "{desc} |{bar}| {elapsed} {postfix[0][value]}",
       "colour": null,
       "elapsed": 0.03698253631591797,
       "initial": 0,
       "n": 0,
       "ncols": null,
       "nrows": null,
       "postfix": [
        {
         "value": "Status"
        }
       ],
       "prefix": "chain 4",
       "rate": null,
       "total": 52,
       "unit": "it",
       "unit_divisor": 1000,
       "unit_scale": false
      },
      "application/vnd.jupyter.widget-view+json": {
       "model_id": "4e26cc5307af4daf9f87006839f81a35",
       "version_major": 2,
       "version_minor": 0
      },
      "text/plain": [
       "chain 4 |          | 00:00 Status"
      ]
     },
     "metadata": {},
     "output_type": "display_data"
    },
    {
     "name": "stdout",
     "output_type": "stream",
     "text": [
      "                                                                                                                                                                                                                                                                                                                                \n"
     ]
    },
    {
     "name": "stderr",
     "output_type": "stream",
     "text": [
      "2023-11-10 13:44:15 - orbit - INFO - Sampling (PyStan) with chains: 4, cores: 8, temperature: 1.000, warmups (per chain): 2500 and samples(per chain): 2500.\n",
      "INFO:orbit:Sampling (PyStan) with chains: 4, cores: 8, temperature: 1.000, warmups (per chain): 2500 and samples(per chain): 2500.\n"
     ]
    },
    {
     "data": {
      "application/json": {
       "ascii": false,
       "bar_format": "{desc} |{bar}| {elapsed} {postfix[0][value]}",
       "colour": null,
       "elapsed": 0.04276633262634277,
       "initial": 0,
       "n": 0,
       "ncols": null,
       "nrows": null,
       "postfix": [
        {
         "value": "Status"
        }
       ],
       "prefix": "chain 1",
       "rate": null,
       "total": 52,
       "unit": "it",
       "unit_divisor": 1000,
       "unit_scale": false
      },
      "application/vnd.jupyter.widget-view+json": {
       "model_id": "e73029d6c89d4c3c8191875d35404657",
       "version_major": 2,
       "version_minor": 0
      },
      "text/plain": [
       "chain 1 |          | 00:00 Status"
      ]
     },
     "metadata": {},
     "output_type": "display_data"
    },
    {
     "data": {
      "application/json": {
       "ascii": false,
       "bar_format": "{desc} |{bar}| {elapsed} {postfix[0][value]}",
       "colour": null,
       "elapsed": 0.041506290435791016,
       "initial": 0,
       "n": 0,
       "ncols": null,
       "nrows": null,
       "postfix": [
        {
         "value": "Status"
        }
       ],
       "prefix": "chain 2",
       "rate": null,
       "total": 52,
       "unit": "it",
       "unit_divisor": 1000,
       "unit_scale": false
      },
      "application/vnd.jupyter.widget-view+json": {
       "model_id": "c94bbc848d9f4e7cb6004fa888188d27",
       "version_major": 2,
       "version_minor": 0
      },
      "text/plain": [
       "chain 2 |          | 00:00 Status"
      ]
     },
     "metadata": {},
     "output_type": "display_data"
    },
    {
     "data": {
      "application/json": {
       "ascii": false,
       "bar_format": "{desc} |{bar}| {elapsed} {postfix[0][value]}",
       "colour": null,
       "elapsed": 0.03155779838562012,
       "initial": 0,
       "n": 0,
       "ncols": null,
       "nrows": null,
       "postfix": [
        {
         "value": "Status"
        }
       ],
       "prefix": "chain 3",
       "rate": null,
       "total": 52,
       "unit": "it",
       "unit_divisor": 1000,
       "unit_scale": false
      },
      "application/vnd.jupyter.widget-view+json": {
       "model_id": "8f90a9796edd48f1bd8602f33eae3985",
       "version_major": 2,
       "version_minor": 0
      },
      "text/plain": [
       "chain 3 |          | 00:00 Status"
      ]
     },
     "metadata": {},
     "output_type": "display_data"
    },
    {
     "data": {
      "application/json": {
       "ascii": false,
       "bar_format": "{desc} |{bar}| {elapsed} {postfix[0][value]}",
       "colour": null,
       "elapsed": 0.03864765167236328,
       "initial": 0,
       "n": 0,
       "ncols": null,
       "nrows": null,
       "postfix": [
        {
         "value": "Status"
        }
       ],
       "prefix": "chain 4",
       "rate": null,
       "total": 52,
       "unit": "it",
       "unit_divisor": 1000,
       "unit_scale": false
      },
      "application/vnd.jupyter.widget-view+json": {
       "model_id": "20f047e70f6c4665b4cffe5db21f959e",
       "version_major": 2,
       "version_minor": 0
      },
      "text/plain": [
       "chain 4 |          | 00:00 Status"
      ]
     },
     "metadata": {},
     "output_type": "display_data"
    },
    {
     "name": "stdout",
     "output_type": "stream",
     "text": [
      "                                                                                                                                                                                                                                                                                                                                \n"
     ]
    }
   ],
   "source": [
    "test_list_rolling = []\n",
    "\n",
    "for model in model_list:\n",
    "    \n",
    "    backtester = BackTester(\n",
    "    model=model, #наша моделька\n",
    "    df=act_df, #датафрейм для обучения\n",
    "    min_train_len=7, #самый маленький кусочек данных, с которого начинается обучение\n",
    "    incremental_len=7, #на сколько происходит прирост тренировочных данных\n",
    "    forecast_len=7, #горизонт пронозирования\n",
    "    window_type=\"rolling\") #тип окошка\n",
    "    \n",
    "    backtester.fit_predict()\n",
    "    \n",
    "    test_list_rolling.append(backtester)"
   ]
  },
  {
   "cell_type": "code",
   "execution_count": 47,
   "id": "bea94fc7-a58f-4667-b000-b3f2a62ba704",
   "metadata": {},
   "outputs": [
    {
     "name": "stderr",
     "output_type": "stream",
     "text": [
      "2023-11-10 13:44:20 - orbit - INFO - Sampling (PyStan) with chains: 4, cores: 8, temperature: 1.000, warmups (per chain): 2500 and samples(per chain): 2500.\n",
      "INFO:orbit:Sampling (PyStan) with chains: 4, cores: 8, temperature: 1.000, warmups (per chain): 2500 and samples(per chain): 2500.\n"
     ]
    },
    {
     "data": {
      "application/json": {
       "ascii": false,
       "bar_format": "{desc} |{bar}| {elapsed} {postfix[0][value]}",
       "colour": null,
       "elapsed": 0.0388033390045166,
       "initial": 0,
       "n": 0,
       "ncols": null,
       "nrows": null,
       "postfix": [
        {
         "value": "Status"
        }
       ],
       "prefix": "chain 1",
       "rate": null,
       "total": 52,
       "unit": "it",
       "unit_divisor": 1000,
       "unit_scale": false
      },
      "application/vnd.jupyter.widget-view+json": {
       "model_id": "0db03333f7714c49899df4ea0913d07c",
       "version_major": 2,
       "version_minor": 0
      },
      "text/plain": [
       "chain 1 |          | 00:00 Status"
      ]
     },
     "metadata": {},
     "output_type": "display_data"
    },
    {
     "data": {
      "application/json": {
       "ascii": false,
       "bar_format": "{desc} |{bar}| {elapsed} {postfix[0][value]}",
       "colour": null,
       "elapsed": 0.03400707244873047,
       "initial": 0,
       "n": 0,
       "ncols": null,
       "nrows": null,
       "postfix": [
        {
         "value": "Status"
        }
       ],
       "prefix": "chain 2",
       "rate": null,
       "total": 52,
       "unit": "it",
       "unit_divisor": 1000,
       "unit_scale": false
      },
      "application/vnd.jupyter.widget-view+json": {
       "model_id": "d19a0b7640954748a1d09f38be0980df",
       "version_major": 2,
       "version_minor": 0
      },
      "text/plain": [
       "chain 2 |          | 00:00 Status"
      ]
     },
     "metadata": {},
     "output_type": "display_data"
    },
    {
     "data": {
      "application/json": {
       "ascii": false,
       "bar_format": "{desc} |{bar}| {elapsed} {postfix[0][value]}",
       "colour": null,
       "elapsed": 0.04300427436828613,
       "initial": 0,
       "n": 0,
       "ncols": null,
       "nrows": null,
       "postfix": [
        {
         "value": "Status"
        }
       ],
       "prefix": "chain 3",
       "rate": null,
       "total": 52,
       "unit": "it",
       "unit_divisor": 1000,
       "unit_scale": false
      },
      "application/vnd.jupyter.widget-view+json": {
       "model_id": "348bfb59d8544521af7315c3d44adb7f",
       "version_major": 2,
       "version_minor": 0
      },
      "text/plain": [
       "chain 3 |          | 00:00 Status"
      ]
     },
     "metadata": {},
     "output_type": "display_data"
    },
    {
     "data": {
      "application/json": {
       "ascii": false,
       "bar_format": "{desc} |{bar}| {elapsed} {postfix[0][value]}",
       "colour": null,
       "elapsed": 0.038561344146728516,
       "initial": 0,
       "n": 0,
       "ncols": null,
       "nrows": null,
       "postfix": [
        {
         "value": "Status"
        }
       ],
       "prefix": "chain 4",
       "rate": null,
       "total": 52,
       "unit": "it",
       "unit_divisor": 1000,
       "unit_scale": false
      },
      "application/vnd.jupyter.widget-view+json": {
       "model_id": "5ce14dc95104438c9e756be13557c8f5",
       "version_major": 2,
       "version_minor": 0
      },
      "text/plain": [
       "chain 4 |          | 00:00 Status"
      ]
     },
     "metadata": {},
     "output_type": "display_data"
    },
    {
     "name": "stdout",
     "output_type": "stream",
     "text": [
      "                                                                                                                                                                                                                                                                                                                                \n"
     ]
    },
    {
     "name": "stderr",
     "output_type": "stream",
     "text": [
      "2023-11-10 13:44:24 - orbit - INFO - Sampling (PyStan) with chains: 4, cores: 8, temperature: 1.000, warmups (per chain): 2500 and samples(per chain): 2500.\n",
      "INFO:orbit:Sampling (PyStan) with chains: 4, cores: 8, temperature: 1.000, warmups (per chain): 2500 and samples(per chain): 2500.\n"
     ]
    },
    {
     "data": {
      "application/json": {
       "ascii": false,
       "bar_format": "{desc} |{bar}| {elapsed} {postfix[0][value]}",
       "colour": null,
       "elapsed": 0.053131818771362305,
       "initial": 0,
       "n": 0,
       "ncols": null,
       "nrows": null,
       "postfix": [
        {
         "value": "Status"
        }
       ],
       "prefix": "chain 1",
       "rate": null,
       "total": 52,
       "unit": "it",
       "unit_divisor": 1000,
       "unit_scale": false
      },
      "application/vnd.jupyter.widget-view+json": {
       "model_id": "3ffb571835f54b3bb5d6f22d1de6e56e",
       "version_major": 2,
       "version_minor": 0
      },
      "text/plain": [
       "chain 1 |          | 00:00 Status"
      ]
     },
     "metadata": {},
     "output_type": "display_data"
    },
    {
     "data": {
      "application/json": {
       "ascii": false,
       "bar_format": "{desc} |{bar}| {elapsed} {postfix[0][value]}",
       "colour": null,
       "elapsed": 0.036072492599487305,
       "initial": 0,
       "n": 0,
       "ncols": null,
       "nrows": null,
       "postfix": [
        {
         "value": "Status"
        }
       ],
       "prefix": "chain 2",
       "rate": null,
       "total": 52,
       "unit": "it",
       "unit_divisor": 1000,
       "unit_scale": false
      },
      "application/vnd.jupyter.widget-view+json": {
       "model_id": "0e8f6de1589943699484fe8bf4303550",
       "version_major": 2,
       "version_minor": 0
      },
      "text/plain": [
       "chain 2 |          | 00:00 Status"
      ]
     },
     "metadata": {},
     "output_type": "display_data"
    },
    {
     "data": {
      "application/json": {
       "ascii": false,
       "bar_format": "{desc} |{bar}| {elapsed} {postfix[0][value]}",
       "colour": null,
       "elapsed": 0.029956340789794922,
       "initial": 0,
       "n": 0,
       "ncols": null,
       "nrows": null,
       "postfix": [
        {
         "value": "Status"
        }
       ],
       "prefix": "chain 3",
       "rate": null,
       "total": 52,
       "unit": "it",
       "unit_divisor": 1000,
       "unit_scale": false
      },
      "application/vnd.jupyter.widget-view+json": {
       "model_id": "2ebfa839c7a1461684ad654f3c68b92b",
       "version_major": 2,
       "version_minor": 0
      },
      "text/plain": [
       "chain 3 |          | 00:00 Status"
      ]
     },
     "metadata": {},
     "output_type": "display_data"
    },
    {
     "data": {
      "application/json": {
       "ascii": false,
       "bar_format": "{desc} |{bar}| {elapsed} {postfix[0][value]}",
       "colour": null,
       "elapsed": 0.030921459197998047,
       "initial": 0,
       "n": 0,
       "ncols": null,
       "nrows": null,
       "postfix": [
        {
         "value": "Status"
        }
       ],
       "prefix": "chain 4",
       "rate": null,
       "total": 52,
       "unit": "it",
       "unit_divisor": 1000,
       "unit_scale": false
      },
      "application/vnd.jupyter.widget-view+json": {
       "model_id": "02d6114e0aab412dab70ee1b6ad7f175",
       "version_major": 2,
       "version_minor": 0
      },
      "text/plain": [
       "chain 4 |          | 00:00 Status"
      ]
     },
     "metadata": {},
     "output_type": "display_data"
    },
    {
     "name": "stdout",
     "output_type": "stream",
     "text": [
      "                                                                                                                                                                                                                                                                                                                                \n"
     ]
    },
    {
     "name": "stderr",
     "output_type": "stream",
     "text": [
      "2023-11-10 13:44:29 - orbit - INFO - Sampling (PyStan) with chains: 4, cores: 8, temperature: 1.000, warmups (per chain): 2500 and samples(per chain): 2500.\n",
      "INFO:orbit:Sampling (PyStan) with chains: 4, cores: 8, temperature: 1.000, warmups (per chain): 2500 and samples(per chain): 2500.\n"
     ]
    },
    {
     "data": {
      "application/json": {
       "ascii": false,
       "bar_format": "{desc} |{bar}| {elapsed} {postfix[0][value]}",
       "colour": null,
       "elapsed": 0.04131770133972168,
       "initial": 0,
       "n": 0,
       "ncols": null,
       "nrows": null,
       "postfix": [
        {
         "value": "Status"
        }
       ],
       "prefix": "chain 1",
       "rate": null,
       "total": 52,
       "unit": "it",
       "unit_divisor": 1000,
       "unit_scale": false
      },
      "application/vnd.jupyter.widget-view+json": {
       "model_id": "7ea1e108fc364e1faa22c7fdd0638a22",
       "version_major": 2,
       "version_minor": 0
      },
      "text/plain": [
       "chain 1 |          | 00:00 Status"
      ]
     },
     "metadata": {},
     "output_type": "display_data"
    },
    {
     "data": {
      "application/json": {
       "ascii": false,
       "bar_format": "{desc} |{bar}| {elapsed} {postfix[0][value]}",
       "colour": null,
       "elapsed": 0.03193306922912598,
       "initial": 0,
       "n": 0,
       "ncols": null,
       "nrows": null,
       "postfix": [
        {
         "value": "Status"
        }
       ],
       "prefix": "chain 2",
       "rate": null,
       "total": 52,
       "unit": "it",
       "unit_divisor": 1000,
       "unit_scale": false
      },
      "application/vnd.jupyter.widget-view+json": {
       "model_id": "39031e51bab449299cac5b91e203068c",
       "version_major": 2,
       "version_minor": 0
      },
      "text/plain": [
       "chain 2 |          | 00:00 Status"
      ]
     },
     "metadata": {},
     "output_type": "display_data"
    },
    {
     "data": {
      "application/json": {
       "ascii": false,
       "bar_format": "{desc} |{bar}| {elapsed} {postfix[0][value]}",
       "colour": null,
       "elapsed": 0.0375819206237793,
       "initial": 0,
       "n": 0,
       "ncols": null,
       "nrows": null,
       "postfix": [
        {
         "value": "Status"
        }
       ],
       "prefix": "chain 3",
       "rate": null,
       "total": 52,
       "unit": "it",
       "unit_divisor": 1000,
       "unit_scale": false
      },
      "application/vnd.jupyter.widget-view+json": {
       "model_id": "7c33929322fb49d29e0ab1ea9fa73100",
       "version_major": 2,
       "version_minor": 0
      },
      "text/plain": [
       "chain 3 |          | 00:00 Status"
      ]
     },
     "metadata": {},
     "output_type": "display_data"
    },
    {
     "data": {
      "application/json": {
       "ascii": false,
       "bar_format": "{desc} |{bar}| {elapsed} {postfix[0][value]}",
       "colour": null,
       "elapsed": 0.03388714790344238,
       "initial": 0,
       "n": 0,
       "ncols": null,
       "nrows": null,
       "postfix": [
        {
         "value": "Status"
        }
       ],
       "prefix": "chain 4",
       "rate": null,
       "total": 52,
       "unit": "it",
       "unit_divisor": 1000,
       "unit_scale": false
      },
      "application/vnd.jupyter.widget-view+json": {
       "model_id": "d0d28f3d8b804b14863feafecbb5d5f8",
       "version_major": 2,
       "version_minor": 0
      },
      "text/plain": [
       "chain 4 |          | 00:00 Status"
      ]
     },
     "metadata": {},
     "output_type": "display_data"
    },
    {
     "name": "stdout",
     "output_type": "stream",
     "text": [
      "                                                                                                                                                                                                                                                                                                                                \n"
     ]
    },
    {
     "name": "stderr",
     "output_type": "stream",
     "text": [
      "2023-11-10 13:44:36 - orbit - INFO - Sampling (PyStan) with chains: 4, cores: 8, temperature: 1.000, warmups (per chain): 2500 and samples(per chain): 2500.\n",
      "INFO:orbit:Sampling (PyStan) with chains: 4, cores: 8, temperature: 1.000, warmups (per chain): 2500 and samples(per chain): 2500.\n"
     ]
    },
    {
     "data": {
      "application/json": {
       "ascii": false,
       "bar_format": "{desc} |{bar}| {elapsed} {postfix[0][value]}",
       "colour": null,
       "elapsed": 0.030581235885620117,
       "initial": 0,
       "n": 0,
       "ncols": null,
       "nrows": null,
       "postfix": [
        {
         "value": "Status"
        }
       ],
       "prefix": "chain 1",
       "rate": null,
       "total": 52,
       "unit": "it",
       "unit_divisor": 1000,
       "unit_scale": false
      },
      "application/vnd.jupyter.widget-view+json": {
       "model_id": "5bebd971d2af4934b6162a92c27b9b93",
       "version_major": 2,
       "version_minor": 0
      },
      "text/plain": [
       "chain 1 |          | 00:00 Status"
      ]
     },
     "metadata": {},
     "output_type": "display_data"
    },
    {
     "data": {
      "application/json": {
       "ascii": false,
       "bar_format": "{desc} |{bar}| {elapsed} {postfix[0][value]}",
       "colour": null,
       "elapsed": 0.035611867904663086,
       "initial": 0,
       "n": 0,
       "ncols": null,
       "nrows": null,
       "postfix": [
        {
         "value": "Status"
        }
       ],
       "prefix": "chain 2",
       "rate": null,
       "total": 52,
       "unit": "it",
       "unit_divisor": 1000,
       "unit_scale": false
      },
      "application/vnd.jupyter.widget-view+json": {
       "model_id": "9fd0cba1db654a54a7d612d07782d472",
       "version_major": 2,
       "version_minor": 0
      },
      "text/plain": [
       "chain 2 |          | 00:00 Status"
      ]
     },
     "metadata": {},
     "output_type": "display_data"
    },
    {
     "data": {
      "application/json": {
       "ascii": false,
       "bar_format": "{desc} |{bar}| {elapsed} {postfix[0][value]}",
       "colour": null,
       "elapsed": 0.026037216186523438,
       "initial": 0,
       "n": 0,
       "ncols": null,
       "nrows": null,
       "postfix": [
        {
         "value": "Status"
        }
       ],
       "prefix": "chain 3",
       "rate": null,
       "total": 52,
       "unit": "it",
       "unit_divisor": 1000,
       "unit_scale": false
      },
      "application/vnd.jupyter.widget-view+json": {
       "model_id": "26e5cf4d6ac14dbab409594270f01a78",
       "version_major": 2,
       "version_minor": 0
      },
      "text/plain": [
       "chain 3 |          | 00:00 Status"
      ]
     },
     "metadata": {},
     "output_type": "display_data"
    },
    {
     "data": {
      "application/json": {
       "ascii": false,
       "bar_format": "{desc} |{bar}| {elapsed} {postfix[0][value]}",
       "colour": null,
       "elapsed": 0.025885343551635742,
       "initial": 0,
       "n": 0,
       "ncols": null,
       "nrows": null,
       "postfix": [
        {
         "value": "Status"
        }
       ],
       "prefix": "chain 4",
       "rate": null,
       "total": 52,
       "unit": "it",
       "unit_divisor": 1000,
       "unit_scale": false
      },
      "application/vnd.jupyter.widget-view+json": {
       "model_id": "f816e8f3ad03494796c3bf96bf7d19b3",
       "version_major": 2,
       "version_minor": 0
      },
      "text/plain": [
       "chain 4 |          | 00:00 Status"
      ]
     },
     "metadata": {},
     "output_type": "display_data"
    },
    {
     "name": "stdout",
     "output_type": "stream",
     "text": [
      "                                                                                                                                                                                                                                                                                                                                \n"
     ]
    },
    {
     "name": "stderr",
     "output_type": "stream",
     "text": [
      "2023-11-10 13:44:43 - orbit - INFO - Sampling (PyStan) with chains: 4, cores: 8, temperature: 1.000, warmups (per chain): 2500 and samples(per chain): 2500.\n",
      "INFO:orbit:Sampling (PyStan) with chains: 4, cores: 8, temperature: 1.000, warmups (per chain): 2500 and samples(per chain): 2500.\n"
     ]
    },
    {
     "data": {
      "application/json": {
       "ascii": false,
       "bar_format": "{desc} |{bar}| {elapsed} {postfix[0][value]}",
       "colour": null,
       "elapsed": 0.032544851303100586,
       "initial": 0,
       "n": 0,
       "ncols": null,
       "nrows": null,
       "postfix": [
        {
         "value": "Status"
        }
       ],
       "prefix": "chain 1",
       "rate": null,
       "total": 52,
       "unit": "it",
       "unit_divisor": 1000,
       "unit_scale": false
      },
      "application/vnd.jupyter.widget-view+json": {
       "model_id": "8e789a6b4fac4f46bd63a21aa005bf5f",
       "version_major": 2,
       "version_minor": 0
      },
      "text/plain": [
       "chain 1 |          | 00:00 Status"
      ]
     },
     "metadata": {},
     "output_type": "display_data"
    },
    {
     "data": {
      "application/json": {
       "ascii": false,
       "bar_format": "{desc} |{bar}| {elapsed} {postfix[0][value]}",
       "colour": null,
       "elapsed": 0.03772377967834473,
       "initial": 0,
       "n": 0,
       "ncols": null,
       "nrows": null,
       "postfix": [
        {
         "value": "Status"
        }
       ],
       "prefix": "chain 2",
       "rate": null,
       "total": 52,
       "unit": "it",
       "unit_divisor": 1000,
       "unit_scale": false
      },
      "application/vnd.jupyter.widget-view+json": {
       "model_id": "c59abd8c20a94c1ba18251ae3a1c7c27",
       "version_major": 2,
       "version_minor": 0
      },
      "text/plain": [
       "chain 2 |          | 00:00 Status"
      ]
     },
     "metadata": {},
     "output_type": "display_data"
    },
    {
     "data": {
      "application/json": {
       "ascii": false,
       "bar_format": "{desc} |{bar}| {elapsed} {postfix[0][value]}",
       "colour": null,
       "elapsed": 0.02730083465576172,
       "initial": 0,
       "n": 0,
       "ncols": null,
       "nrows": null,
       "postfix": [
        {
         "value": "Status"
        }
       ],
       "prefix": "chain 3",
       "rate": null,
       "total": 52,
       "unit": "it",
       "unit_divisor": 1000,
       "unit_scale": false
      },
      "application/vnd.jupyter.widget-view+json": {
       "model_id": "5797dc6a571b481b804c49fcb682077d",
       "version_major": 2,
       "version_minor": 0
      },
      "text/plain": [
       "chain 3 |          | 00:00 Status"
      ]
     },
     "metadata": {},
     "output_type": "display_data"
    },
    {
     "data": {
      "application/json": {
       "ascii": false,
       "bar_format": "{desc} |{bar}| {elapsed} {postfix[0][value]}",
       "colour": null,
       "elapsed": 0.03421187400817871,
       "initial": 0,
       "n": 0,
       "ncols": null,
       "nrows": null,
       "postfix": [
        {
         "value": "Status"
        }
       ],
       "prefix": "chain 4",
       "rate": null,
       "total": 52,
       "unit": "it",
       "unit_divisor": 1000,
       "unit_scale": false
      },
      "application/vnd.jupyter.widget-view+json": {
       "model_id": "0ad1139d74a2484a86b3b5dde6b2bd36",
       "version_major": 2,
       "version_minor": 0
      },
      "text/plain": [
       "chain 4 |          | 00:00 Status"
      ]
     },
     "metadata": {},
     "output_type": "display_data"
    },
    {
     "name": "stdout",
     "output_type": "stream",
     "text": [
      "                                                                                                                                                                                                                                                                                                                                \n"
     ]
    },
    {
     "name": "stderr",
     "output_type": "stream",
     "text": [
      "2023-11-10 13:44:52 - orbit - INFO - Sampling (PyStan) with chains: 4, cores: 8, temperature: 1.000, warmups (per chain): 2500 and samples(per chain): 2500.\n",
      "INFO:orbit:Sampling (PyStan) with chains: 4, cores: 8, temperature: 1.000, warmups (per chain): 2500 and samples(per chain): 2500.\n"
     ]
    },
    {
     "data": {
      "application/json": {
       "ascii": false,
       "bar_format": "{desc} |{bar}| {elapsed} {postfix[0][value]}",
       "colour": null,
       "elapsed": 0.03360605239868164,
       "initial": 0,
       "n": 0,
       "ncols": null,
       "nrows": null,
       "postfix": [
        {
         "value": "Status"
        }
       ],
       "prefix": "chain 1",
       "rate": null,
       "total": 52,
       "unit": "it",
       "unit_divisor": 1000,
       "unit_scale": false
      },
      "application/vnd.jupyter.widget-view+json": {
       "model_id": "878b2896b2ed4d71bc1a5b592c22e7d2",
       "version_major": 2,
       "version_minor": 0
      },
      "text/plain": [
       "chain 1 |          | 00:00 Status"
      ]
     },
     "metadata": {},
     "output_type": "display_data"
    },
    {
     "data": {
      "application/json": {
       "ascii": false,
       "bar_format": "{desc} |{bar}| {elapsed} {postfix[0][value]}",
       "colour": null,
       "elapsed": 0.034784793853759766,
       "initial": 0,
       "n": 0,
       "ncols": null,
       "nrows": null,
       "postfix": [
        {
         "value": "Status"
        }
       ],
       "prefix": "chain 2",
       "rate": null,
       "total": 52,
       "unit": "it",
       "unit_divisor": 1000,
       "unit_scale": false
      },
      "application/vnd.jupyter.widget-view+json": {
       "model_id": "00fe33d56990463ebe08e7b38f0e2984",
       "version_major": 2,
       "version_minor": 0
      },
      "text/plain": [
       "chain 2 |          | 00:00 Status"
      ]
     },
     "metadata": {},
     "output_type": "display_data"
    },
    {
     "data": {
      "application/json": {
       "ascii": false,
       "bar_format": "{desc} |{bar}| {elapsed} {postfix[0][value]}",
       "colour": null,
       "elapsed": 0.027134180068969727,
       "initial": 0,
       "n": 0,
       "ncols": null,
       "nrows": null,
       "postfix": [
        {
         "value": "Status"
        }
       ],
       "prefix": "chain 3",
       "rate": null,
       "total": 52,
       "unit": "it",
       "unit_divisor": 1000,
       "unit_scale": false
      },
      "application/vnd.jupyter.widget-view+json": {
       "model_id": "2fa1451c6ed647ac877773aed8d0f6e1",
       "version_major": 2,
       "version_minor": 0
      },
      "text/plain": [
       "chain 3 |          | 00:00 Status"
      ]
     },
     "metadata": {},
     "output_type": "display_data"
    },
    {
     "data": {
      "application/json": {
       "ascii": false,
       "bar_format": "{desc} |{bar}| {elapsed} {postfix[0][value]}",
       "colour": null,
       "elapsed": 0.02501511573791504,
       "initial": 0,
       "n": 0,
       "ncols": null,
       "nrows": null,
       "postfix": [
        {
         "value": "Status"
        }
       ],
       "prefix": "chain 4",
       "rate": null,
       "total": 52,
       "unit": "it",
       "unit_divisor": 1000,
       "unit_scale": false
      },
      "application/vnd.jupyter.widget-view+json": {
       "model_id": "54c8a4813fc4433ea61cb34a19cb5bc0",
       "version_major": 2,
       "version_minor": 0
      },
      "text/plain": [
       "chain 4 |          | 00:00 Status"
      ]
     },
     "metadata": {},
     "output_type": "display_data"
    },
    {
     "name": "stdout",
     "output_type": "stream",
     "text": [
      "                                                                                                                                                                                                                                                                                                                                \n"
     ]
    },
    {
     "name": "stderr",
     "output_type": "stream",
     "text": [
      "2023-11-10 13:45:01 - orbit - INFO - Sampling (PyStan) with chains: 4, cores: 8, temperature: 1.000, warmups (per chain): 2500 and samples(per chain): 2500.\n",
      "INFO:orbit:Sampling (PyStan) with chains: 4, cores: 8, temperature: 1.000, warmups (per chain): 2500 and samples(per chain): 2500.\n"
     ]
    },
    {
     "data": {
      "application/json": {
       "ascii": false,
       "bar_format": "{desc} |{bar}| {elapsed} {postfix[0][value]}",
       "colour": null,
       "elapsed": 0.09788060188293457,
       "initial": 0,
       "n": 0,
       "ncols": null,
       "nrows": null,
       "postfix": [
        {
         "value": "Status"
        }
       ],
       "prefix": "chain 1",
       "rate": null,
       "total": 52,
       "unit": "it",
       "unit_divisor": 1000,
       "unit_scale": false
      },
      "application/vnd.jupyter.widget-view+json": {
       "model_id": "d9eeaad304e54745b0c5ab77e2c096d1",
       "version_major": 2,
       "version_minor": 0
      },
      "text/plain": [
       "chain 1 |          | 00:00 Status"
      ]
     },
     "metadata": {},
     "output_type": "display_data"
    },
    {
     "data": {
      "application/json": {
       "ascii": false,
       "bar_format": "{desc} |{bar}| {elapsed} {postfix[0][value]}",
       "colour": null,
       "elapsed": 0.11126852035522461,
       "initial": 0,
       "n": 0,
       "ncols": null,
       "nrows": null,
       "postfix": [
        {
         "value": "Status"
        }
       ],
       "prefix": "chain 2",
       "rate": null,
       "total": 52,
       "unit": "it",
       "unit_divisor": 1000,
       "unit_scale": false
      },
      "application/vnd.jupyter.widget-view+json": {
       "model_id": "fe983d9083e943df9e36207660e7f88c",
       "version_major": 2,
       "version_minor": 0
      },
      "text/plain": [
       "chain 2 |          | 00:00 Status"
      ]
     },
     "metadata": {},
     "output_type": "display_data"
    },
    {
     "data": {
      "application/json": {
       "ascii": false,
       "bar_format": "{desc} |{bar}| {elapsed} {postfix[0][value]}",
       "colour": null,
       "elapsed": 0.062044620513916016,
       "initial": 0,
       "n": 0,
       "ncols": null,
       "nrows": null,
       "postfix": [
        {
         "value": "Status"
        }
       ],
       "prefix": "chain 3",
       "rate": null,
       "total": 52,
       "unit": "it",
       "unit_divisor": 1000,
       "unit_scale": false
      },
      "application/vnd.jupyter.widget-view+json": {
       "model_id": "6de1ffde6eca4fdfb949a75fa2abc841",
       "version_major": 2,
       "version_minor": 0
      },
      "text/plain": [
       "chain 3 |          | 00:00 Status"
      ]
     },
     "metadata": {},
     "output_type": "display_data"
    },
    {
     "data": {
      "application/json": {
       "ascii": false,
       "bar_format": "{desc} |{bar}| {elapsed} {postfix[0][value]}",
       "colour": null,
       "elapsed": 0.07582235336303711,
       "initial": 0,
       "n": 0,
       "ncols": null,
       "nrows": null,
       "postfix": [
        {
         "value": "Status"
        }
       ],
       "prefix": "chain 4",
       "rate": null,
       "total": 52,
       "unit": "it",
       "unit_divisor": 1000,
       "unit_scale": false
      },
      "application/vnd.jupyter.widget-view+json": {
       "model_id": "60d727451a384bf3a4b0079a76681c60",
       "version_major": 2,
       "version_minor": 0
      },
      "text/plain": [
       "chain 4 |          | 00:00 Status"
      ]
     },
     "metadata": {},
     "output_type": "display_data"
    },
    {
     "name": "stdout",
     "output_type": "stream",
     "text": [
      "                                                                                                                                                                                                                                                                                                                                \n"
     ]
    },
    {
     "name": "stderr",
     "output_type": "stream",
     "text": [
      "2023-11-10 13:45:18 - orbit - INFO - Sampling (PyStan) with chains: 4, cores: 8, temperature: 1.000, warmups (per chain): 2500 and samples(per chain): 2500.\n",
      "INFO:orbit:Sampling (PyStan) with chains: 4, cores: 8, temperature: 1.000, warmups (per chain): 2500 and samples(per chain): 2500.\n"
     ]
    },
    {
     "data": {
      "application/json": {
       "ascii": false,
       "bar_format": "{desc} |{bar}| {elapsed} {postfix[0][value]}",
       "colour": null,
       "elapsed": 0.05430150032043457,
       "initial": 0,
       "n": 0,
       "ncols": null,
       "nrows": null,
       "postfix": [
        {
         "value": "Status"
        }
       ],
       "prefix": "chain 1",
       "rate": null,
       "total": 52,
       "unit": "it",
       "unit_divisor": 1000,
       "unit_scale": false
      },
      "application/vnd.jupyter.widget-view+json": {
       "model_id": "516a0ace06214b9ea381ec3092242cbe",
       "version_major": 2,
       "version_minor": 0
      },
      "text/plain": [
       "chain 1 |          | 00:00 Status"
      ]
     },
     "metadata": {},
     "output_type": "display_data"
    },
    {
     "data": {
      "application/json": {
       "ascii": false,
       "bar_format": "{desc} |{bar}| {elapsed} {postfix[0][value]}",
       "colour": null,
       "elapsed": 0.042433977127075195,
       "initial": 0,
       "n": 0,
       "ncols": null,
       "nrows": null,
       "postfix": [
        {
         "value": "Status"
        }
       ],
       "prefix": "chain 2",
       "rate": null,
       "total": 52,
       "unit": "it",
       "unit_divisor": 1000,
       "unit_scale": false
      },
      "application/vnd.jupyter.widget-view+json": {
       "model_id": "76d9f2b1c5f240149529489820d4cfec",
       "version_major": 2,
       "version_minor": 0
      },
      "text/plain": [
       "chain 2 |          | 00:00 Status"
      ]
     },
     "metadata": {},
     "output_type": "display_data"
    },
    {
     "data": {
      "application/json": {
       "ascii": false,
       "bar_format": "{desc} |{bar}| {elapsed} {postfix[0][value]}",
       "colour": null,
       "elapsed": 0.04554629325866699,
       "initial": 0,
       "n": 0,
       "ncols": null,
       "nrows": null,
       "postfix": [
        {
         "value": "Status"
        }
       ],
       "prefix": "chain 3",
       "rate": null,
       "total": 52,
       "unit": "it",
       "unit_divisor": 1000,
       "unit_scale": false
      },
      "application/vnd.jupyter.widget-view+json": {
       "model_id": "3008ca2ab2654e5cbeaabe888adf006f",
       "version_major": 2,
       "version_minor": 0
      },
      "text/plain": [
       "chain 3 |          | 00:00 Status"
      ]
     },
     "metadata": {},
     "output_type": "display_data"
    },
    {
     "data": {
      "application/json": {
       "ascii": false,
       "bar_format": "{desc} |{bar}| {elapsed} {postfix[0][value]}",
       "colour": null,
       "elapsed": 0.046254634857177734,
       "initial": 0,
       "n": 0,
       "ncols": null,
       "nrows": null,
       "postfix": [
        {
         "value": "Status"
        }
       ],
       "prefix": "chain 4",
       "rate": null,
       "total": 52,
       "unit": "it",
       "unit_divisor": 1000,
       "unit_scale": false
      },
      "application/vnd.jupyter.widget-view+json": {
       "model_id": "3b2e06d581ee4e5ea67bd796cb00f738",
       "version_major": 2,
       "version_minor": 0
      },
      "text/plain": [
       "chain 4 |          | 00:00 Status"
      ]
     },
     "metadata": {},
     "output_type": "display_data"
    },
    {
     "name": "stdout",
     "output_type": "stream",
     "text": [
      "                                                                                                                                                                                                                                                                                                                                \n"
     ]
    },
    {
     "name": "stderr",
     "output_type": "stream",
     "text": [
      "2023-11-10 13:45:21 - orbit - INFO - Sampling (PyStan) with chains: 4, cores: 8, temperature: 1.000, warmups (per chain): 2500 and samples(per chain): 2500.\n",
      "INFO:orbit:Sampling (PyStan) with chains: 4, cores: 8, temperature: 1.000, warmups (per chain): 2500 and samples(per chain): 2500.\n"
     ]
    },
    {
     "data": {
      "application/json": {
       "ascii": false,
       "bar_format": "{desc} |{bar}| {elapsed} {postfix[0][value]}",
       "colour": null,
       "elapsed": 0.04223370552062988,
       "initial": 0,
       "n": 0,
       "ncols": null,
       "nrows": null,
       "postfix": [
        {
         "value": "Status"
        }
       ],
       "prefix": "chain 1",
       "rate": null,
       "total": 52,
       "unit": "it",
       "unit_divisor": 1000,
       "unit_scale": false
      },
      "application/vnd.jupyter.widget-view+json": {
       "model_id": "f504284591a84490afbf3cbb6f4880a5",
       "version_major": 2,
       "version_minor": 0
      },
      "text/plain": [
       "chain 1 |          | 00:00 Status"
      ]
     },
     "metadata": {},
     "output_type": "display_data"
    },
    {
     "data": {
      "application/json": {
       "ascii": false,
       "bar_format": "{desc} |{bar}| {elapsed} {postfix[0][value]}",
       "colour": null,
       "elapsed": 0.03911423683166504,
       "initial": 0,
       "n": 0,
       "ncols": null,
       "nrows": null,
       "postfix": [
        {
         "value": "Status"
        }
       ],
       "prefix": "chain 2",
       "rate": null,
       "total": 52,
       "unit": "it",
       "unit_divisor": 1000,
       "unit_scale": false
      },
      "application/vnd.jupyter.widget-view+json": {
       "model_id": "d6d4e88f23bb4a1bb0fccef739e90bd4",
       "version_major": 2,
       "version_minor": 0
      },
      "text/plain": [
       "chain 2 |          | 00:00 Status"
      ]
     },
     "metadata": {},
     "output_type": "display_data"
    },
    {
     "data": {
      "application/json": {
       "ascii": false,
       "bar_format": "{desc} |{bar}| {elapsed} {postfix[0][value]}",
       "colour": null,
       "elapsed": 0.037506103515625,
       "initial": 0,
       "n": 0,
       "ncols": null,
       "nrows": null,
       "postfix": [
        {
         "value": "Status"
        }
       ],
       "prefix": "chain 3",
       "rate": null,
       "total": 52,
       "unit": "it",
       "unit_divisor": 1000,
       "unit_scale": false
      },
      "application/vnd.jupyter.widget-view+json": {
       "model_id": "a2cbf389d52146d3ba9131fe0d8df45b",
       "version_major": 2,
       "version_minor": 0
      },
      "text/plain": [
       "chain 3 |          | 00:00 Status"
      ]
     },
     "metadata": {},
     "output_type": "display_data"
    },
    {
     "data": {
      "application/json": {
       "ascii": false,
       "bar_format": "{desc} |{bar}| {elapsed} {postfix[0][value]}",
       "colour": null,
       "elapsed": 0.03939938545227051,
       "initial": 0,
       "n": 0,
       "ncols": null,
       "nrows": null,
       "postfix": [
        {
         "value": "Status"
        }
       ],
       "prefix": "chain 4",
       "rate": null,
       "total": 52,
       "unit": "it",
       "unit_divisor": 1000,
       "unit_scale": false
      },
      "application/vnd.jupyter.widget-view+json": {
       "model_id": "83bd2190a6e9438a9e1eb16150033e56",
       "version_major": 2,
       "version_minor": 0
      },
      "text/plain": [
       "chain 4 |          | 00:00 Status"
      ]
     },
     "metadata": {},
     "output_type": "display_data"
    },
    {
     "name": "stdout",
     "output_type": "stream",
     "text": [
      "                                                                                                                                                                                                                                                                                                                                \n"
     ]
    },
    {
     "name": "stderr",
     "output_type": "stream",
     "text": [
      "2023-11-10 13:45:25 - orbit - INFO - Sampling (PyStan) with chains: 4, cores: 8, temperature: 1.000, warmups (per chain): 2500 and samples(per chain): 2500.\n",
      "INFO:orbit:Sampling (PyStan) with chains: 4, cores: 8, temperature: 1.000, warmups (per chain): 2500 and samples(per chain): 2500.\n"
     ]
    },
    {
     "data": {
      "application/json": {
       "ascii": false,
       "bar_format": "{desc} |{bar}| {elapsed} {postfix[0][value]}",
       "colour": null,
       "elapsed": 0.038752079010009766,
       "initial": 0,
       "n": 0,
       "ncols": null,
       "nrows": null,
       "postfix": [
        {
         "value": "Status"
        }
       ],
       "prefix": "chain 1",
       "rate": null,
       "total": 52,
       "unit": "it",
       "unit_divisor": 1000,
       "unit_scale": false
      },
      "application/vnd.jupyter.widget-view+json": {
       "model_id": "a128cebe7efa4d9ea078db832de17183",
       "version_major": 2,
       "version_minor": 0
      },
      "text/plain": [
       "chain 1 |          | 00:00 Status"
      ]
     },
     "metadata": {},
     "output_type": "display_data"
    },
    {
     "data": {
      "application/json": {
       "ascii": false,
       "bar_format": "{desc} |{bar}| {elapsed} {postfix[0][value]}",
       "colour": null,
       "elapsed": 0.03187870979309082,
       "initial": 0,
       "n": 0,
       "ncols": null,
       "nrows": null,
       "postfix": [
        {
         "value": "Status"
        }
       ],
       "prefix": "chain 2",
       "rate": null,
       "total": 52,
       "unit": "it",
       "unit_divisor": 1000,
       "unit_scale": false
      },
      "application/vnd.jupyter.widget-view+json": {
       "model_id": "01647f7e849043c2a1c44c1ed395c49c",
       "version_major": 2,
       "version_minor": 0
      },
      "text/plain": [
       "chain 2 |          | 00:00 Status"
      ]
     },
     "metadata": {},
     "output_type": "display_data"
    },
    {
     "data": {
      "application/json": {
       "ascii": false,
       "bar_format": "{desc} |{bar}| {elapsed} {postfix[0][value]}",
       "colour": null,
       "elapsed": 0.03284740447998047,
       "initial": 0,
       "n": 0,
       "ncols": null,
       "nrows": null,
       "postfix": [
        {
         "value": "Status"
        }
       ],
       "prefix": "chain 3",
       "rate": null,
       "total": 52,
       "unit": "it",
       "unit_divisor": 1000,
       "unit_scale": false
      },
      "application/vnd.jupyter.widget-view+json": {
       "model_id": "f8896bc2b85b40659f5088bf7406c50b",
       "version_major": 2,
       "version_minor": 0
      },
      "text/plain": [
       "chain 3 |          | 00:00 Status"
      ]
     },
     "metadata": {},
     "output_type": "display_data"
    },
    {
     "data": {
      "application/json": {
       "ascii": false,
       "bar_format": "{desc} |{bar}| {elapsed} {postfix[0][value]}",
       "colour": null,
       "elapsed": 0.02627253532409668,
       "initial": 0,
       "n": 0,
       "ncols": null,
       "nrows": null,
       "postfix": [
        {
         "value": "Status"
        }
       ],
       "prefix": "chain 4",
       "rate": null,
       "total": 52,
       "unit": "it",
       "unit_divisor": 1000,
       "unit_scale": false
      },
      "application/vnd.jupyter.widget-view+json": {
       "model_id": "e2ec9e74ab4c4355b206c516738832e0",
       "version_major": 2,
       "version_minor": 0
      },
      "text/plain": [
       "chain 4 |          | 00:00 Status"
      ]
     },
     "metadata": {},
     "output_type": "display_data"
    },
    {
     "name": "stdout",
     "output_type": "stream",
     "text": [
      "                                                                                                                                                                                                                                                                                                                                \n"
     ]
    },
    {
     "name": "stderr",
     "output_type": "stream",
     "text": [
      "2023-11-10 13:45:31 - orbit - INFO - Sampling (PyStan) with chains: 4, cores: 8, temperature: 1.000, warmups (per chain): 2500 and samples(per chain): 2500.\n",
      "INFO:orbit:Sampling (PyStan) with chains: 4, cores: 8, temperature: 1.000, warmups (per chain): 2500 and samples(per chain): 2500.\n"
     ]
    },
    {
     "data": {
      "application/json": {
       "ascii": false,
       "bar_format": "{desc} |{bar}| {elapsed} {postfix[0][value]}",
       "colour": null,
       "elapsed": 0.0343317985534668,
       "initial": 0,
       "n": 0,
       "ncols": null,
       "nrows": null,
       "postfix": [
        {
         "value": "Status"
        }
       ],
       "prefix": "chain 1",
       "rate": null,
       "total": 52,
       "unit": "it",
       "unit_divisor": 1000,
       "unit_scale": false
      },
      "application/vnd.jupyter.widget-view+json": {
       "model_id": "25f22498f87e43c3877f51b76c6b6909",
       "version_major": 2,
       "version_minor": 0
      },
      "text/plain": [
       "chain 1 |          | 00:00 Status"
      ]
     },
     "metadata": {},
     "output_type": "display_data"
    },
    {
     "data": {
      "application/json": {
       "ascii": false,
       "bar_format": "{desc} |{bar}| {elapsed} {postfix[0][value]}",
       "colour": null,
       "elapsed": 0.030325651168823242,
       "initial": 0,
       "n": 0,
       "ncols": null,
       "nrows": null,
       "postfix": [
        {
         "value": "Status"
        }
       ],
       "prefix": "chain 2",
       "rate": null,
       "total": 52,
       "unit": "it",
       "unit_divisor": 1000,
       "unit_scale": false
      },
      "application/vnd.jupyter.widget-view+json": {
       "model_id": "219b0e2b22a94c559b319d267e867a5f",
       "version_major": 2,
       "version_minor": 0
      },
      "text/plain": [
       "chain 2 |          | 00:00 Status"
      ]
     },
     "metadata": {},
     "output_type": "display_data"
    },
    {
     "data": {
      "application/json": {
       "ascii": false,
       "bar_format": "{desc} |{bar}| {elapsed} {postfix[0][value]}",
       "colour": null,
       "elapsed": 0.028968095779418945,
       "initial": 0,
       "n": 0,
       "ncols": null,
       "nrows": null,
       "postfix": [
        {
         "value": "Status"
        }
       ],
       "prefix": "chain 3",
       "rate": null,
       "total": 52,
       "unit": "it",
       "unit_divisor": 1000,
       "unit_scale": false
      },
      "application/vnd.jupyter.widget-view+json": {
       "model_id": "9b53792ab6054af6a24a5f3e64531b71",
       "version_major": 2,
       "version_minor": 0
      },
      "text/plain": [
       "chain 3 |          | 00:00 Status"
      ]
     },
     "metadata": {},
     "output_type": "display_data"
    },
    {
     "data": {
      "application/json": {
       "ascii": false,
       "bar_format": "{desc} |{bar}| {elapsed} {postfix[0][value]}",
       "colour": null,
       "elapsed": 0.036422014236450195,
       "initial": 0,
       "n": 0,
       "ncols": null,
       "nrows": null,
       "postfix": [
        {
         "value": "Status"
        }
       ],
       "prefix": "chain 4",
       "rate": null,
       "total": 52,
       "unit": "it",
       "unit_divisor": 1000,
       "unit_scale": false
      },
      "application/vnd.jupyter.widget-view+json": {
       "model_id": "98422d6b61654598867d0bf265227ab7",
       "version_major": 2,
       "version_minor": 0
      },
      "text/plain": [
       "chain 4 |          | 00:00 Status"
      ]
     },
     "metadata": {},
     "output_type": "display_data"
    },
    {
     "name": "stdout",
     "output_type": "stream",
     "text": [
      "                                                                                                                                                                                                                                                                                                                                \n"
     ]
    },
    {
     "name": "stderr",
     "output_type": "stream",
     "text": [
      "2023-11-10 13:45:39 - orbit - INFO - Sampling (PyStan) with chains: 4, cores: 8, temperature: 1.000, warmups (per chain): 2500 and samples(per chain): 2500.\n",
      "INFO:orbit:Sampling (PyStan) with chains: 4, cores: 8, temperature: 1.000, warmups (per chain): 2500 and samples(per chain): 2500.\n"
     ]
    },
    {
     "data": {
      "application/json": {
       "ascii": false,
       "bar_format": "{desc} |{bar}| {elapsed} {postfix[0][value]}",
       "colour": null,
       "elapsed": 0.04995155334472656,
       "initial": 0,
       "n": 0,
       "ncols": null,
       "nrows": null,
       "postfix": [
        {
         "value": "Status"
        }
       ],
       "prefix": "chain 1",
       "rate": null,
       "total": 52,
       "unit": "it",
       "unit_divisor": 1000,
       "unit_scale": false
      },
      "application/vnd.jupyter.widget-view+json": {
       "model_id": "e81c498de27d422fa31ab612b0d555eb",
       "version_major": 2,
       "version_minor": 0
      },
      "text/plain": [
       "chain 1 |          | 00:00 Status"
      ]
     },
     "metadata": {},
     "output_type": "display_data"
    },
    {
     "data": {
      "application/json": {
       "ascii": false,
       "bar_format": "{desc} |{bar}| {elapsed} {postfix[0][value]}",
       "colour": null,
       "elapsed": 0.03404355049133301,
       "initial": 0,
       "n": 0,
       "ncols": null,
       "nrows": null,
       "postfix": [
        {
         "value": "Status"
        }
       ],
       "prefix": "chain 2",
       "rate": null,
       "total": 52,
       "unit": "it",
       "unit_divisor": 1000,
       "unit_scale": false
      },
      "application/vnd.jupyter.widget-view+json": {
       "model_id": "0fb7d1144f3f4664bbdf25a96a925f2f",
       "version_major": 2,
       "version_minor": 0
      },
      "text/plain": [
       "chain 2 |          | 00:00 Status"
      ]
     },
     "metadata": {},
     "output_type": "display_data"
    },
    {
     "data": {
      "application/json": {
       "ascii": false,
       "bar_format": "{desc} |{bar}| {elapsed} {postfix[0][value]}",
       "colour": null,
       "elapsed": 0.02862381935119629,
       "initial": 0,
       "n": 0,
       "ncols": null,
       "nrows": null,
       "postfix": [
        {
         "value": "Status"
        }
       ],
       "prefix": "chain 3",
       "rate": null,
       "total": 52,
       "unit": "it",
       "unit_divisor": 1000,
       "unit_scale": false
      },
      "application/vnd.jupyter.widget-view+json": {
       "model_id": "5965b6eb5c614bc087da6554a1d58a6b",
       "version_major": 2,
       "version_minor": 0
      },
      "text/plain": [
       "chain 3 |          | 00:00 Status"
      ]
     },
     "metadata": {},
     "output_type": "display_data"
    },
    {
     "data": {
      "application/json": {
       "ascii": false,
       "bar_format": "{desc} |{bar}| {elapsed} {postfix[0][value]}",
       "colour": null,
       "elapsed": 0.026839494705200195,
       "initial": 0,
       "n": 0,
       "ncols": null,
       "nrows": null,
       "postfix": [
        {
         "value": "Status"
        }
       ],
       "prefix": "chain 4",
       "rate": null,
       "total": 52,
       "unit": "it",
       "unit_divisor": 1000,
       "unit_scale": false
      },
      "application/vnd.jupyter.widget-view+json": {
       "model_id": "6dfb6146116647e3944aec4f0d70e306",
       "version_major": 2,
       "version_minor": 0
      },
      "text/plain": [
       "chain 4 |          | 00:00 Status"
      ]
     },
     "metadata": {},
     "output_type": "display_data"
    },
    {
     "name": "stdout",
     "output_type": "stream",
     "text": [
      "                                                                                                                                                                                                                                                                                                                                \n"
     ]
    },
    {
     "name": "stderr",
     "output_type": "stream",
     "text": [
      "2023-11-10 13:45:47 - orbit - INFO - Sampling (PyStan) with chains: 4, cores: 8, temperature: 1.000, warmups (per chain): 2500 and samples(per chain): 2500.\n",
      "INFO:orbit:Sampling (PyStan) with chains: 4, cores: 8, temperature: 1.000, warmups (per chain): 2500 and samples(per chain): 2500.\n"
     ]
    },
    {
     "data": {
      "application/json": {
       "ascii": false,
       "bar_format": "{desc} |{bar}| {elapsed} {postfix[0][value]}",
       "colour": null,
       "elapsed": 0.05831146240234375,
       "initial": 0,
       "n": 0,
       "ncols": null,
       "nrows": null,
       "postfix": [
        {
         "value": "Status"
        }
       ],
       "prefix": "chain 1",
       "rate": null,
       "total": 52,
       "unit": "it",
       "unit_divisor": 1000,
       "unit_scale": false
      },
      "application/vnd.jupyter.widget-view+json": {
       "model_id": "6c3a7a607e664a35afd5bf03626a3a00",
       "version_major": 2,
       "version_minor": 0
      },
      "text/plain": [
       "chain 1 |          | 00:00 Status"
      ]
     },
     "metadata": {},
     "output_type": "display_data"
    },
    {
     "data": {
      "application/json": {
       "ascii": false,
       "bar_format": "{desc} |{bar}| {elapsed} {postfix[0][value]}",
       "colour": null,
       "elapsed": 0.044042110443115234,
       "initial": 0,
       "n": 0,
       "ncols": null,
       "nrows": null,
       "postfix": [
        {
         "value": "Status"
        }
       ],
       "prefix": "chain 2",
       "rate": null,
       "total": 52,
       "unit": "it",
       "unit_divisor": 1000,
       "unit_scale": false
      },
      "application/vnd.jupyter.widget-view+json": {
       "model_id": "e6ce09b68e7e4bf3b5cef92a80f90c59",
       "version_major": 2,
       "version_minor": 0
      },
      "text/plain": [
       "chain 2 |          | 00:00 Status"
      ]
     },
     "metadata": {},
     "output_type": "display_data"
    },
    {
     "data": {
      "application/json": {
       "ascii": false,
       "bar_format": "{desc} |{bar}| {elapsed} {postfix[0][value]}",
       "colour": null,
       "elapsed": 0.043476104736328125,
       "initial": 0,
       "n": 0,
       "ncols": null,
       "nrows": null,
       "postfix": [
        {
         "value": "Status"
        }
       ],
       "prefix": "chain 3",
       "rate": null,
       "total": 52,
       "unit": "it",
       "unit_divisor": 1000,
       "unit_scale": false
      },
      "application/vnd.jupyter.widget-view+json": {
       "model_id": "bf2dcc666893431281956e9ad593911d",
       "version_major": 2,
       "version_minor": 0
      },
      "text/plain": [
       "chain 3 |          | 00:00 Status"
      ]
     },
     "metadata": {},
     "output_type": "display_data"
    },
    {
     "data": {
      "application/json": {
       "ascii": false,
       "bar_format": "{desc} |{bar}| {elapsed} {postfix[0][value]}",
       "colour": null,
       "elapsed": 0.05496811866760254,
       "initial": 0,
       "n": 0,
       "ncols": null,
       "nrows": null,
       "postfix": [
        {
         "value": "Status"
        }
       ],
       "prefix": "chain 4",
       "rate": null,
       "total": 52,
       "unit": "it",
       "unit_divisor": 1000,
       "unit_scale": false
      },
      "application/vnd.jupyter.widget-view+json": {
       "model_id": "e90292c941d44f07a2af0806510bb0af",
       "version_major": 2,
       "version_minor": 0
      },
      "text/plain": [
       "chain 4 |          | 00:00 Status"
      ]
     },
     "metadata": {},
     "output_type": "display_data"
    },
    {
     "name": "stdout",
     "output_type": "stream",
     "text": [
      "                                                                                                                                                                                                                                                                                                                                \n"
     ]
    },
    {
     "name": "stderr",
     "output_type": "stream",
     "text": [
      "2023-11-10 13:45:57 - orbit - INFO - Sampling (PyStan) with chains: 4, cores: 8, temperature: 1.000, warmups (per chain): 2500 and samples(per chain): 2500.\n",
      "INFO:orbit:Sampling (PyStan) with chains: 4, cores: 8, temperature: 1.000, warmups (per chain): 2500 and samples(per chain): 2500.\n"
     ]
    },
    {
     "data": {
      "application/json": {
       "ascii": false,
       "bar_format": "{desc} |{bar}| {elapsed} {postfix[0][value]}",
       "colour": null,
       "elapsed": 0.03986167907714844,
       "initial": 0,
       "n": 0,
       "ncols": null,
       "nrows": null,
       "postfix": [
        {
         "value": "Status"
        }
       ],
       "prefix": "chain 1",
       "rate": null,
       "total": 52,
       "unit": "it",
       "unit_divisor": 1000,
       "unit_scale": false
      },
      "application/vnd.jupyter.widget-view+json": {
       "model_id": "28e503702a78460592817c95c1d245b6",
       "version_major": 2,
       "version_minor": 0
      },
      "text/plain": [
       "chain 1 |          | 00:00 Status"
      ]
     },
     "metadata": {},
     "output_type": "display_data"
    },
    {
     "data": {
      "application/json": {
       "ascii": false,
       "bar_format": "{desc} |{bar}| {elapsed} {postfix[0][value]}",
       "colour": null,
       "elapsed": 0.035413503646850586,
       "initial": 0,
       "n": 0,
       "ncols": null,
       "nrows": null,
       "postfix": [
        {
         "value": "Status"
        }
       ],
       "prefix": "chain 2",
       "rate": null,
       "total": 52,
       "unit": "it",
       "unit_divisor": 1000,
       "unit_scale": false
      },
      "application/vnd.jupyter.widget-view+json": {
       "model_id": "04eabbae8faa4950b077f7a0e3a9b6cb",
       "version_major": 2,
       "version_minor": 0
      },
      "text/plain": [
       "chain 2 |          | 00:00 Status"
      ]
     },
     "metadata": {},
     "output_type": "display_data"
    },
    {
     "data": {
      "application/json": {
       "ascii": false,
       "bar_format": "{desc} |{bar}| {elapsed} {postfix[0][value]}",
       "colour": null,
       "elapsed": 0.030460596084594727,
       "initial": 0,
       "n": 0,
       "ncols": null,
       "nrows": null,
       "postfix": [
        {
         "value": "Status"
        }
       ],
       "prefix": "chain 3",
       "rate": null,
       "total": 52,
       "unit": "it",
       "unit_divisor": 1000,
       "unit_scale": false
      },
      "application/vnd.jupyter.widget-view+json": {
       "model_id": "5b42887dbb324de6a9f9bd4c0a1e4c10",
       "version_major": 2,
       "version_minor": 0
      },
      "text/plain": [
       "chain 3 |          | 00:00 Status"
      ]
     },
     "metadata": {},
     "output_type": "display_data"
    },
    {
     "data": {
      "application/json": {
       "ascii": false,
       "bar_format": "{desc} |{bar}| {elapsed} {postfix[0][value]}",
       "colour": null,
       "elapsed": 0.028975725173950195,
       "initial": 0,
       "n": 0,
       "ncols": null,
       "nrows": null,
       "postfix": [
        {
         "value": "Status"
        }
       ],
       "prefix": "chain 4",
       "rate": null,
       "total": 52,
       "unit": "it",
       "unit_divisor": 1000,
       "unit_scale": false
      },
      "application/vnd.jupyter.widget-view+json": {
       "model_id": "d77cd63e57674fabbba8611fa152e49e",
       "version_major": 2,
       "version_minor": 0
      },
      "text/plain": [
       "chain 4 |          | 00:00 Status"
      ]
     },
     "metadata": {},
     "output_type": "display_data"
    },
    {
     "name": "stdout",
     "output_type": "stream",
     "text": [
      "                                                                                                                                                                                                                                                                                                                                \n"
     ]
    },
    {
     "name": "stderr",
     "output_type": "stream",
     "text": [
      "2023-11-10 13:46:10 - orbit - INFO - Sampling (PyStan) with chains: 4, cores: 8, temperature: 1.000, warmups (per chain): 2500 and samples(per chain): 2500.\n",
      "INFO:orbit:Sampling (PyStan) with chains: 4, cores: 8, temperature: 1.000, warmups (per chain): 2500 and samples(per chain): 2500.\n"
     ]
    },
    {
     "data": {
      "application/json": {
       "ascii": false,
       "bar_format": "{desc} |{bar}| {elapsed} {postfix[0][value]}",
       "colour": null,
       "elapsed": 0.048790693283081055,
       "initial": 0,
       "n": 0,
       "ncols": null,
       "nrows": null,
       "postfix": [
        {
         "value": "Status"
        }
       ],
       "prefix": "chain 1",
       "rate": null,
       "total": 52,
       "unit": "it",
       "unit_divisor": 1000,
       "unit_scale": false
      },
      "application/vnd.jupyter.widget-view+json": {
       "model_id": "765f6d953fa34a5a88cecf93b7e0f40b",
       "version_major": 2,
       "version_minor": 0
      },
      "text/plain": [
       "chain 1 |          | 00:00 Status"
      ]
     },
     "metadata": {},
     "output_type": "display_data"
    },
    {
     "data": {
      "application/json": {
       "ascii": false,
       "bar_format": "{desc} |{bar}| {elapsed} {postfix[0][value]}",
       "colour": null,
       "elapsed": 0.03326225280761719,
       "initial": 0,
       "n": 0,
       "ncols": null,
       "nrows": null,
       "postfix": [
        {
         "value": "Status"
        }
       ],
       "prefix": "chain 2",
       "rate": null,
       "total": 52,
       "unit": "it",
       "unit_divisor": 1000,
       "unit_scale": false
      },
      "application/vnd.jupyter.widget-view+json": {
       "model_id": "f0fbce98c4cc4422bdd44e014589ff29",
       "version_major": 2,
       "version_minor": 0
      },
      "text/plain": [
       "chain 2 |          | 00:00 Status"
      ]
     },
     "metadata": {},
     "output_type": "display_data"
    },
    {
     "data": {
      "application/json": {
       "ascii": false,
       "bar_format": "{desc} |{bar}| {elapsed} {postfix[0][value]}",
       "colour": null,
       "elapsed": 0.024626493453979492,
       "initial": 0,
       "n": 0,
       "ncols": null,
       "nrows": null,
       "postfix": [
        {
         "value": "Status"
        }
       ],
       "prefix": "chain 3",
       "rate": null,
       "total": 52,
       "unit": "it",
       "unit_divisor": 1000,
       "unit_scale": false
      },
      "application/vnd.jupyter.widget-view+json": {
       "model_id": "76b424fe57f14129888569a111938618",
       "version_major": 2,
       "version_minor": 0
      },
      "text/plain": [
       "chain 3 |          | 00:00 Status"
      ]
     },
     "metadata": {},
     "output_type": "display_data"
    },
    {
     "data": {
      "application/json": {
       "ascii": false,
       "bar_format": "{desc} |{bar}| {elapsed} {postfix[0][value]}",
       "colour": null,
       "elapsed": 0.026937246322631836,
       "initial": 0,
       "n": 0,
       "ncols": null,
       "nrows": null,
       "postfix": [
        {
         "value": "Status"
        }
       ],
       "prefix": "chain 4",
       "rate": null,
       "total": 52,
       "unit": "it",
       "unit_divisor": 1000,
       "unit_scale": false
      },
      "application/vnd.jupyter.widget-view+json": {
       "model_id": "7761b16806a44ed0a79041d8dceee49a",
       "version_major": 2,
       "version_minor": 0
      },
      "text/plain": [
       "chain 4 |          | 00:00 Status"
      ]
     },
     "metadata": {},
     "output_type": "display_data"
    },
    {
     "name": "stdout",
     "output_type": "stream",
     "text": [
      "                                                                                                                                                                                                                                                                                                                                \n"
     ]
    },
    {
     "name": "stderr",
     "output_type": "stream",
     "text": [
      "2023-11-10 13:46:16 - orbit - INFO - Sampling (PyStan) with chains: 4, cores: 8, temperature: 1.000, warmups (per chain): 2500 and samples(per chain): 2500.\n",
      "INFO:orbit:Sampling (PyStan) with chains: 4, cores: 8, temperature: 1.000, warmups (per chain): 2500 and samples(per chain): 2500.\n"
     ]
    },
    {
     "data": {
      "application/json": {
       "ascii": false,
       "bar_format": "{desc} |{bar}| {elapsed} {postfix[0][value]}",
       "colour": null,
       "elapsed": 0.03180742263793945,
       "initial": 0,
       "n": 0,
       "ncols": null,
       "nrows": null,
       "postfix": [
        {
         "value": "Status"
        }
       ],
       "prefix": "chain 1",
       "rate": null,
       "total": 52,
       "unit": "it",
       "unit_divisor": 1000,
       "unit_scale": false
      },
      "application/vnd.jupyter.widget-view+json": {
       "model_id": "2b6240f4b94b440ea93547559f6827bd",
       "version_major": 2,
       "version_minor": 0
      },
      "text/plain": [
       "chain 1 |          | 00:00 Status"
      ]
     },
     "metadata": {},
     "output_type": "display_data"
    },
    {
     "data": {
      "application/json": {
       "ascii": false,
       "bar_format": "{desc} |{bar}| {elapsed} {postfix[0][value]}",
       "colour": null,
       "elapsed": 0.032587289810180664,
       "initial": 0,
       "n": 0,
       "ncols": null,
       "nrows": null,
       "postfix": [
        {
         "value": "Status"
        }
       ],
       "prefix": "chain 2",
       "rate": null,
       "total": 52,
       "unit": "it",
       "unit_divisor": 1000,
       "unit_scale": false
      },
      "application/vnd.jupyter.widget-view+json": {
       "model_id": "4d52f124b1034d5b9af79e080f960929",
       "version_major": 2,
       "version_minor": 0
      },
      "text/plain": [
       "chain 2 |          | 00:00 Status"
      ]
     },
     "metadata": {},
     "output_type": "display_data"
    },
    {
     "data": {
      "application/json": {
       "ascii": false,
       "bar_format": "{desc} |{bar}| {elapsed} {postfix[0][value]}",
       "colour": null,
       "elapsed": 0.031341552734375,
       "initial": 0,
       "n": 0,
       "ncols": null,
       "nrows": null,
       "postfix": [
        {
         "value": "Status"
        }
       ],
       "prefix": "chain 3",
       "rate": null,
       "total": 52,
       "unit": "it",
       "unit_divisor": 1000,
       "unit_scale": false
      },
      "application/vnd.jupyter.widget-view+json": {
       "model_id": "4cbe00c92e644fcf85459f91e8f04376",
       "version_major": 2,
       "version_minor": 0
      },
      "text/plain": [
       "chain 3 |          | 00:00 Status"
      ]
     },
     "metadata": {},
     "output_type": "display_data"
    },
    {
     "data": {
      "application/json": {
       "ascii": false,
       "bar_format": "{desc} |{bar}| {elapsed} {postfix[0][value]}",
       "colour": null,
       "elapsed": 0.03295564651489258,
       "initial": 0,
       "n": 0,
       "ncols": null,
       "nrows": null,
       "postfix": [
        {
         "value": "Status"
        }
       ],
       "prefix": "chain 4",
       "rate": null,
       "total": 52,
       "unit": "it",
       "unit_divisor": 1000,
       "unit_scale": false
      },
      "application/vnd.jupyter.widget-view+json": {
       "model_id": "381394fb285544d7ba085547ce78eb6a",
       "version_major": 2,
       "version_minor": 0
      },
      "text/plain": [
       "chain 4 |          | 00:00 Status"
      ]
     },
     "metadata": {},
     "output_type": "display_data"
    },
    {
     "name": "stdout",
     "output_type": "stream",
     "text": [
      "                                                                                                                                                                                                                                                                                                                                \n"
     ]
    },
    {
     "name": "stderr",
     "output_type": "stream",
     "text": [
      "2023-11-10 13:46:24 - orbit - INFO - Sampling (PyStan) with chains: 4, cores: 8, temperature: 1.000, warmups (per chain): 2500 and samples(per chain): 2500.\n",
      "INFO:orbit:Sampling (PyStan) with chains: 4, cores: 8, temperature: 1.000, warmups (per chain): 2500 and samples(per chain): 2500.\n"
     ]
    },
    {
     "data": {
      "application/json": {
       "ascii": false,
       "bar_format": "{desc} |{bar}| {elapsed} {postfix[0][value]}",
       "colour": null,
       "elapsed": 0.05212664604187012,
       "initial": 0,
       "n": 0,
       "ncols": null,
       "nrows": null,
       "postfix": [
        {
         "value": "Status"
        }
       ],
       "prefix": "chain 1",
       "rate": null,
       "total": 52,
       "unit": "it",
       "unit_divisor": 1000,
       "unit_scale": false
      },
      "application/vnd.jupyter.widget-view+json": {
       "model_id": "06cd00fc7f9b462b8381eff3d4e7e554",
       "version_major": 2,
       "version_minor": 0
      },
      "text/plain": [
       "chain 1 |          | 00:00 Status"
      ]
     },
     "metadata": {},
     "output_type": "display_data"
    },
    {
     "data": {
      "application/json": {
       "ascii": false,
       "bar_format": "{desc} |{bar}| {elapsed} {postfix[0][value]}",
       "colour": null,
       "elapsed": 0.07705163955688477,
       "initial": 0,
       "n": 0,
       "ncols": null,
       "nrows": null,
       "postfix": [
        {
         "value": "Status"
        }
       ],
       "prefix": "chain 2",
       "rate": null,
       "total": 52,
       "unit": "it",
       "unit_divisor": 1000,
       "unit_scale": false
      },
      "application/vnd.jupyter.widget-view+json": {
       "model_id": "3f09e9c0914448e38f9536de8db32e62",
       "version_major": 2,
       "version_minor": 0
      },
      "text/plain": [
       "chain 2 |          | 00:00 Status"
      ]
     },
     "metadata": {},
     "output_type": "display_data"
    },
    {
     "data": {
      "application/json": {
       "ascii": false,
       "bar_format": "{desc} |{bar}| {elapsed} {postfix[0][value]}",
       "colour": null,
       "elapsed": 0.03631591796875,
       "initial": 0,
       "n": 0,
       "ncols": null,
       "nrows": null,
       "postfix": [
        {
         "value": "Status"
        }
       ],
       "prefix": "chain 3",
       "rate": null,
       "total": 52,
       "unit": "it",
       "unit_divisor": 1000,
       "unit_scale": false
      },
      "application/vnd.jupyter.widget-view+json": {
       "model_id": "f37345ba2e3241ad8843a8a749b1bf95",
       "version_major": 2,
       "version_minor": 0
      },
      "text/plain": [
       "chain 3 |          | 00:00 Status"
      ]
     },
     "metadata": {},
     "output_type": "display_data"
    },
    {
     "data": {
      "application/json": {
       "ascii": false,
       "bar_format": "{desc} |{bar}| {elapsed} {postfix[0][value]}",
       "colour": null,
       "elapsed": 0.044120073318481445,
       "initial": 0,
       "n": 0,
       "ncols": null,
       "nrows": null,
       "postfix": [
        {
         "value": "Status"
        }
       ],
       "prefix": "chain 4",
       "rate": null,
       "total": 52,
       "unit": "it",
       "unit_divisor": 1000,
       "unit_scale": false
      },
      "application/vnd.jupyter.widget-view+json": {
       "model_id": "f96b36b2204b460ea1d3733326da95d8",
       "version_major": 2,
       "version_minor": 0
      },
      "text/plain": [
       "chain 4 |          | 00:00 Status"
      ]
     },
     "metadata": {},
     "output_type": "display_data"
    },
    {
     "name": "stdout",
     "output_type": "stream",
     "text": [
      "                                                                                                                                                                                                                                                                                                                                \n"
     ]
    },
    {
     "name": "stderr",
     "output_type": "stream",
     "text": [
      "2023-11-10 13:46:34 - orbit - INFO - Sampling (PyStan) with chains: 4, cores: 8, temperature: 1.000, warmups (per chain): 2500 and samples(per chain): 2500.\n",
      "INFO:orbit:Sampling (PyStan) with chains: 4, cores: 8, temperature: 1.000, warmups (per chain): 2500 and samples(per chain): 2500.\n"
     ]
    },
    {
     "data": {
      "application/json": {
       "ascii": false,
       "bar_format": "{desc} |{bar}| {elapsed} {postfix[0][value]}",
       "colour": null,
       "elapsed": 0.04569602012634277,
       "initial": 0,
       "n": 0,
       "ncols": null,
       "nrows": null,
       "postfix": [
        {
         "value": "Status"
        }
       ],
       "prefix": "chain 1",
       "rate": null,
       "total": 52,
       "unit": "it",
       "unit_divisor": 1000,
       "unit_scale": false
      },
      "application/vnd.jupyter.widget-view+json": {
       "model_id": "50d993d7fedf476eb6e5f60416678618",
       "version_major": 2,
       "version_minor": 0
      },
      "text/plain": [
       "chain 1 |          | 00:00 Status"
      ]
     },
     "metadata": {},
     "output_type": "display_data"
    },
    {
     "data": {
      "application/json": {
       "ascii": false,
       "bar_format": "{desc} |{bar}| {elapsed} {postfix[0][value]}",
       "colour": null,
       "elapsed": 0.04217100143432617,
       "initial": 0,
       "n": 0,
       "ncols": null,
       "nrows": null,
       "postfix": [
        {
         "value": "Status"
        }
       ],
       "prefix": "chain 2",
       "rate": null,
       "total": 52,
       "unit": "it",
       "unit_divisor": 1000,
       "unit_scale": false
      },
      "application/vnd.jupyter.widget-view+json": {
       "model_id": "af527fc932c547a0807da414fbda0b9d",
       "version_major": 2,
       "version_minor": 0
      },
      "text/plain": [
       "chain 2 |          | 00:00 Status"
      ]
     },
     "metadata": {},
     "output_type": "display_data"
    },
    {
     "data": {
      "application/json": {
       "ascii": false,
       "bar_format": "{desc} |{bar}| {elapsed} {postfix[0][value]}",
       "colour": null,
       "elapsed": 0.04100227355957031,
       "initial": 0,
       "n": 0,
       "ncols": null,
       "nrows": null,
       "postfix": [
        {
         "value": "Status"
        }
       ],
       "prefix": "chain 3",
       "rate": null,
       "total": 52,
       "unit": "it",
       "unit_divisor": 1000,
       "unit_scale": false
      },
      "application/vnd.jupyter.widget-view+json": {
       "model_id": "bc0b81d2c36a4ee8b72088f0aa8c634a",
       "version_major": 2,
       "version_minor": 0
      },
      "text/plain": [
       "chain 3 |          | 00:00 Status"
      ]
     },
     "metadata": {},
     "output_type": "display_data"
    },
    {
     "data": {
      "application/json": {
       "ascii": false,
       "bar_format": "{desc} |{bar}| {elapsed} {postfix[0][value]}",
       "colour": null,
       "elapsed": 0.03453993797302246,
       "initial": 0,
       "n": 0,
       "ncols": null,
       "nrows": null,
       "postfix": [
        {
         "value": "Status"
        }
       ],
       "prefix": "chain 4",
       "rate": null,
       "total": 52,
       "unit": "it",
       "unit_divisor": 1000,
       "unit_scale": false
      },
      "application/vnd.jupyter.widget-view+json": {
       "model_id": "a945feda3c244082b55067f6c22f5c5f",
       "version_major": 2,
       "version_minor": 0
      },
      "text/plain": [
       "chain 4 |          | 00:00 Status"
      ]
     },
     "metadata": {},
     "output_type": "display_data"
    },
    {
     "name": "stdout",
     "output_type": "stream",
     "text": [
      "                                                                                                                                                                                                                                                                                                                                \n"
     ]
    },
    {
     "name": "stderr",
     "output_type": "stream",
     "text": [
      "2023-11-10 13:46:45 - orbit - INFO - Sampling (PyStan) with chains: 4, cores: 8, temperature: 1.000, warmups (per chain): 2500 and samples(per chain): 2500.\n",
      "INFO:orbit:Sampling (PyStan) with chains: 4, cores: 8, temperature: 1.000, warmups (per chain): 2500 and samples(per chain): 2500.\n"
     ]
    },
    {
     "data": {
      "application/json": {
       "ascii": false,
       "bar_format": "{desc} |{bar}| {elapsed} {postfix[0][value]}",
       "colour": null,
       "elapsed": 0.053624629974365234,
       "initial": 0,
       "n": 0,
       "ncols": null,
       "nrows": null,
       "postfix": [
        {
         "value": "Status"
        }
       ],
       "prefix": "chain 1",
       "rate": null,
       "total": 52,
       "unit": "it",
       "unit_divisor": 1000,
       "unit_scale": false
      },
      "application/vnd.jupyter.widget-view+json": {
       "model_id": "68f62905ccf84a018f6ec5e2a7385279",
       "version_major": 2,
       "version_minor": 0
      },
      "text/plain": [
       "chain 1 |          | 00:00 Status"
      ]
     },
     "metadata": {},
     "output_type": "display_data"
    },
    {
     "data": {
      "application/json": {
       "ascii": false,
       "bar_format": "{desc} |{bar}| {elapsed} {postfix[0][value]}",
       "colour": null,
       "elapsed": 0.036345720291137695,
       "initial": 0,
       "n": 0,
       "ncols": null,
       "nrows": null,
       "postfix": [
        {
         "value": "Status"
        }
       ],
       "prefix": "chain 2",
       "rate": null,
       "total": 52,
       "unit": "it",
       "unit_divisor": 1000,
       "unit_scale": false
      },
      "application/vnd.jupyter.widget-view+json": {
       "model_id": "ee893a1a1cb643efa3c1f9c2282e4750",
       "version_major": 2,
       "version_minor": 0
      },
      "text/plain": [
       "chain 2 |          | 00:00 Status"
      ]
     },
     "metadata": {},
     "output_type": "display_data"
    },
    {
     "data": {
      "application/json": {
       "ascii": false,
       "bar_format": "{desc} |{bar}| {elapsed} {postfix[0][value]}",
       "colour": null,
       "elapsed": 0.03532886505126953,
       "initial": 0,
       "n": 0,
       "ncols": null,
       "nrows": null,
       "postfix": [
        {
         "value": "Status"
        }
       ],
       "prefix": "chain 3",
       "rate": null,
       "total": 52,
       "unit": "it",
       "unit_divisor": 1000,
       "unit_scale": false
      },
      "application/vnd.jupyter.widget-view+json": {
       "model_id": "b90876a19e7a4f8f89bcad15078f66c2",
       "version_major": 2,
       "version_minor": 0
      },
      "text/plain": [
       "chain 3 |          | 00:00 Status"
      ]
     },
     "metadata": {},
     "output_type": "display_data"
    },
    {
     "data": {
      "application/json": {
       "ascii": false,
       "bar_format": "{desc} |{bar}| {elapsed} {postfix[0][value]}",
       "colour": null,
       "elapsed": 0.03490781784057617,
       "initial": 0,
       "n": 0,
       "ncols": null,
       "nrows": null,
       "postfix": [
        {
         "value": "Status"
        }
       ],
       "prefix": "chain 4",
       "rate": null,
       "total": 52,
       "unit": "it",
       "unit_divisor": 1000,
       "unit_scale": false
      },
      "application/vnd.jupyter.widget-view+json": {
       "model_id": "17641f4bc68b4aa99b620f89b7ef3858",
       "version_major": 2,
       "version_minor": 0
      },
      "text/plain": [
       "chain 4 |          | 00:00 Status"
      ]
     },
     "metadata": {},
     "output_type": "display_data"
    },
    {
     "name": "stdout",
     "output_type": "stream",
     "text": [
      "                                                                                                                                                                                                                                                                                                                                \n"
     ]
    },
    {
     "name": "stderr",
     "output_type": "stream",
     "text": [
      "2023-11-10 13:46:55 - orbit - INFO - Sampling (PyStan) with chains: 4, cores: 8, temperature: 1.000, warmups (per chain): 2500 and samples(per chain): 2500.\n",
      "INFO:orbit:Sampling (PyStan) with chains: 4, cores: 8, temperature: 1.000, warmups (per chain): 2500 and samples(per chain): 2500.\n"
     ]
    },
    {
     "data": {
      "application/json": {
       "ascii": false,
       "bar_format": "{desc} |{bar}| {elapsed} {postfix[0][value]}",
       "colour": null,
       "elapsed": 0.035773277282714844,
       "initial": 0,
       "n": 0,
       "ncols": null,
       "nrows": null,
       "postfix": [
        {
         "value": "Status"
        }
       ],
       "prefix": "chain 1",
       "rate": null,
       "total": 52,
       "unit": "it",
       "unit_divisor": 1000,
       "unit_scale": false
      },
      "application/vnd.jupyter.widget-view+json": {
       "model_id": "89b39cf251f54f61a54c4c0b3359b998",
       "version_major": 2,
       "version_minor": 0
      },
      "text/plain": [
       "chain 1 |          | 00:00 Status"
      ]
     },
     "metadata": {},
     "output_type": "display_data"
    },
    {
     "data": {
      "application/json": {
       "ascii": false,
       "bar_format": "{desc} |{bar}| {elapsed} {postfix[0][value]}",
       "colour": null,
       "elapsed": 0.03959298133850098,
       "initial": 0,
       "n": 0,
       "ncols": null,
       "nrows": null,
       "postfix": [
        {
         "value": "Status"
        }
       ],
       "prefix": "chain 2",
       "rate": null,
       "total": 52,
       "unit": "it",
       "unit_divisor": 1000,
       "unit_scale": false
      },
      "application/vnd.jupyter.widget-view+json": {
       "model_id": "4f71f32ad7d845b788cf1fa728939f20",
       "version_major": 2,
       "version_minor": 0
      },
      "text/plain": [
       "chain 2 |          | 00:00 Status"
      ]
     },
     "metadata": {},
     "output_type": "display_data"
    },
    {
     "data": {
      "application/json": {
       "ascii": false,
       "bar_format": "{desc} |{bar}| {elapsed} {postfix[0][value]}",
       "colour": null,
       "elapsed": 0.032860755920410156,
       "initial": 0,
       "n": 0,
       "ncols": null,
       "nrows": null,
       "postfix": [
        {
         "value": "Status"
        }
       ],
       "prefix": "chain 3",
       "rate": null,
       "total": 52,
       "unit": "it",
       "unit_divisor": 1000,
       "unit_scale": false
      },
      "application/vnd.jupyter.widget-view+json": {
       "model_id": "402d3d9e1c054590a99769a359502453",
       "version_major": 2,
       "version_minor": 0
      },
      "text/plain": [
       "chain 3 |          | 00:00 Status"
      ]
     },
     "metadata": {},
     "output_type": "display_data"
    },
    {
     "data": {
      "application/json": {
       "ascii": false,
       "bar_format": "{desc} |{bar}| {elapsed} {postfix[0][value]}",
       "colour": null,
       "elapsed": 0.03205585479736328,
       "initial": 0,
       "n": 0,
       "ncols": null,
       "nrows": null,
       "postfix": [
        {
         "value": "Status"
        }
       ],
       "prefix": "chain 4",
       "rate": null,
       "total": 52,
       "unit": "it",
       "unit_divisor": 1000,
       "unit_scale": false
      },
      "application/vnd.jupyter.widget-view+json": {
       "model_id": "7e01236c57a541e28d23d76682c9e48c",
       "version_major": 2,
       "version_minor": 0
      },
      "text/plain": [
       "chain 4 |          | 00:00 Status"
      ]
     },
     "metadata": {},
     "output_type": "display_data"
    },
    {
     "name": "stdout",
     "output_type": "stream",
     "text": [
      "                                                                                                                                                                                                                                                                                                                                \n"
     ]
    },
    {
     "name": "stderr",
     "output_type": "stream",
     "text": [
      "2023-11-10 13:47:06 - orbit - INFO - Sampling (PyStan) with chains: 4, cores: 8, temperature: 1.000, warmups (per chain): 2500 and samples(per chain): 2500.\n",
      "INFO:orbit:Sampling (PyStan) with chains: 4, cores: 8, temperature: 1.000, warmups (per chain): 2500 and samples(per chain): 2500.\n"
     ]
    },
    {
     "data": {
      "application/json": {
       "ascii": false,
       "bar_format": "{desc} |{bar}| {elapsed} {postfix[0][value]}",
       "colour": null,
       "elapsed": 0.04543709754943848,
       "initial": 0,
       "n": 0,
       "ncols": null,
       "nrows": null,
       "postfix": [
        {
         "value": "Status"
        }
       ],
       "prefix": "chain 1",
       "rate": null,
       "total": 52,
       "unit": "it",
       "unit_divisor": 1000,
       "unit_scale": false
      },
      "application/vnd.jupyter.widget-view+json": {
       "model_id": "87f0d62841ed497397567c19371c15a1",
       "version_major": 2,
       "version_minor": 0
      },
      "text/plain": [
       "chain 1 |          | 00:00 Status"
      ]
     },
     "metadata": {},
     "output_type": "display_data"
    },
    {
     "data": {
      "application/json": {
       "ascii": false,
       "bar_format": "{desc} |{bar}| {elapsed} {postfix[0][value]}",
       "colour": null,
       "elapsed": 0.035419464111328125,
       "initial": 0,
       "n": 0,
       "ncols": null,
       "nrows": null,
       "postfix": [
        {
         "value": "Status"
        }
       ],
       "prefix": "chain 2",
       "rate": null,
       "total": 52,
       "unit": "it",
       "unit_divisor": 1000,
       "unit_scale": false
      },
      "application/vnd.jupyter.widget-view+json": {
       "model_id": "3682f908071c4462a906656701c2a987",
       "version_major": 2,
       "version_minor": 0
      },
      "text/plain": [
       "chain 2 |          | 00:00 Status"
      ]
     },
     "metadata": {},
     "output_type": "display_data"
    },
    {
     "data": {
      "application/json": {
       "ascii": false,
       "bar_format": "{desc} |{bar}| {elapsed} {postfix[0][value]}",
       "colour": null,
       "elapsed": 0.03997015953063965,
       "initial": 0,
       "n": 0,
       "ncols": null,
       "nrows": null,
       "postfix": [
        {
         "value": "Status"
        }
       ],
       "prefix": "chain 3",
       "rate": null,
       "total": 52,
       "unit": "it",
       "unit_divisor": 1000,
       "unit_scale": false
      },
      "application/vnd.jupyter.widget-view+json": {
       "model_id": "85abda9c2b0e4bcda38f664302eb1216",
       "version_major": 2,
       "version_minor": 0
      },
      "text/plain": [
       "chain 3 |          | 00:00 Status"
      ]
     },
     "metadata": {},
     "output_type": "display_data"
    },
    {
     "data": {
      "application/json": {
       "ascii": false,
       "bar_format": "{desc} |{bar}| {elapsed} {postfix[0][value]}",
       "colour": null,
       "elapsed": 0.04016399383544922,
       "initial": 0,
       "n": 0,
       "ncols": null,
       "nrows": null,
       "postfix": [
        {
         "value": "Status"
        }
       ],
       "prefix": "chain 4",
       "rate": null,
       "total": 52,
       "unit": "it",
       "unit_divisor": 1000,
       "unit_scale": false
      },
      "application/vnd.jupyter.widget-view+json": {
       "model_id": "63f34fa56d3c420583b79143376f8afe",
       "version_major": 2,
       "version_minor": 0
      },
      "text/plain": [
       "chain 4 |          | 00:00 Status"
      ]
     },
     "metadata": {},
     "output_type": "display_data"
    },
    {
     "name": "stdout",
     "output_type": "stream",
     "text": [
      "                                                                                                                                                                                                                                                                                                                                \n"
     ]
    },
    {
     "name": "stderr",
     "output_type": "stream",
     "text": [
      "2023-11-10 13:47:19 - orbit - INFO - Sampling (PyStan) with chains: 4, cores: 8, temperature: 1.000, warmups (per chain): 2500 and samples(per chain): 2500.\n",
      "INFO:orbit:Sampling (PyStan) with chains: 4, cores: 8, temperature: 1.000, warmups (per chain): 2500 and samples(per chain): 2500.\n"
     ]
    },
    {
     "data": {
      "application/json": {
       "ascii": false,
       "bar_format": "{desc} |{bar}| {elapsed} {postfix[0][value]}",
       "colour": null,
       "elapsed": 0.036596059799194336,
       "initial": 0,
       "n": 0,
       "ncols": null,
       "nrows": null,
       "postfix": [
        {
         "value": "Status"
        }
       ],
       "prefix": "chain 1",
       "rate": null,
       "total": 52,
       "unit": "it",
       "unit_divisor": 1000,
       "unit_scale": false
      },
      "application/vnd.jupyter.widget-view+json": {
       "model_id": "6316b52b17cc45169b5016706f35d079",
       "version_major": 2,
       "version_minor": 0
      },
      "text/plain": [
       "chain 1 |          | 00:00 Status"
      ]
     },
     "metadata": {},
     "output_type": "display_data"
    },
    {
     "data": {
      "application/json": {
       "ascii": false,
       "bar_format": "{desc} |{bar}| {elapsed} {postfix[0][value]}",
       "colour": null,
       "elapsed": 0.03500008583068848,
       "initial": 0,
       "n": 0,
       "ncols": null,
       "nrows": null,
       "postfix": [
        {
         "value": "Status"
        }
       ],
       "prefix": "chain 2",
       "rate": null,
       "total": 52,
       "unit": "it",
       "unit_divisor": 1000,
       "unit_scale": false
      },
      "application/vnd.jupyter.widget-view+json": {
       "model_id": "17881ac5619344bd80d9c02dede28c1d",
       "version_major": 2,
       "version_minor": 0
      },
      "text/plain": [
       "chain 2 |          | 00:00 Status"
      ]
     },
     "metadata": {},
     "output_type": "display_data"
    },
    {
     "data": {
      "application/json": {
       "ascii": false,
       "bar_format": "{desc} |{bar}| {elapsed} {postfix[0][value]}",
       "colour": null,
       "elapsed": 0.03978300094604492,
       "initial": 0,
       "n": 0,
       "ncols": null,
       "nrows": null,
       "postfix": [
        {
         "value": "Status"
        }
       ],
       "prefix": "chain 3",
       "rate": null,
       "total": 52,
       "unit": "it",
       "unit_divisor": 1000,
       "unit_scale": false
      },
      "application/vnd.jupyter.widget-view+json": {
       "model_id": "1851d83a079d471e874535f6a88d421f",
       "version_major": 2,
       "version_minor": 0
      },
      "text/plain": [
       "chain 3 |          | 00:00 Status"
      ]
     },
     "metadata": {},
     "output_type": "display_data"
    },
    {
     "data": {
      "application/json": {
       "ascii": false,
       "bar_format": "{desc} |{bar}| {elapsed} {postfix[0][value]}",
       "colour": null,
       "elapsed": 0.0349879264831543,
       "initial": 0,
       "n": 0,
       "ncols": null,
       "nrows": null,
       "postfix": [
        {
         "value": "Status"
        }
       ],
       "prefix": "chain 4",
       "rate": null,
       "total": 52,
       "unit": "it",
       "unit_divisor": 1000,
       "unit_scale": false
      },
      "application/vnd.jupyter.widget-view+json": {
       "model_id": "2bd71797200d4974ad45adb698bc2af5",
       "version_major": 2,
       "version_minor": 0
      },
      "text/plain": [
       "chain 4 |          | 00:00 Status"
      ]
     },
     "metadata": {},
     "output_type": "display_data"
    },
    {
     "name": "stdout",
     "output_type": "stream",
     "text": [
      "                                                                                                                                                                                                                                                                                                                                \n"
     ]
    },
    {
     "name": "stderr",
     "output_type": "stream",
     "text": [
      "2023-11-10 13:47:24 - orbit - INFO - Sampling (PyStan) with chains: 4, cores: 8, temperature: 1.000, warmups (per chain): 2500 and samples(per chain): 2500.\n",
      "INFO:orbit:Sampling (PyStan) with chains: 4, cores: 8, temperature: 1.000, warmups (per chain): 2500 and samples(per chain): 2500.\n"
     ]
    },
    {
     "data": {
      "application/json": {
       "ascii": false,
       "bar_format": "{desc} |{bar}| {elapsed} {postfix[0][value]}",
       "colour": null,
       "elapsed": 0.04371523857116699,
       "initial": 0,
       "n": 0,
       "ncols": null,
       "nrows": null,
       "postfix": [
        {
         "value": "Status"
        }
       ],
       "prefix": "chain 1",
       "rate": null,
       "total": 52,
       "unit": "it",
       "unit_divisor": 1000,
       "unit_scale": false
      },
      "application/vnd.jupyter.widget-view+json": {
       "model_id": "9cf62ecf58c04ddabdb89c97b8778535",
       "version_major": 2,
       "version_minor": 0
      },
      "text/plain": [
       "chain 1 |          | 00:00 Status"
      ]
     },
     "metadata": {},
     "output_type": "display_data"
    },
    {
     "data": {
      "application/json": {
       "ascii": false,
       "bar_format": "{desc} |{bar}| {elapsed} {postfix[0][value]}",
       "colour": null,
       "elapsed": 0.033415794372558594,
       "initial": 0,
       "n": 0,
       "ncols": null,
       "nrows": null,
       "postfix": [
        {
         "value": "Status"
        }
       ],
       "prefix": "chain 2",
       "rate": null,
       "total": 52,
       "unit": "it",
       "unit_divisor": 1000,
       "unit_scale": false
      },
      "application/vnd.jupyter.widget-view+json": {
       "model_id": "fe610d7741204f49ab695a820c6da48b",
       "version_major": 2,
       "version_minor": 0
      },
      "text/plain": [
       "chain 2 |          | 00:00 Status"
      ]
     },
     "metadata": {},
     "output_type": "display_data"
    },
    {
     "data": {
      "application/json": {
       "ascii": false,
       "bar_format": "{desc} |{bar}| {elapsed} {postfix[0][value]}",
       "colour": null,
       "elapsed": 0.027972698211669922,
       "initial": 0,
       "n": 0,
       "ncols": null,
       "nrows": null,
       "postfix": [
        {
         "value": "Status"
        }
       ],
       "prefix": "chain 3",
       "rate": null,
       "total": 52,
       "unit": "it",
       "unit_divisor": 1000,
       "unit_scale": false
      },
      "application/vnd.jupyter.widget-view+json": {
       "model_id": "d0a46be3346645ada609723d1e3d5add",
       "version_major": 2,
       "version_minor": 0
      },
      "text/plain": [
       "chain 3 |          | 00:00 Status"
      ]
     },
     "metadata": {},
     "output_type": "display_data"
    },
    {
     "data": {
      "application/json": {
       "ascii": false,
       "bar_format": "{desc} |{bar}| {elapsed} {postfix[0][value]}",
       "colour": null,
       "elapsed": 0.030283451080322266,
       "initial": 0,
       "n": 0,
       "ncols": null,
       "nrows": null,
       "postfix": [
        {
         "value": "Status"
        }
       ],
       "prefix": "chain 4",
       "rate": null,
       "total": 52,
       "unit": "it",
       "unit_divisor": 1000,
       "unit_scale": false
      },
      "application/vnd.jupyter.widget-view+json": {
       "model_id": "a5f065bacfb44dc28a9b4af774283910",
       "version_major": 2,
       "version_minor": 0
      },
      "text/plain": [
       "chain 4 |          | 00:00 Status"
      ]
     },
     "metadata": {},
     "output_type": "display_data"
    },
    {
     "name": "stdout",
     "output_type": "stream",
     "text": [
      "                                                                                                                                                                                                                                                                                                                                \n"
     ]
    },
    {
     "name": "stderr",
     "output_type": "stream",
     "text": [
      "2023-11-10 13:47:29 - orbit - INFO - Sampling (PyStan) with chains: 4, cores: 8, temperature: 1.000, warmups (per chain): 2500 and samples(per chain): 2500.\n",
      "INFO:orbit:Sampling (PyStan) with chains: 4, cores: 8, temperature: 1.000, warmups (per chain): 2500 and samples(per chain): 2500.\n"
     ]
    },
    {
     "data": {
      "application/json": {
       "ascii": false,
       "bar_format": "{desc} |{bar}| {elapsed} {postfix[0][value]}",
       "colour": null,
       "elapsed": 0.05707263946533203,
       "initial": 0,
       "n": 0,
       "ncols": null,
       "nrows": null,
       "postfix": [
        {
         "value": "Status"
        }
       ],
       "prefix": "chain 1",
       "rate": null,
       "total": 52,
       "unit": "it",
       "unit_divisor": 1000,
       "unit_scale": false
      },
      "application/vnd.jupyter.widget-view+json": {
       "model_id": "73c6359a643b4033a6406be795bd3d95",
       "version_major": 2,
       "version_minor": 0
      },
      "text/plain": [
       "chain 1 |          | 00:00 Status"
      ]
     },
     "metadata": {},
     "output_type": "display_data"
    },
    {
     "data": {
      "application/json": {
       "ascii": false,
       "bar_format": "{desc} |{bar}| {elapsed} {postfix[0][value]}",
       "colour": null,
       "elapsed": 0.04565739631652832,
       "initial": 0,
       "n": 0,
       "ncols": null,
       "nrows": null,
       "postfix": [
        {
         "value": "Status"
        }
       ],
       "prefix": "chain 2",
       "rate": null,
       "total": 52,
       "unit": "it",
       "unit_divisor": 1000,
       "unit_scale": false
      },
      "application/vnd.jupyter.widget-view+json": {
       "model_id": "6768333eb0f147158eddd535bb85a219",
       "version_major": 2,
       "version_minor": 0
      },
      "text/plain": [
       "chain 2 |          | 00:00 Status"
      ]
     },
     "metadata": {},
     "output_type": "display_data"
    },
    {
     "data": {
      "application/json": {
       "ascii": false,
       "bar_format": "{desc} |{bar}| {elapsed} {postfix[0][value]}",
       "colour": null,
       "elapsed": 0.04645657539367676,
       "initial": 0,
       "n": 0,
       "ncols": null,
       "nrows": null,
       "postfix": [
        {
         "value": "Status"
        }
       ],
       "prefix": "chain 3",
       "rate": null,
       "total": 52,
       "unit": "it",
       "unit_divisor": 1000,
       "unit_scale": false
      },
      "application/vnd.jupyter.widget-view+json": {
       "model_id": "630c6fbdd506432b8e94bd6584fcad4b",
       "version_major": 2,
       "version_minor": 0
      },
      "text/plain": [
       "chain 3 |          | 00:00 Status"
      ]
     },
     "metadata": {},
     "output_type": "display_data"
    },
    {
     "data": {
      "application/json": {
       "ascii": false,
       "bar_format": "{desc} |{bar}| {elapsed} {postfix[0][value]}",
       "colour": null,
       "elapsed": 0.043135881423950195,
       "initial": 0,
       "n": 0,
       "ncols": null,
       "nrows": null,
       "postfix": [
        {
         "value": "Status"
        }
       ],
       "prefix": "chain 4",
       "rate": null,
       "total": 52,
       "unit": "it",
       "unit_divisor": 1000,
       "unit_scale": false
      },
      "application/vnd.jupyter.widget-view+json": {
       "model_id": "69d8118b7c154cd3aebf25156ab25f58",
       "version_major": 2,
       "version_minor": 0
      },
      "text/plain": [
       "chain 4 |          | 00:00 Status"
      ]
     },
     "metadata": {},
     "output_type": "display_data"
    },
    {
     "name": "stdout",
     "output_type": "stream",
     "text": [
      "                                                                                                                                                                                                                                                                                                                                \n"
     ]
    },
    {
     "name": "stderr",
     "output_type": "stream",
     "text": [
      "2023-11-10 13:47:37 - orbit - INFO - Sampling (PyStan) with chains: 4, cores: 8, temperature: 1.000, warmups (per chain): 2500 and samples(per chain): 2500.\n",
      "INFO:orbit:Sampling (PyStan) with chains: 4, cores: 8, temperature: 1.000, warmups (per chain): 2500 and samples(per chain): 2500.\n"
     ]
    },
    {
     "data": {
      "application/json": {
       "ascii": false,
       "bar_format": "{desc} |{bar}| {elapsed} {postfix[0][value]}",
       "colour": null,
       "elapsed": 0.045505523681640625,
       "initial": 0,
       "n": 0,
       "ncols": null,
       "nrows": null,
       "postfix": [
        {
         "value": "Status"
        }
       ],
       "prefix": "chain 1",
       "rate": null,
       "total": 52,
       "unit": "it",
       "unit_divisor": 1000,
       "unit_scale": false
      },
      "application/vnd.jupyter.widget-view+json": {
       "model_id": "c82b49b14a8c444ba29e38f974ff3872",
       "version_major": 2,
       "version_minor": 0
      },
      "text/plain": [
       "chain 1 |          | 00:00 Status"
      ]
     },
     "metadata": {},
     "output_type": "display_data"
    },
    {
     "data": {
      "application/json": {
       "ascii": false,
       "bar_format": "{desc} |{bar}| {elapsed} {postfix[0][value]}",
       "colour": null,
       "elapsed": 0.03571629524230957,
       "initial": 0,
       "n": 0,
       "ncols": null,
       "nrows": null,
       "postfix": [
        {
         "value": "Status"
        }
       ],
       "prefix": "chain 2",
       "rate": null,
       "total": 52,
       "unit": "it",
       "unit_divisor": 1000,
       "unit_scale": false
      },
      "application/vnd.jupyter.widget-view+json": {
       "model_id": "b695f96a237b4c009867b221ff06a6ed",
       "version_major": 2,
       "version_minor": 0
      },
      "text/plain": [
       "chain 2 |          | 00:00 Status"
      ]
     },
     "metadata": {},
     "output_type": "display_data"
    },
    {
     "data": {
      "application/json": {
       "ascii": false,
       "bar_format": "{desc} |{bar}| {elapsed} {postfix[0][value]}",
       "colour": null,
       "elapsed": 0.03410935401916504,
       "initial": 0,
       "n": 0,
       "ncols": null,
       "nrows": null,
       "postfix": [
        {
         "value": "Status"
        }
       ],
       "prefix": "chain 3",
       "rate": null,
       "total": 52,
       "unit": "it",
       "unit_divisor": 1000,
       "unit_scale": false
      },
      "application/vnd.jupyter.widget-view+json": {
       "model_id": "dac7639cf7b344a59baa5dea0b2a1a98",
       "version_major": 2,
       "version_minor": 0
      },
      "text/plain": [
       "chain 3 |          | 00:00 Status"
      ]
     },
     "metadata": {},
     "output_type": "display_data"
    },
    {
     "data": {
      "application/json": {
       "ascii": false,
       "bar_format": "{desc} |{bar}| {elapsed} {postfix[0][value]}",
       "colour": null,
       "elapsed": 0.03229522705078125,
       "initial": 0,
       "n": 0,
       "ncols": null,
       "nrows": null,
       "postfix": [
        {
         "value": "Status"
        }
       ],
       "prefix": "chain 4",
       "rate": null,
       "total": 52,
       "unit": "it",
       "unit_divisor": 1000,
       "unit_scale": false
      },
      "application/vnd.jupyter.widget-view+json": {
       "model_id": "6573c2856d984d87a3c3e62dd73f2144",
       "version_major": 2,
       "version_minor": 0
      },
      "text/plain": [
       "chain 4 |          | 00:00 Status"
      ]
     },
     "metadata": {},
     "output_type": "display_data"
    },
    {
     "name": "stdout",
     "output_type": "stream",
     "text": [
      "                                                                                                                                                                                                                                                                                                                                \n"
     ]
    },
    {
     "name": "stderr",
     "output_type": "stream",
     "text": [
      "2023-11-10 13:47:50 - orbit - INFO - Sampling (PyStan) with chains: 4, cores: 8, temperature: 1.000, warmups (per chain): 2500 and samples(per chain): 2500.\n",
      "INFO:orbit:Sampling (PyStan) with chains: 4, cores: 8, temperature: 1.000, warmups (per chain): 2500 and samples(per chain): 2500.\n"
     ]
    },
    {
     "data": {
      "application/json": {
       "ascii": false,
       "bar_format": "{desc} |{bar}| {elapsed} {postfix[0][value]}",
       "colour": null,
       "elapsed": 0.04716801643371582,
       "initial": 0,
       "n": 0,
       "ncols": null,
       "nrows": null,
       "postfix": [
        {
         "value": "Status"
        }
       ],
       "prefix": "chain 1",
       "rate": null,
       "total": 52,
       "unit": "it",
       "unit_divisor": 1000,
       "unit_scale": false
      },
      "application/vnd.jupyter.widget-view+json": {
       "model_id": "ffbc6c9e9b24471a971467baf800a26b",
       "version_major": 2,
       "version_minor": 0
      },
      "text/plain": [
       "chain 1 |          | 00:00 Status"
      ]
     },
     "metadata": {},
     "output_type": "display_data"
    },
    {
     "data": {
      "application/json": {
       "ascii": false,
       "bar_format": "{desc} |{bar}| {elapsed} {postfix[0][value]}",
       "colour": null,
       "elapsed": 0.043068647384643555,
       "initial": 0,
       "n": 0,
       "ncols": null,
       "nrows": null,
       "postfix": [
        {
         "value": "Status"
        }
       ],
       "prefix": "chain 2",
       "rate": null,
       "total": 52,
       "unit": "it",
       "unit_divisor": 1000,
       "unit_scale": false
      },
      "application/vnd.jupyter.widget-view+json": {
       "model_id": "1ad33f59a4144d67a397ecc658ba1fe1",
       "version_major": 2,
       "version_minor": 0
      },
      "text/plain": [
       "chain 2 |          | 00:00 Status"
      ]
     },
     "metadata": {},
     "output_type": "display_data"
    },
    {
     "data": {
      "application/json": {
       "ascii": false,
       "bar_format": "{desc} |{bar}| {elapsed} {postfix[0][value]}",
       "colour": null,
       "elapsed": 0.03863215446472168,
       "initial": 0,
       "n": 0,
       "ncols": null,
       "nrows": null,
       "postfix": [
        {
         "value": "Status"
        }
       ],
       "prefix": "chain 3",
       "rate": null,
       "total": 52,
       "unit": "it",
       "unit_divisor": 1000,
       "unit_scale": false
      },
      "application/vnd.jupyter.widget-view+json": {
       "model_id": "2fb2abfdc16a4d31a7da106d8a690699",
       "version_major": 2,
       "version_minor": 0
      },
      "text/plain": [
       "chain 3 |          | 00:00 Status"
      ]
     },
     "metadata": {},
     "output_type": "display_data"
    },
    {
     "data": {
      "application/json": {
       "ascii": false,
       "bar_format": "{desc} |{bar}| {elapsed} {postfix[0][value]}",
       "colour": null,
       "elapsed": 0.05376482009887695,
       "initial": 0,
       "n": 0,
       "ncols": null,
       "nrows": null,
       "postfix": [
        {
         "value": "Status"
        }
       ],
       "prefix": "chain 4",
       "rate": null,
       "total": 52,
       "unit": "it",
       "unit_divisor": 1000,
       "unit_scale": false
      },
      "application/vnd.jupyter.widget-view+json": {
       "model_id": "78495891e70349fa9a74f03c7a2049c0",
       "version_major": 2,
       "version_minor": 0
      },
      "text/plain": [
       "chain 4 |          | 00:00 Status"
      ]
     },
     "metadata": {},
     "output_type": "display_data"
    },
    {
     "name": "stdout",
     "output_type": "stream",
     "text": [
      "                                                                                                                                                                                                                                                                                                                                \n"
     ]
    },
    {
     "name": "stderr",
     "output_type": "stream",
     "text": [
      "2023-11-10 13:48:02 - orbit - INFO - Sampling (PyStan) with chains: 4, cores: 8, temperature: 1.000, warmups (per chain): 2500 and samples(per chain): 2500.\n",
      "INFO:orbit:Sampling (PyStan) with chains: 4, cores: 8, temperature: 1.000, warmups (per chain): 2500 and samples(per chain): 2500.\n"
     ]
    },
    {
     "data": {
      "application/json": {
       "ascii": false,
       "bar_format": "{desc} |{bar}| {elapsed} {postfix[0][value]}",
       "colour": null,
       "elapsed": 0.03323674201965332,
       "initial": 0,
       "n": 0,
       "ncols": null,
       "nrows": null,
       "postfix": [
        {
         "value": "Status"
        }
       ],
       "prefix": "chain 1",
       "rate": null,
       "total": 52,
       "unit": "it",
       "unit_divisor": 1000,
       "unit_scale": false
      },
      "application/vnd.jupyter.widget-view+json": {
       "model_id": "907d22edc350489c8d88e4cd39f8b25a",
       "version_major": 2,
       "version_minor": 0
      },
      "text/plain": [
       "chain 1 |          | 00:00 Status"
      ]
     },
     "metadata": {},
     "output_type": "display_data"
    },
    {
     "data": {
      "application/json": {
       "ascii": false,
       "bar_format": "{desc} |{bar}| {elapsed} {postfix[0][value]}",
       "colour": null,
       "elapsed": 0.04710841178894043,
       "initial": 0,
       "n": 0,
       "ncols": null,
       "nrows": null,
       "postfix": [
        {
         "value": "Status"
        }
       ],
       "prefix": "chain 2",
       "rate": null,
       "total": 52,
       "unit": "it",
       "unit_divisor": 1000,
       "unit_scale": false
      },
      "application/vnd.jupyter.widget-view+json": {
       "model_id": "1b99d06a4873419d839a40b8719172e0",
       "version_major": 2,
       "version_minor": 0
      },
      "text/plain": [
       "chain 2 |          | 00:00 Status"
      ]
     },
     "metadata": {},
     "output_type": "display_data"
    },
    {
     "data": {
      "application/json": {
       "ascii": false,
       "bar_format": "{desc} |{bar}| {elapsed} {postfix[0][value]}",
       "colour": null,
       "elapsed": 0.04334068298339844,
       "initial": 0,
       "n": 0,
       "ncols": null,
       "nrows": null,
       "postfix": [
        {
         "value": "Status"
        }
       ],
       "prefix": "chain 3",
       "rate": null,
       "total": 52,
       "unit": "it",
       "unit_divisor": 1000,
       "unit_scale": false
      },
      "application/vnd.jupyter.widget-view+json": {
       "model_id": "8f57b7c58f7f41ad862ff5968dae3d7a",
       "version_major": 2,
       "version_minor": 0
      },
      "text/plain": [
       "chain 3 |          | 00:00 Status"
      ]
     },
     "metadata": {},
     "output_type": "display_data"
    },
    {
     "data": {
      "application/json": {
       "ascii": false,
       "bar_format": "{desc} |{bar}| {elapsed} {postfix[0][value]}",
       "colour": null,
       "elapsed": 0.03711080551147461,
       "initial": 0,
       "n": 0,
       "ncols": null,
       "nrows": null,
       "postfix": [
        {
         "value": "Status"
        }
       ],
       "prefix": "chain 4",
       "rate": null,
       "total": 52,
       "unit": "it",
       "unit_divisor": 1000,
       "unit_scale": false
      },
      "application/vnd.jupyter.widget-view+json": {
       "model_id": "bb29f28acd9f4a7d8315c7ad52a48a36",
       "version_major": 2,
       "version_minor": 0
      },
      "text/plain": [
       "chain 4 |          | 00:00 Status"
      ]
     },
     "metadata": {},
     "output_type": "display_data"
    },
    {
     "name": "stdout",
     "output_type": "stream",
     "text": [
      "                                                                                                                                                                                                                                                                                                                                \n"
     ]
    },
    {
     "name": "stderr",
     "output_type": "stream",
     "text": [
      "2023-11-10 13:48:13 - orbit - INFO - Sampling (PyStan) with chains: 4, cores: 8, temperature: 1.000, warmups (per chain): 2500 and samples(per chain): 2500.\n",
      "INFO:orbit:Sampling (PyStan) with chains: 4, cores: 8, temperature: 1.000, warmups (per chain): 2500 and samples(per chain): 2500.\n"
     ]
    },
    {
     "data": {
      "application/json": {
       "ascii": false,
       "bar_format": "{desc} |{bar}| {elapsed} {postfix[0][value]}",
       "colour": null,
       "elapsed": 0.031479835510253906,
       "initial": 0,
       "n": 0,
       "ncols": null,
       "nrows": null,
       "postfix": [
        {
         "value": "Status"
        }
       ],
       "prefix": "chain 1",
       "rate": null,
       "total": 52,
       "unit": "it",
       "unit_divisor": 1000,
       "unit_scale": false
      },
      "application/vnd.jupyter.widget-view+json": {
       "model_id": "a75db5fc47904221b8560a51b7d41026",
       "version_major": 2,
       "version_minor": 0
      },
      "text/plain": [
       "chain 1 |          | 00:00 Status"
      ]
     },
     "metadata": {},
     "output_type": "display_data"
    },
    {
     "data": {
      "application/json": {
       "ascii": false,
       "bar_format": "{desc} |{bar}| {elapsed} {postfix[0][value]}",
       "colour": null,
       "elapsed": 0.030198097229003906,
       "initial": 0,
       "n": 0,
       "ncols": null,
       "nrows": null,
       "postfix": [
        {
         "value": "Status"
        }
       ],
       "prefix": "chain 2",
       "rate": null,
       "total": 52,
       "unit": "it",
       "unit_divisor": 1000,
       "unit_scale": false
      },
      "application/vnd.jupyter.widget-view+json": {
       "model_id": "62e1e495103c46cfb6a183c0696d9b82",
       "version_major": 2,
       "version_minor": 0
      },
      "text/plain": [
       "chain 2 |          | 00:00 Status"
      ]
     },
     "metadata": {},
     "output_type": "display_data"
    },
    {
     "data": {
      "application/json": {
       "ascii": false,
       "bar_format": "{desc} |{bar}| {elapsed} {postfix[0][value]}",
       "colour": null,
       "elapsed": 0.03377866744995117,
       "initial": 0,
       "n": 0,
       "ncols": null,
       "nrows": null,
       "postfix": [
        {
         "value": "Status"
        }
       ],
       "prefix": "chain 3",
       "rate": null,
       "total": 52,
       "unit": "it",
       "unit_divisor": 1000,
       "unit_scale": false
      },
      "application/vnd.jupyter.widget-view+json": {
       "model_id": "5b2d043e02c84acebfe6734890da3788",
       "version_major": 2,
       "version_minor": 0
      },
      "text/plain": [
       "chain 3 |          | 00:00 Status"
      ]
     },
     "metadata": {},
     "output_type": "display_data"
    },
    {
     "data": {
      "application/json": {
       "ascii": false,
       "bar_format": "{desc} |{bar}| {elapsed} {postfix[0][value]}",
       "colour": null,
       "elapsed": 0.03328442573547363,
       "initial": 0,
       "n": 0,
       "ncols": null,
       "nrows": null,
       "postfix": [
        {
         "value": "Status"
        }
       ],
       "prefix": "chain 4",
       "rate": null,
       "total": 52,
       "unit": "it",
       "unit_divisor": 1000,
       "unit_scale": false
      },
      "application/vnd.jupyter.widget-view+json": {
       "model_id": "d4323d1da45748f1a48986c7b4387e3e",
       "version_major": 2,
       "version_minor": 0
      },
      "text/plain": [
       "chain 4 |          | 00:00 Status"
      ]
     },
     "metadata": {},
     "output_type": "display_data"
    },
    {
     "name": "stdout",
     "output_type": "stream",
     "text": [
      "                                                                                                                                                                                                                                                                                                                                \n"
     ]
    },
    {
     "name": "stderr",
     "output_type": "stream",
     "text": [
      "2023-11-10 13:48:25 - orbit - INFO - Sampling (PyStan) with chains: 4, cores: 8, temperature: 1.000, warmups (per chain): 2500 and samples(per chain): 2500.\n",
      "INFO:orbit:Sampling (PyStan) with chains: 4, cores: 8, temperature: 1.000, warmups (per chain): 2500 and samples(per chain): 2500.\n"
     ]
    },
    {
     "data": {
      "application/json": {
       "ascii": false,
       "bar_format": "{desc} |{bar}| {elapsed} {postfix[0][value]}",
       "colour": null,
       "elapsed": 0.03503060340881348,
       "initial": 0,
       "n": 0,
       "ncols": null,
       "nrows": null,
       "postfix": [
        {
         "value": "Status"
        }
       ],
       "prefix": "chain 1",
       "rate": null,
       "total": 52,
       "unit": "it",
       "unit_divisor": 1000,
       "unit_scale": false
      },
      "application/vnd.jupyter.widget-view+json": {
       "model_id": "98b138837d704978aa7ec224aab745c7",
       "version_major": 2,
       "version_minor": 0
      },
      "text/plain": [
       "chain 1 |          | 00:00 Status"
      ]
     },
     "metadata": {},
     "output_type": "display_data"
    },
    {
     "data": {
      "application/json": {
       "ascii": false,
       "bar_format": "{desc} |{bar}| {elapsed} {postfix[0][value]}",
       "colour": null,
       "elapsed": 0.03512835502624512,
       "initial": 0,
       "n": 0,
       "ncols": null,
       "nrows": null,
       "postfix": [
        {
         "value": "Status"
        }
       ],
       "prefix": "chain 2",
       "rate": null,
       "total": 52,
       "unit": "it",
       "unit_divisor": 1000,
       "unit_scale": false
      },
      "application/vnd.jupyter.widget-view+json": {
       "model_id": "e3253475e7034ace861c2452dddf7650",
       "version_major": 2,
       "version_minor": 0
      },
      "text/plain": [
       "chain 2 |          | 00:00 Status"
      ]
     },
     "metadata": {},
     "output_type": "display_data"
    },
    {
     "data": {
      "application/json": {
       "ascii": false,
       "bar_format": "{desc} |{bar}| {elapsed} {postfix[0][value]}",
       "colour": null,
       "elapsed": 0.03333020210266113,
       "initial": 0,
       "n": 0,
       "ncols": null,
       "nrows": null,
       "postfix": [
        {
         "value": "Status"
        }
       ],
       "prefix": "chain 3",
       "rate": null,
       "total": 52,
       "unit": "it",
       "unit_divisor": 1000,
       "unit_scale": false
      },
      "application/vnd.jupyter.widget-view+json": {
       "model_id": "b96e90a887f643d7aa0b62fba30c1bc5",
       "version_major": 2,
       "version_minor": 0
      },
      "text/plain": [
       "chain 3 |          | 00:00 Status"
      ]
     },
     "metadata": {},
     "output_type": "display_data"
    },
    {
     "data": {
      "application/json": {
       "ascii": false,
       "bar_format": "{desc} |{bar}| {elapsed} {postfix[0][value]}",
       "colour": null,
       "elapsed": 0.03058767318725586,
       "initial": 0,
       "n": 0,
       "ncols": null,
       "nrows": null,
       "postfix": [
        {
         "value": "Status"
        }
       ],
       "prefix": "chain 4",
       "rate": null,
       "total": 52,
       "unit": "it",
       "unit_divisor": 1000,
       "unit_scale": false
      },
      "application/vnd.jupyter.widget-view+json": {
       "model_id": "7c53348a9cb2447893735546681e348c",
       "version_major": 2,
       "version_minor": 0
      },
      "text/plain": [
       "chain 4 |          | 00:00 Status"
      ]
     },
     "metadata": {},
     "output_type": "display_data"
    },
    {
     "name": "stdout",
     "output_type": "stream",
     "text": [
      "                                                                                                                                                                                                                                                                                                                                \n"
     ]
    },
    {
     "name": "stderr",
     "output_type": "stream",
     "text": [
      "2023-11-10 13:48:33 - orbit - INFO - Sampling (PyStan) with chains: 4, cores: 8, temperature: 1.000, warmups (per chain): 2500 and samples(per chain): 2500.\n",
      "INFO:orbit:Sampling (PyStan) with chains: 4, cores: 8, temperature: 1.000, warmups (per chain): 2500 and samples(per chain): 2500.\n"
     ]
    },
    {
     "data": {
      "application/json": {
       "ascii": false,
       "bar_format": "{desc} |{bar}| {elapsed} {postfix[0][value]}",
       "colour": null,
       "elapsed": 0.04514026641845703,
       "initial": 0,
       "n": 0,
       "ncols": null,
       "nrows": null,
       "postfix": [
        {
         "value": "Status"
        }
       ],
       "prefix": "chain 1",
       "rate": null,
       "total": 52,
       "unit": "it",
       "unit_divisor": 1000,
       "unit_scale": false
      },
      "application/vnd.jupyter.widget-view+json": {
       "model_id": "978a757c56aa433c8256d8b18e4c822e",
       "version_major": 2,
       "version_minor": 0
      },
      "text/plain": [
       "chain 1 |          | 00:00 Status"
      ]
     },
     "metadata": {},
     "output_type": "display_data"
    },
    {
     "data": {
      "application/json": {
       "ascii": false,
       "bar_format": "{desc} |{bar}| {elapsed} {postfix[0][value]}",
       "colour": null,
       "elapsed": 0.041143178939819336,
       "initial": 0,
       "n": 0,
       "ncols": null,
       "nrows": null,
       "postfix": [
        {
         "value": "Status"
        }
       ],
       "prefix": "chain 2",
       "rate": null,
       "total": 52,
       "unit": "it",
       "unit_divisor": 1000,
       "unit_scale": false
      },
      "application/vnd.jupyter.widget-view+json": {
       "model_id": "5055ab6dde7d47ccb15ecc2b44a380b4",
       "version_major": 2,
       "version_minor": 0
      },
      "text/plain": [
       "chain 2 |          | 00:00 Status"
      ]
     },
     "metadata": {},
     "output_type": "display_data"
    },
    {
     "data": {
      "application/json": {
       "ascii": false,
       "bar_format": "{desc} |{bar}| {elapsed} {postfix[0][value]}",
       "colour": null,
       "elapsed": 0.039002418518066406,
       "initial": 0,
       "n": 0,
       "ncols": null,
       "nrows": null,
       "postfix": [
        {
         "value": "Status"
        }
       ],
       "prefix": "chain 3",
       "rate": null,
       "total": 52,
       "unit": "it",
       "unit_divisor": 1000,
       "unit_scale": false
      },
      "application/vnd.jupyter.widget-view+json": {
       "model_id": "8e1c243c832c4f108182ae8ab53aca15",
       "version_major": 2,
       "version_minor": 0
      },
      "text/plain": [
       "chain 3 |          | 00:00 Status"
      ]
     },
     "metadata": {},
     "output_type": "display_data"
    },
    {
     "data": {
      "application/json": {
       "ascii": false,
       "bar_format": "{desc} |{bar}| {elapsed} {postfix[0][value]}",
       "colour": null,
       "elapsed": 0.04722189903259277,
       "initial": 0,
       "n": 0,
       "ncols": null,
       "nrows": null,
       "postfix": [
        {
         "value": "Status"
        }
       ],
       "prefix": "chain 4",
       "rate": null,
       "total": 52,
       "unit": "it",
       "unit_divisor": 1000,
       "unit_scale": false
      },
      "application/vnd.jupyter.widget-view+json": {
       "model_id": "c24c6d8eec5d4834a708305f1a5962c1",
       "version_major": 2,
       "version_minor": 0
      },
      "text/plain": [
       "chain 4 |          | 00:00 Status"
      ]
     },
     "metadata": {},
     "output_type": "display_data"
    },
    {
     "name": "stdout",
     "output_type": "stream",
     "text": [
      "                                                                                                                                                                                                                                                                                                                                \n"
     ]
    },
    {
     "name": "stderr",
     "output_type": "stream",
     "text": [
      "2023-11-10 13:48:40 - orbit - INFO - Sampling (PyStan) with chains: 4, cores: 8, temperature: 1.000, warmups (per chain): 2500 and samples(per chain): 2500.\n",
      "INFO:orbit:Sampling (PyStan) with chains: 4, cores: 8, temperature: 1.000, warmups (per chain): 2500 and samples(per chain): 2500.\n"
     ]
    },
    {
     "data": {
      "application/json": {
       "ascii": false,
       "bar_format": "{desc} |{bar}| {elapsed} {postfix[0][value]}",
       "colour": null,
       "elapsed": 0.03200936317443848,
       "initial": 0,
       "n": 0,
       "ncols": null,
       "nrows": null,
       "postfix": [
        {
         "value": "Status"
        }
       ],
       "prefix": "chain 1",
       "rate": null,
       "total": 52,
       "unit": "it",
       "unit_divisor": 1000,
       "unit_scale": false
      },
      "application/vnd.jupyter.widget-view+json": {
       "model_id": "8df6cd786d0547c685567ac87c861125",
       "version_major": 2,
       "version_minor": 0
      },
      "text/plain": [
       "chain 1 |          | 00:00 Status"
      ]
     },
     "metadata": {},
     "output_type": "display_data"
    },
    {
     "data": {
      "application/json": {
       "ascii": false,
       "bar_format": "{desc} |{bar}| {elapsed} {postfix[0][value]}",
       "colour": null,
       "elapsed": 0.029731035232543945,
       "initial": 0,
       "n": 0,
       "ncols": null,
       "nrows": null,
       "postfix": [
        {
         "value": "Status"
        }
       ],
       "prefix": "chain 2",
       "rate": null,
       "total": 52,
       "unit": "it",
       "unit_divisor": 1000,
       "unit_scale": false
      },
      "application/vnd.jupyter.widget-view+json": {
       "model_id": "7a9f7b7dd4a445cf88f19e47aa5d1122",
       "version_major": 2,
       "version_minor": 0
      },
      "text/plain": [
       "chain 2 |          | 00:00 Status"
      ]
     },
     "metadata": {},
     "output_type": "display_data"
    },
    {
     "data": {
      "application/json": {
       "ascii": false,
       "bar_format": "{desc} |{bar}| {elapsed} {postfix[0][value]}",
       "colour": null,
       "elapsed": 0.030740976333618164,
       "initial": 0,
       "n": 0,
       "ncols": null,
       "nrows": null,
       "postfix": [
        {
         "value": "Status"
        }
       ],
       "prefix": "chain 3",
       "rate": null,
       "total": 52,
       "unit": "it",
       "unit_divisor": 1000,
       "unit_scale": false
      },
      "application/vnd.jupyter.widget-view+json": {
       "model_id": "4f960cb8ce6646e385fb8d1fe6e46108",
       "version_major": 2,
       "version_minor": 0
      },
      "text/plain": [
       "chain 3 |          | 00:00 Status"
      ]
     },
     "metadata": {},
     "output_type": "display_data"
    },
    {
     "data": {
      "application/json": {
       "ascii": false,
       "bar_format": "{desc} |{bar}| {elapsed} {postfix[0][value]}",
       "colour": null,
       "elapsed": 0.03066539764404297,
       "initial": 0,
       "n": 0,
       "ncols": null,
       "nrows": null,
       "postfix": [
        {
         "value": "Status"
        }
       ],
       "prefix": "chain 4",
       "rate": null,
       "total": 52,
       "unit": "it",
       "unit_divisor": 1000,
       "unit_scale": false
      },
      "application/vnd.jupyter.widget-view+json": {
       "model_id": "26a1ea7d9c4d4fb3b2cc0752d302b2e7",
       "version_major": 2,
       "version_minor": 0
      },
      "text/plain": [
       "chain 4 |          | 00:00 Status"
      ]
     },
     "metadata": {},
     "output_type": "display_data"
    },
    {
     "name": "stdout",
     "output_type": "stream",
     "text": [
      "                                                                                                                                                                                                                                                                                                                                \n"
     ]
    },
    {
     "name": "stderr",
     "output_type": "stream",
     "text": [
      "2023-11-10 13:48:50 - orbit - INFO - Sampling (PyStan) with chains: 4, cores: 8, temperature: 1.000, warmups (per chain): 2500 and samples(per chain): 2500.\n",
      "INFO:orbit:Sampling (PyStan) with chains: 4, cores: 8, temperature: 1.000, warmups (per chain): 2500 and samples(per chain): 2500.\n"
     ]
    },
    {
     "data": {
      "application/json": {
       "ascii": false,
       "bar_format": "{desc} |{bar}| {elapsed} {postfix[0][value]}",
       "colour": null,
       "elapsed": 0.05775618553161621,
       "initial": 0,
       "n": 0,
       "ncols": null,
       "nrows": null,
       "postfix": [
        {
         "value": "Status"
        }
       ],
       "prefix": "chain 1",
       "rate": null,
       "total": 52,
       "unit": "it",
       "unit_divisor": 1000,
       "unit_scale": false
      },
      "application/vnd.jupyter.widget-view+json": {
       "model_id": "19557037e3da49748a30d79c0201faea",
       "version_major": 2,
       "version_minor": 0
      },
      "text/plain": [
       "chain 1 |          | 00:00 Status"
      ]
     },
     "metadata": {},
     "output_type": "display_data"
    },
    {
     "data": {
      "application/json": {
       "ascii": false,
       "bar_format": "{desc} |{bar}| {elapsed} {postfix[0][value]}",
       "colour": null,
       "elapsed": 0.05016326904296875,
       "initial": 0,
       "n": 0,
       "ncols": null,
       "nrows": null,
       "postfix": [
        {
         "value": "Status"
        }
       ],
       "prefix": "chain 2",
       "rate": null,
       "total": 52,
       "unit": "it",
       "unit_divisor": 1000,
       "unit_scale": false
      },
      "application/vnd.jupyter.widget-view+json": {
       "model_id": "3a55fba9c9a342c1b4317afabbf48f89",
       "version_major": 2,
       "version_minor": 0
      },
      "text/plain": [
       "chain 2 |          | 00:00 Status"
      ]
     },
     "metadata": {},
     "output_type": "display_data"
    },
    {
     "data": {
      "application/json": {
       "ascii": false,
       "bar_format": "{desc} |{bar}| {elapsed} {postfix[0][value]}",
       "colour": null,
       "elapsed": 0.049391746520996094,
       "initial": 0,
       "n": 0,
       "ncols": null,
       "nrows": null,
       "postfix": [
        {
         "value": "Status"
        }
       ],
       "prefix": "chain 3",
       "rate": null,
       "total": 52,
       "unit": "it",
       "unit_divisor": 1000,
       "unit_scale": false
      },
      "application/vnd.jupyter.widget-view+json": {
       "model_id": "6327951e68c94d42b6c7993c86bd9bda",
       "version_major": 2,
       "version_minor": 0
      },
      "text/plain": [
       "chain 3 |          | 00:00 Status"
      ]
     },
     "metadata": {},
     "output_type": "display_data"
    },
    {
     "data": {
      "application/json": {
       "ascii": false,
       "bar_format": "{desc} |{bar}| {elapsed} {postfix[0][value]}",
       "colour": null,
       "elapsed": 0.04291391372680664,
       "initial": 0,
       "n": 0,
       "ncols": null,
       "nrows": null,
       "postfix": [
        {
         "value": "Status"
        }
       ],
       "prefix": "chain 4",
       "rate": null,
       "total": 52,
       "unit": "it",
       "unit_divisor": 1000,
       "unit_scale": false
      },
      "application/vnd.jupyter.widget-view+json": {
       "model_id": "aaa4ee5b429541e8b9cb438a25e03883",
       "version_major": 2,
       "version_minor": 0
      },
      "text/plain": [
       "chain 4 |          | 00:00 Status"
      ]
     },
     "metadata": {},
     "output_type": "display_data"
    },
    {
     "name": "stdout",
     "output_type": "stream",
     "text": [
      "                                                                                                                                                                                                                                                                                                                                \n"
     ]
    },
    {
     "name": "stderr",
     "output_type": "stream",
     "text": [
      "2023-11-10 13:49:06 - orbit - INFO - Sampling (PyStan) with chains: 4, cores: 8, temperature: 1.000, warmups (per chain): 2500 and samples(per chain): 2500.\n",
      "INFO:orbit:Sampling (PyStan) with chains: 4, cores: 8, temperature: 1.000, warmups (per chain): 2500 and samples(per chain): 2500.\n"
     ]
    },
    {
     "data": {
      "application/json": {
       "ascii": false,
       "bar_format": "{desc} |{bar}| {elapsed} {postfix[0][value]}",
       "colour": null,
       "elapsed": 0.04714775085449219,
       "initial": 0,
       "n": 0,
       "ncols": null,
       "nrows": null,
       "postfix": [
        {
         "value": "Status"
        }
       ],
       "prefix": "chain 1",
       "rate": null,
       "total": 52,
       "unit": "it",
       "unit_divisor": 1000,
       "unit_scale": false
      },
      "application/vnd.jupyter.widget-view+json": {
       "model_id": "1bc891ca2ccf419d8648421e3dba6259",
       "version_major": 2,
       "version_minor": 0
      },
      "text/plain": [
       "chain 1 |          | 00:00 Status"
      ]
     },
     "metadata": {},
     "output_type": "display_data"
    },
    {
     "data": {
      "application/json": {
       "ascii": false,
       "bar_format": "{desc} |{bar}| {elapsed} {postfix[0][value]}",
       "colour": null,
       "elapsed": 0.0467371940612793,
       "initial": 0,
       "n": 0,
       "ncols": null,
       "nrows": null,
       "postfix": [
        {
         "value": "Status"
        }
       ],
       "prefix": "chain 2",
       "rate": null,
       "total": 52,
       "unit": "it",
       "unit_divisor": 1000,
       "unit_scale": false
      },
      "application/vnd.jupyter.widget-view+json": {
       "model_id": "fa95de928a4845adac464fc37d566466",
       "version_major": 2,
       "version_minor": 0
      },
      "text/plain": [
       "chain 2 |          | 00:00 Status"
      ]
     },
     "metadata": {},
     "output_type": "display_data"
    },
    {
     "data": {
      "application/json": {
       "ascii": false,
       "bar_format": "{desc} |{bar}| {elapsed} {postfix[0][value]}",
       "colour": null,
       "elapsed": 0.040273189544677734,
       "initial": 0,
       "n": 0,
       "ncols": null,
       "nrows": null,
       "postfix": [
        {
         "value": "Status"
        }
       ],
       "prefix": "chain 3",
       "rate": null,
       "total": 52,
       "unit": "it",
       "unit_divisor": 1000,
       "unit_scale": false
      },
      "application/vnd.jupyter.widget-view+json": {
       "model_id": "6d41f7550a4743fcb53211c474a621f0",
       "version_major": 2,
       "version_minor": 0
      },
      "text/plain": [
       "chain 3 |          | 00:00 Status"
      ]
     },
     "metadata": {},
     "output_type": "display_data"
    },
    {
     "data": {
      "application/json": {
       "ascii": false,
       "bar_format": "{desc} |{bar}| {elapsed} {postfix[0][value]}",
       "colour": null,
       "elapsed": 0.04433012008666992,
       "initial": 0,
       "n": 0,
       "ncols": null,
       "nrows": null,
       "postfix": [
        {
         "value": "Status"
        }
       ],
       "prefix": "chain 4",
       "rate": null,
       "total": 52,
       "unit": "it",
       "unit_divisor": 1000,
       "unit_scale": false
      },
      "application/vnd.jupyter.widget-view+json": {
       "model_id": "148a3e5acc414c64b36dd62a56140499",
       "version_major": 2,
       "version_minor": 0
      },
      "text/plain": [
       "chain 4 |          | 00:00 Status"
      ]
     },
     "metadata": {},
     "output_type": "display_data"
    },
    {
     "name": "stdout",
     "output_type": "stream",
     "text": [
      "                                                                                                                                                                                                                                                                                                                                \n"
     ]
    },
    {
     "name": "stderr",
     "output_type": "stream",
     "text": [
      "2023-11-10 13:49:19 - orbit - INFO - Sampling (PyStan) with chains: 4, cores: 8, temperature: 1.000, warmups (per chain): 2500 and samples(per chain): 2500.\n",
      "INFO:orbit:Sampling (PyStan) with chains: 4, cores: 8, temperature: 1.000, warmups (per chain): 2500 and samples(per chain): 2500.\n"
     ]
    },
    {
     "data": {
      "application/json": {
       "ascii": false,
       "bar_format": "{desc} |{bar}| {elapsed} {postfix[0][value]}",
       "colour": null,
       "elapsed": 0.033647775650024414,
       "initial": 0,
       "n": 0,
       "ncols": null,
       "nrows": null,
       "postfix": [
        {
         "value": "Status"
        }
       ],
       "prefix": "chain 1",
       "rate": null,
       "total": 52,
       "unit": "it",
       "unit_divisor": 1000,
       "unit_scale": false
      },
      "application/vnd.jupyter.widget-view+json": {
       "model_id": "18f26ef0ae244c658c9a4238b165d382",
       "version_major": 2,
       "version_minor": 0
      },
      "text/plain": [
       "chain 1 |          | 00:00 Status"
      ]
     },
     "metadata": {},
     "output_type": "display_data"
    },
    {
     "data": {
      "application/json": {
       "ascii": false,
       "bar_format": "{desc} |{bar}| {elapsed} {postfix[0][value]}",
       "colour": null,
       "elapsed": 0.031694889068603516,
       "initial": 0,
       "n": 0,
       "ncols": null,
       "nrows": null,
       "postfix": [
        {
         "value": "Status"
        }
       ],
       "prefix": "chain 2",
       "rate": null,
       "total": 52,
       "unit": "it",
       "unit_divisor": 1000,
       "unit_scale": false
      },
      "application/vnd.jupyter.widget-view+json": {
       "model_id": "2b2a061949784aa988fed03db7bc775a",
       "version_major": 2,
       "version_minor": 0
      },
      "text/plain": [
       "chain 2 |          | 00:00 Status"
      ]
     },
     "metadata": {},
     "output_type": "display_data"
    },
    {
     "data": {
      "application/json": {
       "ascii": false,
       "bar_format": "{desc} |{bar}| {elapsed} {postfix[0][value]}",
       "colour": null,
       "elapsed": 0.030943870544433594,
       "initial": 0,
       "n": 0,
       "ncols": null,
       "nrows": null,
       "postfix": [
        {
         "value": "Status"
        }
       ],
       "prefix": "chain 3",
       "rate": null,
       "total": 52,
       "unit": "it",
       "unit_divisor": 1000,
       "unit_scale": false
      },
      "application/vnd.jupyter.widget-view+json": {
       "model_id": "6bd7b627a7dc47f8ba09369c26bfb430",
       "version_major": 2,
       "version_minor": 0
      },
      "text/plain": [
       "chain 3 |          | 00:00 Status"
      ]
     },
     "metadata": {},
     "output_type": "display_data"
    },
    {
     "data": {
      "application/json": {
       "ascii": false,
       "bar_format": "{desc} |{bar}| {elapsed} {postfix[0][value]}",
       "colour": null,
       "elapsed": 0.029519319534301758,
       "initial": 0,
       "n": 0,
       "ncols": null,
       "nrows": null,
       "postfix": [
        {
         "value": "Status"
        }
       ],
       "prefix": "chain 4",
       "rate": null,
       "total": 52,
       "unit": "it",
       "unit_divisor": 1000,
       "unit_scale": false
      },
      "application/vnd.jupyter.widget-view+json": {
       "model_id": "ce2ab53aada044ada81ef5fbf3b5baed",
       "version_major": 2,
       "version_minor": 0
      },
      "text/plain": [
       "chain 4 |          | 00:00 Status"
      ]
     },
     "metadata": {},
     "output_type": "display_data"
    },
    {
     "name": "stdout",
     "output_type": "stream",
     "text": [
      "                                                                                                                                                                                                                                                                                                                                \n"
     ]
    },
    {
     "name": "stderr",
     "output_type": "stream",
     "text": [
      "2023-11-10 13:49:32 - orbit - INFO - Sampling (PyStan) with chains: 4, cores: 8, temperature: 1.000, warmups (per chain): 2500 and samples(per chain): 2500.\n",
      "INFO:orbit:Sampling (PyStan) with chains: 4, cores: 8, temperature: 1.000, warmups (per chain): 2500 and samples(per chain): 2500.\n"
     ]
    },
    {
     "data": {
      "application/json": {
       "ascii": false,
       "bar_format": "{desc} |{bar}| {elapsed} {postfix[0][value]}",
       "colour": null,
       "elapsed": 0.03006911277770996,
       "initial": 0,
       "n": 0,
       "ncols": null,
       "nrows": null,
       "postfix": [
        {
         "value": "Status"
        }
       ],
       "prefix": "chain 1",
       "rate": null,
       "total": 52,
       "unit": "it",
       "unit_divisor": 1000,
       "unit_scale": false
      },
      "application/vnd.jupyter.widget-view+json": {
       "model_id": "611b08fc99a14ba4ab491a69a4fa92bc",
       "version_major": 2,
       "version_minor": 0
      },
      "text/plain": [
       "chain 1 |          | 00:00 Status"
      ]
     },
     "metadata": {},
     "output_type": "display_data"
    },
    {
     "data": {
      "application/json": {
       "ascii": false,
       "bar_format": "{desc} |{bar}| {elapsed} {postfix[0][value]}",
       "colour": null,
       "elapsed": 0.034166812896728516,
       "initial": 0,
       "n": 0,
       "ncols": null,
       "nrows": null,
       "postfix": [
        {
         "value": "Status"
        }
       ],
       "prefix": "chain 2",
       "rate": null,
       "total": 52,
       "unit": "it",
       "unit_divisor": 1000,
       "unit_scale": false
      },
      "application/vnd.jupyter.widget-view+json": {
       "model_id": "c93666d0edae4f239e5c325b2601e945",
       "version_major": 2,
       "version_minor": 0
      },
      "text/plain": [
       "chain 2 |          | 00:00 Status"
      ]
     },
     "metadata": {},
     "output_type": "display_data"
    },
    {
     "data": {
      "application/json": {
       "ascii": false,
       "bar_format": "{desc} |{bar}| {elapsed} {postfix[0][value]}",
       "colour": null,
       "elapsed": 0.04103231430053711,
       "initial": 0,
       "n": 0,
       "ncols": null,
       "nrows": null,
       "postfix": [
        {
         "value": "Status"
        }
       ],
       "prefix": "chain 3",
       "rate": null,
       "total": 52,
       "unit": "it",
       "unit_divisor": 1000,
       "unit_scale": false
      },
      "application/vnd.jupyter.widget-view+json": {
       "model_id": "c8d4691f74334d25a0b0444258d29f60",
       "version_major": 2,
       "version_minor": 0
      },
      "text/plain": [
       "chain 3 |          | 00:00 Status"
      ]
     },
     "metadata": {},
     "output_type": "display_data"
    },
    {
     "data": {
      "application/json": {
       "ascii": false,
       "bar_format": "{desc} |{bar}| {elapsed} {postfix[0][value]}",
       "colour": null,
       "elapsed": 0.038701534271240234,
       "initial": 0,
       "n": 0,
       "ncols": null,
       "nrows": null,
       "postfix": [
        {
         "value": "Status"
        }
       ],
       "prefix": "chain 4",
       "rate": null,
       "total": 52,
       "unit": "it",
       "unit_divisor": 1000,
       "unit_scale": false
      },
      "application/vnd.jupyter.widget-view+json": {
       "model_id": "0ce2bb1db1884c7a858770bcef7ba287",
       "version_major": 2,
       "version_minor": 0
      },
      "text/plain": [
       "chain 4 |          | 00:00 Status"
      ]
     },
     "metadata": {},
     "output_type": "display_data"
    },
    {
     "name": "stdout",
     "output_type": "stream",
     "text": [
      "                                                                                                                                                                                                                                                                                                                                \n"
     ]
    },
    {
     "name": "stderr",
     "output_type": "stream",
     "text": [
      "2023-11-10 13:49:46 - orbit - INFO - Sampling (PyStan) with chains: 4, cores: 8, temperature: 1.000, warmups (per chain): 2500 and samples(per chain): 2500.\n",
      "INFO:orbit:Sampling (PyStan) with chains: 4, cores: 8, temperature: 1.000, warmups (per chain): 2500 and samples(per chain): 2500.\n"
     ]
    },
    {
     "data": {
      "application/json": {
       "ascii": false,
       "bar_format": "{desc} |{bar}| {elapsed} {postfix[0][value]}",
       "colour": null,
       "elapsed": 0.04365897178649902,
       "initial": 0,
       "n": 0,
       "ncols": null,
       "nrows": null,
       "postfix": [
        {
         "value": "Status"
        }
       ],
       "prefix": "chain 1",
       "rate": null,
       "total": 52,
       "unit": "it",
       "unit_divisor": 1000,
       "unit_scale": false
      },
      "application/vnd.jupyter.widget-view+json": {
       "model_id": "fe9b050a1899454bb32da0c794d0437c",
       "version_major": 2,
       "version_minor": 0
      },
      "text/plain": [
       "chain 1 |          | 00:00 Status"
      ]
     },
     "metadata": {},
     "output_type": "display_data"
    },
    {
     "data": {
      "application/json": {
       "ascii": false,
       "bar_format": "{desc} |{bar}| {elapsed} {postfix[0][value]}",
       "colour": null,
       "elapsed": 0.03269767761230469,
       "initial": 0,
       "n": 0,
       "ncols": null,
       "nrows": null,
       "postfix": [
        {
         "value": "Status"
        }
       ],
       "prefix": "chain 2",
       "rate": null,
       "total": 52,
       "unit": "it",
       "unit_divisor": 1000,
       "unit_scale": false
      },
      "application/vnd.jupyter.widget-view+json": {
       "model_id": "339d24d6a49341dc94bc70edb662dd1a",
       "version_major": 2,
       "version_minor": 0
      },
      "text/plain": [
       "chain 2 |          | 00:00 Status"
      ]
     },
     "metadata": {},
     "output_type": "display_data"
    },
    {
     "data": {
      "application/json": {
       "ascii": false,
       "bar_format": "{desc} |{bar}| {elapsed} {postfix[0][value]}",
       "colour": null,
       "elapsed": 0.034449100494384766,
       "initial": 0,
       "n": 0,
       "ncols": null,
       "nrows": null,
       "postfix": [
        {
         "value": "Status"
        }
       ],
       "prefix": "chain 3",
       "rate": null,
       "total": 52,
       "unit": "it",
       "unit_divisor": 1000,
       "unit_scale": false
      },
      "application/vnd.jupyter.widget-view+json": {
       "model_id": "16a3a63cdc2a4211a923a5505a5c0581",
       "version_major": 2,
       "version_minor": 0
      },
      "text/plain": [
       "chain 3 |          | 00:00 Status"
      ]
     },
     "metadata": {},
     "output_type": "display_data"
    },
    {
     "data": {
      "application/json": {
       "ascii": false,
       "bar_format": "{desc} |{bar}| {elapsed} {postfix[0][value]}",
       "colour": null,
       "elapsed": 0.031491756439208984,
       "initial": 0,
       "n": 0,
       "ncols": null,
       "nrows": null,
       "postfix": [
        {
         "value": "Status"
        }
       ],
       "prefix": "chain 4",
       "rate": null,
       "total": 52,
       "unit": "it",
       "unit_divisor": 1000,
       "unit_scale": false
      },
      "application/vnd.jupyter.widget-view+json": {
       "model_id": "bd8a3e0cbc9b487b842de5d08d61a7ac",
       "version_major": 2,
       "version_minor": 0
      },
      "text/plain": [
       "chain 4 |          | 00:00 Status"
      ]
     },
     "metadata": {},
     "output_type": "display_data"
    },
    {
     "name": "stdout",
     "output_type": "stream",
     "text": [
      "                                                                                                                                                                                                                                                                                                                                \n"
     ]
    },
    {
     "name": "stderr",
     "output_type": "stream",
     "text": [
      "2023-11-10 13:49:52 - orbit - INFO - Sampling (PyStan) with chains: 4, cores: 8, temperature: 1.000, warmups (per chain): 2500 and samples(per chain): 2500.\n",
      "INFO:orbit:Sampling (PyStan) with chains: 4, cores: 8, temperature: 1.000, warmups (per chain): 2500 and samples(per chain): 2500.\n"
     ]
    },
    {
     "data": {
      "application/json": {
       "ascii": false,
       "bar_format": "{desc} |{bar}| {elapsed} {postfix[0][value]}",
       "colour": null,
       "elapsed": 0.03163719177246094,
       "initial": 0,
       "n": 0,
       "ncols": null,
       "nrows": null,
       "postfix": [
        {
         "value": "Status"
        }
       ],
       "prefix": "chain 1",
       "rate": null,
       "total": 52,
       "unit": "it",
       "unit_divisor": 1000,
       "unit_scale": false
      },
      "application/vnd.jupyter.widget-view+json": {
       "model_id": "c618b27ebde44e3496bce04666807e82",
       "version_major": 2,
       "version_minor": 0
      },
      "text/plain": [
       "chain 1 |          | 00:00 Status"
      ]
     },
     "metadata": {},
     "output_type": "display_data"
    },
    {
     "data": {
      "application/json": {
       "ascii": false,
       "bar_format": "{desc} |{bar}| {elapsed} {postfix[0][value]}",
       "colour": null,
       "elapsed": 0.028655529022216797,
       "initial": 0,
       "n": 0,
       "ncols": null,
       "nrows": null,
       "postfix": [
        {
         "value": "Status"
        }
       ],
       "prefix": "chain 2",
       "rate": null,
       "total": 52,
       "unit": "it",
       "unit_divisor": 1000,
       "unit_scale": false
      },
      "application/vnd.jupyter.widget-view+json": {
       "model_id": "6c8b987387f64c489db483f296c947fe",
       "version_major": 2,
       "version_minor": 0
      },
      "text/plain": [
       "chain 2 |          | 00:00 Status"
      ]
     },
     "metadata": {},
     "output_type": "display_data"
    },
    {
     "data": {
      "application/json": {
       "ascii": false,
       "bar_format": "{desc} |{bar}| {elapsed} {postfix[0][value]}",
       "colour": null,
       "elapsed": 0.032933950424194336,
       "initial": 0,
       "n": 0,
       "ncols": null,
       "nrows": null,
       "postfix": [
        {
         "value": "Status"
        }
       ],
       "prefix": "chain 3",
       "rate": null,
       "total": 52,
       "unit": "it",
       "unit_divisor": 1000,
       "unit_scale": false
      },
      "application/vnd.jupyter.widget-view+json": {
       "model_id": "b613335281de4dbd9778d9fead0d7227",
       "version_major": 2,
       "version_minor": 0
      },
      "text/plain": [
       "chain 3 |          | 00:00 Status"
      ]
     },
     "metadata": {},
     "output_type": "display_data"
    },
    {
     "data": {
      "application/json": {
       "ascii": false,
       "bar_format": "{desc} |{bar}| {elapsed} {postfix[0][value]}",
       "colour": null,
       "elapsed": 0.03832745552062988,
       "initial": 0,
       "n": 0,
       "ncols": null,
       "nrows": null,
       "postfix": [
        {
         "value": "Status"
        }
       ],
       "prefix": "chain 4",
       "rate": null,
       "total": 52,
       "unit": "it",
       "unit_divisor": 1000,
       "unit_scale": false
      },
      "application/vnd.jupyter.widget-view+json": {
       "model_id": "82957a0acfd74dcdb6d0dd25e13fa648",
       "version_major": 2,
       "version_minor": 0
      },
      "text/plain": [
       "chain 4 |          | 00:00 Status"
      ]
     },
     "metadata": {},
     "output_type": "display_data"
    },
    {
     "name": "stdout",
     "output_type": "stream",
     "text": [
      "                                                                                                                                                                                                                                                                                                                                \n"
     ]
    },
    {
     "name": "stderr",
     "output_type": "stream",
     "text": [
      "2023-11-10 13:49:58 - orbit - INFO - Sampling (PyStan) with chains: 4, cores: 8, temperature: 1.000, warmups (per chain): 2500 and samples(per chain): 2500.\n",
      "INFO:orbit:Sampling (PyStan) with chains: 4, cores: 8, temperature: 1.000, warmups (per chain): 2500 and samples(per chain): 2500.\n"
     ]
    },
    {
     "data": {
      "application/json": {
       "ascii": false,
       "bar_format": "{desc} |{bar}| {elapsed} {postfix[0][value]}",
       "colour": null,
       "elapsed": 0.03214740753173828,
       "initial": 0,
       "n": 0,
       "ncols": null,
       "nrows": null,
       "postfix": [
        {
         "value": "Status"
        }
       ],
       "prefix": "chain 1",
       "rate": null,
       "total": 52,
       "unit": "it",
       "unit_divisor": 1000,
       "unit_scale": false
      },
      "application/vnd.jupyter.widget-view+json": {
       "model_id": "a42a5057ce7547789f25abf09f6155a0",
       "version_major": 2,
       "version_minor": 0
      },
      "text/plain": [
       "chain 1 |          | 00:00 Status"
      ]
     },
     "metadata": {},
     "output_type": "display_data"
    },
    {
     "data": {
      "application/json": {
       "ascii": false,
       "bar_format": "{desc} |{bar}| {elapsed} {postfix[0][value]}",
       "colour": null,
       "elapsed": 0.02824687957763672,
       "initial": 0,
       "n": 0,
       "ncols": null,
       "nrows": null,
       "postfix": [
        {
         "value": "Status"
        }
       ],
       "prefix": "chain 2",
       "rate": null,
       "total": 52,
       "unit": "it",
       "unit_divisor": 1000,
       "unit_scale": false
      },
      "application/vnd.jupyter.widget-view+json": {
       "model_id": "8811894ca93f4bb4a320d6e22deed9a6",
       "version_major": 2,
       "version_minor": 0
      },
      "text/plain": [
       "chain 2 |          | 00:00 Status"
      ]
     },
     "metadata": {},
     "output_type": "display_data"
    },
    {
     "data": {
      "application/json": {
       "ascii": false,
       "bar_format": "{desc} |{bar}| {elapsed} {postfix[0][value]}",
       "colour": null,
       "elapsed": 0.036484479904174805,
       "initial": 0,
       "n": 0,
       "ncols": null,
       "nrows": null,
       "postfix": [
        {
         "value": "Status"
        }
       ],
       "prefix": "chain 3",
       "rate": null,
       "total": 52,
       "unit": "it",
       "unit_divisor": 1000,
       "unit_scale": false
      },
      "application/vnd.jupyter.widget-view+json": {
       "model_id": "d4428728224b43e4b1c334abbc1ed6e0",
       "version_major": 2,
       "version_minor": 0
      },
      "text/plain": [
       "chain 3 |          | 00:00 Status"
      ]
     },
     "metadata": {},
     "output_type": "display_data"
    },
    {
     "data": {
      "application/json": {
       "ascii": false,
       "bar_format": "{desc} |{bar}| {elapsed} {postfix[0][value]}",
       "colour": null,
       "elapsed": 0.03024888038635254,
       "initial": 0,
       "n": 0,
       "ncols": null,
       "nrows": null,
       "postfix": [
        {
         "value": "Status"
        }
       ],
       "prefix": "chain 4",
       "rate": null,
       "total": 52,
       "unit": "it",
       "unit_divisor": 1000,
       "unit_scale": false
      },
      "application/vnd.jupyter.widget-view+json": {
       "model_id": "b532c6c6d6394be8b57d11b046bf4a04",
       "version_major": 2,
       "version_minor": 0
      },
      "text/plain": [
       "chain 4 |          | 00:00 Status"
      ]
     },
     "metadata": {},
     "output_type": "display_data"
    },
    {
     "name": "stdout",
     "output_type": "stream",
     "text": [
      "                                                                                                                                                                                                                                                                                                                                \n"
     ]
    },
    {
     "name": "stderr",
     "output_type": "stream",
     "text": [
      "2023-11-10 13:50:07 - orbit - INFO - Sampling (PyStan) with chains: 4, cores: 8, temperature: 1.000, warmups (per chain): 2500 and samples(per chain): 2500.\n",
      "INFO:orbit:Sampling (PyStan) with chains: 4, cores: 8, temperature: 1.000, warmups (per chain): 2500 and samples(per chain): 2500.\n"
     ]
    },
    {
     "data": {
      "application/json": {
       "ascii": false,
       "bar_format": "{desc} |{bar}| {elapsed} {postfix[0][value]}",
       "colour": null,
       "elapsed": 0.04806661605834961,
       "initial": 0,
       "n": 0,
       "ncols": null,
       "nrows": null,
       "postfix": [
        {
         "value": "Status"
        }
       ],
       "prefix": "chain 1",
       "rate": null,
       "total": 52,
       "unit": "it",
       "unit_divisor": 1000,
       "unit_scale": false
      },
      "application/vnd.jupyter.widget-view+json": {
       "model_id": "348b04d266a1484d947e0bde16e34c13",
       "version_major": 2,
       "version_minor": 0
      },
      "text/plain": [
       "chain 1 |          | 00:00 Status"
      ]
     },
     "metadata": {},
     "output_type": "display_data"
    },
    {
     "data": {
      "application/json": {
       "ascii": false,
       "bar_format": "{desc} |{bar}| {elapsed} {postfix[0][value]}",
       "colour": null,
       "elapsed": 0.03227066993713379,
       "initial": 0,
       "n": 0,
       "ncols": null,
       "nrows": null,
       "postfix": [
        {
         "value": "Status"
        }
       ],
       "prefix": "chain 2",
       "rate": null,
       "total": 52,
       "unit": "it",
       "unit_divisor": 1000,
       "unit_scale": false
      },
      "application/vnd.jupyter.widget-view+json": {
       "model_id": "4f6cb28ecb1b4f73b294124970f2cc85",
       "version_major": 2,
       "version_minor": 0
      },
      "text/plain": [
       "chain 2 |          | 00:00 Status"
      ]
     },
     "metadata": {},
     "output_type": "display_data"
    },
    {
     "data": {
      "application/json": {
       "ascii": false,
       "bar_format": "{desc} |{bar}| {elapsed} {postfix[0][value]}",
       "colour": null,
       "elapsed": 0.03618001937866211,
       "initial": 0,
       "n": 0,
       "ncols": null,
       "nrows": null,
       "postfix": [
        {
         "value": "Status"
        }
       ],
       "prefix": "chain 3",
       "rate": null,
       "total": 52,
       "unit": "it",
       "unit_divisor": 1000,
       "unit_scale": false
      },
      "application/vnd.jupyter.widget-view+json": {
       "model_id": "7596ce22fffc403d84870b5c7d1d1a1e",
       "version_major": 2,
       "version_minor": 0
      },
      "text/plain": [
       "chain 3 |          | 00:00 Status"
      ]
     },
     "metadata": {},
     "output_type": "display_data"
    },
    {
     "data": {
      "application/json": {
       "ascii": false,
       "bar_format": "{desc} |{bar}| {elapsed} {postfix[0][value]}",
       "colour": null,
       "elapsed": 0.038535118103027344,
       "initial": 0,
       "n": 0,
       "ncols": null,
       "nrows": null,
       "postfix": [
        {
         "value": "Status"
        }
       ],
       "prefix": "chain 4",
       "rate": null,
       "total": 52,
       "unit": "it",
       "unit_divisor": 1000,
       "unit_scale": false
      },
      "application/vnd.jupyter.widget-view+json": {
       "model_id": "6ea71fcd142e4767ae7fd885d7fc3e1b",
       "version_major": 2,
       "version_minor": 0
      },
      "text/plain": [
       "chain 4 |          | 00:00 Status"
      ]
     },
     "metadata": {},
     "output_type": "display_data"
    },
    {
     "name": "stdout",
     "output_type": "stream",
     "text": [
      "                                                                                                                                                                                                                                                                                                                                \n"
     ]
    },
    {
     "name": "stderr",
     "output_type": "stream",
     "text": [
      "2023-11-10 13:50:19 - orbit - INFO - Sampling (PyStan) with chains: 4, cores: 8, temperature: 1.000, warmups (per chain): 2500 and samples(per chain): 2500.\n",
      "INFO:orbit:Sampling (PyStan) with chains: 4, cores: 8, temperature: 1.000, warmups (per chain): 2500 and samples(per chain): 2500.\n"
     ]
    },
    {
     "data": {
      "application/json": {
       "ascii": false,
       "bar_format": "{desc} |{bar}| {elapsed} {postfix[0][value]}",
       "colour": null,
       "elapsed": 0.03574776649475098,
       "initial": 0,
       "n": 0,
       "ncols": null,
       "nrows": null,
       "postfix": [
        {
         "value": "Status"
        }
       ],
       "prefix": "chain 1",
       "rate": null,
       "total": 52,
       "unit": "it",
       "unit_divisor": 1000,
       "unit_scale": false
      },
      "application/vnd.jupyter.widget-view+json": {
       "model_id": "2a1e72da8b124973a2a470028ff6dd00",
       "version_major": 2,
       "version_minor": 0
      },
      "text/plain": [
       "chain 1 |          | 00:00 Status"
      ]
     },
     "metadata": {},
     "output_type": "display_data"
    },
    {
     "data": {
      "application/json": {
       "ascii": false,
       "bar_format": "{desc} |{bar}| {elapsed} {postfix[0][value]}",
       "colour": null,
       "elapsed": 0.03300166130065918,
       "initial": 0,
       "n": 0,
       "ncols": null,
       "nrows": null,
       "postfix": [
        {
         "value": "Status"
        }
       ],
       "prefix": "chain 2",
       "rate": null,
       "total": 52,
       "unit": "it",
       "unit_divisor": 1000,
       "unit_scale": false
      },
      "application/vnd.jupyter.widget-view+json": {
       "model_id": "65bab30021214cd886fb25da9cd0aea2",
       "version_major": 2,
       "version_minor": 0
      },
      "text/plain": [
       "chain 2 |          | 00:00 Status"
      ]
     },
     "metadata": {},
     "output_type": "display_data"
    },
    {
     "data": {
      "application/json": {
       "ascii": false,
       "bar_format": "{desc} |{bar}| {elapsed} {postfix[0][value]}",
       "colour": null,
       "elapsed": 0.026565074920654297,
       "initial": 0,
       "n": 0,
       "ncols": null,
       "nrows": null,
       "postfix": [
        {
         "value": "Status"
        }
       ],
       "prefix": "chain 3",
       "rate": null,
       "total": 52,
       "unit": "it",
       "unit_divisor": 1000,
       "unit_scale": false
      },
      "application/vnd.jupyter.widget-view+json": {
       "model_id": "13e692a8322142e3b4ca181bfc9e1abd",
       "version_major": 2,
       "version_minor": 0
      },
      "text/plain": [
       "chain 3 |          | 00:00 Status"
      ]
     },
     "metadata": {},
     "output_type": "display_data"
    },
    {
     "data": {
      "application/json": {
       "ascii": false,
       "bar_format": "{desc} |{bar}| {elapsed} {postfix[0][value]}",
       "colour": null,
       "elapsed": 0.0298616886138916,
       "initial": 0,
       "n": 0,
       "ncols": null,
       "nrows": null,
       "postfix": [
        {
         "value": "Status"
        }
       ],
       "prefix": "chain 4",
       "rate": null,
       "total": 52,
       "unit": "it",
       "unit_divisor": 1000,
       "unit_scale": false
      },
      "application/vnd.jupyter.widget-view+json": {
       "model_id": "44810ea2e79d4ff6b69971eddd077cf2",
       "version_major": 2,
       "version_minor": 0
      },
      "text/plain": [
       "chain 4 |          | 00:00 Status"
      ]
     },
     "metadata": {},
     "output_type": "display_data"
    },
    {
     "name": "stdout",
     "output_type": "stream",
     "text": [
      "                                                                                                                                                                                                                                                                                                                                \n"
     ]
    },
    {
     "name": "stderr",
     "output_type": "stream",
     "text": [
      "2023-11-10 13:50:31 - orbit - INFO - Sampling (PyStan) with chains: 4, cores: 8, temperature: 1.000, warmups (per chain): 2500 and samples(per chain): 2500.\n",
      "INFO:orbit:Sampling (PyStan) with chains: 4, cores: 8, temperature: 1.000, warmups (per chain): 2500 and samples(per chain): 2500.\n"
     ]
    },
    {
     "data": {
      "application/json": {
       "ascii": false,
       "bar_format": "{desc} |{bar}| {elapsed} {postfix[0][value]}",
       "colour": null,
       "elapsed": 0.040292978286743164,
       "initial": 0,
       "n": 0,
       "ncols": null,
       "nrows": null,
       "postfix": [
        {
         "value": "Status"
        }
       ],
       "prefix": "chain 1",
       "rate": null,
       "total": 52,
       "unit": "it",
       "unit_divisor": 1000,
       "unit_scale": false
      },
      "application/vnd.jupyter.widget-view+json": {
       "model_id": "158886172f2e4e18ab7e0189e4202e75",
       "version_major": 2,
       "version_minor": 0
      },
      "text/plain": [
       "chain 1 |          | 00:00 Status"
      ]
     },
     "metadata": {},
     "output_type": "display_data"
    },
    {
     "data": {
      "application/json": {
       "ascii": false,
       "bar_format": "{desc} |{bar}| {elapsed} {postfix[0][value]}",
       "colour": null,
       "elapsed": 0.03841662406921387,
       "initial": 0,
       "n": 0,
       "ncols": null,
       "nrows": null,
       "postfix": [
        {
         "value": "Status"
        }
       ],
       "prefix": "chain 2",
       "rate": null,
       "total": 52,
       "unit": "it",
       "unit_divisor": 1000,
       "unit_scale": false
      },
      "application/vnd.jupyter.widget-view+json": {
       "model_id": "92127952ed0c44d3bce7a22a8e466dd1",
       "version_major": 2,
       "version_minor": 0
      },
      "text/plain": [
       "chain 2 |          | 00:00 Status"
      ]
     },
     "metadata": {},
     "output_type": "display_data"
    },
    {
     "data": {
      "application/json": {
       "ascii": false,
       "bar_format": "{desc} |{bar}| {elapsed} {postfix[0][value]}",
       "colour": null,
       "elapsed": 0.03641629219055176,
       "initial": 0,
       "n": 0,
       "ncols": null,
       "nrows": null,
       "postfix": [
        {
         "value": "Status"
        }
       ],
       "prefix": "chain 3",
       "rate": null,
       "total": 52,
       "unit": "it",
       "unit_divisor": 1000,
       "unit_scale": false
      },
      "application/vnd.jupyter.widget-view+json": {
       "model_id": "1bf8d3a626924d48b84d61b8098ddabd",
       "version_major": 2,
       "version_minor": 0
      },
      "text/plain": [
       "chain 3 |          | 00:00 Status"
      ]
     },
     "metadata": {},
     "output_type": "display_data"
    },
    {
     "data": {
      "application/json": {
       "ascii": false,
       "bar_format": "{desc} |{bar}| {elapsed} {postfix[0][value]}",
       "colour": null,
       "elapsed": 0.04594278335571289,
       "initial": 0,
       "n": 0,
       "ncols": null,
       "nrows": null,
       "postfix": [
        {
         "value": "Status"
        }
       ],
       "prefix": "chain 4",
       "rate": null,
       "total": 52,
       "unit": "it",
       "unit_divisor": 1000,
       "unit_scale": false
      },
      "application/vnd.jupyter.widget-view+json": {
       "model_id": "40c91f6e31d64d6b9a8ebfb94410804d",
       "version_major": 2,
       "version_minor": 0
      },
      "text/plain": [
       "chain 4 |          | 00:00 Status"
      ]
     },
     "metadata": {},
     "output_type": "display_data"
    },
    {
     "name": "stdout",
     "output_type": "stream",
     "text": [
      "                                                                                                                                                                                                                                                                                                                                \n"
     ]
    },
    {
     "name": "stderr",
     "output_type": "stream",
     "text": [
      "2023-11-10 13:50:44 - orbit - INFO - Sampling (PyStan) with chains: 4, cores: 8, temperature: 1.000, warmups (per chain): 2500 and samples(per chain): 2500.\n",
      "INFO:orbit:Sampling (PyStan) with chains: 4, cores: 8, temperature: 1.000, warmups (per chain): 2500 and samples(per chain): 2500.\n"
     ]
    },
    {
     "data": {
      "application/json": {
       "ascii": false,
       "bar_format": "{desc} |{bar}| {elapsed} {postfix[0][value]}",
       "colour": null,
       "elapsed": 0.051930904388427734,
       "initial": 0,
       "n": 0,
       "ncols": null,
       "nrows": null,
       "postfix": [
        {
         "value": "Status"
        }
       ],
       "prefix": "chain 1",
       "rate": null,
       "total": 52,
       "unit": "it",
       "unit_divisor": 1000,
       "unit_scale": false
      },
      "application/vnd.jupyter.widget-view+json": {
       "model_id": "08231448a5054f539207fe92a434fd54",
       "version_major": 2,
       "version_minor": 0
      },
      "text/plain": [
       "chain 1 |          | 00:00 Status"
      ]
     },
     "metadata": {},
     "output_type": "display_data"
    },
    {
     "data": {
      "application/json": {
       "ascii": false,
       "bar_format": "{desc} |{bar}| {elapsed} {postfix[0][value]}",
       "colour": null,
       "elapsed": 0.04589271545410156,
       "initial": 0,
       "n": 0,
       "ncols": null,
       "nrows": null,
       "postfix": [
        {
         "value": "Status"
        }
       ],
       "prefix": "chain 2",
       "rate": null,
       "total": 52,
       "unit": "it",
       "unit_divisor": 1000,
       "unit_scale": false
      },
      "application/vnd.jupyter.widget-view+json": {
       "model_id": "779f4363dcdf45869b6a6a99a2ec9fff",
       "version_major": 2,
       "version_minor": 0
      },
      "text/plain": [
       "chain 2 |          | 00:00 Status"
      ]
     },
     "metadata": {},
     "output_type": "display_data"
    },
    {
     "data": {
      "application/json": {
       "ascii": false,
       "bar_format": "{desc} |{bar}| {elapsed} {postfix[0][value]}",
       "colour": null,
       "elapsed": 0.034921884536743164,
       "initial": 0,
       "n": 0,
       "ncols": null,
       "nrows": null,
       "postfix": [
        {
         "value": "Status"
        }
       ],
       "prefix": "chain 3",
       "rate": null,
       "total": 52,
       "unit": "it",
       "unit_divisor": 1000,
       "unit_scale": false
      },
      "application/vnd.jupyter.widget-view+json": {
       "model_id": "fca477a5399b4a328b2343e724633fc3",
       "version_major": 2,
       "version_minor": 0
      },
      "text/plain": [
       "chain 3 |          | 00:00 Status"
      ]
     },
     "metadata": {},
     "output_type": "display_data"
    },
    {
     "data": {
      "application/json": {
       "ascii": false,
       "bar_format": "{desc} |{bar}| {elapsed} {postfix[0][value]}",
       "colour": null,
       "elapsed": 0.04286003112792969,
       "initial": 0,
       "n": 0,
       "ncols": null,
       "nrows": null,
       "postfix": [
        {
         "value": "Status"
        }
       ],
       "prefix": "chain 4",
       "rate": null,
       "total": 52,
       "unit": "it",
       "unit_divisor": 1000,
       "unit_scale": false
      },
      "application/vnd.jupyter.widget-view+json": {
       "model_id": "3029de0bf9c24281989c5aed001b5c95",
       "version_major": 2,
       "version_minor": 0
      },
      "text/plain": [
       "chain 4 |          | 00:00 Status"
      ]
     },
     "metadata": {},
     "output_type": "display_data"
    },
    {
     "name": "stdout",
     "output_type": "stream",
     "text": [
      "                                                                                                                                                                                                                                                                                                                                \n"
     ]
    }
   ],
   "source": [
    "test_list_exp= []\n",
    "\n",
    "for model in model_list:\n",
    "    \n",
    "    backtester = BackTester(\n",
    "    model=model,\n",
    "    df=act_df, \n",
    "    min_train_len=7, \n",
    "    incremental_len=7, \n",
    "    forecast_len=7, \n",
    "    window_type=\"expanding\") \n",
    "    \n",
    "    backtester.fit_predict()\n",
    "    \n",
    "    test_list_exp.append(backtester)"
   ]
  },
  {
   "cell_type": "markdown",
   "id": "c5ceb93c-9a84-408d-a8c1-21df930dcf29",
   "metadata": {},
   "source": [
    "Результаты:"
   ]
  },
  {
   "cell_type": "code",
   "execution_count": 52,
   "id": "f08eecd6-7ff2-4954-b63b-303cf897b2a5",
   "metadata": {},
   "outputs": [],
   "source": [
    "roll_df = []\n",
    "\n",
    "for number, tester in enumerate(test_list_rolling):\n",
    "    inter_df = tester.score()\n",
    "    inter_df.insert(0, \"model_number\", number + 1)\n",
    "    \n",
    "    roll_df.append(inter_df)\n",
    "\n",
    "roll_df = pd.concat(roll_df)\n",
    "roll_df = roll_df.set_index(\"model_number\")"
   ]
  },
  {
   "cell_type": "markdown",
   "id": "4d89faef-c643-40a3-81db-8fd130f60a22",
   "metadata": {},
   "source": [
    "**Поскольку это метрики ошибки, соответственно, чем ниже метрика, тем модель лучше**"
   ]
  },
  {
   "cell_type": "code",
   "execution_count": 53,
   "id": "908b6437-0bf6-46e4-a552-9e1f694f19ea",
   "metadata": {},
   "outputs": [
    {
     "data": {
      "text/html": [
       "<div>\n",
       "<style scoped>\n",
       "    .dataframe tbody tr th:only-of-type {\n",
       "        vertical-align: middle;\n",
       "    }\n",
       "\n",
       "    .dataframe tbody tr th {\n",
       "        vertical-align: top;\n",
       "    }\n",
       "\n",
       "    .dataframe thead th {\n",
       "        text-align: right;\n",
       "    }\n",
       "</style>\n",
       "<table border=\"1\" class=\"dataframe\">\n",
       "  <thead>\n",
       "    <tr style=\"text-align: right;\">\n",
       "      <th></th>\n",
       "      <th>metric_name</th>\n",
       "      <th>metric_values</th>\n",
       "      <th>is_training_metric</th>\n",
       "    </tr>\n",
       "    <tr>\n",
       "      <th>model_number</th>\n",
       "      <th></th>\n",
       "      <th></th>\n",
       "      <th></th>\n",
       "    </tr>\n",
       "  </thead>\n",
       "  <tbody>\n",
       "    <tr>\n",
       "      <th>1</th>\n",
       "      <td>smape</td>\n",
       "      <td>1.081432</td>\n",
       "      <td>False</td>\n",
       "    </tr>\n",
       "    <tr>\n",
       "      <th>1</th>\n",
       "      <td>wmape</td>\n",
       "      <td>1.084685</td>\n",
       "      <td>False</td>\n",
       "    </tr>\n",
       "    <tr>\n",
       "      <th>1</th>\n",
       "      <td>mape</td>\n",
       "      <td>2.454882</td>\n",
       "      <td>False</td>\n",
       "    </tr>\n",
       "    <tr>\n",
       "      <th>1</th>\n",
       "      <td>mse</td>\n",
       "      <td>1.297127</td>\n",
       "      <td>False</td>\n",
       "    </tr>\n",
       "    <tr>\n",
       "      <th>1</th>\n",
       "      <td>mae</td>\n",
       "      <td>0.757604</td>\n",
       "      <td>False</td>\n",
       "    </tr>\n",
       "  </tbody>\n",
       "</table>\n",
       "</div>"
      ],
      "text/plain": [
       "             metric_name  metric_values  is_training_metric\n",
       "model_number                                               \n",
       "1                  smape       1.081432               False\n",
       "1                  wmape       1.084685               False\n",
       "1                   mape       2.454882               False\n",
       "1                    mse       1.297127               False\n",
       "1                    mae       0.757604               False"
      ]
     },
     "execution_count": 53,
     "metadata": {},
     "output_type": "execute_result"
    }
   ],
   "source": [
    "roll_df.head()"
   ]
  },
  {
   "cell_type": "code",
   "execution_count": 51,
   "id": "c569fa66-5bc7-44d2-aa93-06ddc863e792",
   "metadata": {},
   "outputs": [
    {
     "name": "stdout",
     "output_type": "stream",
     "text": [
      "Самая лучшая модель по метрике smape - 6\n",
      "Самая лучшая модель по метрике wmape - 6\n",
      "Самая лучшая модель по метрике mape - 6\n",
      "Самая лучшая модель по метрике mse - 6\n",
      "Самая лучшая модель по метрике mae - 6\n",
      "Самая лучшая модель по метрике rmsse - 6\n"
     ]
    }
   ],
   "source": [
    "for metric in roll_df.metric_name.unique():\n",
    "    winning_model = roll_df.loc[roll_df.metric_name  == metric].metric_values.idxmin()\n",
    "    print(f\"Самая лучшая модель по метрике {metric} - {winning_model}\")"
   ]
  },
  {
   "cell_type": "markdown",
   "id": "67dd4819-08fe-45b5-a84c-e5028c203170",
   "metadata": {},
   "source": [
    "Все метрики показывают, что наилучшая модель именно **модель с логлинейнымым трендом, с DAU и с учетом аномалии**"
   ]
  }
 ],
 "metadata": {
  "kernelspec": {
   "display_name": "Python 3 (ipykernel)",
   "language": "python",
   "name": "python3"
  },
  "language_info": {
   "codemirror_mode": {
    "name": "ipython",
    "version": 3
   },
   "file_extension": ".py",
   "mimetype": "text/x-python",
   "name": "python",
   "nbconvert_exporter": "python",
   "pygments_lexer": "ipython3",
   "version": "3.8.10"
  }
 },
 "nbformat": 4,
 "nbformat_minor": 5
}
