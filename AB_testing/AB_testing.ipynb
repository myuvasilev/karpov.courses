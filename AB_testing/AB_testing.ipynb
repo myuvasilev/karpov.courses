{
 "cells": [
  {
   "cell_type": "markdown",
   "id": "35b9a1e8-abe4-4904-bc8d-d5fe862bdc42",
   "metadata": {},
   "source": [
    "# A/B-тесты\n",
    "\n",
    "## Задача 2. A/B-тест.\n",
    "\n",
    "Есть результаты A/B-теста, проведенного с командой дата-сайентистов с 2023-09-28 по 2023-10-04. Использовались 2 и 1 группы, причем во 2-й группе был применен новый алгоритм рекомендации постов, а 1-я была контрольной.\n",
    "\n",
    "Основная гипотеза: новый алгоритм во 2-й группе увеличит CTR. Необходимо проанализировать данные A/B-теста, выбрав метод анализа и сравнив CTR в обеих группах (используя различные тесты, такие как t-тест, Пуассоновский бутстрэп, тест Манна-Уитни и другие). Также нужно визуально оценить распределения данных и объяснить, почему те или иные тесты показали определенные результаты. И, наконец, дать рекомендацию: стоит ли внедрять новый алгоритм для всех новых пользователей или лучше воздержаться."
   ]
  },
  {
   "cell_type": "code",
   "execution_count": 48,
   "id": "5417206f-886e-4fe0-a6a8-673c2ef6d750",
   "metadata": {},
   "outputs": [],
   "source": [
    "import pandas as pd\n",
    "import pandahouse as ph\n",
    "import numpy as np\n",
    "import seaborn as sns\n",
    "import matplotlib as mpl\n",
    "from scipy import stats"
   ]
  },
  {
   "cell_type": "code",
   "execution_count": 49,
   "id": "4ba27c82-06ad-4613-a305-41aa793f4c29",
   "metadata": {},
   "outputs": [],
   "source": [
    "connection = {'host': 'https://clickhouse.lab.karpov.courses',\n",
    "'database':'simulator_20231020',\n",
    "'user':'student',\n",
    "'password':'dpo_python_2020'\n",
    "}"
   ]
  },
  {
   "cell_type": "code",
   "execution_count": 50,
   "id": "8c08728c-e3d5-4b16-9da1-15b931b1a075",
   "metadata": {},
   "outputs": [],
   "source": [
    "query = \"\"\"\n",
    "SELECT exp_group, \n",
    "    user_id,\n",
    "    sum(action = 'like') as likes,\n",
    "    sum(action = 'view') as views,\n",
    "    likes/views as ctr\n",
    "FROM {db}.feed_actions \n",
    "WHERE toDate(time) between '2023-09-28' and '2023-10-04'\n",
    "    and exp_group in (1,2)\n",
    "GROUP BY exp_group, user_id\n",
    "\"\"\""
   ]
  },
  {
   "cell_type": "code",
   "execution_count": 51,
   "id": "f1b6f879-e69c-4746-9df5-a962b2fb78eb",
   "metadata": {},
   "outputs": [],
   "source": [
    "df = ph.read_clickhouse(query, connection=connection)"
   ]
  },
  {
   "cell_type": "code",
   "execution_count": 52,
   "id": "49f3874c-9a82-457a-b27f-5431238826ab",
   "metadata": {},
   "outputs": [
    {
     "data": {
      "text/html": [
       "<div>\n",
       "<style scoped>\n",
       "    .dataframe tbody tr th:only-of-type {\n",
       "        vertical-align: middle;\n",
       "    }\n",
       "\n",
       "    .dataframe tbody tr th {\n",
       "        vertical-align: top;\n",
       "    }\n",
       "\n",
       "    .dataframe thead th {\n",
       "        text-align: right;\n",
       "    }\n",
       "</style>\n",
       "<table border=\"1\" class=\"dataframe\">\n",
       "  <thead>\n",
       "    <tr style=\"text-align: right;\">\n",
       "      <th></th>\n",
       "      <th>exp_group</th>\n",
       "      <th>user_id</th>\n",
       "      <th>likes</th>\n",
       "      <th>views</th>\n",
       "      <th>ctr</th>\n",
       "    </tr>\n",
       "  </thead>\n",
       "  <tbody>\n",
       "    <tr>\n",
       "      <th>0</th>\n",
       "      <td>1</td>\n",
       "      <td>109963</td>\n",
       "      <td>3</td>\n",
       "      <td>15</td>\n",
       "      <td>0.200000</td>\n",
       "    </tr>\n",
       "    <tr>\n",
       "      <th>1</th>\n",
       "      <td>1</td>\n",
       "      <td>26117</td>\n",
       "      <td>32</td>\n",
       "      <td>141</td>\n",
       "      <td>0.226950</td>\n",
       "    </tr>\n",
       "    <tr>\n",
       "      <th>2</th>\n",
       "      <td>1</td>\n",
       "      <td>138232</td>\n",
       "      <td>18</td>\n",
       "      <td>73</td>\n",
       "      <td>0.246575</td>\n",
       "    </tr>\n",
       "    <tr>\n",
       "      <th>3</th>\n",
       "      <td>1</td>\n",
       "      <td>18392</td>\n",
       "      <td>7</td>\n",
       "      <td>32</td>\n",
       "      <td>0.218750</td>\n",
       "    </tr>\n",
       "    <tr>\n",
       "      <th>4</th>\n",
       "      <td>1</td>\n",
       "      <td>26295</td>\n",
       "      <td>39</td>\n",
       "      <td>141</td>\n",
       "      <td>0.276596</td>\n",
       "    </tr>\n",
       "  </tbody>\n",
       "</table>\n",
       "</div>"
      ],
      "text/plain": [
       "   exp_group  user_id  likes  views       ctr\n",
       "0          1   109963      3     15  0.200000\n",
       "1          1    26117     32    141  0.226950\n",
       "2          1   138232     18     73  0.246575\n",
       "3          1    18392      7     32  0.218750\n",
       "4          1    26295     39    141  0.276596"
      ]
     },
     "execution_count": 52,
     "metadata": {},
     "output_type": "execute_result"
    }
   ],
   "source": [
    "df.head()"
   ]
  },
  {
   "cell_type": "markdown",
   "id": "1e9738d8-f6d1-4f7c-8cc4-7261f6797227",
   "metadata": {},
   "source": [
    "Убедимся, равное ли количество пользователей в каждой из групп, а также сравним средние показатели ctr."
   ]
  },
  {
   "cell_type": "code",
   "execution_count": 53,
   "id": "4f5e9afa-1d21-461b-ba4c-1b92c1be2627",
   "metadata": {},
   "outputs": [
    {
     "data": {
      "text/plain": [
       "(count    10020.000000\n",
       " mean         0.216774\n",
       " std          0.082969\n",
       " min          0.000000\n",
       " 25%          0.163636\n",
       " 50%          0.205882\n",
       " 75%          0.257870\n",
       " max          0.722222\n",
       " Name: ctr, dtype: float64,\n",
       " count    9877.000000\n",
       " mean        0.216102\n",
       " std         0.142870\n",
       " min         0.000000\n",
       " 25%         0.096774\n",
       " 50%         0.153285\n",
       " 75%         0.323529\n",
       " max         0.900000\n",
       " Name: ctr, dtype: float64)"
      ]
     },
     "execution_count": 53,
     "metadata": {},
     "output_type": "execute_result"
    }
   ],
   "source": [
    "df[df['exp_group']==1].ctr.describe(), df[df['exp_group']==2].ctr.describe()"
   ]
  },
  {
   "cell_type": "markdown",
   "id": "41163d92-c0e5-48ee-89f5-40debd307668",
   "metadata": {},
   "source": [
    "Количество в пользователей в группах примерно одинаковое. При этом, средние значения также похожи, но вот стандартное отклонение довольно сильно различается, что может говорить о том, что выборки распределены по разному. Отобразим результаты на графике, используя гистограмму значений ctr каждой из групп:"
   ]
  },
  {
   "cell_type": "code",
   "execution_count": 54,
   "id": "87223e9c-7ffa-4008-a766-21e66ca8a9b8",
   "metadata": {},
   "outputs": [
    {
     "data": {
      "image/png": "[encoded data removed]",
      "text/plain": [
       "<Figure size 842.4x595.44 with 1 Axes>"
      ]
     },
     "metadata": {},
     "output_type": "display_data"
    }
   ],
   "source": [
    "sns.set(rc={'figure.figsize':(11.7,8.27)})\n",
    "\n",
    "groups = sns.histplot(data = df,\n",
    "                     x = 'ctr',\n",
    "                     hue = 'exp_group',\n",
    "                     palette = ['r','b'],\n",
    "                     alpha = 0.5)"
   ]
  },
  {
   "cell_type": "markdown",
   "id": "43d1287f-c716-42dd-810f-484071c79d70",
   "metadata": {},
   "source": [
    "На гистограмме можно наблюдать различия: у первой группы распределение похоже на нормальное, унимодальное, когда у второй группы оно не похоже на нормальное, присутствует бимодальность. У первой группы разброс не такой большой, как у второй.\n",
    "\n",
    "Следует также отметить, что для первой группы у большего количества пользователей стало характерно с одной стороны уменьшилось соотношение лайков к просмотров (приблизительно с 0.2 до 0.1), но с другой стороны увеличилось и количество пользователей, которые лайкали посты чаще.\n",
    "\n",
    "Тем не менее, средние значения метрики ctr очень схожи, из-за чего нельзя сказать, что новая система рекомендаций как-либо повлияла на нее."
   ]
  },
  {
   "cell_type": "markdown",
   "id": "af1b1be8-fce6-4291-92c5-f7e70c6ee50b",
   "metadata": {},
   "source": [
    "t-test Стьюдента сравнивает средние, а в нашем случае он будет не так полезен, поскольку значения средних примерно одинаковые. Докажем это:\n",
    "\n",
    "$$\n",
    "\\text{Нулевая гипотеза } H_0 : \\mu_1 = \\mu_2 \n",
    "$$\n",
    "\n",
    "$$\n",
    "\\text{Альтернативная гипотеза } H_1 : \\mu_1 \\neq \\mu_2\n",
    "$$"
   ]
  },
  {
   "cell_type": "code",
   "execution_count": 55,
   "id": "c8d290c7-506f-4ebd-abf4-2d228815e9ab",
   "metadata": {},
   "outputs": [
    {
     "data": {
      "text/plain": [
       "Ttest_indResult(statistic=0.4051491913112757, pvalue=0.685373331140751)"
      ]
     },
     "execution_count": 55,
     "metadata": {},
     "output_type": "execute_result"
    }
   ],
   "source": [
    "stats.ttest_ind(df[df.exp_group == 1].ctr,\n",
    "                df[df.exp_group == 2].ctr,\n",
    "                equal_var=False)"
   ]
  },
  {
   "cell_type": "markdown",
   "id": "e81bac28-5719-4cef-b059-ad654a610171",
   "metadata": {},
   "source": [
    "P value сильно большой, из-за чего напрашивается вывод, что различия между выборками не являются статистически значимым. Однако, результаты неожиданны, поскольку на экспериментальную группы выкатили систему рекомендаций, что должно было как-то сказаться на результатах. Есть вероятность допустить ошибку второго рода. Копаем дальше."
   ]
  },
  {
   "cell_type": "markdown",
   "id": "1e39df16-8626-4e27-bcf0-8dc7f84fa4d3",
   "metadata": {},
   "source": [
    "Проведем U test Манна-Уитни:\n",
    "\n",
    "$$\n",
    "\\text{Нулевая гипотеза } H_0: P(X>Y) = P(Y>X)\n",
    "$$\n",
    "\n",
    "$$\n",
    "\\text{Альтернативная гипотеза } H_1: P(X>Y) \\neq P(Y>X)\n",
    "$$"
   ]
  },
  {
   "cell_type": "code",
   "execution_count": 56,
   "id": "cf3b8b1c-0dd1-4475-9bfb-e63250a69f41",
   "metadata": {},
   "outputs": [
    {
     "data": {
      "text/plain": [
       "MannwhitneyuResult(statistic=55189913.0, pvalue=4.632205841806026e-45)"
      ]
     },
     "execution_count": 56,
     "metadata": {},
     "output_type": "execute_result"
    }
   ],
   "source": [
    "stats.mannwhitneyu(df[df.exp_group == 1].ctr,\n",
    "                df[df.exp_group == 2].ctr)"
   ]
  },
  {
   "cell_type": "markdown",
   "id": "ba8da08b-bc05-43ff-b79b-da457f89f03a",
   "metadata": {},
   "source": [
    "Тест Манна-Уитни прокрасился, что означает, что выборки различаются"
   ]
  },
  {
   "cell_type": "markdown",
   "id": "d96ff88f-469d-4ffa-984a-fe59d214a792",
   "metadata": {},
   "source": [
    "Можно предположить, что некоторые пользователи просто еще не начали получать рекомендации по причине того, что они еще не успели поставить лайки (то есть постов просмотренно не так много, а это все равно скажется на статистике). Из-за того, что пользователи имеют разное количество просмотров, метрика ctr зашумлена (большая дисперсия). Для этого нам может понадобиться сглаженный ctr. \n",
    "\n",
    "Проведем сглаживание Лапласа: \n",
    "$$\n",
    "\\text{Smoothed CTR}_u = \\frac{\\text{clicks}_u + \\alpha \\cdot \\text{globalCTR}}{\\text{views}_u + \\alpha}\n",
    "$$"
   ]
  },
  {
   "cell_type": "code",
   "execution_count": 57,
   "id": "fd5c519b-3d05-41c0-8413-25a2ffc037ef",
   "metadata": {},
   "outputs": [],
   "source": [
    "def get_smothed_ctr(user_likes, user_views, global_ctr, alpha):\n",
    "    smothed_ctr = (user_likes + alpha * global_ctr) / (user_views + alpha)\n",
    "    return smothed_ctr\n",
    "\n",
    "global_ctr_1 = df[df.exp_group == 1].likes.sum()/df[df.exp_group == 1].views.sum()\n",
    "global_ctr_2 = df[df.exp_group == 2].likes.sum()/df[df.exp_group == 2].views.sum()\n",
    "\n",
    "df['smothed_ctr1'] = df.apply(lambda x: get_smothed_ctr(x['likes'], x['views'], global_ctr_1, 5), axis=1)\n",
    "df['smothed_ctr2'] = df.apply(lambda x: get_smothed_ctr(x['likes'], x['views'], global_ctr_2, 5), axis=1)"
   ]
  },
  {
   "cell_type": "code",
   "execution_count": 72,
   "id": "ac4050af-8107-491f-a99a-88fa0434bdd5",
   "metadata": {},
   "outputs": [],
   "source": [
    "group1 = df[df.exp_group == 1].copy()\n",
    "group1['smothed_ctr'] = df.apply(\n",
    "    lambda x: get_smothed_ctr(x['likes'], x['views'], global_ctr_1, 5), axis=1)\n",
    "\n",
    "\n",
    "group2 = df[df.exp_group == 2].copy()\n",
    "\n",
    "group2['smothed_ctr'] = df.apply(\n",
    "    lambda x: get_smothed_ctr(x['likes'], x['views'], global_ctr_2, 5), axis=1)"
   ]
  },
  {
   "cell_type": "markdown",
   "id": "2065c342-995c-40de-a327-bab03591b171",
   "metadata": {},
   "source": [
    "Сравним t-тестом Стьюдента на сглаженном ctr"
   ]
  },
  {
   "cell_type": "code",
   "execution_count": 60,
   "id": "2d6c836c-71fa-457f-b291-6129aa507145",
   "metadata": {},
   "outputs": [
    {
     "data": {
      "text/plain": [
       "Ttest_indResult(statistic=1.9460491517027683, pvalue=0.05166679015318526)"
      ]
     },
     "execution_count": 60,
     "metadata": {},
     "output_type": "execute_result"
    }
   ],
   "source": [
    "stats.ttest_ind(df[df['exp_group']==1].smothed_ctr1, \n",
    "                df[df['exp_group']==2].smothed_ctr2, \n",
    "                equal_var=False)"
   ]
  },
  {
   "cell_type": "markdown",
   "id": "36dbf781-4872-4705-b015-b858e3fbb8b2",
   "metadata": {},
   "source": [
    "Хотя p value t-теста стало гораздо ближе к 0.05, оно все еще выше, из-за чего нулевую гипотезу отвергнуть мы не можем. К тому же, на сглаженном ctr нет теоретических гарантий, из-за чего уверенно утверждать о результате пока рано, поэтому исследуем дальше."
   ]
  },
  {
   "cell_type": "markdown",
   "id": "7a4dcf5f-c8ec-4479-b769-ca10ccb313f4",
   "metadata": {},
   "source": [
    "## **Пуассоновский бутстреп для подсчета разницы в CTR**"
   ]
  },
  {
   "cell_type": "code",
   "execution_count": 62,
   "id": "3cf3098c-fac2-4b60-85f4-8488052532d6",
   "metadata": {},
   "outputs": [],
   "source": [
    "def bootstrap(likes1, views1, likes2, views2, n_bootstrap=2000):\n",
    "\n",
    "    poisson_bootstraps1 = stats.poisson(1).rvs(\n",
    "        (n_bootstrap, len(likes1))).astype(np.int64)\n",
    "\n",
    "    poisson_bootstraps2 = stats.poisson(1).rvs(\n",
    "            (n_bootstrap, len(likes2))).astype(np.int64)\n",
    "    \n",
    "    globalCTR1 = (poisson_bootstraps1*likes1).sum(axis=1)/(poisson_bootstraps1*views1).sum(axis=1)\n",
    "    \n",
    "    globalCTR2 = (poisson_bootstraps2*likes2).sum(axis=1)/(poisson_bootstraps2*views2).sum(axis=1)\n",
    "\n",
    "    return globalCTR1, globalCTR2"
   ]
  },
  {
   "cell_type": "code",
   "execution_count": 63,
   "id": "074a0c93-6538-4820-beec-f4656285af61",
   "metadata": {},
   "outputs": [
    {
     "data": {
      "text/plain": [
       "<Axes: ylabel='Count'>"
      ]
     },
     "execution_count": 63,
     "metadata": {},
     "output_type": "execute_result"
    },
    {
     "data": {
      "image/png": "[encoded data removed]",
      "text/plain": [
       "<Figure size 842.4x595.44 with 1 Axes>"
      ]
     },
     "metadata": {},
     "output_type": "display_data"
    }
   ],
   "source": [
    "likes1 = df[df.exp_group == 1].likes.to_numpy()\n",
    "views1 = df[df.exp_group == 1].views.to_numpy()\n",
    "likes2 = df[df.exp_group == 2].likes.to_numpy()\n",
    "views2 = df[df.exp_group == 2].views.to_numpy()\n",
    "\n",
    "ctr1, ctr2 = bootstrap(likes1, views1, likes2, views2)\n",
    "\n",
    "sns.histplot(ctr1)\n",
    "sns.histplot(ctr2)"
   ]
  },
  {
   "cell_type": "markdown",
   "id": "14965a83-26e2-4665-a053-19b746df8761",
   "metadata": {},
   "source": [
    "Из построенной гистограммы можно заметить, что новый алгоритм группы два (оранжевый на графике) заметно хуже, чем старый (синий на графике)."
   ]
  },
  {
   "cell_type": "code",
   "execution_count": 64,
   "id": "db2c0c17-0697-4085-9539-0172e1940142",
   "metadata": {},
   "outputs": [
    {
     "data": {
      "text/plain": [
       "<Axes: ylabel='Count'>"
      ]
     },
     "execution_count": 64,
     "metadata": {},
     "output_type": "execute_result"
    },
    {
     "data": {
      "image/png": "[encoded data removed]",
      "text/plain": [
       "<Figure size 842.4x595.44 with 1 Axes>"
      ]
     },
     "metadata": {},
     "output_type": "display_data"
    }
   ],
   "source": [
    "sns.histplot(ctr2 - ctr1)"
   ]
  },
  {
   "cell_type": "markdown",
   "id": "127db0da-1ab8-4a8e-a54c-8bab25b6b98a",
   "metadata": {},
   "source": [
    "Разница глобальных ctr говорит нам о том, что показатель ctr контрольной группы (1) был выше."
   ]
  },
  {
   "cell_type": "markdown",
   "id": "1a6fe56f-eeaa-435a-b15b-f085f80b3c6c",
   "metadata": {},
   "source": [
    "## **Бакетное преобразование**"
   ]
  },
  {
   "cell_type": "code",
   "execution_count": 65,
   "id": "feda4cbe-145a-4dfa-9888-7eb18ee8faf3",
   "metadata": {},
   "outputs": [],
   "source": [
    "q1 = \"\"\"\n",
    "\n",
    "SELECT exp_group, bucket,\n",
    "    sum(likes)/sum(views) as bucket_ctr,\n",
    "    quantileExact(0.9)(ctr) as ctr9\n",
    "FROM (SELECT exp_group, \n",
    "        xxHash64(user_id)%50 as bucket,\n",
    "        user_id,\n",
    "        sum(action = 'like') as likes,\n",
    "        sum(action = 'view') as views,\n",
    "        likes/views as ctr\n",
    "    FROM {db}.feed_actions \n",
    "    WHERE toDate(time) between '2023-09-28' and '2023-10-04'\n",
    "        and exp_group in (1,2)\n",
    "    GROUP BY exp_group, bucket, user_id)\n",
    "GROUP BY exp_group, bucket\n",
    "\"\"\"\n",
    "\n",
    "df1 = ph.read_clickhouse(q1, connection=connection)"
   ]
  },
  {
   "cell_type": "markdown",
   "id": "de9012b5-2164-44e4-8e17-7b451288570f",
   "metadata": {},
   "source": [
    "Применим тест Манна-Уитни поверх бакетного преобразования:"
   ]
  },
  {
   "cell_type": "code",
   "execution_count": 66,
   "id": "0669bbf2-7bc1-48f4-83ab-744c7c99ea8d",
   "metadata": {},
   "outputs": [
    {
     "data": {
      "text/plain": [
       "MannwhitneyuResult(statistic=1997.0, pvalue=2.6576427804010095e-07)"
      ]
     },
     "execution_count": 66,
     "metadata": {},
     "output_type": "execute_result"
    }
   ],
   "source": [
    "stats.mannwhitneyu(df1[df1.exp_group == 1].bucket_ctr, \n",
    "                   df1[df1.exp_group == 2].bucket_ctr, \n",
    "                   alternative = 'two-sided')"
   ]
  },
  {
   "cell_type": "markdown",
   "id": "9e23f3b1-db54-4c85-b7ec-14994e475b1a",
   "metadata": {},
   "source": [
    "Также применим t-тест:"
   ]
  },
  {
   "cell_type": "code",
   "execution_count": 67,
   "id": "55c2b23c-c7d4-4292-95d6-ea4b0bcbf83d",
   "metadata": {},
   "outputs": [
    {
     "data": {
      "text/plain": [
       "Ttest_indResult(statistic=5.614819358149381, pvalue=4.592644937473873e-07)"
      ]
     },
     "execution_count": 67,
     "metadata": {},
     "output_type": "execute_result"
    }
   ],
   "source": [
    "stats.ttest_ind(df1[df1.exp_group == 1].bucket_ctr, \n",
    "                   df1[df1.exp_group == 2].bucket_ctr, \n",
    "                   equal_var = False)"
   ]
  },
  {
   "cell_type": "markdown",
   "id": "e81718e0-27c8-402c-a597-e9ef8aba57aa",
   "metadata": {},
   "source": [
    "Оба теста показали p value < 0.05, значит что отличия действительно значимые."
   ]
  },
  {
   "cell_type": "code",
   "execution_count": 78,
   "id": "fec729db-977e-4b51-b66c-734a8334477c",
   "metadata": {},
   "outputs": [
    {
     "data": {
      "image/png": "[encoded data removed]",
      "text/plain": [
       "<Figure size 842.4x595.44 with 1 Axes>"
      ]
     },
     "metadata": {},
     "output_type": "display_data"
    }
   ],
   "source": [
    "sns.set(rc={'figure.figsize':(11.7,8.27)})\n",
    "groups0 = sns.histplot(data = df1,\n",
    "                     x = 'bucket_ctr',\n",
    "                     hue = 'exp_group',\n",
    "                     palette = ['r', 'b'],\n",
    "                     alpha = 0.5,\n",
    "                     kde = False)"
   ]
  },
  {
   "cell_type": "markdown",
   "id": "56967746-eeb5-4ce4-ae92-dffd9c0abe2a",
   "metadata": {},
   "source": [
    "Можно заметить, что и бакетное распределение явно различается, где результат контрольной группы гораздо правее, а значит ctr ее больше чем у экспериментальной."
   ]
  },
  {
   "cell_type": "markdown",
   "id": "4574db5d-c2e5-432f-8fa3-42efd7dfce04",
   "metadata": {},
   "source": [
    "## **Вывод**\n",
    "\n",
    "С точки зрения общегруппового ctr новый алгоритм показал значения хуже, чем были до его введения. Сначала мы заметили это на построенной гистограмме, а затем доказали это, в частности, бутстрепом, а также тестом Манна-Уитни. **На всех пользователей данный алгоритм раскатывать не стоит, поскольку он ухудшает целевую метрику.**\n",
    "\n",
    "Тем не менее, алгоритм действительно внес некие изменения, где у части пользователей ctr просел, а у другой он повысился (наблюдается бимодальность)."
   ]
  }
 ],
 "metadata": {
  "kernelspec": {
   "display_name": "Python 3 (ipykernel)",
   "language": "python",
   "name": "python3"
  },
  "language_info": {
   "codemirror_mode": {
    "name": "ipython",
    "version": 3
   },
   "file_extension": ".py",
   "mimetype": "text/x-python",
   "name": "python",
   "nbconvert_exporter": "python",
   "pygments_lexer": "ipython3",
   "version": "3.8.10"
  }
 },
 "nbformat": 4,
 "nbformat_minor": 5
}
