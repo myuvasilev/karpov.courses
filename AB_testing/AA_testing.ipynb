{
 "cells": [
  {
   "cell_type": "markdown",
   "id": "ac56a2ac-8fe8-49cb-9f7d-958abdab01c4",
   "metadata": {},
   "source": [
    "# A/B-тесты\n",
    "\n",
    "## Задача 1. A/A-тест.\n",
    "\n",
    "Перед проведением A/B- теста есть необходимость для начала провести A/A-тест, который покажет, работает ли корректно наша система сплитования, а также что ключевая метрика не отличается между группами не только в конкретно нашем А/А-тесте, но и в общем.  Идеально было бы провести бесчисленное количество А/А-тестов и узнать, как часто мы получаем статистически значимые различия только из-за случайных факторов.\n",
    "\n",
    "На практике провести бесконечные тесты невозможно, поэтому мы будем многократно извлекать подгруппы из данных нашего А/А-теста и проверять их с помощью t-теста. Нам нужно смоделировать проведение 10000 А/А-тестов на данных с '2023-09-21' по '2023-09-27'. На каждой итерации извлекаем без повторений подгруппы по 500 юзеров из 2 и 3 экспериментальных групп, проводим t-тест и сохраняем полученные p-values.\n",
    "\n",
    "После этого:\n",
    "\n",
    "1. Строим гистограмму, показывающую распределение 10000 p-values..\n",
    "\n",
    "2. Рассчитываем процент p-values, меньших или равных 0.05.\n",
    "\n",
    "3. Делаем вывод о корректности работы системы сплитования на основе проведенного А/А-теста."
   ]
  },
  {
   "cell_type": "code",
   "execution_count": 37,
   "id": "2e8b5c76-40ba-486c-ba67-63a2a365d3b1",
   "metadata": {},
   "outputs": [],
   "source": [
    "import pandas as pd\n",
    "import pandahouse as ph\n",
    "import numpy as np\n",
    "import seaborn as sns\n",
    "import matplotlib as mpl\n",
    "from scipy import stats"
   ]
  },
  {
   "cell_type": "code",
   "execution_count": 30,
   "id": "ce5d7464-60b7-465d-94f6-52d959d0d4e3",
   "metadata": {},
   "outputs": [],
   "source": [
    "connection = {'host': 'https://clickhouse.lab.karpov.courses',\n",
    "'database':'simulator_20231020',\n",
    "'user':'student',\n",
    "'password':'dpo_python_2020'\n",
    "}"
   ]
  },
  {
   "cell_type": "code",
   "execution_count": 31,
   "id": "9f7e6bc1-bcd1-4d2a-bda7-de003f3f5a05",
   "metadata": {},
   "outputs": [],
   "source": [
    "query = \"\"\"\n",
    "SELECT exp_group, \n",
    "    user_id,\n",
    "    sum(action = 'like') as likes,\n",
    "    sum(action = 'view') as views,\n",
    "    likes/views as ctr\n",
    "FROM {db}.feed_actions \n",
    "WHERE toDate(time) between '2023-09-21' and '2023-09-27'\n",
    "    and exp_group in (2,3)\n",
    "GROUP BY exp_group, user_id\n",
    "\"\"\"\n"
   ]
  },
  {
   "cell_type": "code",
   "execution_count": 66,
   "id": "dd7afbc0-bbab-43cc-acb2-a207c8aba2cc",
   "metadata": {},
   "outputs": [],
   "source": [
    "df = ph.read_clickhouse(query, connection=connection)"
   ]
  },
  {
   "cell_type": "code",
   "execution_count": 34,
   "id": "054e11b1-4cfb-4043-a3d1-91cb575861c9",
   "metadata": {},
   "outputs": [
    {
     "data": {
      "text/html": [
       "<div>\n",
       "<style scoped>\n",
       "    .dataframe tbody tr th:only-of-type {\n",
       "        vertical-align: middle;\n",
       "    }\n",
       "\n",
       "    .dataframe tbody tr th {\n",
       "        vertical-align: top;\n",
       "    }\n",
       "\n",
       "    .dataframe thead th {\n",
       "        text-align: right;\n",
       "    }\n",
       "</style>\n",
       "<table border=\"1\" class=\"dataframe\">\n",
       "  <thead>\n",
       "    <tr style=\"text-align: right;\">\n",
       "      <th></th>\n",
       "      <th>exp_group</th>\n",
       "      <th>user_id</th>\n",
       "      <th>likes</th>\n",
       "      <th>views</th>\n",
       "      <th>ctr</th>\n",
       "    </tr>\n",
       "  </thead>\n",
       "  <tbody>\n",
       "    <tr>\n",
       "      <th>0</th>\n",
       "      <td>3</td>\n",
       "      <td>115383</td>\n",
       "      <td>38</td>\n",
       "      <td>248</td>\n",
       "      <td>0.153226</td>\n",
       "    </tr>\n",
       "    <tr>\n",
       "      <th>1</th>\n",
       "      <td>3</td>\n",
       "      <td>10326</td>\n",
       "      <td>24</td>\n",
       "      <td>132</td>\n",
       "      <td>0.181818</td>\n",
       "    </tr>\n",
       "    <tr>\n",
       "      <th>2</th>\n",
       "      <td>3</td>\n",
       "      <td>123580</td>\n",
       "      <td>25</td>\n",
       "      <td>122</td>\n",
       "      <td>0.204918</td>\n",
       "    </tr>\n",
       "    <tr>\n",
       "      <th>3</th>\n",
       "      <td>2</td>\n",
       "      <td>131473</td>\n",
       "      <td>19</td>\n",
       "      <td>98</td>\n",
       "      <td>0.193878</td>\n",
       "    </tr>\n",
       "    <tr>\n",
       "      <th>4</th>\n",
       "      <td>2</td>\n",
       "      <td>23985</td>\n",
       "      <td>12</td>\n",
       "      <td>44</td>\n",
       "      <td>0.272727</td>\n",
       "    </tr>\n",
       "  </tbody>\n",
       "</table>\n",
       "</div>"
      ],
      "text/plain": [
       "   exp_group  user_id  likes  views       ctr\n",
       "0          3   115383     38    248  0.153226\n",
       "1          3    10326     24    132  0.181818\n",
       "2          3   123580     25    122  0.204918\n",
       "3          2   131473     19     98  0.193878\n",
       "4          2    23985     12     44  0.272727"
      ]
     },
     "execution_count": 34,
     "metadata": {},
     "output_type": "execute_result"
    }
   ],
   "source": [
    "df.head()"
   ]
  },
  {
   "cell_type": "code",
   "execution_count": 67,
   "id": "c5f81b0f-ff22-46b3-9f1b-2a9d4f379967",
   "metadata": {},
   "outputs": [
    {
     "data": {
      "text/html": [
       "<div>\n",
       "<style scoped>\n",
       "    .dataframe tbody tr th:only-of-type {\n",
       "        vertical-align: middle;\n",
       "    }\n",
       "\n",
       "    .dataframe tbody tr th {\n",
       "        vertical-align: top;\n",
       "    }\n",
       "\n",
       "    .dataframe thead th {\n",
       "        text-align: right;\n",
       "    }\n",
       "</style>\n",
       "<table border=\"1\" class=\"dataframe\">\n",
       "  <thead>\n",
       "    <tr style=\"text-align: right;\">\n",
       "      <th></th>\n",
       "      <th>user_id</th>\n",
       "      <th>likes</th>\n",
       "      <th>views</th>\n",
       "      <th>ctr</th>\n",
       "    </tr>\n",
       "    <tr>\n",
       "      <th>exp_group</th>\n",
       "      <th></th>\n",
       "      <th></th>\n",
       "      <th></th>\n",
       "      <th></th>\n",
       "    </tr>\n",
       "  </thead>\n",
       "  <tbody>\n",
       "    <tr>\n",
       "      <th>2</th>\n",
       "      <td>8362</td>\n",
       "      <td>8362</td>\n",
       "      <td>8362</td>\n",
       "      <td>8362</td>\n",
       "    </tr>\n",
       "    <tr>\n",
       "      <th>3</th>\n",
       "      <td>8425</td>\n",
       "      <td>8425</td>\n",
       "      <td>8425</td>\n",
       "      <td>8425</td>\n",
       "    </tr>\n",
       "  </tbody>\n",
       "</table>\n",
       "</div>"
      ],
      "text/plain": [
       "           user_id  likes  views   ctr\n",
       "exp_group                             \n",
       "2             8362   8362   8362  8362\n",
       "3             8425   8425   8425  8425"
      ]
     },
     "execution_count": 67,
     "metadata": {},
     "output_type": "execute_result"
    }
   ],
   "source": [
    "df.groupby('exp_group').count()"
   ]
  },
  {
   "cell_type": "markdown",
   "id": "a3dadc0d-e4a8-402a-a68a-081f34069c2f",
   "metadata": {},
   "source": [
    "Количество пользователей в группах примерно одинаковое"
   ]
  },
  {
   "cell_type": "markdown",
   "id": "d8cf9860-39fa-41a0-b8c4-c7799e5d70f8",
   "metadata": {},
   "source": [
    "Визуализируем ctr значения наших групп при помощи гистограммы:"
   ]
  },
  {
   "cell_type": "code",
   "execution_count": 39,
   "id": "ad3a5313-d7d0-4508-bbb7-a130a14299cd",
   "metadata": {},
   "outputs": [],
   "source": [
    "sns.set(rc={'figure.figsize':(11.7,8.27)})"
   ]
  },
  {
   "cell_type": "code",
   "execution_count": 40,
   "id": "a66af393-bf43-4635-88f6-12ad45a75d73",
   "metadata": {},
   "outputs": [
    {
     "data": {
      "image/png": "[encoded data removed]",
      "text/plain": [
       "<Figure size 842.4x595.44 with 1 Axes>"
      ]
     },
     "metadata": {},
     "output_type": "display_data"
    }
   ],
   "source": [
    "groups = sns.histplot(data = df,\n",
    "                     x = 'ctr',\n",
    "                     hue = 'exp_group',\n",
    "                     palette = ['r','b'],\n",
    "                     alpha = 0.5)"
   ]
  },
  {
   "cell_type": "markdown",
   "id": "90507f41-b353-4bc1-a971-11b8afe72108",
   "metadata": {},
   "source": [
    "Проанализированные две группы пользователей (контрольная и тестовая) очень похожи. Показатели ctr у групп практически не отличаются. \n",
    "\n",
    "Распределение одномодальное, похожее на нормальное с немного вытянутым хвостом в правой стороне, выбросов практически нет.\n",
    "\n",
    "Чтобы удостовериться в наших выводах, проведем A/A-тест."
   ]
  },
  {
   "cell_type": "markdown",
   "id": "e3a6fe69-663b-4034-94cc-ace9500e1d8e",
   "metadata": {
    "tags": []
   },
   "source": [
    "Проведем t-тест Стьюдента:\n",
    "\n",
    "$$\n",
    "\\text{Нулевая гипотеза } H_0 : \\mu_1 = \\mu_2\n",
    "$$\n",
    "\n",
    "$$\n",
    "\\text{Альтернативная гипотеза } H_1 : \\mu_1 \\neq \\mu_2\n",
    "$$"
   ]
  },
  {
   "cell_type": "code",
   "execution_count": 41,
   "id": "c7db08e8-ee8b-411f-89d1-bd51b03b55f5",
   "metadata": {
    "tags": []
   },
   "outputs": [
    {
     "data": {
      "text/plain": [
       "Ttest_indResult(statistic=0.6617303509169986, pvalue=0.508153138292614)"
      ]
     },
     "execution_count": 41,
     "metadata": {},
     "output_type": "execute_result"
    }
   ],
   "source": [
    "stats.ttest_ind(df[df.exp_group == 2].ctr,\n",
    "                df[df.exp_group == 3].ctr,\n",
    "                equal_var=False)"
   ]
  },
  {
   "cell_type": "markdown",
   "id": "16fc8067-96b4-4312-a0e3-e378ca18503d",
   "metadata": {},
   "source": [
    "Значение p value большое ~ 0.508, принимается нулевая гипотеза о равенстве средних. Из этого можно сделать вывод, что отличие не является статистически значимым и отличия между группами, вероятно, отсутствует."
   ]
  },
  {
   "cell_type": "markdown",
   "id": "a6b0733e-6a2d-4e9e-ae7b-84af53289468",
   "metadata": {},
   "source": [
    "Проведем U test Манна-Уитни:\n",
    "\n",
    "$$\n",
    "\\text{Нулевая гипотеза } H_0: P(X>Y) = P(Y>X)\n",
    "$$\n",
    "\n",
    "$$\n",
    "\\text{Альтернативная гипотеза } H_1: P(X>Y) \\neq P(Y>X)\n",
    "$$"
   ]
  },
  {
   "cell_type": "code",
   "execution_count": 45,
   "id": "2fa3b575-4540-49b2-ae42-b913bf458a39",
   "metadata": {},
   "outputs": [
    {
     "data": {
      "text/plain": [
       "MannwhitneyuResult(statistic=35290681.5, pvalue=0.8340910379715747)"
      ]
     },
     "execution_count": 45,
     "metadata": {},
     "output_type": "execute_result"
    }
   ],
   "source": [
    "stats.mannwhitneyu(df[df.exp_group == 2].ctr,\n",
    "                df[df.exp_group == 3].ctr)"
   ]
  },
  {
   "cell_type": "markdown",
   "id": "63b59ed2-d77a-4f31-a8ca-793d61fa06d4",
   "metadata": {},
   "source": [
    "Значение p value большое ~ 0.834, принимается нулевая гипотеза. Из этого можно сделать вывод о том, что нет статистически значимых различий между двумя выборками. "
   ]
  },
  {
   "cell_type": "markdown",
   "id": "ea899e04-5781-4427-b654-a3c2588d90e3",
   "metadata": {},
   "source": [
    "Проведем симуляцию 10000 A/A-тестов, сформировав на каждой итерации подвыборки без повторения в 500 юзеров из 2 и 3 экспериментальных групп:"
   ]
  },
  {
   "cell_type": "code",
   "execution_count": 54,
   "id": "54100655-b74a-4c3b-84e3-fb73f16642aa",
   "metadata": {},
   "outputs": [],
   "source": [
    "res = []\n",
    "for i in range(10000):\n",
    "    second = df[df.exp_group == 2].ctr.sample(500, replace = False) \n",
    "    third = df[df.exp_group == 3].ctr.sample(500, replace = False) \n",
    "    res.append(stats.ttest_ind(second, third, equal_var=False)[1])"
   ]
  },
  {
   "cell_type": "code",
   "execution_count": 63,
   "id": "f5cc7e7c-c0c9-4810-8536-3ea627ac7cf4",
   "metadata": {},
   "outputs": [
    {
     "data": {
      "text/plain": [
       "<Axes: ylabel='Count'>"
      ]
     },
     "execution_count": 63,
     "metadata": {},
     "output_type": "execute_result"
    },
    {
     "data": {
      "image/png": "[encoded data removed]",
      "text/plain": [
       "<Figure size 842.4x595.44 with 1 Axes>"
      ]
     },
     "metadata": {},
     "output_type": "display_data"
    }
   ],
   "source": [
    "sns.histplot(res, color='blue', bins=50)"
   ]
  },
  {
   "cell_type": "markdown",
   "id": "bc530ddf-b8f8-4080-b0f7-7ce4fa9144d2",
   "metadata": {},
   "source": [
    "Из построенной гистограммы видно, что p-value распределены довольно равномерно"
   ]
  },
  {
   "cell_type": "markdown",
   "id": "94b0ac58-abe7-451d-a011-d605290bf172",
   "metadata": {},
   "source": [
    "Теперь посчитаем какой процент p values оказался меньше либо равен 0.05:"
   ]
  },
  {
   "cell_type": "code",
   "execution_count": 71,
   "id": "6a02afe0-6170-4191-bd7d-381116d97fd6",
   "metadata": {},
   "outputs": [
    {
     "name": "stdout",
     "output_type": "stream",
     "text": [
      "Процент p values, который меньше или равен 0.05: 4.67%\n"
     ]
    }
   ],
   "source": [
    "n = sum(p <= 0.05 for p in res)\n",
    "n_perc = (n / len(res)) * 100\n",
    "print(f'Процент p values, который меньше или равен 0.05: {n_perc}%')"
   ]
  },
  {
   "cell_type": "markdown",
   "id": "b9fabf5a-dcd5-45e0-840d-cb5ae84ad88c",
   "metadata": {},
   "source": [
    "**Вывод по проведенному А/А-тесту**\n",
    "\n",
    "Результаты A/A-теста показали, что процент p values составил 4.67%. Это означает, что в 4.67% случаев наши А/А-тесты демонстрировали статистически значимые различия между экспериментальными группами при уровне значимости alpha = 0.05 (то есть ниже уровня значимости в 5%). Таким образом, можно с уверенностью сказать, что случайная подвыборка из 500 пользователей с вероятностью 95.33% будет нести в себе признаки генеральной совокупности размером в примерно 8400 пользователей. \n",
    "\n",
    "Эти результаты подтверждают надежность и корректность нашей системы сплитования. Ключевая метрика (в данном случае ctr) не демонстрирует статистически значимых различий между группами не только в данном конкретном A/A-тесте, но и в целом. Успех A/A-теста сообщает нам о готовности к проведению A/B-теста."
   ]
  }
 ],
 "metadata": {
  "kernelspec": {
   "display_name": "Python 3 (ipykernel)",
   "language": "python",
   "name": "python3"
  },
  "language_info": {
   "codemirror_mode": {
    "name": "ipython",
    "version": 3
   },
   "file_extension": ".py",
   "mimetype": "text/x-python",
   "name": "python",
   "nbconvert_exporter": "python",
   "pygments_lexer": "ipython3",
   "version": "3.8.10"
  }
 },
 "nbformat": 4,
 "nbformat_minor": 5
}
