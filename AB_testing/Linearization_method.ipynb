{
 "cells": [
  {
   "cell_type": "markdown",
   "id": "d5d4d658-2f17-44b4-87a0-b3c00d3a3890",
   "metadata": {},
   "source": [
    "# A/B-тесты\n",
    "\n",
    "## Задача 3. A/B-тест. **Метрика линеаризации**\n",
    "\n",
    "Вместо того, чтобы использовать \"поюзерные\" CTR для тестирования, мы можем создать альтернативную метрику, которая будет гарантировать, что если этот тест выявит изменения, то они также будут отображены в исходной метрике (такой как лайки на пользователя и пользовательский CTR).\n",
    "\n",
    "Метрика считается следующим образом:\n",
    "\n",
    "1) Считаем общий CTR в контрольной группе  𝐶𝑇𝑅𝑐𝑜𝑛𝑡𝑟𝑜𝑙=𝑠𝑢𝑚(𝑙𝑖𝑘𝑒𝑠)/𝑠𝑢𝑚(𝑣𝑖𝑒𝑤𝑠) \n",
    "2) Посчитаем в обеих группах поюзерную метрику  𝑙𝑖𝑛𝑒𝑎𝑟𝑖𝑧𝑒𝑑_𝑙𝑖𝑘𝑒𝑠=𝑙𝑖𝑘𝑒𝑠−𝐶𝑇𝑅𝑐𝑜𝑛𝑡𝑟𝑜𝑙∗𝑣𝑖𝑒𝑤𝑠 \n",
    "3) Проводим t-тест для сравнения различий между группами по этой новой метрике 𝑙𝑖𝑛𝑒𝑎𝑟𝑖𝑧𝑒𝑑_𝑙𝑖𝑘𝑒𝑠  \n",
    "\n",
    "Задача:\n",
    "\n",
    "1) Анализируем тест между группами 0 и 3 по метрике линеаризованных лайков. Видим ли отличия? Уменьшилось ли p-value по сравнению с обычным CTR?\n",
    "2) Анализируем тест между группами 1 и 2 по метрике линеаризованных лайков. Видим ли отличия? Уменьшилось ли p-value по сравнению с обычным CTR?"
   ]
  },
  {
   "cell_type": "code",
   "execution_count": 1,
   "id": "25b7f9bd-576d-4c0c-8a0b-ac0be28f5f58",
   "metadata": {},
   "outputs": [],
   "source": [
    "import pandas as pd\n",
    "import pandahouse as ph\n",
    "import numpy as np\n",
    "import seaborn as sns\n",
    "import matplotlib as mpl\n",
    "from scipy import stats"
   ]
  },
  {
   "cell_type": "code",
   "execution_count": 9,
   "id": "3bae4d20-2faa-4b9a-b38c-f08ab9825289",
   "metadata": {},
   "outputs": [],
   "source": [
    "connection = {'host': 'https://clickhouse.lab.karpov.courses',\n",
    "'database':'simulator_20231020',\n",
    "'user':'student',\n",
    "'password':'dpo_python_2020'\n",
    "}"
   ]
  },
  {
   "cell_type": "markdown",
   "id": "abc5038d-07df-4595-947e-8f05b50751d6",
   "metadata": {},
   "source": [
    "## Тест 0, 3"
   ]
  },
  {
   "cell_type": "code",
   "execution_count": 10,
   "id": "3023d9e8-e0a1-4e70-805d-d317f5f74c7f",
   "metadata": {},
   "outputs": [],
   "source": [
    "query1 = \"\"\"\n",
    "SELECT exp_group, \n",
    "    user_id,\n",
    "    sum(action = 'like') as likes,\n",
    "    sum(action = 'view') as views,\n",
    "    likes/views as ctr\n",
    "FROM {db}.feed_actions \n",
    "WHERE toDate(time) between '2023-09-28' and '2023-10-04'\n",
    "    and exp_group in (0,3)\n",
    "GROUP BY exp_group, user_id\n",
    "\"\"\""
   ]
  },
  {
   "cell_type": "code",
   "execution_count": 11,
   "id": "3355639d-b205-44c3-822d-957fa8521306",
   "metadata": {},
   "outputs": [],
   "source": [
    "df03 = ph.read_clickhouse(query1, connection=connection)"
   ]
  },
  {
   "cell_type": "code",
   "execution_count": 12,
   "id": "6dbb17d1-9383-45f1-a9fa-8d26c73cf16d",
   "metadata": {},
   "outputs": [
    {
     "data": {
      "text/html": [
       "<div>\n",
       "<style scoped>\n",
       "    .dataframe tbody tr th:only-of-type {\n",
       "        vertical-align: middle;\n",
       "    }\n",
       "\n",
       "    .dataframe tbody tr th {\n",
       "        vertical-align: top;\n",
       "    }\n",
       "\n",
       "    .dataframe thead th {\n",
       "        text-align: right;\n",
       "    }\n",
       "</style>\n",
       "<table border=\"1\" class=\"dataframe\">\n",
       "  <thead>\n",
       "    <tr style=\"text-align: right;\">\n",
       "      <th></th>\n",
       "      <th>exp_group</th>\n",
       "      <th>user_id</th>\n",
       "      <th>likes</th>\n",
       "      <th>views</th>\n",
       "      <th>ctr</th>\n",
       "    </tr>\n",
       "  </thead>\n",
       "  <tbody>\n",
       "    <tr>\n",
       "      <th>0</th>\n",
       "      <td>3</td>\n",
       "      <td>115383</td>\n",
       "      <td>12</td>\n",
       "      <td>44</td>\n",
       "      <td>0.272727</td>\n",
       "    </tr>\n",
       "    <tr>\n",
       "      <th>1</th>\n",
       "      <td>3</td>\n",
       "      <td>123580</td>\n",
       "      <td>2</td>\n",
       "      <td>11</td>\n",
       "      <td>0.181818</td>\n",
       "    </tr>\n",
       "    <tr>\n",
       "      <th>2</th>\n",
       "      <td>0</td>\n",
       "      <td>4944</td>\n",
       "      <td>8</td>\n",
       "      <td>41</td>\n",
       "      <td>0.195122</td>\n",
       "    </tr>\n",
       "    <tr>\n",
       "      <th>3</th>\n",
       "      <td>0</td>\n",
       "      <td>4504</td>\n",
       "      <td>5</td>\n",
       "      <td>15</td>\n",
       "      <td>0.333333</td>\n",
       "    </tr>\n",
       "    <tr>\n",
       "      <th>4</th>\n",
       "      <td>0</td>\n",
       "      <td>121508</td>\n",
       "      <td>6</td>\n",
       "      <td>25</td>\n",
       "      <td>0.240000</td>\n",
       "    </tr>\n",
       "  </tbody>\n",
       "</table>\n",
       "</div>"
      ],
      "text/plain": [
       "   exp_group  user_id  likes  views       ctr\n",
       "0          3   115383     12     44  0.272727\n",
       "1          3   123580      2     11  0.181818\n",
       "2          0     4944      8     41  0.195122\n",
       "3          0     4504      5     15  0.333333\n",
       "4          0   121508      6     25  0.240000"
      ]
     },
     "execution_count": 12,
     "metadata": {},
     "output_type": "execute_result"
    }
   ],
   "source": [
    "df03.head()"
   ]
  },
  {
   "cell_type": "markdown",
   "id": "947840e3-b13b-4d19-b579-cce7508d5d38",
   "metadata": {},
   "source": [
    "Посчитаем в контрольной группе (0) деление лайков на просмотры:"
   ]
  },
  {
   "cell_type": "code",
   "execution_count": 13,
   "id": "4dfea56f-d756-42ed-ba74-16d942065c4b",
   "metadata": {},
   "outputs": [],
   "source": [
    "ctr_control0 = df03[df03['exp_group'] == 0].likes.sum() / df03[df03['exp_group'] == 0].views.sum()"
   ]
  },
  {
   "cell_type": "code",
   "execution_count": 14,
   "id": "2483ca2d-8ca3-4900-9f03-84f950c6bdf1",
   "metadata": {},
   "outputs": [],
   "source": [
    "df03['linearized_likes'] = df03['likes'] - ctr_control0 * df03['views']"
   ]
  },
  {
   "cell_type": "code",
   "execution_count": 15,
   "id": "01507124-07ff-4f8b-9ccc-933926687952",
   "metadata": {},
   "outputs": [
    {
     "data": {
      "text/html": [
       "<div>\n",
       "<style scoped>\n",
       "    .dataframe tbody tr th:only-of-type {\n",
       "        vertical-align: middle;\n",
       "    }\n",
       "\n",
       "    .dataframe tbody tr th {\n",
       "        vertical-align: top;\n",
       "    }\n",
       "\n",
       "    .dataframe thead th {\n",
       "        text-align: right;\n",
       "    }\n",
       "</style>\n",
       "<table border=\"1\" class=\"dataframe\">\n",
       "  <thead>\n",
       "    <tr style=\"text-align: right;\">\n",
       "      <th></th>\n",
       "      <th>exp_group</th>\n",
       "      <th>user_id</th>\n",
       "      <th>likes</th>\n",
       "      <th>views</th>\n",
       "      <th>ctr</th>\n",
       "      <th>linearized_likes</th>\n",
       "    </tr>\n",
       "  </thead>\n",
       "  <tbody>\n",
       "    <tr>\n",
       "      <th>0</th>\n",
       "      <td>3</td>\n",
       "      <td>115383</td>\n",
       "      <td>12</td>\n",
       "      <td>44</td>\n",
       "      <td>0.272727</td>\n",
       "      <td>2.767128</td>\n",
       "    </tr>\n",
       "    <tr>\n",
       "      <th>1</th>\n",
       "      <td>3</td>\n",
       "      <td>123580</td>\n",
       "      <td>2</td>\n",
       "      <td>11</td>\n",
       "      <td>0.181818</td>\n",
       "      <td>-0.308218</td>\n",
       "    </tr>\n",
       "    <tr>\n",
       "      <th>2</th>\n",
       "      <td>0</td>\n",
       "      <td>4944</td>\n",
       "      <td>8</td>\n",
       "      <td>41</td>\n",
       "      <td>0.195122</td>\n",
       "      <td>-0.603358</td>\n",
       "    </tr>\n",
       "    <tr>\n",
       "      <th>3</th>\n",
       "      <td>0</td>\n",
       "      <td>4504</td>\n",
       "      <td>5</td>\n",
       "      <td>15</td>\n",
       "      <td>0.333333</td>\n",
       "      <td>1.852430</td>\n",
       "    </tr>\n",
       "    <tr>\n",
       "      <th>4</th>\n",
       "      <td>0</td>\n",
       "      <td>121508</td>\n",
       "      <td>6</td>\n",
       "      <td>25</td>\n",
       "      <td>0.240000</td>\n",
       "      <td>0.754050</td>\n",
       "    </tr>\n",
       "  </tbody>\n",
       "</table>\n",
       "</div>"
      ],
      "text/plain": [
       "   exp_group  user_id  likes  views       ctr  linearized_likes\n",
       "0          3   115383     12     44  0.272727          2.767128\n",
       "1          3   123580      2     11  0.181818         -0.308218\n",
       "2          0     4944      8     41  0.195122         -0.603358\n",
       "3          0     4504      5     15  0.333333          1.852430\n",
       "4          0   121508      6     25  0.240000          0.754050"
      ]
     },
     "execution_count": 15,
     "metadata": {},
     "output_type": "execute_result"
    }
   ],
   "source": [
    "df03.head()"
   ]
  },
  {
   "cell_type": "code",
   "execution_count": 17,
   "id": "c85019b4-e6b8-4ad1-a633-8d49f6bce877",
   "metadata": {},
   "outputs": [
    {
     "data": {
      "image/png": "[encoded data removed]",
      "text/plain": [
       "<Figure size 842.4x595.44 with 1 Axes>"
      ]
     },
     "metadata": {},
     "output_type": "display_data"
    }
   ],
   "source": [
    "sns.set(rc={'figure.figsize':(11.7,8.27)})\n",
    "groups = sns.histplot(data = df03,\n",
    "                     x = 'linearized_likes',\n",
    "                     hue = 'exp_group',\n",
    "                     palette = ['r','b'],\n",
    "                     alpha = 0.5,\n",
    "                     kde = False)"
   ]
  },
  {
   "cell_type": "markdown",
   "id": "9bc7c472-ac26-4199-bb6f-27fe46554b31",
   "metadata": {},
   "source": [
    "Применим t-тест Стьюдента по обычной метрике ctr:"
   ]
  },
  {
   "cell_type": "code",
   "execution_count": 22,
   "id": "755ea6d1-0abb-4d05-b847-facd1711353a",
   "metadata": {},
   "outputs": [
    {
     "data": {
      "text/plain": [
       "Ttest_indResult(statistic=-13.935320516755773, pvalue=6.216047483062228e-44)"
      ]
     },
     "execution_count": 22,
     "metadata": {},
     "output_type": "execute_result"
    }
   ],
   "source": [
    "stats.ttest_ind(df03[df03.exp_group == 0].ctr,\n",
    "                df03[df03.exp_group == 3].ctr,\n",
    "                equal_var=False)"
   ]
  },
  {
   "cell_type": "markdown",
   "id": "ce2e731e-8008-4e08-a40f-9d0d3c9d1c98",
   "metadata": {},
   "source": [
    "Теперь применим t-тест Стьюдента по линеаризованным лайкам:"
   ]
  },
  {
   "cell_type": "code",
   "execution_count": 23,
   "id": "36f9f699-d53e-46d5-80e7-fea1f0729211",
   "metadata": {},
   "outputs": [
    {
     "data": {
      "text/plain": [
       "Ttest_indResult(statistic=-16.186230032932844, pvalue=1.4918137745326139e-58)"
      ]
     },
     "execution_count": 23,
     "metadata": {},
     "output_type": "execute_result"
    }
   ],
   "source": [
    "stats.ttest_ind(df03[df03.exp_group == 0].linearized_likes,\n",
    "                df03[df03.exp_group == 3].linearized_likes,\n",
    "                equal_var=False)"
   ]
  },
  {
   "cell_type": "markdown",
   "id": "76db40d5-b58d-4291-aef8-8dff4461364e",
   "metadata": {},
   "source": [
    "### **Вывод**\n",
    "\n",
    "Оба проведенных t-теста Стьюдента показали статистически значимые различия между группами 0 и 3. Кроме того, по метрике линеаризованных лайков p value стало значительнее меньше чем по метрике ctr."
   ]
  },
  {
   "cell_type": "markdown",
   "id": "6d293e60-acc8-4a85-a842-e66532f16b26",
   "metadata": {},
   "source": [
    "## Тест 1, 2"
   ]
  },
  {
   "cell_type": "code",
   "execution_count": 27,
   "id": "56a8535a-d778-4c6d-98a7-48886e9718bb",
   "metadata": {},
   "outputs": [],
   "source": [
    "query2 = \"\"\"\n",
    "SELECT exp_group, \n",
    "    user_id,\n",
    "    sum(action = 'like') as likes,\n",
    "    sum(action = 'view') as views,\n",
    "    likes/views as ctr\n",
    "FROM {db}.feed_actions \n",
    "WHERE toDate(time) between '2023-09-28' and '2023-10-04'\n",
    "    and exp_group in (1,2)\n",
    "GROUP BY exp_group, user_id\n",
    "\"\"\""
   ]
  },
  {
   "cell_type": "code",
   "execution_count": 29,
   "id": "47638c00-fdb6-4d08-bb47-b9255e754165",
   "metadata": {},
   "outputs": [],
   "source": [
    "df12 = ph.read_clickhouse(query2, connection=connection)"
   ]
  },
  {
   "cell_type": "code",
   "execution_count": 30,
   "id": "39b4a722-8080-4176-bf4e-7dfb765de1fb",
   "metadata": {},
   "outputs": [
    {
     "data": {
      "text/html": [
       "<div>\n",
       "<style scoped>\n",
       "    .dataframe tbody tr th:only-of-type {\n",
       "        vertical-align: middle;\n",
       "    }\n",
       "\n",
       "    .dataframe tbody tr th {\n",
       "        vertical-align: top;\n",
       "    }\n",
       "\n",
       "    .dataframe thead th {\n",
       "        text-align: right;\n",
       "    }\n",
       "</style>\n",
       "<table border=\"1\" class=\"dataframe\">\n",
       "  <thead>\n",
       "    <tr style=\"text-align: right;\">\n",
       "      <th></th>\n",
       "      <th>exp_group</th>\n",
       "      <th>user_id</th>\n",
       "      <th>likes</th>\n",
       "      <th>views</th>\n",
       "      <th>ctr</th>\n",
       "    </tr>\n",
       "  </thead>\n",
       "  <tbody>\n",
       "    <tr>\n",
       "      <th>0</th>\n",
       "      <td>1</td>\n",
       "      <td>109963</td>\n",
       "      <td>3</td>\n",
       "      <td>15</td>\n",
       "      <td>0.200000</td>\n",
       "    </tr>\n",
       "    <tr>\n",
       "      <th>1</th>\n",
       "      <td>1</td>\n",
       "      <td>26117</td>\n",
       "      <td>32</td>\n",
       "      <td>141</td>\n",
       "      <td>0.226950</td>\n",
       "    </tr>\n",
       "    <tr>\n",
       "      <th>2</th>\n",
       "      <td>1</td>\n",
       "      <td>138232</td>\n",
       "      <td>18</td>\n",
       "      <td>73</td>\n",
       "      <td>0.246575</td>\n",
       "    </tr>\n",
       "    <tr>\n",
       "      <th>3</th>\n",
       "      <td>1</td>\n",
       "      <td>18392</td>\n",
       "      <td>7</td>\n",
       "      <td>32</td>\n",
       "      <td>0.218750</td>\n",
       "    </tr>\n",
       "    <tr>\n",
       "      <th>4</th>\n",
       "      <td>1</td>\n",
       "      <td>26295</td>\n",
       "      <td>39</td>\n",
       "      <td>141</td>\n",
       "      <td>0.276596</td>\n",
       "    </tr>\n",
       "  </tbody>\n",
       "</table>\n",
       "</div>"
      ],
      "text/plain": [
       "   exp_group  user_id  likes  views       ctr\n",
       "0          1   109963      3     15  0.200000\n",
       "1          1    26117     32    141  0.226950\n",
       "2          1   138232     18     73  0.246575\n",
       "3          1    18392      7     32  0.218750\n",
       "4          1    26295     39    141  0.276596"
      ]
     },
     "execution_count": 30,
     "metadata": {},
     "output_type": "execute_result"
    }
   ],
   "source": [
    "df12.head()"
   ]
  },
  {
   "cell_type": "markdown",
   "id": "b8aac7b7-8d63-4915-8d7b-c2e6350de339",
   "metadata": {},
   "source": [
    "Посчитаем в контрольной группе (1) деление лайков на просмотры:"
   ]
  },
  {
   "cell_type": "code",
   "execution_count": 33,
   "id": "812c26d7-756f-4c48-b381-c3c6a3253514",
   "metadata": {},
   "outputs": [],
   "source": [
    "ctr_control1 = df12[df12['exp_group'] == 1].likes.sum() / df12[df12['exp_group'] == 1].views.sum()"
   ]
  },
  {
   "cell_type": "code",
   "execution_count": 34,
   "id": "36d6c187-d5c3-4b7e-b98b-73913a48eca7",
   "metadata": {},
   "outputs": [],
   "source": [
    "df12['linearized_likes'] = df12['likes'] - ctr_control1 * df12['views']"
   ]
  },
  {
   "cell_type": "code",
   "execution_count": 36,
   "id": "f6356931-ce52-456c-ab8c-7b4885c69ac1",
   "metadata": {},
   "outputs": [
    {
     "data": {
      "text/html": [
       "<div>\n",
       "<style scoped>\n",
       "    .dataframe tbody tr th:only-of-type {\n",
       "        vertical-align: middle;\n",
       "    }\n",
       "\n",
       "    .dataframe tbody tr th {\n",
       "        vertical-align: top;\n",
       "    }\n",
       "\n",
       "    .dataframe thead th {\n",
       "        text-align: right;\n",
       "    }\n",
       "</style>\n",
       "<table border=\"1\" class=\"dataframe\">\n",
       "  <thead>\n",
       "    <tr style=\"text-align: right;\">\n",
       "      <th></th>\n",
       "      <th>exp_group</th>\n",
       "      <th>user_id</th>\n",
       "      <th>likes</th>\n",
       "      <th>views</th>\n",
       "      <th>ctr</th>\n",
       "      <th>linearized_likes</th>\n",
       "    </tr>\n",
       "  </thead>\n",
       "  <tbody>\n",
       "    <tr>\n",
       "      <th>0</th>\n",
       "      <td>1</td>\n",
       "      <td>109963</td>\n",
       "      <td>3</td>\n",
       "      <td>15</td>\n",
       "      <td>0.200000</td>\n",
       "      <td>-0.144062</td>\n",
       "    </tr>\n",
       "    <tr>\n",
       "      <th>1</th>\n",
       "      <td>1</td>\n",
       "      <td>26117</td>\n",
       "      <td>32</td>\n",
       "      <td>141</td>\n",
       "      <td>0.226950</td>\n",
       "      <td>2.445813</td>\n",
       "    </tr>\n",
       "    <tr>\n",
       "      <th>2</th>\n",
       "      <td>1</td>\n",
       "      <td>138232</td>\n",
       "      <td>18</td>\n",
       "      <td>73</td>\n",
       "      <td>0.246575</td>\n",
       "      <td>2.698896</td>\n",
       "    </tr>\n",
       "    <tr>\n",
       "      <th>3</th>\n",
       "      <td>1</td>\n",
       "      <td>18392</td>\n",
       "      <td>7</td>\n",
       "      <td>32</td>\n",
       "      <td>0.218750</td>\n",
       "      <td>0.292667</td>\n",
       "    </tr>\n",
       "    <tr>\n",
       "      <th>4</th>\n",
       "      <td>1</td>\n",
       "      <td>26295</td>\n",
       "      <td>39</td>\n",
       "      <td>141</td>\n",
       "      <td>0.276596</td>\n",
       "      <td>9.445813</td>\n",
       "    </tr>\n",
       "  </tbody>\n",
       "</table>\n",
       "</div>"
      ],
      "text/plain": [
       "   exp_group  user_id  likes  views       ctr  linearized_likes\n",
       "0          1   109963      3     15  0.200000         -0.144062\n",
       "1          1    26117     32    141  0.226950          2.445813\n",
       "2          1   138232     18     73  0.246575          2.698896\n",
       "3          1    18392      7     32  0.218750          0.292667\n",
       "4          1    26295     39    141  0.276596          9.445813"
      ]
     },
     "execution_count": 36,
     "metadata": {},
     "output_type": "execute_result"
    }
   ],
   "source": [
    "df12.head()"
   ]
  },
  {
   "cell_type": "code",
   "execution_count": 37,
   "id": "0b32f78f-b28a-4ba1-b4b4-155e575a77ef",
   "metadata": {},
   "outputs": [
    {
     "data": {
      "image/png": "[encoded data removed]",
      "text/plain": [
       "<Figure size 842.4x595.44 with 1 Axes>"
      ]
     },
     "metadata": {},
     "output_type": "display_data"
    }
   ],
   "source": [
    "sns.set(rc={'figure.figsize':(11.7,8.27)})\n",
    "groups1 = sns.histplot(data = df12,\n",
    "                     x = 'linearized_likes',\n",
    "                     hue = 'exp_group',\n",
    "                     palette = ['r','b'],\n",
    "                     alpha = 0.5,\n",
    "                     kde = False)"
   ]
  },
  {
   "cell_type": "markdown",
   "id": "118581bc-74de-4b67-a274-8e2c1f68833e",
   "metadata": {},
   "source": [
    "Применим t-тест Стьюдента по обычной метрике ctr:"
   ]
  },
  {
   "cell_type": "code",
   "execution_count": 38,
   "id": "69965e35-e109-4924-8977-178c885096c8",
   "metadata": {},
   "outputs": [
    {
     "data": {
      "text/plain": [
       "Ttest_indResult(statistic=0.4051491913112757, pvalue=0.685373331140751)"
      ]
     },
     "execution_count": 38,
     "metadata": {},
     "output_type": "execute_result"
    }
   ],
   "source": [
    "stats.ttest_ind(df12[df12.exp_group == 1].ctr,\n",
    "                df12[df12.exp_group == 2].ctr,\n",
    "                equal_var=False)"
   ]
  },
  {
   "cell_type": "markdown",
   "id": "e6e9d2aa-0aea-42ca-9c6b-d04628155640",
   "metadata": {},
   "source": [
    "Теперь применим t-тест Стьюдента по линеаризованным лайкам:"
   ]
  },
  {
   "cell_type": "code",
   "execution_count": 39,
   "id": "fa014577-bd2f-4d54-a8c0-4e9c20b2495a",
   "metadata": {},
   "outputs": [
    {
     "data": {
      "text/plain": [
       "Ttest_indResult(statistic=5.936377101934482, pvalue=2.9805064038667734e-09)"
      ]
     },
     "execution_count": 39,
     "metadata": {},
     "output_type": "execute_result"
    }
   ],
   "source": [
    "stats.ttest_ind(df12[df12.exp_group == 1].linearized_likes,\n",
    "                df12[df12.exp_group == 2].linearized_likes,\n",
    "                equal_var=False)"
   ]
  },
  {
   "cell_type": "markdown",
   "id": "7c970ba0-ee38-492b-9dec-cbea60516ef1",
   "metadata": {},
   "source": [
    "### **Вывод**\n",
    "\n",
    "T-test по метрике ctr не вывел различий между группами 1 и 2, в то время как t-тест по метрике линеаризованных лайков показал значимое различие между группами с p value < 0.05 и гораздо меньшим значением чем в случае с ctr."
   ]
  }
 ],
 "metadata": {
  "kernelspec": {
   "display_name": "Python 3 (ipykernel)",
   "language": "python",
   "name": "python3"
  },
  "language_info": {
   "codemirror_mode": {
    "name": "ipython",
    "version": 3
   },
   "file_extension": ".py",
   "mimetype": "text/x-python",
   "name": "python",
   "nbconvert_exporter": "python",
   "pygments_lexer": "ipython3",
   "version": "3.8.10"
  }
 },
 "nbformat": 4,
 "nbformat_minor": 5
}
